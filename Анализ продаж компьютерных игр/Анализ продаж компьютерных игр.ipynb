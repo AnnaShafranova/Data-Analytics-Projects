{
 "cells": [
  {
   "cell_type": "markdown",
   "metadata": {
    "toc": true
   },
   "source": [
    "<h1>Table of Contents<span class=\"tocSkip\"></span></h1>\n",
    "<div class=\"toc\"><ul class=\"toc-item\"><li><span><a href=\"#Шаг-1.-Откройте-файл-с-данными-и-изучите-общую-информацию\" data-toc-modified-id=\"Шаг-1.-Откройте-файл-с-данными-и-изучите-общую-информацию-1\"><span class=\"toc-item-num\">1&nbsp;&nbsp;</span>Шаг 1. Откройте файл с данными и изучите общую информацию</a></span></li><li><span><a href=\"#Шаг-2.-Подготовьте-данные\" data-toc-modified-id=\"Шаг-2.-Подготовьте-данные-2\"><span class=\"toc-item-num\">2&nbsp;&nbsp;</span>Шаг 2. Подготовьте данные</a></span><ul class=\"toc-item\"><li><span><a href=\"#Описание-данных\" data-toc-modified-id=\"Описание-данных-2.1\"><span class=\"toc-item-num\">2.1&nbsp;&nbsp;</span>Описание данных</a></span></li><li><span><a href=\"#Замените-названия-столбцов-(приведите-к-нижнему-регистру)\" data-toc-modified-id=\"Замените-названия-столбцов-(приведите-к-нижнему-регистру)-2.2\"><span class=\"toc-item-num\">2.2&nbsp;&nbsp;</span>Замените названия столбцов (приведите к нижнему регистру)</a></span></li><li><span><a href=\"#Обработайте-пропуски-при-необходимости\" data-toc-modified-id=\"Обработайте-пропуски-при-необходимости-2.3\"><span class=\"toc-item-num\">2.3&nbsp;&nbsp;</span>Обработайте пропуски при необходимости</a></span></li><li><span><a href=\"#Преобразуйте-данные-в-нужные-типы\" data-toc-modified-id=\"Преобразуйте-данные-в-нужные-типы-2.4\"><span class=\"toc-item-num\">2.4&nbsp;&nbsp;</span>Преобразуйте данные в нужные типы</a></span></li><li><span><a href=\"#Посчитайте-суммарные-продажи-во-всех-регионах-и-запишите-их-в-отдельный-столбец\" data-toc-modified-id=\"Посчитайте-суммарные-продажи-во-всех-регионах-и-запишите-их-в-отдельный-столбец-2.5\"><span class=\"toc-item-num\">2.5&nbsp;&nbsp;</span>Посчитайте суммарные продажи во всех регионах и запишите их в отдельный столбец</a></span></li></ul></li><li><span><a href=\"#Шаг-3.-Проведите-исследовательский-анализ-данных\" data-toc-modified-id=\"Шаг-3.-Проведите-исследовательский-анализ-данных-3\"><span class=\"toc-item-num\">3&nbsp;&nbsp;</span>Шаг 3. Проведите исследовательский анализ данных</a></span><ul class=\"toc-item\"><li><span><a href=\"#Посмотрите,-сколько-игр-выпускалось-в-разные-годы.\" data-toc-modified-id=\"Посмотрите,-сколько-игр-выпускалось-в-разные-годы.-3.1\"><span class=\"toc-item-num\">3.1&nbsp;&nbsp;</span>Посмотрите, сколько игр выпускалось в разные годы.</a></span></li><li><span><a href=\"#Посмотрите,-как-менялись-продажи-по-платформам.\" data-toc-modified-id=\"Посмотрите,-как-менялись-продажи-по-платформам.-3.2\"><span class=\"toc-item-num\">3.2&nbsp;&nbsp;</span>Посмотрите, как менялись продажи по платформам.</a></span></li><li><span><a href=\"#Возьмите-данные-за-соответствующий-актуальный-период.\" data-toc-modified-id=\"Возьмите-данные-за-соответствующий-актуальный-период.-3.3\"><span class=\"toc-item-num\">3.3&nbsp;&nbsp;</span>Возьмите данные за соответствующий актуальный период.</a></span></li><li><span><a href=\"#Какие-платформы-лидируют-по-продажам,-растут-или-падают?-Выберите-несколько-потенциально-прибыльных-платформ.\" data-toc-modified-id=\"Какие-платформы-лидируют-по-продажам,-растут-или-падают?-Выберите-несколько-потенциально-прибыльных-платформ.-3.4\"><span class=\"toc-item-num\">3.4&nbsp;&nbsp;</span>Какие платформы лидируют по продажам, растут или падают? Выберите несколько потенциально прибыльных платформ.</a></span></li><li><span><a href=\"#Постройте-график-«ящик-с-усами»-по-глобальным-продажам-игр-в-разбивке-по-платформам.-Опишите-результат.\" data-toc-modified-id=\"Постройте-график-«ящик-с-усами»-по-глобальным-продажам-игр-в-разбивке-по-платформам.-Опишите-результат.-3.5\"><span class=\"toc-item-num\">3.5&nbsp;&nbsp;</span>Постройте график «ящик с усами» по глобальным продажам игр в разбивке по платформам. Опишите результат.</a></span></li><li><span><a href=\"#Посмотрите,-как-влияют-на-продажи-внутри-одной-популярной-платформы-отзывы-пользователей-и-критиков.\" data-toc-modified-id=\"Посмотрите,-как-влияют-на-продажи-внутри-одной-популярной-платформы-отзывы-пользователей-и-критиков.-3.6\"><span class=\"toc-item-num\">3.6&nbsp;&nbsp;</span>Посмотрите, как влияют на продажи внутри одной популярной платформы отзывы пользователей и критиков.</a></span></li><li><span><a href=\"#Соотнесите-выводы-с-продажами-игр-на-других-платформах.\" data-toc-modified-id=\"Соотнесите-выводы-с-продажами-игр-на-других-платформах.-3.7\"><span class=\"toc-item-num\">3.7&nbsp;&nbsp;</span>Соотнесите выводы с продажами игр на других платформах.</a></span></li><li><span><a href=\"#Посмотрите-на-общее-распределение-игр-по-жанрам.-Что-можно-сказать-о-самых-прибыльных-жанрах?-Выделяются-ли-жанры-с-высокими-и-низкими-продажами?\" data-toc-modified-id=\"Посмотрите-на-общее-распределение-игр-по-жанрам.-Что-можно-сказать-о-самых-прибыльных-жанрах?-Выделяются-ли-жанры-с-высокими-и-низкими-продажами?-3.8\"><span class=\"toc-item-num\">3.8&nbsp;&nbsp;</span>Посмотрите на общее распределение игр по жанрам. Что можно сказать о самых прибыльных жанрах? Выделяются ли жанры с высокими и низкими продажами?</a></span></li></ul></li><li><span><a href=\"#Шаг-4.-Составьте-портрет-пользователя-каждого-региона\" data-toc-modified-id=\"Шаг-4.-Составьте-портрет-пользователя-каждого-региона-4\"><span class=\"toc-item-num\">4&nbsp;&nbsp;</span>Шаг 4. Составьте портрет пользователя каждого региона</a></span></li><li><span><a href=\"#Шаг-5.-Проверьте-гипотезы\" data-toc-modified-id=\"Шаг-5.-Проверьте-гипотезы-5\"><span class=\"toc-item-num\">5&nbsp;&nbsp;</span>Шаг 5. Проверьте гипотезы</a></span><ul class=\"toc-item\"><li><span><a href=\"#Гипотеза-1---Средние-пользовательские-рейтинги-платформ-Xbox-One-и-PC-одинаковые\" data-toc-modified-id=\"Гипотеза-1---Средние-пользовательские-рейтинги-платформ-Xbox-One-и-PC-одинаковые-5.1\"><span class=\"toc-item-num\">5.1&nbsp;&nbsp;</span>Гипотеза 1 - Средние пользовательские рейтинги платформ Xbox One и PC одинаковые</a></span></li><li><span><a href=\"#Гипотеза-2---Средние-пользовательские-рейтинги-жанров-Action-и-Sports-разные.\" data-toc-modified-id=\"Гипотеза-2---Средние-пользовательские-рейтинги-жанров-Action-и-Sports-разные.-5.2\"><span class=\"toc-item-num\">5.2&nbsp;&nbsp;</span>Гипотеза 2 - Средние пользовательские рейтинги жанров Action и Sports разные.</a></span></li></ul></li><li><span><a href=\"#Шаг-6.-Напишите-общий-вывод\" data-toc-modified-id=\"Шаг-6.-Напишите-общий-вывод-6\"><span class=\"toc-item-num\">6&nbsp;&nbsp;</span>Шаг 6. Напишите общий вывод</a></span></li></ul></div>"
   ]
  },
  {
   "cell_type": "markdown",
   "metadata": {},
   "source": [
    "# Сборный проект\n",
    "\n",
    "Описание проекта\n",
    "\n",
    "\n",
    "Вы работаете в интернет-магазине «Стримчик», который продаёт по всему миру компьютерные игры. Из открытых источников доступны исторические данные о продажах игр, оценки пользователей и экспертов, жанры и платформы (например, Xbox или PlayStation). Вам нужно выявить определяющие успешность игры закономерности. Это позволит сделать ставку на потенциально популярный продукт и спланировать рекламные кампании.\n",
    "\n",
    "\n",
    "Основные шаги для выявления закономерностей:\n",
    "* Шаг 1. Откроем файл с данными и изучим общую информацию\n",
    "* Шаг 2. Подготовим данные\n",
    "* Шаг 3. Проведем исследовательский анализ данных\n",
    "* Шаг 4. Составим портрет пользователя каждого региона\n",
    "* Шаг 5. Проверим гипотезы\n",
    "* Шаг 6. Напишем общий вывод"
   ]
  },
  {
   "cell_type": "markdown",
   "metadata": {},
   "source": [
    "## Шаг 1. Откройте файл с данными и изучите общую информацию"
   ]
  },
  {
   "cell_type": "code",
   "execution_count": 1,
   "metadata": {},
   "outputs": [],
   "source": [
    "import pandas as pd\n",
    "import seaborn as sns\n",
    "import matplotlib.pyplot as plt\n",
    "import numpy as np\n",
    "import scipy.stats as st\n",
    "from functools import reduce\n",
    "from scipy import stats as st"
   ]
  },
  {
   "cell_type": "code",
   "execution_count": 2,
   "metadata": {},
   "outputs": [],
   "source": [
    "df = pd.read_csv('/datasets/games.csv')"
   ]
  },
  {
   "cell_type": "code",
   "execution_count": 3,
   "metadata": {},
   "outputs": [],
   "source": [
    "def info_df (data_frame):\n",
    "    display (data_frame.info())\n",
    "    display (data_frame.describe())\n",
    "    display (data_frame.head())\n",
    "    display (data_frame.isna().mean())"
   ]
  },
  {
   "cell_type": "code",
   "execution_count": 4,
   "metadata": {},
   "outputs": [
    {
     "name": "stdout",
     "output_type": "stream",
     "text": [
      "<class 'pandas.core.frame.DataFrame'>\n",
      "RangeIndex: 16715 entries, 0 to 16714\n",
      "Data columns (total 11 columns):\n",
      " #   Column           Non-Null Count  Dtype  \n",
      "---  ------           --------------  -----  \n",
      " 0   Name             16713 non-null  object \n",
      " 1   Platform         16715 non-null  object \n",
      " 2   Year_of_Release  16446 non-null  float64\n",
      " 3   Genre            16713 non-null  object \n",
      " 4   NA_sales         16715 non-null  float64\n",
      " 5   EU_sales         16715 non-null  float64\n",
      " 6   JP_sales         16715 non-null  float64\n",
      " 7   Other_sales      16715 non-null  float64\n",
      " 8   Critic_Score     8137 non-null   float64\n",
      " 9   User_Score       10014 non-null  object \n",
      " 10  Rating           9949 non-null   object \n",
      "dtypes: float64(6), object(5)\n",
      "memory usage: 1.4+ MB\n"
     ]
    },
    {
     "data": {
      "text/plain": [
       "None"
      ]
     },
     "metadata": {},
     "output_type": "display_data"
    },
    {
     "data": {
      "text/html": [
       "<div>\n",
       "<style scoped>\n",
       "    .dataframe tbody tr th:only-of-type {\n",
       "        vertical-align: middle;\n",
       "    }\n",
       "\n",
       "    .dataframe tbody tr th {\n",
       "        vertical-align: top;\n",
       "    }\n",
       "\n",
       "    .dataframe thead th {\n",
       "        text-align: right;\n",
       "    }\n",
       "</style>\n",
       "<table border=\"1\" class=\"dataframe\">\n",
       "  <thead>\n",
       "    <tr style=\"text-align: right;\">\n",
       "      <th></th>\n",
       "      <th>Year_of_Release</th>\n",
       "      <th>NA_sales</th>\n",
       "      <th>EU_sales</th>\n",
       "      <th>JP_sales</th>\n",
       "      <th>Other_sales</th>\n",
       "      <th>Critic_Score</th>\n",
       "    </tr>\n",
       "  </thead>\n",
       "  <tbody>\n",
       "    <tr>\n",
       "      <th>count</th>\n",
       "      <td>16446.000000</td>\n",
       "      <td>16715.000000</td>\n",
       "      <td>16715.000000</td>\n",
       "      <td>16715.000000</td>\n",
       "      <td>16715.000000</td>\n",
       "      <td>8137.000000</td>\n",
       "    </tr>\n",
       "    <tr>\n",
       "      <th>mean</th>\n",
       "      <td>2006.484616</td>\n",
       "      <td>0.263377</td>\n",
       "      <td>0.145060</td>\n",
       "      <td>0.077617</td>\n",
       "      <td>0.047342</td>\n",
       "      <td>68.967679</td>\n",
       "    </tr>\n",
       "    <tr>\n",
       "      <th>std</th>\n",
       "      <td>5.877050</td>\n",
       "      <td>0.813604</td>\n",
       "      <td>0.503339</td>\n",
       "      <td>0.308853</td>\n",
       "      <td>0.186731</td>\n",
       "      <td>13.938165</td>\n",
       "    </tr>\n",
       "    <tr>\n",
       "      <th>min</th>\n",
       "      <td>1980.000000</td>\n",
       "      <td>0.000000</td>\n",
       "      <td>0.000000</td>\n",
       "      <td>0.000000</td>\n",
       "      <td>0.000000</td>\n",
       "      <td>13.000000</td>\n",
       "    </tr>\n",
       "    <tr>\n",
       "      <th>25%</th>\n",
       "      <td>2003.000000</td>\n",
       "      <td>0.000000</td>\n",
       "      <td>0.000000</td>\n",
       "      <td>0.000000</td>\n",
       "      <td>0.000000</td>\n",
       "      <td>60.000000</td>\n",
       "    </tr>\n",
       "    <tr>\n",
       "      <th>50%</th>\n",
       "      <td>2007.000000</td>\n",
       "      <td>0.080000</td>\n",
       "      <td>0.020000</td>\n",
       "      <td>0.000000</td>\n",
       "      <td>0.010000</td>\n",
       "      <td>71.000000</td>\n",
       "    </tr>\n",
       "    <tr>\n",
       "      <th>75%</th>\n",
       "      <td>2010.000000</td>\n",
       "      <td>0.240000</td>\n",
       "      <td>0.110000</td>\n",
       "      <td>0.040000</td>\n",
       "      <td>0.030000</td>\n",
       "      <td>79.000000</td>\n",
       "    </tr>\n",
       "    <tr>\n",
       "      <th>max</th>\n",
       "      <td>2016.000000</td>\n",
       "      <td>41.360000</td>\n",
       "      <td>28.960000</td>\n",
       "      <td>10.220000</td>\n",
       "      <td>10.570000</td>\n",
       "      <td>98.000000</td>\n",
       "    </tr>\n",
       "  </tbody>\n",
       "</table>\n",
       "</div>"
      ],
      "text/plain": [
       "       Year_of_Release      NA_sales      EU_sales      JP_sales  \\\n",
       "count     16446.000000  16715.000000  16715.000000  16715.000000   \n",
       "mean       2006.484616      0.263377      0.145060      0.077617   \n",
       "std           5.877050      0.813604      0.503339      0.308853   \n",
       "min        1980.000000      0.000000      0.000000      0.000000   \n",
       "25%        2003.000000      0.000000      0.000000      0.000000   \n",
       "50%        2007.000000      0.080000      0.020000      0.000000   \n",
       "75%        2010.000000      0.240000      0.110000      0.040000   \n",
       "max        2016.000000     41.360000     28.960000     10.220000   \n",
       "\n",
       "        Other_sales  Critic_Score  \n",
       "count  16715.000000   8137.000000  \n",
       "mean       0.047342     68.967679  \n",
       "std        0.186731     13.938165  \n",
       "min        0.000000     13.000000  \n",
       "25%        0.000000     60.000000  \n",
       "50%        0.010000     71.000000  \n",
       "75%        0.030000     79.000000  \n",
       "max       10.570000     98.000000  "
      ]
     },
     "metadata": {},
     "output_type": "display_data"
    },
    {
     "data": {
      "text/html": [
       "<div>\n",
       "<style scoped>\n",
       "    .dataframe tbody tr th:only-of-type {\n",
       "        vertical-align: middle;\n",
       "    }\n",
       "\n",
       "    .dataframe tbody tr th {\n",
       "        vertical-align: top;\n",
       "    }\n",
       "\n",
       "    .dataframe thead th {\n",
       "        text-align: right;\n",
       "    }\n",
       "</style>\n",
       "<table border=\"1\" class=\"dataframe\">\n",
       "  <thead>\n",
       "    <tr style=\"text-align: right;\">\n",
       "      <th></th>\n",
       "      <th>Name</th>\n",
       "      <th>Platform</th>\n",
       "      <th>Year_of_Release</th>\n",
       "      <th>Genre</th>\n",
       "      <th>NA_sales</th>\n",
       "      <th>EU_sales</th>\n",
       "      <th>JP_sales</th>\n",
       "      <th>Other_sales</th>\n",
       "      <th>Critic_Score</th>\n",
       "      <th>User_Score</th>\n",
       "      <th>Rating</th>\n",
       "    </tr>\n",
       "  </thead>\n",
       "  <tbody>\n",
       "    <tr>\n",
       "      <th>0</th>\n",
       "      <td>Wii Sports</td>\n",
       "      <td>Wii</td>\n",
       "      <td>2006.0</td>\n",
       "      <td>Sports</td>\n",
       "      <td>41.36</td>\n",
       "      <td>28.96</td>\n",
       "      <td>3.77</td>\n",
       "      <td>8.45</td>\n",
       "      <td>76.0</td>\n",
       "      <td>8</td>\n",
       "      <td>E</td>\n",
       "    </tr>\n",
       "    <tr>\n",
       "      <th>1</th>\n",
       "      <td>Super Mario Bros.</td>\n",
       "      <td>NES</td>\n",
       "      <td>1985.0</td>\n",
       "      <td>Platform</td>\n",
       "      <td>29.08</td>\n",
       "      <td>3.58</td>\n",
       "      <td>6.81</td>\n",
       "      <td>0.77</td>\n",
       "      <td>NaN</td>\n",
       "      <td>NaN</td>\n",
       "      <td>NaN</td>\n",
       "    </tr>\n",
       "    <tr>\n",
       "      <th>2</th>\n",
       "      <td>Mario Kart Wii</td>\n",
       "      <td>Wii</td>\n",
       "      <td>2008.0</td>\n",
       "      <td>Racing</td>\n",
       "      <td>15.68</td>\n",
       "      <td>12.76</td>\n",
       "      <td>3.79</td>\n",
       "      <td>3.29</td>\n",
       "      <td>82.0</td>\n",
       "      <td>8.3</td>\n",
       "      <td>E</td>\n",
       "    </tr>\n",
       "    <tr>\n",
       "      <th>3</th>\n",
       "      <td>Wii Sports Resort</td>\n",
       "      <td>Wii</td>\n",
       "      <td>2009.0</td>\n",
       "      <td>Sports</td>\n",
       "      <td>15.61</td>\n",
       "      <td>10.93</td>\n",
       "      <td>3.28</td>\n",
       "      <td>2.95</td>\n",
       "      <td>80.0</td>\n",
       "      <td>8</td>\n",
       "      <td>E</td>\n",
       "    </tr>\n",
       "    <tr>\n",
       "      <th>4</th>\n",
       "      <td>Pokemon Red/Pokemon Blue</td>\n",
       "      <td>GB</td>\n",
       "      <td>1996.0</td>\n",
       "      <td>Role-Playing</td>\n",
       "      <td>11.27</td>\n",
       "      <td>8.89</td>\n",
       "      <td>10.22</td>\n",
       "      <td>1.00</td>\n",
       "      <td>NaN</td>\n",
       "      <td>NaN</td>\n",
       "      <td>NaN</td>\n",
       "    </tr>\n",
       "  </tbody>\n",
       "</table>\n",
       "</div>"
      ],
      "text/plain": [
       "                       Name Platform  Year_of_Release         Genre  NA_sales  \\\n",
       "0                Wii Sports      Wii           2006.0        Sports     41.36   \n",
       "1         Super Mario Bros.      NES           1985.0      Platform     29.08   \n",
       "2            Mario Kart Wii      Wii           2008.0        Racing     15.68   \n",
       "3         Wii Sports Resort      Wii           2009.0        Sports     15.61   \n",
       "4  Pokemon Red/Pokemon Blue       GB           1996.0  Role-Playing     11.27   \n",
       "\n",
       "   EU_sales  JP_sales  Other_sales  Critic_Score User_Score Rating  \n",
       "0     28.96      3.77         8.45          76.0          8      E  \n",
       "1      3.58      6.81         0.77           NaN        NaN    NaN  \n",
       "2     12.76      3.79         3.29          82.0        8.3      E  \n",
       "3     10.93      3.28         2.95          80.0          8      E  \n",
       "4      8.89     10.22         1.00           NaN        NaN    NaN  "
      ]
     },
     "metadata": {},
     "output_type": "display_data"
    },
    {
     "data": {
      "text/plain": [
       "Name               0.000120\n",
       "Platform           0.000000\n",
       "Year_of_Release    0.016093\n",
       "Genre              0.000120\n",
       "NA_sales           0.000000\n",
       "EU_sales           0.000000\n",
       "JP_sales           0.000000\n",
       "Other_sales        0.000000\n",
       "Critic_Score       0.513192\n",
       "User_Score         0.400897\n",
       "Rating             0.404786\n",
       "dtype: float64"
      ]
     },
     "metadata": {},
     "output_type": "display_data"
    }
   ],
   "source": [
    "info_df (df)"
   ]
  },
  {
   "cell_type": "markdown",
   "metadata": {},
   "source": [
    "## Шаг 2. Подготовьте данные"
   ]
  },
  {
   "cell_type": "markdown",
   "metadata": {},
   "source": [
    "### Описание данных"
   ]
  },
  {
   "cell_type": "markdown",
   "metadata": {},
   "source": [
    "- Name — название игры\n",
    "- Platform — платформа\n",
    "- Year_of_Release — год выпуска\n",
    "- Genre — жанр игры\n",
    "- NA_sales — продажи в Северной Америке (миллионы проданных копий)\n",
    "- EU_sales — продажи в Европе (миллионы проданных копий)\n",
    "- JP_sales — продажи в Японии (миллионы проданных копий)\n",
    "- Other_sales — продажи в других странах (миллионы проданных копий)\n",
    "- Critic_Score — оценка критиков (максимум 100)\n",
    "- User_Score — оценка пользователей (максимум 10)\n",
    "- Rating — рейтинг от организации ESRB (англ. Entertainment Software Rating Board). Эта ассоциация определяет рейтинг компьютерных игр и присваивает им подходящую возрастную категорию.\n",
    "\n",
    "\n",
    "Данные за 2016 год могут быть неполными."
   ]
  },
  {
   "cell_type": "markdown",
   "metadata": {},
   "source": [
    "### Замените названия столбцов (приведите к нижнему регистру)"
   ]
  },
  {
   "cell_type": "code",
   "execution_count": 5,
   "metadata": {},
   "outputs": [],
   "source": [
    "df.columns = map(str.lower, df.columns)"
   ]
  },
  {
   "cell_type": "markdown",
   "metadata": {},
   "source": [
    "### Обработайте пропуски при необходимости"
   ]
  },
  {
   "cell_type": "markdown",
   "metadata": {},
   "source": [
    "Объясните, почему заполнили пропуски определённым образом или почему не стали это делать\n",
    "\n",
    "\n",
    "Опишите причины, которые могли привести к пропускам"
   ]
  },
  {
   "cell_type": "code",
   "execution_count": 6,
   "metadata": {},
   "outputs": [
    {
     "data": {
      "text/html": [
       "<div>\n",
       "<style scoped>\n",
       "    .dataframe tbody tr th:only-of-type {\n",
       "        vertical-align: middle;\n",
       "    }\n",
       "\n",
       "    .dataframe tbody tr th {\n",
       "        vertical-align: top;\n",
       "    }\n",
       "\n",
       "    .dataframe thead th {\n",
       "        text-align: right;\n",
       "    }\n",
       "</style>\n",
       "<table border=\"1\" class=\"dataframe\">\n",
       "  <thead>\n",
       "    <tr style=\"text-align: right;\">\n",
       "      <th></th>\n",
       "      <th>names</th>\n",
       "      <th>nulls</th>\n",
       "      <th>nulls_percent</th>\n",
       "    </tr>\n",
       "  </thead>\n",
       "  <tbody>\n",
       "    <tr>\n",
       "      <th>0</th>\n",
       "      <td>name</td>\n",
       "      <td>2</td>\n",
       "      <td>0.011965</td>\n",
       "    </tr>\n",
       "    <tr>\n",
       "      <th>1</th>\n",
       "      <td>platform</td>\n",
       "      <td>0</td>\n",
       "      <td>0.000000</td>\n",
       "    </tr>\n",
       "    <tr>\n",
       "      <th>2</th>\n",
       "      <td>year_of_release</td>\n",
       "      <td>269</td>\n",
       "      <td>1.609333</td>\n",
       "    </tr>\n",
       "    <tr>\n",
       "      <th>3</th>\n",
       "      <td>genre</td>\n",
       "      <td>2</td>\n",
       "      <td>0.011965</td>\n",
       "    </tr>\n",
       "    <tr>\n",
       "      <th>4</th>\n",
       "      <td>na_sales</td>\n",
       "      <td>0</td>\n",
       "      <td>0.000000</td>\n",
       "    </tr>\n",
       "    <tr>\n",
       "      <th>5</th>\n",
       "      <td>eu_sales</td>\n",
       "      <td>0</td>\n",
       "      <td>0.000000</td>\n",
       "    </tr>\n",
       "    <tr>\n",
       "      <th>6</th>\n",
       "      <td>jp_sales</td>\n",
       "      <td>0</td>\n",
       "      <td>0.000000</td>\n",
       "    </tr>\n",
       "    <tr>\n",
       "      <th>7</th>\n",
       "      <td>other_sales</td>\n",
       "      <td>0</td>\n",
       "      <td>0.000000</td>\n",
       "    </tr>\n",
       "    <tr>\n",
       "      <th>8</th>\n",
       "      <td>critic_score</td>\n",
       "      <td>8578</td>\n",
       "      <td>51.319174</td>\n",
       "    </tr>\n",
       "    <tr>\n",
       "      <th>9</th>\n",
       "      <td>user_score</td>\n",
       "      <td>6701</td>\n",
       "      <td>40.089740</td>\n",
       "    </tr>\n",
       "    <tr>\n",
       "      <th>10</th>\n",
       "      <td>rating</td>\n",
       "      <td>6766</td>\n",
       "      <td>40.478612</td>\n",
       "    </tr>\n",
       "  </tbody>\n",
       "</table>\n",
       "</div>"
      ],
      "text/plain": [
       "              names  nulls  nulls_percent\n",
       "0              name      2       0.011965\n",
       "1          platform      0       0.000000\n",
       "2   year_of_release    269       1.609333\n",
       "3             genre      2       0.011965\n",
       "4          na_sales      0       0.000000\n",
       "5          eu_sales      0       0.000000\n",
       "6          jp_sales      0       0.000000\n",
       "7       other_sales      0       0.000000\n",
       "8      critic_score   8578      51.319174\n",
       "9        user_score   6701      40.089740\n",
       "10           rating   6766      40.478612"
      ]
     },
     "execution_count": 6,
     "metadata": {},
     "output_type": "execute_result"
    }
   ],
   "source": [
    "# посмотрим на кол-во пропусков и на их процентное содержание относительно данных\n",
    "num_of_nulls = pd.DataFrame(columns = ['names'], data = df.columns)\n",
    "num_of_nulls ['nulls'] = df.isna().sum().values\n",
    "num_of_nulls ['nulls_percent'] = 100*df.isna().sum().values / df.shape[0]\n",
    "num_of_nulls "
   ]
  },
  {
   "cell_type": "markdown",
   "metadata": {},
   "source": [
    "1. По  анализу видно, что, процент пропусков для name и year_of_release очень маленький и можно смело пожертвовать такой долей данных.Причины пропуска имени вижу только в ошибке заполнения или парсинга датафрейма.\n",
    "2. С пропусками в столбцах с оценкой критиков и пользователей, их больше половины, заполнять медианой или средним мне кажется не правильно, т.к. нет уверенности, что игры одного жанра на одной платформе могут иметь похожие оценки. Оставим данные без изменений.Возможно большая часть игр  не дошла до рецензии критиков, скорее всего оценку дают очень популярным играм. С пользователями может быть вариант того, что человек ставит рейтинг только очень плохим или очень хорошим играм или тем в которые играет чаще всего.\n",
    "3. Пропуски в возрастном рейтинге также сложно заменить логическим путем,т.к. в разных регионах возрастной рейтинг может быть разным, а в некоторых регионах он вообще не используется, заменю константой типа \"no_rating\"."
   ]
  },
  {
   "cell_type": "code",
   "execution_count": 7,
   "metadata": {},
   "outputs": [],
   "source": [
    "df = df.dropna(subset = ['name'])\n",
    "df = df.dropna(subset = ['year_of_release'])"
   ]
  },
  {
   "cell_type": "code",
   "execution_count": 8,
   "metadata": {},
   "outputs": [],
   "source": [
    "df['rating'] = df['rating'].fillna(\"no_rating\")"
   ]
  },
  {
   "cell_type": "code",
   "execution_count": 9,
   "metadata": {},
   "outputs": [
    {
     "data": {
      "text/plain": [
       "name                  0\n",
       "platform              0\n",
       "year_of_release       0\n",
       "genre                 0\n",
       "na_sales              0\n",
       "eu_sales              0\n",
       "jp_sales              0\n",
       "other_sales           0\n",
       "critic_score       8461\n",
       "user_score         6605\n",
       "rating                0\n",
       "dtype: int64"
      ]
     },
     "execution_count": 9,
     "metadata": {},
     "output_type": "execute_result"
    }
   ],
   "source": [
    "#Проверка удаления пропусков\n",
    "df.isna().sum()"
   ]
  },
  {
   "cell_type": "markdown",
   "metadata": {},
   "source": [
    "### Преобразуйте данные в нужные типы"
   ]
  },
  {
   "cell_type": "markdown",
   "metadata": {},
   "source": [
    "Опишите, в каких столбцах заменили тип данных и почему"
   ]
  },
  {
   "cell_type": "code",
   "execution_count": 10,
   "metadata": {},
   "outputs": [
    {
     "name": "stdout",
     "output_type": "stream",
     "text": [
      "<class 'pandas.core.frame.DataFrame'>\n",
      "Int64Index: 16444 entries, 0 to 16714\n",
      "Data columns (total 11 columns):\n",
      " #   Column           Non-Null Count  Dtype  \n",
      "---  ------           --------------  -----  \n",
      " 0   name             16444 non-null  object \n",
      " 1   platform         16444 non-null  object \n",
      " 2   year_of_release  16444 non-null  float64\n",
      " 3   genre            16444 non-null  object \n",
      " 4   na_sales         16444 non-null  float64\n",
      " 5   eu_sales         16444 non-null  float64\n",
      " 6   jp_sales         16444 non-null  float64\n",
      " 7   other_sales      16444 non-null  float64\n",
      " 8   critic_score     7983 non-null   float64\n",
      " 9   user_score       9839 non-null   object \n",
      " 10  rating           16444 non-null  object \n",
      "dtypes: float64(6), object(5)\n",
      "memory usage: 1.5+ MB\n"
     ]
    }
   ],
   "source": [
    "df.info()"
   ]
  },
  {
   "cell_type": "code",
   "execution_count": 11,
   "metadata": {},
   "outputs": [],
   "source": [
    "# Год выхода не может быть float64\n",
    "# Если в данных есть дробная часть, то предварительно округляем, делаем astype('Int64') \n",
    "df['year_of_release'] = np.ceil(df['year_of_release'])\n",
    "df['year_of_release'] = df['year_of_release'].astype('Int64') "
   ]
  },
  {
   "cell_type": "markdown",
   "metadata": {},
   "source": [
    "**Обратите внимание на аббревиатуру 'tbd' в столбце с оценкой пользователей.\n",
    "Отдельно разберите это значение и опишите, как его обработать**"
   ]
  },
  {
   "cell_type": "markdown",
   "metadata": {},
   "source": [
    "Оценка пользователей представлена и числами, и значением tbd = to be determined. Если оценки по факту нет, то логично заменить tbd на пропуски, а потом тип всего столбца на числовой"
   ]
  },
  {
   "cell_type": "code",
   "execution_count": 12,
   "metadata": {},
   "outputs": [],
   "source": [
    "df['user_score'] = df['user_score'].replace('tbd',np.nan) \n",
    "df['user_score'] = df['user_score'].astype('float64') "
   ]
  },
  {
   "cell_type": "code",
   "execution_count": 13,
   "metadata": {},
   "outputs": [
    {
     "name": "stdout",
     "output_type": "stream",
     "text": [
      "<class 'pandas.core.frame.DataFrame'>\n",
      "Int64Index: 16444 entries, 0 to 16714\n",
      "Data columns (total 11 columns):\n",
      " #   Column           Non-Null Count  Dtype  \n",
      "---  ------           --------------  -----  \n",
      " 0   name             16444 non-null  object \n",
      " 1   platform         16444 non-null  object \n",
      " 2   year_of_release  16444 non-null  Int64  \n",
      " 3   genre            16444 non-null  object \n",
      " 4   na_sales         16444 non-null  float64\n",
      " 5   eu_sales         16444 non-null  float64\n",
      " 6   jp_sales         16444 non-null  float64\n",
      " 7   other_sales      16444 non-null  float64\n",
      " 8   critic_score     7983 non-null   float64\n",
      " 9   user_score       7463 non-null   float64\n",
      " 10  rating           16444 non-null  object \n",
      "dtypes: Int64(1), float64(6), object(4)\n",
      "memory usage: 1.5+ MB\n"
     ]
    }
   ],
   "source": [
    "df.info()"
   ]
  },
  {
   "cell_type": "markdown",
   "metadata": {},
   "source": [
    "### Посчитайте суммарные продажи во всех регионах и запишите их в отдельный столбец"
   ]
  },
  {
   "cell_type": "code",
   "execution_count": 14,
   "metadata": {},
   "outputs": [
    {
     "data": {
      "text/html": [
       "<div>\n",
       "<style scoped>\n",
       "    .dataframe tbody tr th:only-of-type {\n",
       "        vertical-align: middle;\n",
       "    }\n",
       "\n",
       "    .dataframe tbody tr th {\n",
       "        vertical-align: top;\n",
       "    }\n",
       "\n",
       "    .dataframe thead th {\n",
       "        text-align: right;\n",
       "    }\n",
       "</style>\n",
       "<table border=\"1\" class=\"dataframe\">\n",
       "  <thead>\n",
       "    <tr style=\"text-align: right;\">\n",
       "      <th></th>\n",
       "      <th>name</th>\n",
       "      <th>platform</th>\n",
       "      <th>year_of_release</th>\n",
       "      <th>genre</th>\n",
       "      <th>na_sales</th>\n",
       "      <th>eu_sales</th>\n",
       "      <th>jp_sales</th>\n",
       "      <th>other_sales</th>\n",
       "      <th>critic_score</th>\n",
       "      <th>user_score</th>\n",
       "      <th>rating</th>\n",
       "      <th>total_sales</th>\n",
       "    </tr>\n",
       "  </thead>\n",
       "  <tbody>\n",
       "    <tr>\n",
       "      <th>0</th>\n",
       "      <td>Wii Sports</td>\n",
       "      <td>Wii</td>\n",
       "      <td>2006</td>\n",
       "      <td>Sports</td>\n",
       "      <td>41.36</td>\n",
       "      <td>28.96</td>\n",
       "      <td>3.77</td>\n",
       "      <td>8.45</td>\n",
       "      <td>76.0</td>\n",
       "      <td>8.0</td>\n",
       "      <td>E</td>\n",
       "      <td>82.54</td>\n",
       "    </tr>\n",
       "    <tr>\n",
       "      <th>1</th>\n",
       "      <td>Super Mario Bros.</td>\n",
       "      <td>NES</td>\n",
       "      <td>1985</td>\n",
       "      <td>Platform</td>\n",
       "      <td>29.08</td>\n",
       "      <td>3.58</td>\n",
       "      <td>6.81</td>\n",
       "      <td>0.77</td>\n",
       "      <td>NaN</td>\n",
       "      <td>NaN</td>\n",
       "      <td>no_rating</td>\n",
       "      <td>40.24</td>\n",
       "    </tr>\n",
       "    <tr>\n",
       "      <th>2</th>\n",
       "      <td>Mario Kart Wii</td>\n",
       "      <td>Wii</td>\n",
       "      <td>2008</td>\n",
       "      <td>Racing</td>\n",
       "      <td>15.68</td>\n",
       "      <td>12.76</td>\n",
       "      <td>3.79</td>\n",
       "      <td>3.29</td>\n",
       "      <td>82.0</td>\n",
       "      <td>8.3</td>\n",
       "      <td>E</td>\n",
       "      <td>35.52</td>\n",
       "    </tr>\n",
       "    <tr>\n",
       "      <th>3</th>\n",
       "      <td>Wii Sports Resort</td>\n",
       "      <td>Wii</td>\n",
       "      <td>2009</td>\n",
       "      <td>Sports</td>\n",
       "      <td>15.61</td>\n",
       "      <td>10.93</td>\n",
       "      <td>3.28</td>\n",
       "      <td>2.95</td>\n",
       "      <td>80.0</td>\n",
       "      <td>8.0</td>\n",
       "      <td>E</td>\n",
       "      <td>32.77</td>\n",
       "    </tr>\n",
       "    <tr>\n",
       "      <th>4</th>\n",
       "      <td>Pokemon Red/Pokemon Blue</td>\n",
       "      <td>GB</td>\n",
       "      <td>1996</td>\n",
       "      <td>Role-Playing</td>\n",
       "      <td>11.27</td>\n",
       "      <td>8.89</td>\n",
       "      <td>10.22</td>\n",
       "      <td>1.00</td>\n",
       "      <td>NaN</td>\n",
       "      <td>NaN</td>\n",
       "      <td>no_rating</td>\n",
       "      <td>31.38</td>\n",
       "    </tr>\n",
       "  </tbody>\n",
       "</table>\n",
       "</div>"
      ],
      "text/plain": [
       "                       name platform  year_of_release         genre  na_sales  \\\n",
       "0                Wii Sports      Wii             2006        Sports     41.36   \n",
       "1         Super Mario Bros.      NES             1985      Platform     29.08   \n",
       "2            Mario Kart Wii      Wii             2008        Racing     15.68   \n",
       "3         Wii Sports Resort      Wii             2009        Sports     15.61   \n",
       "4  Pokemon Red/Pokemon Blue       GB             1996  Role-Playing     11.27   \n",
       "\n",
       "   eu_sales  jp_sales  other_sales  critic_score  user_score     rating  \\\n",
       "0     28.96      3.77         8.45          76.0         8.0          E   \n",
       "1      3.58      6.81         0.77           NaN         NaN  no_rating   \n",
       "2     12.76      3.79         3.29          82.0         8.3          E   \n",
       "3     10.93      3.28         2.95          80.0         8.0          E   \n",
       "4      8.89     10.22         1.00           NaN         NaN  no_rating   \n",
       "\n",
       "   total_sales  \n",
       "0        82.54  \n",
       "1        40.24  \n",
       "2        35.52  \n",
       "3        32.77  \n",
       "4        31.38  "
      ]
     },
     "execution_count": 14,
     "metadata": {},
     "output_type": "execute_result"
    }
   ],
   "source": [
    "#df['total_sales'] = df['na_sales'] + df['eu_sales'] + df['jp_sales']\n",
    "df['total_sales'] = df[['na_sales','eu_sales','jp_sales', 'other_sales']].sum(axis = 1)\n",
    "df.head()"
   ]
  },
  {
   "cell_type": "code",
   "execution_count": 15,
   "metadata": {},
   "outputs": [
    {
     "name": "stdout",
     "output_type": "stream",
     "text": [
      "<class 'pandas.core.frame.DataFrame'>\n",
      "Int64Index: 16444 entries, 0 to 16714\n",
      "Data columns (total 12 columns):\n",
      " #   Column           Non-Null Count  Dtype  \n",
      "---  ------           --------------  -----  \n",
      " 0   name             16444 non-null  object \n",
      " 1   platform         16444 non-null  object \n",
      " 2   year_of_release  16444 non-null  Int64  \n",
      " 3   genre            16444 non-null  object \n",
      " 4   na_sales         16444 non-null  float64\n",
      " 5   eu_sales         16444 non-null  float64\n",
      " 6   jp_sales         16444 non-null  float64\n",
      " 7   other_sales      16444 non-null  float64\n",
      " 8   critic_score     7983 non-null   float64\n",
      " 9   user_score       7463 non-null   float64\n",
      " 10  rating           16444 non-null  object \n",
      " 11  total_sales      16444 non-null  float64\n",
      "dtypes: Int64(1), float64(7), object(4)\n",
      "memory usage: 1.6+ MB\n"
     ]
    }
   ],
   "source": [
    "df.info()"
   ]
  },
  {
   "cell_type": "markdown",
   "metadata": {},
   "source": [
    "**Вывод**\n",
    "\n",
    "\n",
    "На данном этапе проведена предобработка данных, в том числе:\n",
    "- изменен регистр в столбцах;\n",
    "- обработаны пропуски в зависимости от данных;\n",
    "- данные преобразованы в нужный тип.\n",
    "\n",
    "Также дополнили столбцом с данными суммарных продаж во всех регионах."
   ]
  },
  {
   "cell_type": "markdown",
   "metadata": {},
   "source": [
    "## Шаг 3. Проведите исследовательский анализ данных"
   ]
  },
  {
   "cell_type": "markdown",
   "metadata": {},
   "source": [
    "### Посмотрите, сколько игр выпускалось в разные годы. "
   ]
  },
  {
   "cell_type": "markdown",
   "metadata": {},
   "source": [
    "Важны ли данные за все периоды?"
   ]
  },
  {
   "cell_type": "code",
   "execution_count": 16,
   "metadata": {},
   "outputs": [
    {
     "data": {
      "image/png": "[encoded data removed]",
      "text/plain": [
       "<Figure size 1440x720 with 1 Axes>"
      ]
     },
     "metadata": {
      "needs_background": "light"
     },
     "output_type": "display_data"
    }
   ],
   "source": [
    "time_duration = df.pivot_table(index='year_of_release', values='name', aggfunc='count')\n",
    "\n",
    "plt.figure(figsize=(20,10))\n",
    "sns.barplot(x=time_duration.index, y=\"name\", data=time_duration, color='wheat')\n",
    "plt.title('Количество игр по годам', fontsize=20)\n",
    "plt.xlabel('Год выпуска', fontsize=20, color='gray')\n",
    "plt.ylabel('Количество', fontsize=20, color='gray')\n",
    "plt.show()"
   ]
  },
  {
   "cell_type": "markdown",
   "metadata": {},
   "source": [
    "**Вспомним условия проекта:**\n",
    "\n",
    "\n",
    "Перед вами данные до 2016 года. Представим, что сейчас декабрь 2016 г., и вы планируете кампанию на 2017-й. Нужно отработать принцип работы с данными. Неважно, прогнозируете ли вы продажи на 2017 год по данным 2016-го или же 2027-й — по данным 2026 года.\n",
    "\n",
    "То есть мы должны учитывать показательные данные для прогноза на следующий период, а не все данные. Очевидно, это n последних лет до последней даты в данных. Точное значение определю на последующих шагах, возможно нужно взять среднее от жизненного цикла платформ. "
   ]
  },
  {
   "cell_type": "markdown",
   "metadata": {},
   "source": [
    "### Посмотрите, как менялись продажи по платформам. "
   ]
  },
  {
   "cell_type": "markdown",
   "metadata": {},
   "source": [
    "Выберите платформы с наибольшими суммарными продажами и постройте распределение по годам. За какой характерный срок появляются новые и исчезают старые платформы?"
   ]
  },
  {
   "cell_type": "code",
   "execution_count": 17,
   "metadata": {},
   "outputs": [
    {
     "data": {
      "text/html": [
       "<div>\n",
       "<style scoped>\n",
       "    .dataframe tbody tr th:only-of-type {\n",
       "        vertical-align: middle;\n",
       "    }\n",
       "\n",
       "    .dataframe tbody tr th {\n",
       "        vertical-align: top;\n",
       "    }\n",
       "\n",
       "    .dataframe thead th {\n",
       "        text-align: right;\n",
       "    }\n",
       "</style>\n",
       "<table border=\"1\" class=\"dataframe\">\n",
       "  <thead>\n",
       "    <tr style=\"text-align: right;\">\n",
       "      <th></th>\n",
       "      <th>total_sales</th>\n",
       "    </tr>\n",
       "    <tr>\n",
       "      <th>platform</th>\n",
       "      <th></th>\n",
       "    </tr>\n",
       "  </thead>\n",
       "  <tbody>\n",
       "    <tr>\n",
       "      <th>PS2</th>\n",
       "      <td>1233.56</td>\n",
       "    </tr>\n",
       "    <tr>\n",
       "      <th>X360</th>\n",
       "      <td>961.24</td>\n",
       "    </tr>\n",
       "    <tr>\n",
       "      <th>PS3</th>\n",
       "      <td>931.34</td>\n",
       "    </tr>\n",
       "    <tr>\n",
       "      <th>Wii</th>\n",
       "      <td>891.18</td>\n",
       "    </tr>\n",
       "    <tr>\n",
       "      <th>DS</th>\n",
       "      <td>802.78</td>\n",
       "    </tr>\n",
       "  </tbody>\n",
       "</table>\n",
       "</div>"
      ],
      "text/plain": [
       "          total_sales\n",
       "platform             \n",
       "PS2           1233.56\n",
       "X360           961.24\n",
       "PS3            931.34\n",
       "Wii            891.18\n",
       "DS             802.78"
      ]
     },
     "execution_count": 17,
     "metadata": {},
     "output_type": "execute_result"
    }
   ],
   "source": [
    "top5 = df.pivot_table(index='platform', values='total_sales', aggfunc='sum').nlargest(5, 'total_sales')\n",
    "top5"
   ]
  },
  {
   "cell_type": "code",
   "execution_count": 18,
   "metadata": {},
   "outputs": [
    {
     "data": {
      "text/plain": [
       "['PS2', 'X360', 'PS3', 'Wii', 'DS']"
      ]
     },
     "execution_count": 18,
     "metadata": {},
     "output_type": "execute_result"
    }
   ],
   "source": [
    "top5 = list(top5.index)\n",
    "top5"
   ]
  },
  {
   "cell_type": "code",
   "execution_count": 19,
   "metadata": {},
   "outputs": [],
   "source": [
    "top_platform = df.query('platform == [\"PS2\", \"X360\", \"Wii\", \"PS3\", \"DS\"]')"
   ]
  },
  {
   "cell_type": "code",
   "execution_count": 20,
   "metadata": {},
   "outputs": [
    {
     "data": {
      "text/html": [
       "<div>\n",
       "<style scoped>\n",
       "    .dataframe tbody tr th:only-of-type {\n",
       "        vertical-align: middle;\n",
       "    }\n",
       "\n",
       "    .dataframe tbody tr th {\n",
       "        vertical-align: top;\n",
       "    }\n",
       "\n",
       "    .dataframe thead th {\n",
       "        text-align: right;\n",
       "    }\n",
       "</style>\n",
       "<table border=\"1\" class=\"dataframe\">\n",
       "  <thead>\n",
       "    <tr style=\"text-align: right;\">\n",
       "      <th></th>\n",
       "      <th>name</th>\n",
       "      <th>platform</th>\n",
       "      <th>year_of_release</th>\n",
       "      <th>genre</th>\n",
       "      <th>na_sales</th>\n",
       "      <th>eu_sales</th>\n",
       "      <th>jp_sales</th>\n",
       "      <th>other_sales</th>\n",
       "      <th>critic_score</th>\n",
       "      <th>user_score</th>\n",
       "      <th>rating</th>\n",
       "      <th>total_sales</th>\n",
       "    </tr>\n",
       "  </thead>\n",
       "  <tbody>\n",
       "    <tr>\n",
       "      <th>0</th>\n",
       "      <td>Wii Sports</td>\n",
       "      <td>Wii</td>\n",
       "      <td>2006</td>\n",
       "      <td>Sports</td>\n",
       "      <td>41.36</td>\n",
       "      <td>28.96</td>\n",
       "      <td>3.77</td>\n",
       "      <td>8.45</td>\n",
       "      <td>76.0</td>\n",
       "      <td>8.0</td>\n",
       "      <td>E</td>\n",
       "      <td>82.54</td>\n",
       "    </tr>\n",
       "    <tr>\n",
       "      <th>2</th>\n",
       "      <td>Mario Kart Wii</td>\n",
       "      <td>Wii</td>\n",
       "      <td>2008</td>\n",
       "      <td>Racing</td>\n",
       "      <td>15.68</td>\n",
       "      <td>12.76</td>\n",
       "      <td>3.79</td>\n",
       "      <td>3.29</td>\n",
       "      <td>82.0</td>\n",
       "      <td>8.3</td>\n",
       "      <td>E</td>\n",
       "      <td>35.52</td>\n",
       "    </tr>\n",
       "    <tr>\n",
       "      <th>3</th>\n",
       "      <td>Wii Sports Resort</td>\n",
       "      <td>Wii</td>\n",
       "      <td>2009</td>\n",
       "      <td>Sports</td>\n",
       "      <td>15.61</td>\n",
       "      <td>10.93</td>\n",
       "      <td>3.28</td>\n",
       "      <td>2.95</td>\n",
       "      <td>80.0</td>\n",
       "      <td>8.0</td>\n",
       "      <td>E</td>\n",
       "      <td>32.77</td>\n",
       "    </tr>\n",
       "    <tr>\n",
       "      <th>6</th>\n",
       "      <td>New Super Mario Bros.</td>\n",
       "      <td>DS</td>\n",
       "      <td>2006</td>\n",
       "      <td>Platform</td>\n",
       "      <td>11.28</td>\n",
       "      <td>9.14</td>\n",
       "      <td>6.50</td>\n",
       "      <td>2.88</td>\n",
       "      <td>89.0</td>\n",
       "      <td>8.5</td>\n",
       "      <td>E</td>\n",
       "      <td>29.80</td>\n",
       "    </tr>\n",
       "    <tr>\n",
       "      <th>7</th>\n",
       "      <td>Wii Play</td>\n",
       "      <td>Wii</td>\n",
       "      <td>2006</td>\n",
       "      <td>Misc</td>\n",
       "      <td>13.96</td>\n",
       "      <td>9.18</td>\n",
       "      <td>2.93</td>\n",
       "      <td>2.84</td>\n",
       "      <td>58.0</td>\n",
       "      <td>6.6</td>\n",
       "      <td>E</td>\n",
       "      <td>28.91</td>\n",
       "    </tr>\n",
       "    <tr>\n",
       "      <th>...</th>\n",
       "      <td>...</td>\n",
       "      <td>...</td>\n",
       "      <td>...</td>\n",
       "      <td>...</td>\n",
       "      <td>...</td>\n",
       "      <td>...</td>\n",
       "      <td>...</td>\n",
       "      <td>...</td>\n",
       "      <td>...</td>\n",
       "      <td>...</td>\n",
       "      <td>...</td>\n",
       "      <td>...</td>\n",
       "    </tr>\n",
       "    <tr>\n",
       "      <th>16700</th>\n",
       "      <td>Mezase!! Tsuri Master DS</td>\n",
       "      <td>DS</td>\n",
       "      <td>2009</td>\n",
       "      <td>Sports</td>\n",
       "      <td>0.00</td>\n",
       "      <td>0.00</td>\n",
       "      <td>0.01</td>\n",
       "      <td>0.00</td>\n",
       "      <td>NaN</td>\n",
       "      <td>NaN</td>\n",
       "      <td>no_rating</td>\n",
       "      <td>0.01</td>\n",
       "    </tr>\n",
       "    <tr>\n",
       "      <th>16704</th>\n",
       "      <td>Plushees</td>\n",
       "      <td>DS</td>\n",
       "      <td>2008</td>\n",
       "      <td>Simulation</td>\n",
       "      <td>0.01</td>\n",
       "      <td>0.00</td>\n",
       "      <td>0.00</td>\n",
       "      <td>0.00</td>\n",
       "      <td>NaN</td>\n",
       "      <td>NaN</td>\n",
       "      <td>E</td>\n",
       "      <td>0.01</td>\n",
       "    </tr>\n",
       "    <tr>\n",
       "      <th>16709</th>\n",
       "      <td>SCORE International Baja 1000: The Official Game</td>\n",
       "      <td>PS2</td>\n",
       "      <td>2008</td>\n",
       "      <td>Racing</td>\n",
       "      <td>0.00</td>\n",
       "      <td>0.00</td>\n",
       "      <td>0.00</td>\n",
       "      <td>0.00</td>\n",
       "      <td>NaN</td>\n",
       "      <td>NaN</td>\n",
       "      <td>no_rating</td>\n",
       "      <td>0.00</td>\n",
       "    </tr>\n",
       "    <tr>\n",
       "      <th>16710</th>\n",
       "      <td>Samurai Warriors: Sanada Maru</td>\n",
       "      <td>PS3</td>\n",
       "      <td>2016</td>\n",
       "      <td>Action</td>\n",
       "      <td>0.00</td>\n",
       "      <td>0.00</td>\n",
       "      <td>0.01</td>\n",
       "      <td>0.00</td>\n",
       "      <td>NaN</td>\n",
       "      <td>NaN</td>\n",
       "      <td>no_rating</td>\n",
       "      <td>0.01</td>\n",
       "    </tr>\n",
       "    <tr>\n",
       "      <th>16711</th>\n",
       "      <td>LMA Manager 2007</td>\n",
       "      <td>X360</td>\n",
       "      <td>2006</td>\n",
       "      <td>Sports</td>\n",
       "      <td>0.00</td>\n",
       "      <td>0.01</td>\n",
       "      <td>0.00</td>\n",
       "      <td>0.00</td>\n",
       "      <td>NaN</td>\n",
       "      <td>NaN</td>\n",
       "      <td>no_rating</td>\n",
       "      <td>0.01</td>\n",
       "    </tr>\n",
       "  </tbody>\n",
       "</table>\n",
       "<p>8072 rows × 12 columns</p>\n",
       "</div>"
      ],
      "text/plain": [
       "                                                   name platform  \\\n",
       "0                                            Wii Sports      Wii   \n",
       "2                                        Mario Kart Wii      Wii   \n",
       "3                                     Wii Sports Resort      Wii   \n",
       "6                                 New Super Mario Bros.       DS   \n",
       "7                                              Wii Play      Wii   \n",
       "...                                                 ...      ...   \n",
       "16700                          Mezase!! Tsuri Master DS       DS   \n",
       "16704                                          Plushees       DS   \n",
       "16709  SCORE International Baja 1000: The Official Game      PS2   \n",
       "16710                     Samurai Warriors: Sanada Maru      PS3   \n",
       "16711                                  LMA Manager 2007     X360   \n",
       "\n",
       "       year_of_release       genre  na_sales  eu_sales  jp_sales  other_sales  \\\n",
       "0                 2006      Sports     41.36     28.96      3.77         8.45   \n",
       "2                 2008      Racing     15.68     12.76      3.79         3.29   \n",
       "3                 2009      Sports     15.61     10.93      3.28         2.95   \n",
       "6                 2006    Platform     11.28      9.14      6.50         2.88   \n",
       "7                 2006        Misc     13.96      9.18      2.93         2.84   \n",
       "...                ...         ...       ...       ...       ...          ...   \n",
       "16700             2009      Sports      0.00      0.00      0.01         0.00   \n",
       "16704             2008  Simulation      0.01      0.00      0.00         0.00   \n",
       "16709             2008      Racing      0.00      0.00      0.00         0.00   \n",
       "16710             2016      Action      0.00      0.00      0.01         0.00   \n",
       "16711             2006      Sports      0.00      0.01      0.00         0.00   \n",
       "\n",
       "       critic_score  user_score     rating  total_sales  \n",
       "0              76.0         8.0          E        82.54  \n",
       "2              82.0         8.3          E        35.52  \n",
       "3              80.0         8.0          E        32.77  \n",
       "6              89.0         8.5          E        29.80  \n",
       "7              58.0         6.6          E        28.91  \n",
       "...             ...         ...        ...          ...  \n",
       "16700           NaN         NaN  no_rating         0.01  \n",
       "16704           NaN         NaN          E         0.01  \n",
       "16709           NaN         NaN  no_rating         0.00  \n",
       "16710           NaN         NaN  no_rating         0.01  \n",
       "16711           NaN         NaN  no_rating         0.01  \n",
       "\n",
       "[8072 rows x 12 columns]"
      ]
     },
     "execution_count": 20,
     "metadata": {},
     "output_type": "execute_result"
    }
   ],
   "source": [
    "top_platform"
   ]
  },
  {
   "cell_type": "code",
   "execution_count": 21,
   "metadata": {},
   "outputs": [
    {
     "data": {
      "image/png": "[encoded data removed]",
      "text/plain": [
       "<Figure size 1440x720 with 1 Axes>"
      ]
     },
     "metadata": {
      "needs_background": "light"
     },
     "output_type": "display_data"
    }
   ],
   "source": [
    "top_platform.groupby(['platform', 'year_of_release'])['total_sales'].sum().unstack('platform').plot(\n",
    "    style='o-',\n",
    "    grid=True,\n",
    "    figsize=(20,10));\n",
    "plt.title('Динамика продаж', fontsize=20)\n",
    "plt.xlabel('Год', fontsize=20,)\n",
    "plt.ylabel('Количество проданных копий', fontsize=20,)\n",
    "plt.legend(loc='upper left', fontsize=20);"
   ]
  },
  {
   "cell_type": "markdown",
   "metadata": {},
   "source": [
    "Из графика можно сказать, что средняя продолжительность жизни игровой платформы составляет от 5-10 лет."
   ]
  },
  {
   "cell_type": "markdown",
   "metadata": {},
   "source": [
    "### Возьмите данные за соответствующий актуальный период. "
   ]
  },
  {
   "cell_type": "markdown",
   "metadata": {},
   "source": [
    "**Актуальный период определите самостоятельно в результате исследования предыдущих вопросов. Основной фактор — эти данные помогут построить прогноз на 2017 год.**"
   ]
  },
  {
   "cell_type": "markdown",
   "metadata": {},
   "source": [
    "Если рассуждать с точки зрения бизнеса мы не можем строить прогноз основываясь на старые данные, так как сама по себе индустрия довольна популярная и изменения в ней, насколько я думаю, очень частые.\n",
    "Предлагаю отнять половину жизненного цикла, то есть с 2013."
   ]
  },
  {
   "cell_type": "markdown",
   "metadata": {},
   "source": [
    "**Не учитывайте в работе данные за предыдущие годы.**"
   ]
  },
  {
   "cell_type": "code",
   "execution_count": 22,
   "metadata": {},
   "outputs": [],
   "source": [
    "actual_df = df.query('year_of_release >= 2013')"
   ]
  },
  {
   "cell_type": "markdown",
   "metadata": {},
   "source": [
    "### Какие платформы лидируют по продажам, растут или падают? Выберите несколько потенциально прибыльных платформ."
   ]
  },
  {
   "cell_type": "code",
   "execution_count": 23,
   "metadata": {},
   "outputs": [
    {
     "data": {
      "text/html": [
       "<div>\n",
       "<style scoped>\n",
       "    .dataframe tbody tr th:only-of-type {\n",
       "        vertical-align: middle;\n",
       "    }\n",
       "\n",
       "    .dataframe tbody tr th {\n",
       "        vertical-align: top;\n",
       "    }\n",
       "\n",
       "    .dataframe thead th {\n",
       "        text-align: right;\n",
       "    }\n",
       "</style>\n",
       "<table border=\"1\" class=\"dataframe\">\n",
       "  <thead>\n",
       "    <tr style=\"text-align: right;\">\n",
       "      <th></th>\n",
       "      <th>total_sales</th>\n",
       "    </tr>\n",
       "    <tr>\n",
       "      <th>platform</th>\n",
       "      <th></th>\n",
       "    </tr>\n",
       "  </thead>\n",
       "  <tbody>\n",
       "    <tr>\n",
       "      <th>PS4</th>\n",
       "      <td>314.14</td>\n",
       "    </tr>\n",
       "    <tr>\n",
       "      <th>PS3</th>\n",
       "      <td>181.43</td>\n",
       "    </tr>\n",
       "    <tr>\n",
       "      <th>XOne</th>\n",
       "      <td>159.32</td>\n",
       "    </tr>\n",
       "    <tr>\n",
       "      <th>3DS</th>\n",
       "      <td>143.25</td>\n",
       "    </tr>\n",
       "    <tr>\n",
       "      <th>X360</th>\n",
       "      <td>136.80</td>\n",
       "    </tr>\n",
       "    <tr>\n",
       "      <th>WiiU</th>\n",
       "      <td>64.63</td>\n",
       "    </tr>\n",
       "    <tr>\n",
       "      <th>PC</th>\n",
       "      <td>39.43</td>\n",
       "    </tr>\n",
       "    <tr>\n",
       "      <th>PSV</th>\n",
       "      <td>32.99</td>\n",
       "    </tr>\n",
       "    <tr>\n",
       "      <th>Wii</th>\n",
       "      <td>13.66</td>\n",
       "    </tr>\n",
       "    <tr>\n",
       "      <th>PSP</th>\n",
       "      <td>3.50</td>\n",
       "    </tr>\n",
       "  </tbody>\n",
       "</table>\n",
       "</div>"
      ],
      "text/plain": [
       "          total_sales\n",
       "platform             \n",
       "PS4            314.14\n",
       "PS3            181.43\n",
       "XOne           159.32\n",
       "3DS            143.25\n",
       "X360           136.80\n",
       "WiiU            64.63\n",
       "PC              39.43\n",
       "PSV             32.99\n",
       "Wii             13.66\n",
       "PSP              3.50"
      ]
     },
     "execution_count": 23,
     "metadata": {},
     "output_type": "execute_result"
    }
   ],
   "source": [
    "actual_df.pivot_table(index='platform', values='total_sales', aggfunc='sum').nlargest(10, 'total_sales')"
   ]
  },
  {
   "cell_type": "code",
   "execution_count": 24,
   "metadata": {},
   "outputs": [
    {
     "data": {
      "image/png": "[encoded data removed]",
      "text/plain": [
       "<Figure size 1440x720 with 1 Axes>"
      ]
     },
     "metadata": {
      "needs_background": "light"
     },
     "output_type": "display_data"
    }
   ],
   "source": [
    "actual_df.groupby(['platform', 'year_of_release'])['total_sales'].sum().unstack('platform').plot(\n",
    "    style='o-',\n",
    "    grid=True,\n",
    "    figsize=(20,10));\n",
    "plt.title('Динамика продаж', fontsize=20)\n",
    "plt.xlabel('Год', fontsize=20,)\n",
    "plt.ylabel('Количество проданных копий', fontsize=20)\n",
    "plt.legend(loc='upper left', fontsize=20);"
   ]
  },
  {
   "cell_type": "markdown",
   "metadata": {},
   "source": [
    "За период с 2013 - 2016 года лидерами являются PS4, PS3 и XOne. Из графика видно, что далее уже падение. Странно к 2016 году у всех идет падение, каким же тогда будет прогноз на 2017??"
   ]
  },
  {
   "cell_type": "markdown",
   "metadata": {},
   "source": [
    "### Постройте график «ящик с усами» по глобальным продажам игр в разбивке по платформам. Опишите результат."
   ]
  },
  {
   "cell_type": "code",
   "execution_count": 25,
   "metadata": {},
   "outputs": [
    {
     "data": {
      "image/png": "[encoded data removed]",
      "text/plain": [
       "<Figure size 432x288 with 1 Axes>"
      ]
     },
     "metadata": {
      "needs_background": "light"
     },
     "output_type": "display_data"
    }
   ],
   "source": [
    "sns.boxplot(x=\"platform\", \n",
    "            y='total_sales',  \n",
    "            data=actual_df,  \n",
    "            palette='Blues_d')\n",
    "plt.title('Глобальные продажи игр', fontsize=10)\n",
    "plt.xlabel('Платформа', fontsize=10)\n",
    "plt.ylabel('Количество проданных копий', fontsize=10)\n",
    "plt.ylim(0, 5);"
   ]
  },
  {
   "cell_type": "code",
   "execution_count": 26,
   "metadata": {},
   "outputs": [
    {
     "data": {
      "image/png": "[encoded data removed]",
      "text/plain": [
       "<Figure size 1555.2x576 with 1 Axes>"
      ]
     },
     "metadata": {
      "needs_background": "light"
     },
     "output_type": "display_data"
    }
   ],
   "source": [
    "sns.catplot(x=\"platform\", \n",
    "            y='total_sales', \n",
    "            kind=\"box\", \n",
    "            data=actual_df, \n",
    "            orient='v', \n",
    "            height=8, \n",
    "            aspect=2.7, \n",
    "            palette='Blues_d')\n",
    "plt.title('Глобальные продажи игр', fontsize=20)\n",
    "plt.xlabel('Платформа', fontsize=20)\n",
    "plt.ylabel('Количество проданных копий', fontsize=20)\n",
    "plt.ylim(0, 2);"
   ]
  },
  {
   "cell_type": "markdown",
   "metadata": {},
   "source": [
    "Выбросов достаточно много и сложно оценить по данным средние значения, изменю параметр ylim, чтобы масштабировать сами ящики."
   ]
  },
  {
   "cell_type": "code",
   "execution_count": 27,
   "metadata": {},
   "outputs": [
    {
     "data": {
      "image/png": "[encoded data removed]",
      "text/plain": [
       "<Figure size 1555.2x576 with 1 Axes>"
      ]
     },
     "metadata": {
      "needs_background": "light"
     },
     "output_type": "display_data"
    }
   ],
   "source": [
    "sns.catplot(x=\"platform\", \n",
    "            y='total_sales', \n",
    "            kind=\"box\", \n",
    "            data=actual_df, \n",
    "            orient='v', \n",
    "            height=8, \n",
    "            aspect=2.7, \n",
    "            palette='Blues_d')\n",
    "plt.title('Глобальные продажи игр', fontsize=20)\n",
    "plt.xlabel('Платформа', fontsize=20)\n",
    "plt.ylabel('Количество проданных копий', fontsize=20)\n",
    "plt.ylim(0, 0.7);"
   ]
  },
  {
   "cell_type": "markdown",
   "metadata": {},
   "source": [
    "По распределению данных в наборе видно, что все медианы лежат ближе к нижней границе ящика и выбросов достаточно много. В среднем продажи лежат ниже границы с отметкой в 0.5"
   ]
  },
  {
   "cell_type": "markdown",
   "metadata": {},
   "source": [
    "### Посмотрите, как влияют на продажи внутри одной популярной платформы отзывы пользователей и критиков."
   ]
  },
  {
   "cell_type": "markdown",
   "metadata": {},
   "source": [
    "**Постройте диаграмму рассеяния и посчитайте корреляцию между отзывами и продажами. Сформулируйте выводы.**"
   ]
  },
  {
   "cell_type": "markdown",
   "metadata": {},
   "source": [
    "Возьму наиболее продоваемую платформу - PS4"
   ]
  },
  {
   "cell_type": "code",
   "execution_count": 28,
   "metadata": {},
   "outputs": [],
   "source": [
    "ps4 = actual_df.query('platform == \"PS4\"')"
   ]
  },
  {
   "cell_type": "code",
   "execution_count": 29,
   "metadata": {},
   "outputs": [
    {
     "data": {
      "image/png": "[encoded data removed]",
      "text/plain": [
       "<Figure size 360x360 with 1 Axes>"
      ]
     },
     "metadata": {
      "needs_background": "light"
     },
     "output_type": "display_data"
    }
   ],
   "source": [
    "sns.relplot(data=ps4, \n",
    "            x='user_score', \n",
    "            y='total_sales',\n",
    "            height=5)\n",
    "plt.title('Зависимость продаж от оценки пользователей')\n",
    "plt.xlabel('Оценка')\n",
    "plt.ylabel('Количество проданных копий')\n",
    "plt.xlim(0, 10)\n",
    "plt.text(1, 10, 'Коэффициент корреляции: ' + str(round(ps4['user_score'].corr(ps4['total_sales']), 2)))\n",
    "plt.show()"
   ]
  },
  {
   "cell_type": "code",
   "execution_count": 30,
   "metadata": {},
   "outputs": [
    {
     "data": {
      "image/png": "[encoded data removed]",
      "text/plain": [
       "<Figure size 360x360 with 1 Axes>"
      ]
     },
     "metadata": {
      "needs_background": "light"
     },
     "output_type": "display_data"
    }
   ],
   "source": [
    "sns.relplot(data=ps4, \n",
    "            x='critic_score', \n",
    "            y='total_sales',\n",
    "            height=5)\n",
    "plt.title('Зависимость продаж от оценки критиков')\n",
    "plt.xlabel('Оценка')\n",
    "plt.ylabel('Количество проданных копий')\n",
    "plt.xlim(0, 100)\n",
    "plt.text(1, 10, 'Коэффициент корреляции: ' + str(round(ps4['critic_score'].corr(ps4['total_sales']), 2)))\n",
    "plt.show()"
   ]
  },
  {
   "cell_type": "markdown",
   "metadata": {},
   "source": [
    "Чем ближе корреляция к -1 или 1, тем сильнее связь между переменными. При нулевом значении (или близким к 0) значимая связь между 2-мя переменными отсутствует или очень минимальна."
   ]
  },
  {
   "cell_type": "markdown",
   "metadata": {},
   "source": [
    "Влияние оценки пользователей на продажи минимально, можем считать, что влияния нет.\n",
    "Оценка критиков имеет определенное прямое влияние на количество продаж.\n",
    "\n",
    "\n",
    "Коэффициенты корреляции -0,03 и 0,41 соответственно.\n"
   ]
  },
  {
   "cell_type": "markdown",
   "metadata": {},
   "source": [
    "### Соотнесите выводы с продажами игр на других платформах."
   ]
  },
  {
   "cell_type": "code",
   "execution_count": 31,
   "metadata": {},
   "outputs": [
    {
     "name": "stdout",
     "output_type": "stream",
     "text": [
      "Корреляция отценок критиков к продажам PS2 nan\n",
      "Корреляция отценок критиков к продажам X360 0.35\n",
      "Корреляция отценок критиков к продажам Wii nan\n",
      "Корреляция отценок критиков к продажам PS3 0.33\n",
      "Корреляция отценок критиков к продажам DS nan\n",
      "Корреляция отценок пользователей к продажам PS2 nan\n",
      "Корреляция отценок пользователей к продажам X360 -0.01\n",
      "Корреляция отценок пользователей к продажам Wii 0.68\n",
      "Корреляция отценок пользователей к продажам PS3 0.0\n",
      "Корреляция отценок пользователей к продажам DS nan\n"
     ]
    },
    {
     "name": "stderr",
     "output_type": "stream",
     "text": [
      "/opt/conda/lib/python3.9/site-packages/numpy/lib/function_base.py:2683: RuntimeWarning: Degrees of freedom <= 0 for slice\n",
      "  c = cov(x, y, rowvar, dtype=dtype)\n",
      "/opt/conda/lib/python3.9/site-packages/numpy/lib/function_base.py:2542: RuntimeWarning: divide by zero encountered in true_divide\n",
      "  c *= np.true_divide(1, fact)\n"
     ]
    }
   ],
   "source": [
    "for platform in ['PS2', 'X360', 'Wii', 'PS3', 'DS']:\n",
    "    platf = actual_df.query(\"platform == @platform\")\n",
    "    crr = round(platf['critic_score'].corr(platf['total_sales']), 2)\n",
    "    print('Корреляция отценок критиков к продажам', platform, crr)\n",
    "for platform in ['PS2', 'X360', 'Wii', 'PS3', 'DS']:\n",
    "    platf = actual_df.query(\"platform == @platform\")\n",
    "    crr = round(platf['user_score'].corr(platf['total_sales']), 2)\n",
    "    print('Корреляция отценок пользователей к продажам', platform, crr)"
   ]
  },
  {
   "cell_type": "markdown",
   "metadata": {},
   "source": [
    "Получены аналогичные выводы и по другим платформам."
   ]
  },
  {
   "cell_type": "markdown",
   "metadata": {},
   "source": [
    "### Посмотрите на общее распределение игр по жанрам. Что можно сказать о самых прибыльных жанрах? Выделяются ли жанры с высокими и низкими продажами?"
   ]
  },
  {
   "cell_type": "code",
   "execution_count": 32,
   "metadata": {},
   "outputs": [
    {
     "data": {
      "text/html": [
       "<div>\n",
       "<style scoped>\n",
       "    .dataframe tbody tr th:only-of-type {\n",
       "        vertical-align: middle;\n",
       "    }\n",
       "\n",
       "    .dataframe tbody tr th {\n",
       "        vertical-align: top;\n",
       "    }\n",
       "\n",
       "    .dataframe thead th {\n",
       "        text-align: right;\n",
       "    }\n",
       "</style>\n",
       "<table border=\"1\" class=\"dataframe\">\n",
       "  <thead>\n",
       "    <tr style=\"text-align: right;\">\n",
       "      <th></th>\n",
       "      <th>sum</th>\n",
       "      <th>count</th>\n",
       "    </tr>\n",
       "    <tr>\n",
       "      <th>genre</th>\n",
       "      <th></th>\n",
       "      <th></th>\n",
       "    </tr>\n",
       "  </thead>\n",
       "  <tbody>\n",
       "    <tr>\n",
       "      <th>Action</th>\n",
       "      <td>321.87</td>\n",
       "      <td>766</td>\n",
       "    </tr>\n",
       "    <tr>\n",
       "      <th>Shooter</th>\n",
       "      <td>232.98</td>\n",
       "      <td>187</td>\n",
       "    </tr>\n",
       "    <tr>\n",
       "      <th>Sports</th>\n",
       "      <td>150.65</td>\n",
       "      <td>214</td>\n",
       "    </tr>\n",
       "    <tr>\n",
       "      <th>Role-Playing</th>\n",
       "      <td>145.89</td>\n",
       "      <td>292</td>\n",
       "    </tr>\n",
       "    <tr>\n",
       "      <th>Misc</th>\n",
       "      <td>62.82</td>\n",
       "      <td>155</td>\n",
       "    </tr>\n",
       "    <tr>\n",
       "      <th>Platform</th>\n",
       "      <td>42.63</td>\n",
       "      <td>74</td>\n",
       "    </tr>\n",
       "    <tr>\n",
       "      <th>Racing</th>\n",
       "      <td>39.89</td>\n",
       "      <td>85</td>\n",
       "    </tr>\n",
       "    <tr>\n",
       "      <th>Fighting</th>\n",
       "      <td>35.31</td>\n",
       "      <td>80</td>\n",
       "    </tr>\n",
       "    <tr>\n",
       "      <th>Adventure</th>\n",
       "      <td>23.64</td>\n",
       "      <td>245</td>\n",
       "    </tr>\n",
       "    <tr>\n",
       "      <th>Simulation</th>\n",
       "      <td>21.76</td>\n",
       "      <td>62</td>\n",
       "    </tr>\n",
       "    <tr>\n",
       "      <th>Strategy</th>\n",
       "      <td>10.08</td>\n",
       "      <td>56</td>\n",
       "    </tr>\n",
       "    <tr>\n",
       "      <th>Puzzle</th>\n",
       "      <td>3.17</td>\n",
       "      <td>17</td>\n",
       "    </tr>\n",
       "  </tbody>\n",
       "</table>\n",
       "</div>"
      ],
      "text/plain": [
       "                 sum  count\n",
       "genre                      \n",
       "Action        321.87    766\n",
       "Shooter       232.98    187\n",
       "Sports        150.65    214\n",
       "Role-Playing  145.89    292\n",
       "Misc           62.82    155\n",
       "Platform       42.63     74\n",
       "Racing         39.89     85\n",
       "Fighting       35.31     80\n",
       "Adventure      23.64    245\n",
       "Simulation     21.76     62\n",
       "Strategy       10.08     56\n",
       "Puzzle          3.17     17"
      ]
     },
     "execution_count": 32,
     "metadata": {},
     "output_type": "execute_result"
    }
   ],
   "source": [
    "genre = actual_df.pivot_table(index='genre',\n",
    "                              values='total_sales',\n",
    "                              aggfunc=['sum', 'count'])\n",
    "genre.columns = ['sum', 'count']\n",
    "genre.sort_values(by='sum', ascending=False)"
   ]
  },
  {
   "cell_type": "code",
   "execution_count": 33,
   "metadata": {},
   "outputs": [
    {
     "data": {
      "image/png": "[encoded data removed]",
      "text/plain": [
       "<Figure size 576x576 with 1 Axes>"
      ]
     },
     "metadata": {
      "needs_background": "light"
     },
     "output_type": "display_data"
    }
   ],
   "source": [
    "genre.plot(kind='bar',\n",
    "           title = \"Общее распределение игр по жанрам.\",\n",
    "           figsize=(8, 8));"
   ]
  },
  {
   "cell_type": "markdown",
   "metadata": {},
   "source": [
    "Жанр Action наиболее популярный среди всех жанров.\n",
    "\n",
    "Игры жанра puzzle не пользуются большой популярностью, их продажи самые низкие."
   ]
  },
  {
   "cell_type": "markdown",
   "metadata": {},
   "source": [
    "<div class=\"alert alert-\">\n",
    "<font size=\"4\"><b>❌ Комментарий ревьюера</b></font>\n",
    "    <br /> \n",
    "    <font size=\"3\", color = \"black\">\n",
    "<br />\n",
    "       На графике «ящик с усами» можно сравнить медианные продажи по жанрам, и проверить какой из них более стабилен и имеет более длинный ряд успешно продающихся игр (рекомендуется добавить несколько вариантов с разным масштабом)"
   ]
  },
  {
   "cell_type": "code",
   "execution_count": 34,
   "metadata": {},
   "outputs": [
    {
     "data": {
      "image/png": "[encoded data removed]",
      "text/plain": [
       "<Figure size 1555.2x576 with 1 Axes>"
      ]
     },
     "metadata": {
      "needs_background": "light"
     },
     "output_type": "display_data"
    }
   ],
   "source": [
    "sns.catplot(x=\"genre\", \n",
    "            y='total_sales', \n",
    "            kind=\"box\", \n",
    "            data=actual_df, \n",
    "            orient='v', \n",
    "            height=8, \n",
    "            aspect=2.7, \n",
    "            palette='Blues_d')\n",
    "plt.title('Общее распределение игр по жанрам', fontsize=20)\n",
    "plt.xlabel('Жанр', fontsize=20)\n",
    "plt.ylabel('Количество проданных копий', fontsize=20)\n",
    "plt.ylim(0, 2);"
   ]
  },
  {
   "cell_type": "code",
   "execution_count": 35,
   "metadata": {},
   "outputs": [
    {
     "data": {
      "image/png": "[encoded data removed]",
      "text/plain": [
       "<Figure size 1555.2x576 with 1 Axes>"
      ]
     },
     "metadata": {
      "needs_background": "light"
     },
     "output_type": "display_data"
    }
   ],
   "source": [
    "sns.catplot(x=\"genre\", \n",
    "            y='total_sales', \n",
    "            kind=\"box\", \n",
    "            data=actual_df, \n",
    "            orient='v', \n",
    "            height=8, \n",
    "            aspect=2.7, \n",
    "            palette='Blues_d')\n",
    "plt.title('Общее распределение игр по жанрам', fontsize=20)\n",
    "plt.xlabel('Жанр', fontsize=20)\n",
    "plt.ylabel('Количество проданных копий', fontsize=20)\n",
    "plt.ylim(0, 0.7);"
   ]
  },
  {
   "cell_type": "markdown",
   "metadata": {},
   "source": [
    "## Шаг 4. Составьте портрет пользователя каждого региона"
   ]
  },
  {
   "cell_type": "markdown",
   "metadata": {},
   "source": [
    "Определите для пользователя каждого региона (NA, EU, JP):\n",
    "* Самые популярные платформы (топ-5). Опишите различия в долях продаж.\n",
    "* Самые популярные жанры (топ-5). Поясните разницу.\n",
    "* Влияет ли рейтинг ESRB на продажи в отдельном регионе?"
   ]
  },
  {
   "cell_type": "code",
   "execution_count": 36,
   "metadata": {},
   "outputs": [],
   "source": [
    "def graph (df, region, name):\n",
    "    sales = df.pivot_table(index='platform', \n",
    "                           values=region, \n",
    "                           aggfunc='sum').nlargest(5, region)\n",
    "    sales.columns = ['sales']\n",
    "    sales.plot(kind='pie', \n",
    "               y=\"sales\",\n",
    "               autopct='%1.0f%%',\n",
    "               legend=False, \n",
    "               title = f\"Популярность платформ в {name} \", \n",
    "               figsize=(5, 5)).set(ylabel='')"
   ]
  },
  {
   "cell_type": "code",
   "execution_count": 37,
   "metadata": {},
   "outputs": [
    {
     "data": {
      "image/png": "[encoded data removed]",
      "text/plain": [
       "<Figure size 360x360 with 1 Axes>"
      ]
     },
     "metadata": {},
     "output_type": "display_data"
    },
    {
     "data": {
      "image/png": "[encoded data removed]",
      "text/plain": [
       "<Figure size 360x360 with 1 Axes>"
      ]
     },
     "metadata": {},
     "output_type": "display_data"
    },
    {
     "data": {
      "image/png": "[encoded data removed]",
      "text/plain": [
       "<Figure size 360x360 with 1 Axes>"
      ]
     },
     "metadata": {},
     "output_type": "display_data"
    }
   ],
   "source": [
    "graph(actual_df, 'na_sales', 'Северной Америке')\n",
    "graph(actual_df, 'eu_sales', 'Европе')\n",
    "graph(actual_df, 'jp_sales', 'Японии')"
   ]
  },
  {
   "cell_type": "markdown",
   "metadata": {},
   "source": [
    "Если смотреть для каждого региона структуру продаж по платформам то:\n",
    "- в Северной Америке и Европе один и тот же лидер - PS4, в то время как в Японии - 3DS;\n",
    "- если сравнивать 3DS то в Японии она занимает лидерство, в Северной Америке и Европе наоборот 5-ое место;\n",
    "- доли продаж по платформ более равномерно распределены в Северной Америке, а в Японии половину рынка занимает лидер;\n",
    "- набор платформ, вошедших в топ-5, одинаковый для Северной Америки и Европы, а в Японии он отличается;"
   ]
  },
  {
   "cell_type": "code",
   "execution_count": 38,
   "metadata": {},
   "outputs": [],
   "source": [
    "def graph_genre (df, region, name):\n",
    "    sales = df.pivot_table(index='genre', \n",
    "                           values=region, \n",
    "                           aggfunc='sum').nlargest(5, region)\n",
    "    sales.columns = ['sales']\n",
    "    sales.plot(kind='pie',\n",
    "                y=\"sales\", \n",
    "                autopct='%1.0f%%',\n",
    "                legend=False, \n",
    "                title = f\"Популярность жанров в {name} \", \n",
    "                figsize=(5, 5)).set(ylabel='')"
   ]
  },
  {
   "cell_type": "code",
   "execution_count": 39,
   "metadata": {},
   "outputs": [
    {
     "data": {
      "image/png": "[encoded data removed]",
      "text/plain": [
       "<Figure size 360x360 with 1 Axes>"
      ]
     },
     "metadata": {},
     "output_type": "display_data"
    },
    {
     "data": {
      "image/png": "[encoded data removed]",
      "text/plain": [
       "<Figure size 360x360 with 1 Axes>"
      ]
     },
     "metadata": {},
     "output_type": "display_data"
    },
    {
     "data": {
      "image/png": "[encoded data removed]",
      "text/plain": [
       "<Figure size 360x360 with 1 Axes>"
      ]
     },
     "metadata": {},
     "output_type": "display_data"
    }
   ],
   "source": [
    "graph_genre(actual_df, 'na_sales', 'Северной Америке')\n",
    "graph_genre(actual_df, 'eu_sales', 'Европе')\n",
    "graph_genre(actual_df, 'jp_sales', 'Японии')"
   ]
  },
  {
   "cell_type": "markdown",
   "metadata": {},
   "source": [
    "Если смотреть для каждого региона структуру по жанрам то:\n",
    "- в Северной Америке и Европе один и тот же лидер - Action (в Японии 2-ое место), в то время как в Японии - Role-Playing;\n",
    "- топ-5 жанров в Америке и Европе отличаются лишь 5 местом: Misc в Америке и Racing в Европе;\n",
    "- в целом распределение по жанрам в Америке и Европе почти одинаковое, вероятнее всего это связано с культурой и менталитетом пользователей;\n",
    "- в Японии сильная разница в отличие от Европы и Америки, а также большую часть рынка между собой делят Role-Playing и Action - 79%."
   ]
  },
  {
   "cell_type": "code",
   "execution_count": 40,
   "metadata": {},
   "outputs": [],
   "source": [
    "def graph_raiting (df, region, name):\n",
    "    sales = df.pivot_table(index='rating', \n",
    "                           values=region, \n",
    "                           aggfunc='sum').nlargest(5, region)\n",
    "    sales.columns = ['sales']\n",
    "    sales.plot(kind='pie',\n",
    "                y=\"sales\", \n",
    "                autopct='%1.0f%%',\n",
    "                legend=False, \n",
    "                title = f\"Продажи в зависимости от рейтинга в {name} \", \n",
    "                figsize=(5, 5)).set(ylabel='')"
   ]
  },
  {
   "cell_type": "code",
   "execution_count": 41,
   "metadata": {
    "scrolled": true
   },
   "outputs": [
    {
     "data": {
      "image/png": "[encoded data removed]",
      "text/plain": [
       "<Figure size 360x360 with 1 Axes>"
      ]
     },
     "metadata": {},
     "output_type": "display_data"
    },
    {
     "data": {
      "image/png": "[encoded data removed]",
      "text/plain": [
       "<Figure size 360x360 with 1 Axes>"
      ]
     },
     "metadata": {},
     "output_type": "display_data"
    },
    {
     "data": {
      "image/png": "[encoded data removed]",
      "text/plain": [
       "<Figure size 360x360 with 1 Axes>"
      ]
     },
     "metadata": {},
     "output_type": "display_data"
    }
   ],
   "source": [
    "graph_raiting(actual_df, 'na_sales', 'Северной Америке')\n",
    "graph_raiting(actual_df, 'eu_sales', 'Европе')\n",
    "graph_raiting(actual_df, 'jp_sales', 'Японии')"
   ]
  },
  {
   "cell_type": "markdown",
   "metadata": {},
   "source": [
    "Рейтинги ESRB:\n",
    "* M - 17 лет и старше\n",
    "* T - 13 лет и старше\n",
    "* E10+ - от 10 лет\n",
    "* E - от 6 лет"
   ]
  },
  {
   "cell_type": "markdown",
   "metadata": {},
   "source": [
    "Если смотреть для каждого региона то:\n",
    "\n",
    "- снова видно отличие Японии от Северной Америки и Европы;\n",
    "- в Европе и Северной Америке один лидер с разницей в 1%;\n",
    "- влияние рейтинга на продажи определенно есть, но для регионов оно отличается, а именно в Японии наличие игр без рейтинга наибольшее и там соответственно нет влияния, как минимум именно рейтинга ESRB."
   ]
  },
  {
   "cell_type": "markdown",
   "metadata": {},
   "source": [
    "## Шаг 5. Проверьте гипотезы"
   ]
  },
  {
   "cell_type": "markdown",
   "metadata": {},
   "source": [
    "### Гипотеза 1 - Средние пользовательские рейтинги платформ Xbox One и PC одинаковые"
   ]
  },
  {
   "cell_type": "markdown",
   "metadata": {},
   "source": [
    "Проверка двусторонней гипотезы в python проводится с помощью t-тест.\n",
    "Нулевая гипотеза всегда формируется со знаком равенства.\n",
    "\n",
    "Критерием для проверки стал p-value - это вероятность получить наблюдаемый или еще более далекий от предполагаемого результат при условии, что нулевая гипотеза верна.\n",
    "\n",
    "Перед проверкой гипотез проверим дисперсию выборки, чтобы корректно определить атрибут equal_val в Т–тесте.В том числе стоит визуализировать распределение каждой выборки, чтобы определить нормальное ли у них распределение или нет."
   ]
  },
  {
   "cell_type": "markdown",
   "metadata": {},
   "source": [
    "**Нулевая гипотеза H₀**\n",
    "\n",
    "Средние пользовательские рейтинги платформ Xbox One и PC одинаковые.\n",
    "\n",
    "**Альтернативная гипотеза H₁**\n",
    "\n",
    "Средние пользовательские рейтинги платформ Xbox One и PC разные.\n",
    "\n",
    "\n",
    "α=1% "
   ]
  },
  {
   "cell_type": "code",
   "execution_count": 42,
   "metadata": {},
   "outputs": [
    {
     "name": "stderr",
     "output_type": "stream",
     "text": [
      "/opt/conda/lib/python3.9/site-packages/seaborn/distributions.py:2557: FutureWarning: `distplot` is a deprecated function and will be removed in a future version. Please adapt your code to use either `displot` (a figure-level function with similar flexibility) or `histplot` (an axes-level function for histograms).\n",
      "  warnings.warn(msg, FutureWarning)\n"
     ]
    },
    {
     "data": {
      "image/png": "[encoded data removed]",
      "text/plain": [
       "<Figure size 432x288 with 1 Axes>"
      ]
     },
     "metadata": {
      "needs_background": "light"
     },
     "output_type": "display_data"
    }
   ],
   "source": [
    "xone = actual_df.query('platform == \"XOne\" and user_score != \"nan\"')\n",
    "pc = actual_df.query('platform == \"PC\"and user_score != \"nan\"')\n",
    "sns.distplot(xone['user_score'], kde=False)\n",
    "sns.distplot(pc['user_score'], kde=False)\n",
    "plt.legend(['xone', 'pc']);"
   ]
  },
  {
   "cell_type": "code",
   "execution_count": 43,
   "metadata": {},
   "outputs": [],
   "source": [
    "xone = actual_df.query('platform == \"XOne\" and user_score != \"nan\"')['user_score']\n",
    "pc = actual_df.query('platform == \"PC\"and user_score != \"nan\"')['user_score']"
   ]
  },
  {
   "cell_type": "code",
   "execution_count": 44,
   "metadata": {},
   "outputs": [
    {
     "data": {
      "text/plain": [
       "1.9069968429360695"
      ]
     },
     "metadata": {},
     "output_type": "display_data"
    },
    {
     "data": {
      "text/plain": [
       "3.035892752408881"
      ]
     },
     "metadata": {},
     "output_type": "display_data"
    }
   ],
   "source": [
    "variance_1 = np.var(xone, ddof=1)\n",
    "variance_2 = np.var(pc, ddof=1)\n",
    "display(variance_1)\n",
    "display(variance_2)"
   ]
  },
  {
   "cell_type": "markdown",
   "metadata": {},
   "source": [
    "Показатели не имеют однородной дисперсии и необходимо установить equal_var = False"
   ]
  },
  {
   "cell_type": "code",
   "execution_count": 45,
   "metadata": {},
   "outputs": [],
   "source": [
    "def t_test(data1,data2):\n",
    "    alpha = 0.01 \n",
    "    results = st.ttest_ind(data1, data2, equal_var=False)\n",
    "    print ('p-value:', results.pvalue)\n",
    "    if results.pvalue < alpha: print (\"Отвергаем нулевую гипотезу\")\n",
    "    else: print (\"Не получилось отвергнуть нулевую гипотезу\") "
   ]
  },
  {
   "cell_type": "code",
   "execution_count": 46,
   "metadata": {},
   "outputs": [
    {
     "name": "stdout",
     "output_type": "stream",
     "text": [
      "p-value: nan\n",
      "Не получилось отвергнуть нулевую гипотезу\n"
     ]
    }
   ],
   "source": [
    "t_test(xone,pc)"
   ]
  },
  {
   "cell_type": "markdown",
   "metadata": {},
   "source": [
    "Cредние пользовательские рейтинги платформ Xbox One и PC одинаковые."
   ]
  },
  {
   "cell_type": "markdown",
   "metadata": {},
   "source": [
    "### Гипотеза 2 - Средние пользовательские рейтинги жанров Action и Sports разные."
   ]
  },
  {
   "cell_type": "markdown",
   "metadata": {},
   "source": [
    "**Нулевая гипотеза H₀**\n",
    "\n",
    "Средние пользовательские рейтинги жанров Action и Sports одинаковые.\n",
    "\n",
    "**Альтернативная гипотеза H₁**\n",
    "\n",
    "Средние пользовательские рейтинги жанров Action и Sports разные.\n",
    "\n",
    "\n",
    "α=1% "
   ]
  },
  {
   "cell_type": "code",
   "execution_count": 47,
   "metadata": {},
   "outputs": [
    {
     "data": {
      "image/png": "[encoded data removed]",
      "text/plain": [
       "<Figure size 432x288 with 1 Axes>"
      ]
     },
     "metadata": {
      "needs_background": "light"
     },
     "output_type": "display_data"
    }
   ],
   "source": [
    "action = actual_df.query('genre == \"Action\"and user_score != \"nan\"')\n",
    "sports = actual_df.query('genre == \"Sports\"and user_score != \"nan\"')\n",
    "sns.distplot(action['user_score'], kde=False)\n",
    "sns.distplot(sports['user_score'], kde=False)\n",
    "plt.legend(['action', 'sports']);"
   ]
  },
  {
   "cell_type": "code",
   "execution_count": 48,
   "metadata": {},
   "outputs": [],
   "source": [
    "action = actual_df.query('genre == \"Action\"and user_score != \"nan\"')['user_score']\n",
    "sports = actual_df.query('genre == \"Sports\"and user_score != \"nan\"')['user_score']"
   ]
  },
  {
   "cell_type": "code",
   "execution_count": 49,
   "metadata": {},
   "outputs": [
    {
     "data": {
      "text/plain": [
       "1.7693609042482705"
      ]
     },
     "metadata": {},
     "output_type": "display_data"
    },
    {
     "data": {
      "text/plain": [
       "3.180612814465409"
      ]
     },
     "metadata": {},
     "output_type": "display_data"
    }
   ],
   "source": [
    "variance_1 = np.var(action, ddof=1)\n",
    "variance_2 = np.var(sports, ddof=1)\n",
    "display(variance_1)\n",
    "display(variance_2)"
   ]
  },
  {
   "cell_type": "markdown",
   "metadata": {},
   "source": [
    "Показатели не имеют однородной дисперсии и необходимо установить equal_var = False"
   ]
  },
  {
   "cell_type": "code",
   "execution_count": 50,
   "metadata": {},
   "outputs": [
    {
     "name": "stdout",
     "output_type": "stream",
     "text": [
      "p-value: nan\n",
      "Не получилось отвергнуть нулевую гипотезу\n"
     ]
    }
   ],
   "source": [
    "t_test(action,sports)"
   ]
  },
  {
   "cell_type": "markdown",
   "metadata": {},
   "source": [
    "Средние пользовательские рейтинги жанров Action и Sports разные."
   ]
  },
  {
   "cell_type": "markdown",
   "metadata": {},
   "source": [
    "## Шаг 6. Напишите общий вывод"
   ]
  },
  {
   "cell_type": "markdown",
   "metadata": {},
   "source": [
    "**Задача по проекту:**\n",
    "Вам нужно выявить определяющие успешность игры закономерности. Это позволит сделать ставку на потенциально популярный продукт и спланировать рекламные кампании."
   ]
  },
  {
   "cell_type": "markdown",
   "metadata": {},
   "source": [
    "По итогу анализа можно сказать, что для планирования кампании и стратегии необходимо понимать на какой рынок будет ориентирован продукт, так как есть различия между Японским и рынком Европы и Америки. Также необходимо учитывать жизненный цикл и брать в расчет данные за определенный период.\n",
    "\n",
    "\n",
    "Основные итоги:\n",
    "- игра должна быть разработана для платформ PS4 (1-ое место по продажам и в два раза больше чем XOne (3-е место)), PS3 или XOne, если речь идет о западном рынке, и — для платформы 3DS (50% рынка), если игру планируется продавать в Японии;\n",
    "- наиболее успешным жанром может быть Action (36-34%) или Shooter (29-27%) для Запада, Role-Playing (44%) — для Японии;\n",
    "- делать выбор по оценке пользователей нет необходимости, так как это не влияет на продажи;\n",
    "- можно делать выбор по оценке критиков, которая имеет долю влияния на продажи;\n",
    "- по показателям рейтинга ESRB лучше выбирать из категории M (38-37%) для рынков Европы и Америки;"
   ]
  }
 ],
 "metadata": {
  "ExecuteTimeLog": [
   {
    "duration": 365,
    "start_time": "2022-02-23T08:01:49.900Z"
   },
   {
    "duration": 1513,
    "start_time": "2022-02-23T08:02:23.904Z"
   },
   {
    "duration": 55,
    "start_time": "2022-02-23T08:02:25.421Z"
   },
   {
    "duration": 5,
    "start_time": "2022-02-23T08:02:25.480Z"
   },
   {
    "duration": 115,
    "start_time": "2022-02-23T08:02:25.493Z"
   },
   {
    "duration": 4,
    "start_time": "2022-02-23T08:03:54.831Z"
   },
   {
    "duration": 5,
    "start_time": "2022-02-23T08:03:58.999Z"
   },
   {
    "duration": 58,
    "start_time": "2022-02-23T08:04:00.320Z"
   },
   {
    "duration": 5,
    "start_time": "2022-02-23T08:04:27.293Z"
   },
   {
    "duration": 98,
    "start_time": "2022-02-23T08:04:27.309Z"
   },
   {
    "duration": 1454,
    "start_time": "2022-02-23T08:08:59.232Z"
   },
   {
    "duration": 53,
    "start_time": "2022-02-23T08:09:00.689Z"
   },
   {
    "duration": 4,
    "start_time": "2022-02-23T08:09:00.745Z"
   },
   {
    "duration": 89,
    "start_time": "2022-02-23T08:09:00.751Z"
   },
   {
    "duration": 5,
    "start_time": "2022-02-23T08:17:11.312Z"
   },
   {
    "duration": 27,
    "start_time": "2022-02-23T08:17:15.934Z"
   },
   {
    "duration": 5,
    "start_time": "2022-02-23T08:29:05.697Z"
   },
   {
    "duration": 27,
    "start_time": "2022-02-23T08:29:10.315Z"
   },
   {
    "duration": 1500,
    "start_time": "2022-02-23T08:29:21.005Z"
   },
   {
    "duration": 44,
    "start_time": "2022-02-23T08:29:22.508Z"
   },
   {
    "duration": 4,
    "start_time": "2022-02-23T08:29:22.555Z"
   },
   {
    "duration": 103,
    "start_time": "2022-02-23T08:29:22.562Z"
   },
   {
    "duration": 4,
    "start_time": "2022-02-23T08:29:22.667Z"
   },
   {
    "duration": 53,
    "start_time": "2022-02-23T08:29:22.673Z"
   },
   {
    "duration": 6,
    "start_time": "2022-02-23T08:29:22.728Z"
   },
   {
    "duration": 59,
    "start_time": "2022-02-23T08:29:22.737Z"
   },
   {
    "duration": 32,
    "start_time": "2022-02-23T08:30:30.280Z"
   },
   {
    "duration": 551,
    "start_time": "2022-02-23T08:35:36.345Z"
   },
   {
    "duration": 280,
    "start_time": "2022-02-23T08:38:02.267Z"
   },
   {
    "duration": 1556,
    "start_time": "2022-02-23T08:38:27.670Z"
   },
   {
    "duration": 53,
    "start_time": "2022-02-23T08:38:29.230Z"
   },
   {
    "duration": 4,
    "start_time": "2022-02-23T08:38:29.287Z"
   },
   {
    "duration": 108,
    "start_time": "2022-02-23T08:38:29.293Z"
   },
   {
    "duration": 5,
    "start_time": "2022-02-23T08:38:29.405Z"
   },
   {
    "duration": 27,
    "start_time": "2022-02-23T08:38:29.412Z"
   },
   {
    "duration": 529,
    "start_time": "2022-02-23T08:38:29.441Z"
   },
   {
    "duration": 6,
    "start_time": "2022-02-23T08:39:39.696Z"
   },
   {
    "duration": 285,
    "start_time": "2022-02-23T08:39:56.880Z"
   },
   {
    "duration": 5,
    "start_time": "2022-02-23T08:40:08.345Z"
   },
   {
    "duration": 26,
    "start_time": "2022-02-23T08:40:15.251Z"
   },
   {
    "duration": 1521,
    "start_time": "2022-02-23T08:40:39.678Z"
   },
   {
    "duration": 45,
    "start_time": "2022-02-23T08:40:41.206Z"
   },
   {
    "duration": 4,
    "start_time": "2022-02-23T08:40:41.255Z"
   },
   {
    "duration": 105,
    "start_time": "2022-02-23T08:40:41.262Z"
   },
   {
    "duration": 24,
    "start_time": "2022-02-23T08:40:41.370Z"
   },
   {
    "duration": 29,
    "start_time": "2022-02-23T08:40:41.396Z"
   },
   {
    "duration": 12,
    "start_time": "2022-02-23T08:40:41.429Z"
   },
   {
    "duration": 51,
    "start_time": "2022-02-23T08:40:41.443Z"
   },
   {
    "duration": 418,
    "start_time": "2022-02-23T08:40:41.496Z"
   },
   {
    "duration": -215,
    "start_time": "2022-02-23T08:40:42.132Z"
   },
   {
    "duration": 10,
    "start_time": "2022-02-23T08:41:31.841Z"
   },
   {
    "duration": 14,
    "start_time": "2022-02-23T08:43:58.890Z"
   },
   {
    "duration": 16,
    "start_time": "2022-02-23T08:44:07.703Z"
   },
   {
    "duration": 9,
    "start_time": "2022-02-23T08:44:08.544Z"
   },
   {
    "duration": 1497,
    "start_time": "2022-02-23T08:44:17.500Z"
   },
   {
    "duration": 45,
    "start_time": "2022-02-23T08:44:19.000Z"
   },
   {
    "duration": 5,
    "start_time": "2022-02-23T08:44:19.048Z"
   },
   {
    "duration": 110,
    "start_time": "2022-02-23T08:44:19.055Z"
   },
   {
    "duration": 5,
    "start_time": "2022-02-23T08:44:19.168Z"
   },
   {
    "duration": 32,
    "start_time": "2022-02-23T08:44:19.194Z"
   },
   {
    "duration": 6,
    "start_time": "2022-02-23T08:44:19.229Z"
   },
   {
    "duration": 17,
    "start_time": "2022-02-23T08:44:19.239Z"
   },
   {
    "duration": 9,
    "start_time": "2022-02-23T08:44:19.293Z"
   },
   {
    "duration": 446,
    "start_time": "2022-02-23T08:45:40.312Z"
   },
   {
    "duration": 315,
    "start_time": "2022-02-23T08:50:54.013Z"
   },
   {
    "duration": 1479,
    "start_time": "2022-02-23T08:51:06.727Z"
   },
   {
    "duration": 41,
    "start_time": "2022-02-23T08:51:08.209Z"
   },
   {
    "duration": 4,
    "start_time": "2022-02-23T08:51:08.253Z"
   },
   {
    "duration": 104,
    "start_time": "2022-02-23T08:51:08.259Z"
   },
   {
    "duration": 4,
    "start_time": "2022-02-23T08:51:08.365Z"
   },
   {
    "duration": 53,
    "start_time": "2022-02-23T08:51:08.371Z"
   },
   {
    "duration": 4,
    "start_time": "2022-02-23T08:51:08.426Z"
   },
   {
    "duration": 434,
    "start_time": "2022-02-23T08:51:08.433Z"
   },
   {
    "duration": -196,
    "start_time": "2022-02-23T08:51:09.065Z"
   },
   {
    "duration": 333,
    "start_time": "2022-02-23T08:53:39.515Z"
   },
   {
    "duration": 10,
    "start_time": "2022-02-23T08:55:41.124Z"
   },
   {
    "duration": 8,
    "start_time": "2022-02-23T08:55:50.207Z"
   },
   {
    "duration": 264,
    "start_time": "2022-02-23T08:55:57.988Z"
   },
   {
    "duration": 28,
    "start_time": "2022-02-23T08:56:04.964Z"
   },
   {
    "duration": 309,
    "start_time": "2022-02-23T09:05:27.612Z"
   },
   {
    "duration": 1533,
    "start_time": "2022-02-23T09:05:44.268Z"
   },
   {
    "duration": 44,
    "start_time": "2022-02-23T09:05:45.804Z"
   },
   {
    "duration": 5,
    "start_time": "2022-02-23T09:05:45.851Z"
   },
   {
    "duration": 106,
    "start_time": "2022-02-23T09:05:45.859Z"
   },
   {
    "duration": 5,
    "start_time": "2022-02-23T09:05:45.967Z"
   },
   {
    "duration": 14,
    "start_time": "2022-02-23T09:05:45.995Z"
   },
   {
    "duration": 7,
    "start_time": "2022-02-23T09:05:46.012Z"
   },
   {
    "duration": 436,
    "start_time": "2022-02-23T09:05:46.022Z"
   },
   {
    "duration": -248,
    "start_time": "2022-02-23T09:05:46.709Z"
   },
   {
    "duration": 8,
    "start_time": "2022-02-23T09:06:01.724Z"
   },
   {
    "duration": 30,
    "start_time": "2022-02-23T09:06:12.879Z"
   },
   {
    "duration": 28,
    "start_time": "2022-02-23T09:12:36.468Z"
   },
   {
    "duration": 1476,
    "start_time": "2022-02-23T09:13:53.741Z"
   },
   {
    "duration": 49,
    "start_time": "2022-02-23T09:13:55.220Z"
   },
   {
    "duration": 4,
    "start_time": "2022-02-23T09:13:55.272Z"
   },
   {
    "duration": 96,
    "start_time": "2022-02-23T09:13:55.279Z"
   },
   {
    "duration": 5,
    "start_time": "2022-02-23T09:13:55.395Z"
   },
   {
    "duration": 36,
    "start_time": "2022-02-23T09:13:55.403Z"
   },
   {
    "duration": 6,
    "start_time": "2022-02-23T09:13:55.442Z"
   },
   {
    "duration": 15,
    "start_time": "2022-02-23T09:32:37.961Z"
   },
   {
    "duration": 9,
    "start_time": "2022-02-23T09:32:38.848Z"
   },
   {
    "duration": 11,
    "start_time": "2022-02-23T09:32:48.000Z"
   },
   {
    "duration": 10,
    "start_time": "2022-02-23T09:38:43.291Z"
   },
   {
    "duration": 7,
    "start_time": "2022-02-23T09:39:07.858Z"
   },
   {
    "duration": 8,
    "start_time": "2022-02-23T09:39:24.883Z"
   },
   {
    "duration": -202,
    "start_time": "2022-02-23T09:39:51.031Z"
   },
   {
    "duration": -197,
    "start_time": "2022-02-23T09:40:04.341Z"
   },
   {
    "duration": 15,
    "start_time": "2022-02-23T09:41:51.108Z"
   },
   {
    "duration": 1969,
    "start_time": "2022-02-23T09:42:11.785Z"
   },
   {
    "duration": 2029,
    "start_time": "2022-02-23T09:42:30.539Z"
   },
   {
    "duration": 29,
    "start_time": "2022-02-23T09:48:41.316Z"
   },
   {
    "duration": 32,
    "start_time": "2022-02-23T09:53:42.620Z"
   },
   {
    "duration": 350,
    "start_time": "2022-02-23T14:01:34.460Z"
   },
   {
    "duration": 1578,
    "start_time": "2022-02-23T14:03:10.674Z"
   },
   {
    "duration": 49,
    "start_time": "2022-02-23T14:03:12.255Z"
   },
   {
    "duration": 4,
    "start_time": "2022-02-23T14:03:12.307Z"
   },
   {
    "duration": 100,
    "start_time": "2022-02-23T14:03:12.314Z"
   },
   {
    "duration": 4,
    "start_time": "2022-02-23T14:03:12.417Z"
   },
   {
    "duration": 28,
    "start_time": "2022-02-23T14:03:12.423Z"
   },
   {
    "duration": 47,
    "start_time": "2022-02-23T14:03:12.453Z"
   },
   {
    "duration": 11,
    "start_time": "2022-02-23T14:03:12.504Z"
   },
   {
    "duration": 6,
    "start_time": "2022-02-23T14:03:12.518Z"
   },
   {
    "duration": 10,
    "start_time": "2022-02-23T14:03:12.526Z"
   },
   {
    "duration": 1533,
    "start_time": "2022-02-23T14:17:12.877Z"
   },
   {
    "duration": 49,
    "start_time": "2022-02-23T14:17:14.412Z"
   },
   {
    "duration": 4,
    "start_time": "2022-02-23T14:17:14.464Z"
   },
   {
    "duration": 123,
    "start_time": "2022-02-23T14:17:14.472Z"
   },
   {
    "duration": 3,
    "start_time": "2022-02-23T14:17:14.598Z"
   },
   {
    "duration": 28,
    "start_time": "2022-02-23T14:17:14.603Z"
   },
   {
    "duration": 14,
    "start_time": "2022-02-23T14:17:14.634Z"
   },
   {
    "duration": 44,
    "start_time": "2022-02-23T14:17:14.652Z"
   },
   {
    "duration": 6,
    "start_time": "2022-02-23T14:17:14.699Z"
   },
   {
    "duration": 11,
    "start_time": "2022-02-23T14:17:14.708Z"
   },
   {
    "duration": 16,
    "start_time": "2022-02-23T14:17:34.041Z"
   },
   {
    "duration": 8,
    "start_time": "2022-02-23T14:17:41.536Z"
   },
   {
    "duration": 14,
    "start_time": "2022-02-23T14:17:42.111Z"
   },
   {
    "duration": 15,
    "start_time": "2022-02-23T14:18:06.769Z"
   },
   {
    "duration": 1513,
    "start_time": "2022-02-23T14:18:22.280Z"
   },
   {
    "duration": 46,
    "start_time": "2022-02-23T14:18:23.796Z"
   },
   {
    "duration": 4,
    "start_time": "2022-02-23T14:18:23.844Z"
   },
   {
    "duration": 103,
    "start_time": "2022-02-23T14:18:23.851Z"
   },
   {
    "duration": 3,
    "start_time": "2022-02-23T14:18:23.957Z"
   },
   {
    "duration": 54,
    "start_time": "2022-02-23T14:18:23.963Z"
   },
   {
    "duration": 15,
    "start_time": "2022-02-23T14:18:24.019Z"
   },
   {
    "duration": 6,
    "start_time": "2022-02-23T14:18:24.037Z"
   },
   {
    "duration": 15,
    "start_time": "2022-02-23T14:18:24.047Z"
   },
   {
    "duration": 14,
    "start_time": "2022-02-23T14:18:24.094Z"
   },
   {
    "duration": 6,
    "start_time": "2022-02-23T14:18:24.111Z"
   },
   {
    "duration": 7,
    "start_time": "2022-02-23T14:23:13.205Z"
   },
   {
    "duration": 1506,
    "start_time": "2022-02-23T14:23:43.689Z"
   },
   {
    "duration": 48,
    "start_time": "2022-02-23T14:23:45.197Z"
   },
   {
    "duration": 4,
    "start_time": "2022-02-23T14:23:45.248Z"
   },
   {
    "duration": 105,
    "start_time": "2022-02-23T14:23:45.255Z"
   },
   {
    "duration": 3,
    "start_time": "2022-02-23T14:23:45.362Z"
   },
   {
    "duration": 48,
    "start_time": "2022-02-23T14:23:45.368Z"
   },
   {
    "duration": 15,
    "start_time": "2022-02-23T14:23:45.419Z"
   },
   {
    "duration": 7,
    "start_time": "2022-02-23T14:23:45.437Z"
   },
   {
    "duration": 18,
    "start_time": "2022-02-23T14:23:45.446Z"
   },
   {
    "duration": 14,
    "start_time": "2022-02-23T14:23:45.496Z"
   },
   {
    "duration": 21,
    "start_time": "2022-02-23T14:23:45.512Z"
   },
   {
    "duration": 488,
    "start_time": "2022-02-23T14:25:13.882Z"
   },
   {
    "duration": 6,
    "start_time": "2022-02-23T14:28:16.421Z"
   },
   {
    "duration": 6,
    "start_time": "2022-02-23T14:36:13.993Z"
   },
   {
    "duration": 1485,
    "start_time": "2022-02-23T14:40:53.814Z"
   },
   {
    "duration": 45,
    "start_time": "2022-02-23T14:40:55.302Z"
   },
   {
    "duration": 5,
    "start_time": "2022-02-23T14:40:55.351Z"
   },
   {
    "duration": 107,
    "start_time": "2022-02-23T14:40:55.359Z"
   },
   {
    "duration": 5,
    "start_time": "2022-02-23T14:40:55.468Z"
   },
   {
    "duration": 30,
    "start_time": "2022-02-23T14:40:55.495Z"
   },
   {
    "duration": 16,
    "start_time": "2022-02-23T14:40:55.527Z"
   },
   {
    "duration": 6,
    "start_time": "2022-02-23T14:40:55.547Z"
   },
   {
    "duration": 51,
    "start_time": "2022-02-23T14:40:55.556Z"
   },
   {
    "duration": 16,
    "start_time": "2022-02-23T14:40:55.610Z"
   },
   {
    "duration": 7,
    "start_time": "2022-02-23T14:40:55.629Z"
   },
   {
    "duration": 464,
    "start_time": "2022-02-23T14:40:55.639Z"
   },
   {
    "duration": -295,
    "start_time": "2022-02-23T14:40:56.402Z"
   },
   {
    "duration": 9,
    "start_time": "2022-02-23T14:43:59.793Z"
   },
   {
    "duration": 6,
    "start_time": "2022-02-23T14:44:02.616Z"
   },
   {
    "duration": 15,
    "start_time": "2022-02-23T14:44:08.568Z"
   },
   {
    "duration": 284,
    "start_time": "2022-02-23T14:44:58.938Z"
   },
   {
    "duration": 1451,
    "start_time": "2022-02-23T14:45:13.306Z"
   },
   {
    "duration": 48,
    "start_time": "2022-02-23T14:45:14.760Z"
   },
   {
    "duration": 4,
    "start_time": "2022-02-23T14:45:14.812Z"
   },
   {
    "duration": 101,
    "start_time": "2022-02-23T14:45:14.820Z"
   },
   {
    "duration": 5,
    "start_time": "2022-02-23T14:45:14.924Z"
   },
   {
    "duration": 27,
    "start_time": "2022-02-23T14:45:14.932Z"
   },
   {
    "duration": 22,
    "start_time": "2022-02-23T14:45:14.994Z"
   },
   {
    "duration": 10,
    "start_time": "2022-02-23T14:45:15.021Z"
   },
   {
    "duration": 26,
    "start_time": "2022-02-23T14:45:15.034Z"
   },
   {
    "duration": 49,
    "start_time": "2022-02-23T14:45:15.063Z"
   },
   {
    "duration": 8,
    "start_time": "2022-02-23T14:45:15.115Z"
   },
   {
    "duration": 452,
    "start_time": "2022-02-23T14:45:15.126Z"
   },
   {
    "duration": -326,
    "start_time": "2022-02-23T14:45:15.907Z"
   },
   {
    "duration": 8,
    "start_time": "2022-02-23T14:46:43.292Z"
   },
   {
    "duration": 14,
    "start_time": "2022-02-23T14:46:46.059Z"
   },
   {
    "duration": 10,
    "start_time": "2022-02-23T14:47:08.222Z"
   },
   {
    "duration": 393,
    "start_time": "2022-02-23T14:47:30.245Z"
   },
   {
    "duration": 9,
    "start_time": "2022-02-23T14:48:35.230Z"
   },
   {
    "duration": 27,
    "start_time": "2022-02-23T14:52:19.011Z"
   },
   {
    "duration": 14,
    "start_time": "2022-02-23T14:53:50.704Z"
   },
   {
    "duration": 438,
    "start_time": "2022-02-23T15:03:59.369Z"
   },
   {
    "duration": 1038,
    "start_time": "2022-02-23T15:04:12.758Z"
   },
   {
    "duration": 628,
    "start_time": "2022-02-23T15:05:03.948Z"
   },
   {
    "duration": 527,
    "start_time": "2022-02-23T15:05:19.989Z"
   },
   {
    "duration": 1017,
    "start_time": "2022-02-23T15:07:31.862Z"
   },
   {
    "duration": 1067,
    "start_time": "2022-02-23T15:07:51.470Z"
   },
   {
    "duration": 967,
    "start_time": "2022-02-23T15:08:42.429Z"
   },
   {
    "duration": 990,
    "start_time": "2022-02-23T15:21:38.140Z"
   },
   {
    "duration": 986,
    "start_time": "2022-02-23T15:21:49.735Z"
   },
   {
    "duration": 936,
    "start_time": "2022-02-23T15:22:08.822Z"
   },
   {
    "duration": 1086,
    "start_time": "2022-02-23T15:24:25.942Z"
   },
   {
    "duration": 964,
    "start_time": "2022-02-23T15:24:37.533Z"
   },
   {
    "duration": 940,
    "start_time": "2022-02-23T15:25:04.542Z"
   },
   {
    "duration": 326,
    "start_time": "2022-02-23T15:25:25.327Z"
   },
   {
    "duration": 365,
    "start_time": "2022-02-23T15:25:54.591Z"
   },
   {
    "duration": 968,
    "start_time": "2022-02-23T15:26:03.360Z"
   },
   {
    "duration": 947,
    "start_time": "2022-02-23T15:26:40.637Z"
   },
   {
    "duration": 1163,
    "start_time": "2022-02-23T15:27:12.415Z"
   },
   {
    "duration": 23,
    "start_time": "2022-02-23T15:34:51.110Z"
   },
   {
    "duration": 315,
    "start_time": "2022-02-23T15:37:56.217Z"
   },
   {
    "duration": 634,
    "start_time": "2022-02-23T15:38:20.088Z"
   },
   {
    "duration": 768,
    "start_time": "2022-02-23T15:38:51.147Z"
   },
   {
    "duration": 30,
    "start_time": "2022-02-23T15:39:07.486Z"
   },
   {
    "duration": 327,
    "start_time": "2022-02-23T15:39:14.605Z"
   },
   {
    "duration": 433,
    "start_time": "2022-02-23T15:40:37.809Z"
   },
   {
    "duration": 9,
    "start_time": "2022-02-23T15:43:25.943Z"
   },
   {
    "duration": 23,
    "start_time": "2022-02-23T15:43:35.757Z"
   },
   {
    "duration": 6,
    "start_time": "2022-02-23T15:43:36.520Z"
   },
   {
    "duration": 292,
    "start_time": "2022-02-23T15:44:30.276Z"
   },
   {
    "duration": 342,
    "start_time": "2022-02-23T15:44:38.649Z"
   },
   {
    "duration": 1602,
    "start_time": "2022-02-23T15:44:55.016Z"
   },
   {
    "duration": 126,
    "start_time": "2022-02-23T15:44:56.621Z"
   },
   {
    "duration": 5,
    "start_time": "2022-02-23T15:44:56.755Z"
   },
   {
    "duration": 88,
    "start_time": "2022-02-23T15:44:56.763Z"
   },
   {
    "duration": 4,
    "start_time": "2022-02-23T15:44:56.854Z"
   },
   {
    "duration": 55,
    "start_time": "2022-02-23T15:44:56.861Z"
   },
   {
    "duration": 20,
    "start_time": "2022-02-23T15:44:56.921Z"
   },
   {
    "duration": 8,
    "start_time": "2022-02-23T15:44:56.945Z"
   },
   {
    "duration": 47,
    "start_time": "2022-02-23T15:44:56.955Z"
   },
   {
    "duration": 24,
    "start_time": "2022-02-23T15:44:57.005Z"
   },
   {
    "duration": 13,
    "start_time": "2022-02-23T15:44:57.032Z"
   },
   {
    "duration": 8,
    "start_time": "2022-02-23T15:44:57.048Z"
   },
   {
    "duration": 42,
    "start_time": "2022-02-23T15:44:57.059Z"
   },
   {
    "duration": 25,
    "start_time": "2022-02-23T15:44:57.103Z"
   },
   {
    "duration": 15,
    "start_time": "2022-02-23T15:44:57.131Z"
   },
   {
    "duration": 1097,
    "start_time": "2022-02-23T15:44:57.149Z"
   },
   {
    "duration": 44,
    "start_time": "2022-02-23T15:44:58.249Z"
   },
   {
    "duration": 6,
    "start_time": "2022-02-23T15:44:58.296Z"
   },
   {
    "duration": 556,
    "start_time": "2022-02-23T15:44:58.305Z"
   },
   {
    "duration": -263,
    "start_time": "2022-02-23T15:45:50.333Z"
   },
   {
    "duration": 6,
    "start_time": "2022-02-23T15:46:01.113Z"
   },
   {
    "duration": 310,
    "start_time": "2022-02-23T15:49:36.762Z"
   },
   {
    "duration": 263,
    "start_time": "2022-02-23T15:55:15.692Z"
   },
   {
    "duration": 272,
    "start_time": "2022-02-23T15:56:49.809Z"
   },
   {
    "duration": 1561,
    "start_time": "2022-02-23T15:56:58.133Z"
   },
   {
    "duration": 162,
    "start_time": "2022-02-23T15:56:59.697Z"
   },
   {
    "duration": 4,
    "start_time": "2022-02-23T15:56:59.862Z"
   },
   {
    "duration": 89,
    "start_time": "2022-02-23T15:56:59.868Z"
   },
   {
    "duration": 5,
    "start_time": "2022-02-23T15:56:59.959Z"
   },
   {
    "duration": 56,
    "start_time": "2022-02-23T15:56:59.967Z"
   },
   {
    "duration": 15,
    "start_time": "2022-02-23T15:57:00.026Z"
   },
   {
    "duration": 6,
    "start_time": "2022-02-23T15:57:00.046Z"
   },
   {
    "duration": 44,
    "start_time": "2022-02-23T15:57:00.055Z"
   },
   {
    "duration": 15,
    "start_time": "2022-02-23T15:57:00.102Z"
   },
   {
    "duration": 18,
    "start_time": "2022-02-23T15:57:00.119Z"
   },
   {
    "duration": 17,
    "start_time": "2022-02-23T15:57:00.139Z"
   },
   {
    "duration": 36,
    "start_time": "2022-02-23T15:57:00.158Z"
   },
   {
    "duration": 31,
    "start_time": "2022-02-23T15:57:00.197Z"
   },
   {
    "duration": 15,
    "start_time": "2022-02-23T15:57:00.230Z"
   },
   {
    "duration": 1087,
    "start_time": "2022-02-23T15:57:00.247Z"
   },
   {
    "duration": 23,
    "start_time": "2022-02-23T15:57:01.337Z"
   },
   {
    "duration": 32,
    "start_time": "2022-02-23T15:57:01.363Z"
   },
   {
    "duration": 456,
    "start_time": "2022-02-23T15:57:01.397Z"
   },
   {
    "duration": -301,
    "start_time": "2022-02-23T15:57:02.157Z"
   },
   {
    "duration": -304,
    "start_time": "2022-02-23T15:57:02.162Z"
   },
   {
    "duration": -309,
    "start_time": "2022-02-23T15:57:02.168Z"
   },
   {
    "duration": -315,
    "start_time": "2022-02-23T15:57:02.175Z"
   },
   {
    "duration": 283,
    "start_time": "2022-02-23T15:57:40.380Z"
   },
   {
    "duration": 280,
    "start_time": "2022-02-23T15:58:09.542Z"
   },
   {
    "duration": 304,
    "start_time": "2022-02-23T15:59:01.748Z"
   },
   {
    "duration": 271,
    "start_time": "2022-02-23T15:59:53.213Z"
   },
   {
    "duration": 286,
    "start_time": "2022-02-23T16:02:08.190Z"
   },
   {
    "duration": 669,
    "start_time": "2022-02-23T16:02:25.500Z"
   },
   {
    "duration": 34,
    "start_time": "2022-02-23T16:03:11.168Z"
   },
   {
    "duration": 377,
    "start_time": "2022-02-23T16:03:19.179Z"
   },
   {
    "duration": 649,
    "start_time": "2022-02-23T16:04:28.860Z"
   },
   {
    "duration": 345,
    "start_time": "2022-02-23T16:04:36.108Z"
   },
   {
    "duration": 274,
    "start_time": "2022-02-23T16:04:47.843Z"
   },
   {
    "duration": 299,
    "start_time": "2022-02-23T16:05:17.348Z"
   },
   {
    "duration": 266,
    "start_time": "2022-02-23T16:05:23.893Z"
   },
   {
    "duration": 30,
    "start_time": "2022-02-23T16:05:33.412Z"
   },
   {
    "duration": 288,
    "start_time": "2022-02-23T16:05:34.485Z"
   },
   {
    "duration": 1471,
    "start_time": "2022-02-23T16:05:46.897Z"
   },
   {
    "duration": 47,
    "start_time": "2022-02-23T16:05:48.371Z"
   },
   {
    "duration": 4,
    "start_time": "2022-02-23T16:05:48.422Z"
   },
   {
    "duration": 102,
    "start_time": "2022-02-23T16:05:48.429Z"
   },
   {
    "duration": 4,
    "start_time": "2022-02-23T16:05:48.534Z"
   },
   {
    "duration": 26,
    "start_time": "2022-02-23T16:05:48.540Z"
   },
   {
    "duration": 36,
    "start_time": "2022-02-23T16:05:48.568Z"
   },
   {
    "duration": 5,
    "start_time": "2022-02-23T16:05:48.608Z"
   },
   {
    "duration": 14,
    "start_time": "2022-02-23T16:05:48.617Z"
   },
   {
    "duration": 14,
    "start_time": "2022-02-23T16:05:48.633Z"
   },
   {
    "duration": 47,
    "start_time": "2022-02-23T16:05:48.650Z"
   },
   {
    "duration": 12,
    "start_time": "2022-02-23T16:05:48.700Z"
   },
   {
    "duration": 16,
    "start_time": "2022-02-23T16:05:48.714Z"
   },
   {
    "duration": 22,
    "start_time": "2022-02-23T16:05:48.732Z"
   },
   {
    "duration": 46,
    "start_time": "2022-02-23T16:05:48.757Z"
   },
   {
    "duration": 993,
    "start_time": "2022-02-23T16:05:48.805Z"
   },
   {
    "duration": 32,
    "start_time": "2022-02-23T16:05:49.801Z"
   },
   {
    "duration": 400,
    "start_time": "2022-02-23T16:05:49.835Z"
   },
   {
    "duration": -288,
    "start_time": "2022-02-23T16:05:50.526Z"
   },
   {
    "duration": -298,
    "start_time": "2022-02-23T16:05:50.537Z"
   },
   {
    "duration": -304,
    "start_time": "2022-02-23T16:05:50.545Z"
   },
   {
    "duration": -308,
    "start_time": "2022-02-23T16:05:50.551Z"
   },
   {
    "duration": -312,
    "start_time": "2022-02-23T16:05:50.557Z"
   },
   {
    "duration": 959,
    "start_time": "2022-02-23T16:07:46.270Z"
   },
   {
    "duration": 323,
    "start_time": "2022-02-23T16:09:23.050Z"
   },
   {
    "duration": 448,
    "start_time": "2022-02-23T16:10:37.128Z"
   },
   {
    "duration": 266,
    "start_time": "2022-02-23T16:13:21.376Z"
   },
   {
    "duration": 267,
    "start_time": "2022-02-23T16:13:49.663Z"
   },
   {
    "duration": 6,
    "start_time": "2022-02-23T16:13:54.943Z"
   },
   {
    "duration": 23,
    "start_time": "2022-02-23T16:14:10.662Z"
   },
   {
    "duration": 5,
    "start_time": "2022-02-23T16:14:11.438Z"
   },
   {
    "duration": 309,
    "start_time": "2022-02-23T16:14:52.295Z"
   },
   {
    "duration": 4751,
    "start_time": "2022-02-23T16:15:07.900Z"
   },
   {
    "duration": 5275,
    "start_time": "2022-02-23T16:15:23.263Z"
   },
   {
    "duration": 4889,
    "start_time": "2022-02-23T16:15:48.983Z"
   },
   {
    "duration": 252394,
    "start_time": "2022-02-23T16:20:54.666Z"
   },
   {
    "duration": -249,
    "start_time": "2022-02-23T16:25:07.600Z"
   },
   {
    "duration": -278,
    "start_time": "2022-02-23T16:25:07.630Z"
   },
   {
    "duration": -284,
    "start_time": "2022-02-23T16:25:07.638Z"
   },
   {
    "duration": 1583,
    "start_time": "2022-02-23T16:25:26.279Z"
   },
   {
    "duration": 50,
    "start_time": "2022-02-23T16:25:27.864Z"
   },
   {
    "duration": 5,
    "start_time": "2022-02-23T16:25:27.917Z"
   },
   {
    "duration": 98,
    "start_time": "2022-02-23T16:25:27.924Z"
   },
   {
    "duration": 4,
    "start_time": "2022-02-23T16:25:28.024Z"
   },
   {
    "duration": 30,
    "start_time": "2022-02-23T16:25:28.030Z"
   },
   {
    "duration": 41,
    "start_time": "2022-02-23T16:25:28.062Z"
   },
   {
    "duration": 6,
    "start_time": "2022-02-23T16:25:28.106Z"
   },
   {
    "duration": 12,
    "start_time": "2022-02-23T16:25:28.116Z"
   },
   {
    "duration": 13,
    "start_time": "2022-02-23T16:25:28.130Z"
   },
   {
    "duration": 6,
    "start_time": "2022-02-23T16:25:28.146Z"
   },
   {
    "duration": 45,
    "start_time": "2022-02-23T16:25:28.155Z"
   },
   {
    "duration": 13,
    "start_time": "2022-02-23T16:25:28.203Z"
   },
   {
    "duration": 26,
    "start_time": "2022-02-23T16:25:28.218Z"
   },
   {
    "duration": 51,
    "start_time": "2022-02-23T16:25:28.246Z"
   },
   {
    "duration": 1002,
    "start_time": "2022-02-23T16:25:28.299Z"
   },
   {
    "duration": 25,
    "start_time": "2022-02-23T16:25:29.304Z"
   },
   {
    "duration": 7,
    "start_time": "2022-02-23T16:25:29.332Z"
   },
   {
    "duration": 476,
    "start_time": "2022-02-23T16:25:29.342Z"
   },
   {
    "duration": -281,
    "start_time": "2022-02-23T16:25:30.102Z"
   },
   {
    "duration": 293,
    "start_time": "2022-02-23T16:26:28.638Z"
   },
   {
    "duration": 230,
    "start_time": "2022-02-23T16:30:34.174Z"
   },
   {
    "duration": 11,
    "start_time": "2022-02-23T16:31:51.461Z"
   },
   {
    "duration": 11,
    "start_time": "2022-02-23T16:38:19.455Z"
   },
   {
    "duration": 10,
    "start_time": "2022-02-23T16:38:32.719Z"
   },
   {
    "duration": 35,
    "start_time": "2022-02-23T16:38:38.694Z"
   },
   {
    "duration": 300,
    "start_time": "2022-02-23T16:39:43.376Z"
   },
   {
    "duration": 1020,
    "start_time": "2022-02-23T16:48:05.929Z"
   },
   {
    "duration": 2165,
    "start_time": "2022-02-23T16:50:22.657Z"
   },
   {
    "duration": 2094,
    "start_time": "2022-02-23T16:51:18.273Z"
   },
   {
    "duration": 2507,
    "start_time": "2022-02-23T16:53:34.778Z"
   },
   {
    "duration": 1472,
    "start_time": "2022-02-23T16:54:04.305Z"
   },
   {
    "duration": 122,
    "start_time": "2022-02-23T16:54:05.780Z"
   },
   {
    "duration": 4,
    "start_time": "2022-02-23T16:54:05.905Z"
   },
   {
    "duration": 97,
    "start_time": "2022-02-23T16:54:05.911Z"
   },
   {
    "duration": 4,
    "start_time": "2022-02-23T16:54:06.010Z"
   },
   {
    "duration": 29,
    "start_time": "2022-02-23T16:54:06.016Z"
   },
   {
    "duration": 46,
    "start_time": "2022-02-23T16:54:06.047Z"
   },
   {
    "duration": 6,
    "start_time": "2022-02-23T16:54:06.097Z"
   },
   {
    "duration": 14,
    "start_time": "2022-02-23T16:54:06.106Z"
   },
   {
    "duration": 19,
    "start_time": "2022-02-23T16:54:06.123Z"
   },
   {
    "duration": 7,
    "start_time": "2022-02-23T16:54:06.145Z"
   },
   {
    "duration": 10,
    "start_time": "2022-02-23T16:54:06.154Z"
   },
   {
    "duration": 13,
    "start_time": "2022-02-23T16:54:06.195Z"
   },
   {
    "duration": 24,
    "start_time": "2022-02-23T16:54:06.210Z"
   },
   {
    "duration": 16,
    "start_time": "2022-02-23T16:54:06.236Z"
   },
   {
    "duration": 1013,
    "start_time": "2022-02-23T16:54:06.255Z"
   },
   {
    "duration": 33,
    "start_time": "2022-02-23T16:54:07.271Z"
   },
   {
    "duration": 5,
    "start_time": "2022-02-23T16:54:07.307Z"
   },
   {
    "duration": 14,
    "start_time": "2022-02-23T16:54:07.315Z"
   },
   {
    "duration": 65,
    "start_time": "2022-02-23T16:54:07.332Z"
   },
   {
    "duration": 1014,
    "start_time": "2022-02-23T16:54:07.399Z"
   },
   {
    "duration": 2444,
    "start_time": "2022-02-23T16:54:08.416Z"
   },
   {
    "duration": 3150,
    "start_time": "2022-02-23T16:56:38.973Z"
   },
   {
    "duration": 34,
    "start_time": "2022-02-23T16:56:50.070Z"
   },
   {
    "duration": 2992,
    "start_time": "2022-02-23T16:56:51.301Z"
   },
   {
    "duration": 2394,
    "start_time": "2022-02-23T16:56:54.296Z"
   },
   {
    "duration": 1465,
    "start_time": "2022-02-23T16:57:07.355Z"
   },
   {
    "duration": 292,
    "start_time": "2022-02-23T16:57:52.883Z"
   },
   {
    "duration": 424,
    "start_time": "2022-02-23T16:58:05.579Z"
   },
   {
    "duration": 297,
    "start_time": "2022-02-23T16:59:34.891Z"
   },
   {
    "duration": 284,
    "start_time": "2022-02-23T16:59:58.343Z"
   },
   {
    "duration": 407,
    "start_time": "2022-02-23T17:00:55.156Z"
   },
   {
    "duration": 291,
    "start_time": "2022-02-23T17:01:15.714Z"
   },
   {
    "duration": 311,
    "start_time": "2022-02-23T17:04:31.727Z"
   },
   {
    "duration": 2067,
    "start_time": "2022-02-23T17:05:44.517Z"
   },
   {
    "duration": 1584,
    "start_time": "2022-02-23T17:08:38.835Z"
   },
   {
    "duration": 1986,
    "start_time": "2022-02-23T17:11:07.253Z"
   },
   {
    "duration": 2066,
    "start_time": "2022-02-23T17:14:10.206Z"
   },
   {
    "duration": 1458,
    "start_time": "2022-02-23T17:14:45.435Z"
   },
   {
    "duration": 123,
    "start_time": "2022-02-23T17:14:46.896Z"
   },
   {
    "duration": 4,
    "start_time": "2022-02-23T17:14:47.023Z"
   },
   {
    "duration": 96,
    "start_time": "2022-02-23T17:14:47.030Z"
   },
   {
    "duration": 4,
    "start_time": "2022-02-23T17:14:47.128Z"
   },
   {
    "duration": 28,
    "start_time": "2022-02-23T17:14:47.135Z"
   },
   {
    "duration": 17,
    "start_time": "2022-02-23T17:14:47.195Z"
   },
   {
    "duration": 6,
    "start_time": "2022-02-23T17:14:47.217Z"
   },
   {
    "duration": 14,
    "start_time": "2022-02-23T17:14:47.226Z"
   },
   {
    "duration": 17,
    "start_time": "2022-02-23T17:14:47.242Z"
   },
   {
    "duration": 7,
    "start_time": "2022-02-23T17:14:47.293Z"
   },
   {
    "duration": 12,
    "start_time": "2022-02-23T17:14:47.303Z"
   },
   {
    "duration": 16,
    "start_time": "2022-02-23T17:14:47.318Z"
   },
   {
    "duration": 22,
    "start_time": "2022-02-23T17:14:47.337Z"
   },
   {
    "duration": 42,
    "start_time": "2022-02-23T17:14:47.362Z"
   },
   {
    "duration": 996,
    "start_time": "2022-02-23T17:14:47.407Z"
   },
   {
    "duration": 24,
    "start_time": "2022-02-23T17:14:48.406Z"
   },
   {
    "duration": 5,
    "start_time": "2022-02-23T17:14:48.433Z"
   },
   {
    "duration": 12,
    "start_time": "2022-02-23T17:14:48.440Z"
   },
   {
    "duration": 67,
    "start_time": "2022-02-23T17:14:48.455Z"
   },
   {
    "duration": 2099,
    "start_time": "2022-02-23T17:14:48.525Z"
   },
   {
    "duration": 357,
    "start_time": "2022-02-23T17:16:46.904Z"
   },
   {
    "duration": 419,
    "start_time": "2022-02-23T17:19:11.929Z"
   },
   {
    "duration": 291,
    "start_time": "2022-02-23T17:19:37.330Z"
   },
   {
    "duration": 823,
    "start_time": "2022-02-23T17:19:48.410Z"
   },
   {
    "duration": 420,
    "start_time": "2022-02-23T17:19:59.081Z"
   },
   {
    "duration": 445,
    "start_time": "2022-02-23T17:20:23.582Z"
   },
   {
    "duration": 999,
    "start_time": "2022-02-23T17:20:36.105Z"
   },
   {
    "duration": 1003,
    "start_time": "2022-02-23T17:20:40.881Z"
   },
   {
    "duration": 1041,
    "start_time": "2022-02-23T17:21:12.057Z"
   },
   {
    "duration": 1014,
    "start_time": "2022-02-23T17:21:22.002Z"
   },
   {
    "duration": 991,
    "start_time": "2022-02-23T17:22:53.227Z"
   },
   {
    "duration": 799,
    "start_time": "2022-02-23T17:23:49.777Z"
   },
   {
    "duration": 285,
    "start_time": "2022-02-23T17:25:01.538Z"
   },
   {
    "duration": 269,
    "start_time": "2022-02-23T17:25:20.217Z"
   },
   {
    "duration": 801,
    "start_time": "2022-02-23T17:25:32.353Z"
   },
   {
    "duration": 79997,
    "start_time": "2022-02-23T17:27:59.449Z"
   },
   {
    "duration": 800,
    "start_time": "2022-02-23T17:36:19.254Z"
   },
   {
    "duration": 6,
    "start_time": "2022-02-23T17:37:14.307Z"
   },
   {
    "duration": 7,
    "start_time": "2022-02-23T17:37:26.866Z"
   },
   {
    "duration": 6,
    "start_time": "2022-02-23T17:37:30.309Z"
   },
   {
    "duration": 13,
    "start_time": "2022-02-23T17:37:48.906Z"
   },
   {
    "duration": 1514,
    "start_time": "2022-02-23T17:37:57.263Z"
   },
   {
    "duration": 43,
    "start_time": "2022-02-23T17:37:58.780Z"
   },
   {
    "duration": 4,
    "start_time": "2022-02-23T17:37:58.826Z"
   },
   {
    "duration": 103,
    "start_time": "2022-02-23T17:37:58.834Z"
   },
   {
    "duration": 4,
    "start_time": "2022-02-23T17:37:58.939Z"
   },
   {
    "duration": 49,
    "start_time": "2022-02-23T17:37:58.946Z"
   },
   {
    "duration": 16,
    "start_time": "2022-02-23T17:37:58.998Z"
   },
   {
    "duration": 6,
    "start_time": "2022-02-23T17:37:59.018Z"
   },
   {
    "duration": 13,
    "start_time": "2022-02-23T17:37:59.027Z"
   },
   {
    "duration": 16,
    "start_time": "2022-02-23T17:37:59.043Z"
   },
   {
    "duration": 7,
    "start_time": "2022-02-23T17:37:59.095Z"
   },
   {
    "duration": 14,
    "start_time": "2022-02-23T17:37:59.105Z"
   },
   {
    "duration": 20,
    "start_time": "2022-02-23T17:37:59.121Z"
   },
   {
    "duration": 50,
    "start_time": "2022-02-23T17:37:59.143Z"
   },
   {
    "duration": 14,
    "start_time": "2022-02-23T17:37:59.196Z"
   },
   {
    "duration": 944,
    "start_time": "2022-02-23T17:37:59.213Z"
   },
   {
    "duration": 36,
    "start_time": "2022-02-23T17:38:00.160Z"
   },
   {
    "duration": 5,
    "start_time": "2022-02-23T17:38:00.199Z"
   },
   {
    "duration": 18,
    "start_time": "2022-02-23T17:38:00.206Z"
   },
   {
    "duration": 35,
    "start_time": "2022-02-23T17:38:00.227Z"
   },
   {
    "duration": 38,
    "start_time": "2022-02-23T17:38:00.264Z"
   },
   {
    "duration": 842,
    "start_time": "2022-02-23T17:38:00.305Z"
   },
   {
    "duration": 19,
    "start_time": "2022-02-23T17:38:41.701Z"
   },
   {
    "duration": 22,
    "start_time": "2022-02-23T17:39:36.454Z"
   },
   {
    "duration": 933,
    "start_time": "2022-02-23T17:42:04.904Z"
   },
   {
    "duration": 879,
    "start_time": "2022-02-23T17:42:39.847Z"
   },
   {
    "duration": 929,
    "start_time": "2022-02-23T17:43:11.295Z"
   },
   {
    "duration": 848,
    "start_time": "2022-02-23T17:43:43.462Z"
   },
   {
    "duration": 792,
    "start_time": "2022-02-23T17:44:47.213Z"
   },
   {
    "duration": 24,
    "start_time": "2022-02-23T17:46:59.508Z"
   },
   {
    "duration": 7,
    "start_time": "2022-02-23T17:47:12.925Z"
   },
   {
    "duration": 11,
    "start_time": "2022-02-23T17:47:25.405Z"
   },
   {
    "duration": 34,
    "start_time": "2022-02-23T17:47:26.063Z"
   },
   {
    "duration": 764,
    "start_time": "2022-02-23T17:47:27.975Z"
   },
   {
    "duration": 737,
    "start_time": "2022-02-23T17:48:13.742Z"
   },
   {
    "duration": 696,
    "start_time": "2022-02-23T17:48:25.030Z"
   },
   {
    "duration": 450,
    "start_time": "2022-02-23T17:51:15.238Z"
   },
   {
    "duration": 277,
    "start_time": "2022-02-23T17:51:40.387Z"
   },
   {
    "duration": 267,
    "start_time": "2022-02-23T17:51:47.751Z"
   },
   {
    "duration": 51,
    "start_time": "2022-02-23T17:53:11.096Z"
   },
   {
    "duration": 287,
    "start_time": "2022-02-23T17:53:51.254Z"
   },
   {
    "duration": 19,
    "start_time": "2022-02-23T17:54:33.263Z"
   },
   {
    "duration": 58,
    "start_time": "2022-02-23T17:57:49.239Z"
   },
   {
    "duration": 357,
    "start_time": "2022-02-23T18:01:08.371Z"
   },
   {
    "duration": 14,
    "start_time": "2022-02-23T18:01:13.538Z"
   },
   {
    "duration": 335,
    "start_time": "2022-02-23T18:01:23.648Z"
   },
   {
    "duration": 7,
    "start_time": "2022-02-23T18:01:29.030Z"
   },
   {
    "duration": 9,
    "start_time": "2022-02-23T18:15:05.123Z"
   },
   {
    "duration": 21,
    "start_time": "2022-02-23T18:15:56.082Z"
   },
   {
    "duration": 790,
    "start_time": "2022-02-23T18:18:00.082Z"
   },
   {
    "duration": 593,
    "start_time": "2022-02-23T18:18:39.356Z"
   },
   {
    "duration": 1527,
    "start_time": "2022-02-23T18:24:38.467Z"
   },
   {
    "duration": 62,
    "start_time": "2022-02-23T18:24:39.997Z"
   },
   {
    "duration": 5,
    "start_time": "2022-02-23T18:24:40.062Z"
   },
   {
    "duration": 90,
    "start_time": "2022-02-23T18:24:40.070Z"
   },
   {
    "duration": 4,
    "start_time": "2022-02-23T18:24:40.162Z"
   },
   {
    "duration": 27,
    "start_time": "2022-02-23T18:24:40.193Z"
   },
   {
    "duration": 15,
    "start_time": "2022-02-23T18:24:40.224Z"
   },
   {
    "duration": 6,
    "start_time": "2022-02-23T18:24:40.243Z"
   },
   {
    "duration": 46,
    "start_time": "2022-02-23T18:24:40.251Z"
   },
   {
    "duration": 14,
    "start_time": "2022-02-23T18:24:40.299Z"
   },
   {
    "duration": 9,
    "start_time": "2022-02-23T18:24:40.315Z"
   },
   {
    "duration": 17,
    "start_time": "2022-02-23T18:24:40.326Z"
   },
   {
    "duration": 33,
    "start_time": "2022-02-23T18:24:40.345Z"
   },
   {
    "duration": 24,
    "start_time": "2022-02-23T18:24:40.394Z"
   },
   {
    "duration": 14,
    "start_time": "2022-02-23T18:24:40.420Z"
   },
   {
    "duration": 1142,
    "start_time": "2022-02-23T18:24:40.436Z"
   },
   {
    "duration": 28,
    "start_time": "2022-02-23T18:24:41.580Z"
   },
   {
    "duration": 5,
    "start_time": "2022-02-23T18:24:41.611Z"
   },
   {
    "duration": 10,
    "start_time": "2022-02-23T18:24:41.618Z"
   },
   {
    "duration": 65,
    "start_time": "2022-02-23T18:24:41.631Z"
   },
   {
    "duration": 751,
    "start_time": "2022-02-23T18:24:41.698Z"
   },
   {
    "duration": 9,
    "start_time": "2022-02-23T18:24:42.453Z"
   },
   {
    "duration": 42,
    "start_time": "2022-02-23T18:24:42.465Z"
   },
   {
    "duration": 609,
    "start_time": "2022-02-23T18:24:42.510Z"
   },
   {
    "duration": 1260,
    "start_time": "2022-02-26T06:45:11.204Z"
   },
   {
    "duration": 38,
    "start_time": "2022-02-26T06:45:12.466Z"
   },
   {
    "duration": 3,
    "start_time": "2022-02-26T06:45:12.506Z"
   },
   {
    "duration": 76,
    "start_time": "2022-02-26T06:45:12.512Z"
   },
   {
    "duration": 4,
    "start_time": "2022-02-26T06:45:12.589Z"
   },
   {
    "duration": 26,
    "start_time": "2022-02-26T06:45:12.595Z"
   },
   {
    "duration": 13,
    "start_time": "2022-02-26T06:45:12.623Z"
   },
   {
    "duration": 32,
    "start_time": "2022-02-26T06:45:12.639Z"
   },
   {
    "duration": 11,
    "start_time": "2022-02-26T06:45:12.674Z"
   },
   {
    "duration": 12,
    "start_time": "2022-02-26T06:45:12.688Z"
   },
   {
    "duration": 7,
    "start_time": "2022-02-26T06:45:12.703Z"
   },
   {
    "duration": 8,
    "start_time": "2022-02-26T06:45:12.712Z"
   },
   {
    "duration": 55,
    "start_time": "2022-02-26T06:45:12.722Z"
   },
   {
    "duration": 19,
    "start_time": "2022-02-26T06:45:12.779Z"
   },
   {
    "duration": 12,
    "start_time": "2022-02-26T06:45:12.799Z"
   },
   {
    "duration": 645,
    "start_time": "2022-02-26T06:45:12.813Z"
   },
   {
    "duration": 23,
    "start_time": "2022-02-26T06:45:13.460Z"
   },
   {
    "duration": 5,
    "start_time": "2022-02-26T06:45:13.486Z"
   },
   {
    "duration": 10,
    "start_time": "2022-02-26T06:45:13.493Z"
   },
   {
    "duration": 21,
    "start_time": "2022-02-26T06:45:13.504Z"
   },
   {
    "duration": 505,
    "start_time": "2022-02-26T06:45:13.527Z"
   },
   {
    "duration": 8,
    "start_time": "2022-02-26T06:45:14.034Z"
   },
   {
    "duration": 35,
    "start_time": "2022-02-26T06:45:14.047Z"
   },
   {
    "duration": 389,
    "start_time": "2022-02-26T06:45:14.084Z"
   },
   {
    "duration": 609,
    "start_time": "2022-02-26T06:45:14.476Z"
   },
   {
    "duration": 337,
    "start_time": "2022-02-26T06:45:36.497Z"
   },
   {
    "duration": 682,
    "start_time": "2022-02-26T06:45:58.691Z"
   },
   {
    "duration": 708,
    "start_time": "2022-02-26T06:49:26.976Z"
   },
   {
    "duration": 796,
    "start_time": "2022-02-26T06:49:37.123Z"
   },
   {
    "duration": 733,
    "start_time": "2022-02-26T06:50:08.676Z"
   },
   {
    "duration": 729,
    "start_time": "2022-02-26T06:55:02.646Z"
   },
   {
    "duration": 366,
    "start_time": "2022-02-26T06:58:07.621Z"
   },
   {
    "duration": 471,
    "start_time": "2022-02-26T06:58:26.620Z"
   },
   {
    "duration": 333,
    "start_time": "2022-02-26T06:58:35.685Z"
   },
   {
    "duration": 332,
    "start_time": "2022-02-26T06:59:25.212Z"
   },
   {
    "duration": 1155,
    "start_time": "2022-02-26T06:59:34.997Z"
   },
   {
    "duration": 42,
    "start_time": "2022-02-26T06:59:36.154Z"
   },
   {
    "duration": 3,
    "start_time": "2022-02-26T06:59:36.199Z"
   },
   {
    "duration": 74,
    "start_time": "2022-02-26T06:59:36.205Z"
   },
   {
    "duration": 4,
    "start_time": "2022-02-26T06:59:36.281Z"
   },
   {
    "duration": 36,
    "start_time": "2022-02-26T06:59:36.287Z"
   },
   {
    "duration": 12,
    "start_time": "2022-02-26T06:59:36.325Z"
   },
   {
    "duration": 11,
    "start_time": "2022-02-26T06:59:36.340Z"
   },
   {
    "duration": 9,
    "start_time": "2022-02-26T06:59:36.370Z"
   },
   {
    "duration": 17,
    "start_time": "2022-02-26T06:59:36.381Z"
   },
   {
    "duration": 9,
    "start_time": "2022-02-26T06:59:36.401Z"
   },
   {
    "duration": 17,
    "start_time": "2022-02-26T06:59:36.412Z"
   },
   {
    "duration": 27,
    "start_time": "2022-02-26T06:59:36.431Z"
   },
   {
    "duration": 26,
    "start_time": "2022-02-26T06:59:36.461Z"
   },
   {
    "duration": 38,
    "start_time": "2022-02-26T06:59:36.489Z"
   },
   {
    "duration": 656,
    "start_time": "2022-02-26T06:59:36.529Z"
   },
   {
    "duration": 19,
    "start_time": "2022-02-26T06:59:37.188Z"
   },
   {
    "duration": 79,
    "start_time": "2022-02-26T06:59:37.210Z"
   },
   {
    "duration": 12,
    "start_time": "2022-02-26T06:59:37.291Z"
   },
   {
    "duration": 30,
    "start_time": "2022-02-26T06:59:37.306Z"
   },
   {
    "duration": 491,
    "start_time": "2022-02-26T06:59:37.338Z"
   },
   {
    "duration": 8,
    "start_time": "2022-02-26T06:59:37.831Z"
   },
   {
    "duration": 35,
    "start_time": "2022-02-26T06:59:37.844Z"
   },
   {
    "duration": 416,
    "start_time": "2022-02-26T06:59:37.881Z"
   },
   {
    "duration": 357,
    "start_time": "2022-02-26T06:59:38.299Z"
   },
   {
    "duration": 831,
    "start_time": "2022-02-26T06:59:38.659Z"
   },
   {
    "duration": 793,
    "start_time": "2022-02-26T06:59:39.493Z"
   },
   {
    "duration": 344,
    "start_time": "2022-02-26T06:59:52.243Z"
   },
   {
    "duration": 344,
    "start_time": "2022-02-26T07:00:09.550Z"
   },
   {
    "duration": 737,
    "start_time": "2022-02-26T07:00:28.844Z"
   },
   {
    "duration": 845,
    "start_time": "2022-02-26T07:00:34.556Z"
   },
   {
    "duration": 763,
    "start_time": "2022-02-26T07:11:29.308Z"
   },
   {
    "duration": 6,
    "start_time": "2022-02-26T07:27:01.856Z"
   },
   {
    "duration": 445,
    "start_time": "2022-02-26T07:28:41.070Z"
   },
   {
    "duration": 372,
    "start_time": "2022-02-26T07:28:44.678Z"
   },
   {
    "duration": 472,
    "start_time": "2022-02-26T07:31:23.085Z"
   },
   {
    "duration": 358,
    "start_time": "2022-02-26T07:31:34.368Z"
   },
   {
    "duration": 474,
    "start_time": "2022-02-26T07:32:37.098Z"
   },
   {
    "duration": 1227,
    "start_time": "2022-02-26T07:41:29.625Z"
   },
   {
    "duration": 35,
    "start_time": "2022-02-26T07:41:30.855Z"
   },
   {
    "duration": 4,
    "start_time": "2022-02-26T07:41:30.893Z"
   },
   {
    "duration": 82,
    "start_time": "2022-02-26T07:41:30.899Z"
   },
   {
    "duration": 4,
    "start_time": "2022-02-26T07:41:30.983Z"
   },
   {
    "duration": 54,
    "start_time": "2022-02-26T07:41:30.989Z"
   },
   {
    "duration": 67,
    "start_time": "2022-02-26T07:41:31.046Z"
   },
   {
    "duration": 48,
    "start_time": "2022-02-26T07:41:31.117Z"
   },
   {
    "duration": 31,
    "start_time": "2022-02-26T07:41:31.168Z"
   },
   {
    "duration": 31,
    "start_time": "2022-02-26T07:41:31.201Z"
   },
   {
    "duration": 26,
    "start_time": "2022-02-26T07:41:31.234Z"
   },
   {
    "duration": 52,
    "start_time": "2022-02-26T07:41:31.263Z"
   },
   {
    "duration": 43,
    "start_time": "2022-02-26T07:41:31.317Z"
   },
   {
    "duration": 22,
    "start_time": "2022-02-26T07:41:31.361Z"
   },
   {
    "duration": 18,
    "start_time": "2022-02-26T07:41:31.385Z"
   },
   {
    "duration": 649,
    "start_time": "2022-02-26T07:41:31.405Z"
   },
   {
    "duration": 23,
    "start_time": "2022-02-26T07:41:32.056Z"
   },
   {
    "duration": 9,
    "start_time": "2022-02-26T07:41:32.081Z"
   },
   {
    "duration": 15,
    "start_time": "2022-02-26T07:41:32.092Z"
   },
   {
    "duration": 28,
    "start_time": "2022-02-26T07:41:32.109Z"
   },
   {
    "duration": 477,
    "start_time": "2022-02-26T07:41:32.139Z"
   },
   {
    "duration": 9,
    "start_time": "2022-02-26T07:41:32.618Z"
   },
   {
    "duration": 20,
    "start_time": "2022-02-26T07:41:32.631Z"
   },
   {
    "duration": 407,
    "start_time": "2022-02-26T07:41:32.670Z"
   },
   {
    "duration": 347,
    "start_time": "2022-02-26T07:41:33.079Z"
   },
   {
    "duration": 923,
    "start_time": "2022-02-26T07:41:33.428Z"
   },
   {
    "duration": 741,
    "start_time": "2022-02-26T07:41:34.353Z"
   },
   {
    "duration": 6,
    "start_time": "2022-02-26T07:41:35.097Z"
   },
   {
    "duration": 416,
    "start_time": "2022-02-26T07:41:35.105Z"
   },
   {
    "duration": 407,
    "start_time": "2022-02-26T07:41:35.523Z"
   },
   {
    "duration": 305,
    "start_time": "2022-02-26T07:47:17.349Z"
   },
   {
    "duration": 39,
    "start_time": "2022-02-26T07:51:59.422Z"
   },
   {
    "duration": 8,
    "start_time": "2022-02-26T07:53:01.983Z"
   },
   {
    "duration": 31,
    "start_time": "2022-02-26T07:54:13.648Z"
   },
   {
    "duration": 35,
    "start_time": "2022-02-26T07:54:30.791Z"
   },
   {
    "duration": 35,
    "start_time": "2022-02-26T07:54:58.863Z"
   },
   {
    "duration": 25,
    "start_time": "2022-02-26T07:59:20.105Z"
   },
   {
    "duration": 463,
    "start_time": "2022-02-26T08:01:30.689Z"
   },
   {
    "duration": 486,
    "start_time": "2022-02-26T08:01:55.370Z"
   },
   {
    "duration": 266,
    "start_time": "2022-02-26T08:02:07.473Z"
   },
   {
    "duration": 263,
    "start_time": "2022-02-26T08:02:35.330Z"
   },
   {
    "duration": 265,
    "start_time": "2022-02-26T08:02:56.337Z"
   },
   {
    "duration": 340,
    "start_time": "2022-02-26T08:11:51.303Z"
   },
   {
    "duration": 190,
    "start_time": "2022-02-26T08:14:12.713Z"
   },
   {
    "duration": 291,
    "start_time": "2022-02-26T08:14:35.217Z"
   },
   {
    "duration": 285,
    "start_time": "2022-02-26T08:14:51.193Z"
   },
   {
    "duration": 326,
    "start_time": "2022-02-26T08:15:02.770Z"
   },
   {
    "duration": 1239,
    "start_time": "2022-02-26T08:15:18.010Z"
   },
   {
    "duration": 41,
    "start_time": "2022-02-26T08:15:19.252Z"
   },
   {
    "duration": 6,
    "start_time": "2022-02-26T08:15:19.296Z"
   },
   {
    "duration": 86,
    "start_time": "2022-02-26T08:15:19.305Z"
   },
   {
    "duration": 3,
    "start_time": "2022-02-26T08:15:19.393Z"
   },
   {
    "duration": 47,
    "start_time": "2022-02-26T08:15:19.398Z"
   },
   {
    "duration": 22,
    "start_time": "2022-02-26T08:15:19.447Z"
   },
   {
    "duration": 11,
    "start_time": "2022-02-26T08:15:19.472Z"
   },
   {
    "duration": 21,
    "start_time": "2022-02-26T08:15:19.486Z"
   },
   {
    "duration": 34,
    "start_time": "2022-02-26T08:15:19.509Z"
   },
   {
    "duration": 21,
    "start_time": "2022-02-26T08:15:19.545Z"
   },
   {
    "duration": 25,
    "start_time": "2022-02-26T08:15:19.568Z"
   },
   {
    "duration": 40,
    "start_time": "2022-02-26T08:15:19.595Z"
   },
   {
    "duration": 31,
    "start_time": "2022-02-26T08:15:19.637Z"
   },
   {
    "duration": 13,
    "start_time": "2022-02-26T08:15:19.670Z"
   },
   {
    "duration": 662,
    "start_time": "2022-02-26T08:15:19.685Z"
   },
   {
    "duration": 30,
    "start_time": "2022-02-26T08:15:20.349Z"
   },
   {
    "duration": 5,
    "start_time": "2022-02-26T08:15:20.381Z"
   },
   {
    "duration": 12,
    "start_time": "2022-02-26T08:15:20.388Z"
   },
   {
    "duration": 23,
    "start_time": "2022-02-26T08:15:20.402Z"
   },
   {
    "duration": 510,
    "start_time": "2022-02-26T08:15:20.428Z"
   },
   {
    "duration": 8,
    "start_time": "2022-02-26T08:15:20.941Z"
   },
   {
    "duration": 31,
    "start_time": "2022-02-26T08:15:20.952Z"
   },
   {
    "duration": 422,
    "start_time": "2022-02-26T08:15:20.985Z"
   },
   {
    "duration": 354,
    "start_time": "2022-02-26T08:15:21.409Z"
   },
   {
    "duration": 802,
    "start_time": "2022-02-26T08:15:21.768Z"
   },
   {
    "duration": 749,
    "start_time": "2022-02-26T08:15:22.572Z"
   },
   {
    "duration": 7,
    "start_time": "2022-02-26T08:15:23.324Z"
   },
   {
    "duration": 399,
    "start_time": "2022-02-26T08:15:23.333Z"
   },
   {
    "duration": 415,
    "start_time": "2022-02-26T08:15:23.734Z"
   },
   {
    "duration": 45,
    "start_time": "2022-02-26T08:15:24.152Z"
   },
   {
    "duration": 24,
    "start_time": "2022-02-26T08:15:24.198Z"
   },
   {
    "duration": 348,
    "start_time": "2022-02-26T08:15:24.224Z"
   },
   {
    "duration": 1243,
    "start_time": "2022-02-26T09:56:45.302Z"
   },
   {
    "duration": 38,
    "start_time": "2022-02-26T09:56:46.547Z"
   },
   {
    "duration": 4,
    "start_time": "2022-02-26T09:56:46.590Z"
   },
   {
    "duration": 85,
    "start_time": "2022-02-26T09:56:46.596Z"
   },
   {
    "duration": 3,
    "start_time": "2022-02-26T09:56:46.683Z"
   },
   {
    "duration": 26,
    "start_time": "2022-02-26T09:56:46.688Z"
   },
   {
    "duration": 12,
    "start_time": "2022-02-26T09:56:46.717Z"
   },
   {
    "duration": 39,
    "start_time": "2022-02-26T09:56:46.732Z"
   },
   {
    "duration": 15,
    "start_time": "2022-02-26T09:56:46.773Z"
   },
   {
    "duration": 14,
    "start_time": "2022-02-26T09:56:46.791Z"
   },
   {
    "duration": 8,
    "start_time": "2022-02-26T09:56:46.807Z"
   },
   {
    "duration": 8,
    "start_time": "2022-02-26T09:56:46.817Z"
   },
   {
    "duration": 24,
    "start_time": "2022-02-26T09:56:46.826Z"
   },
   {
    "duration": 18,
    "start_time": "2022-02-26T09:56:46.869Z"
   },
   {
    "duration": 11,
    "start_time": "2022-02-26T09:56:46.889Z"
   },
   {
    "duration": 646,
    "start_time": "2022-02-26T09:56:46.902Z"
   },
   {
    "duration": 25,
    "start_time": "2022-02-26T09:56:47.550Z"
   },
   {
    "duration": 4,
    "start_time": "2022-02-26T09:56:47.577Z"
   },
   {
    "duration": 10,
    "start_time": "2022-02-26T09:56:47.583Z"
   },
   {
    "duration": 29,
    "start_time": "2022-02-26T09:56:47.595Z"
   },
   {
    "duration": 488,
    "start_time": "2022-02-26T09:56:47.626Z"
   },
   {
    "duration": 7,
    "start_time": "2022-02-26T09:56:48.118Z"
   },
   {
    "duration": 19,
    "start_time": "2022-02-26T09:56:48.127Z"
   },
   {
    "duration": 420,
    "start_time": "2022-02-26T09:56:48.148Z"
   },
   {
    "duration": 408,
    "start_time": "2022-02-26T09:56:48.570Z"
   },
   {
    "duration": 867,
    "start_time": "2022-02-26T09:56:48.981Z"
   },
   {
    "duration": 793,
    "start_time": "2022-02-26T09:56:49.850Z"
   },
   {
    "duration": 6,
    "start_time": "2022-02-26T09:56:50.645Z"
   },
   {
    "duration": 393,
    "start_time": "2022-02-26T09:56:50.653Z"
   },
   {
    "duration": 392,
    "start_time": "2022-02-26T09:56:51.048Z"
   },
   {
    "duration": 49,
    "start_time": "2022-02-26T09:56:51.442Z"
   },
   {
    "duration": 25,
    "start_time": "2022-02-26T09:56:51.493Z"
   },
   {
    "duration": 336,
    "start_time": "2022-02-26T09:56:51.520Z"
   },
   {
    "duration": 40,
    "start_time": "2022-02-26T10:02:32.581Z"
   },
   {
    "duration": 33,
    "start_time": "2022-02-26T10:03:05.535Z"
   },
   {
    "duration": 38,
    "start_time": "2022-02-26T10:03:49.913Z"
   },
   {
    "duration": 11,
    "start_time": "2022-02-26T10:04:40.558Z"
   },
   {
    "duration": 322,
    "start_time": "2022-02-26T10:06:28.357Z"
   },
   {
    "duration": 79,
    "start_time": "2022-02-26T10:14:49.669Z"
   },
   {
    "duration": 65,
    "start_time": "2022-02-26T10:15:56.891Z"
   },
   {
    "duration": 4,
    "start_time": "2022-02-26T10:16:33.462Z"
   },
   {
    "duration": 78,
    "start_time": "2022-02-26T10:16:35.752Z"
   },
   {
    "duration": 541,
    "start_time": "2022-02-26T10:16:55.857Z"
   },
   {
    "duration": 4,
    "start_time": "2022-02-26T10:17:41.084Z"
   },
   {
    "duration": 427,
    "start_time": "2022-02-26T10:17:41.943Z"
   },
   {
    "duration": 4,
    "start_time": "2022-02-26T10:18:07.426Z"
   },
   {
    "duration": 509,
    "start_time": "2022-02-26T10:18:07.432Z"
   },
   {
    "duration": 69,
    "start_time": "2022-02-26T10:21:53.704Z"
   },
   {
    "duration": 3,
    "start_time": "2022-02-26T10:40:29.459Z"
   },
   {
    "duration": 434,
    "start_time": "2022-02-26T10:40:32.406Z"
   },
   {
    "duration": 68,
    "start_time": "2022-02-26T10:41:41.563Z"
   },
   {
    "duration": 62,
    "start_time": "2022-02-26T10:41:42.526Z"
   },
   {
    "duration": 1169,
    "start_time": "2022-02-26T11:56:09.287Z"
   },
   {
    "duration": 37,
    "start_time": "2022-02-26T11:56:10.458Z"
   },
   {
    "duration": 2,
    "start_time": "2022-02-26T11:56:10.497Z"
   },
   {
    "duration": 71,
    "start_time": "2022-02-26T11:56:10.501Z"
   },
   {
    "duration": 3,
    "start_time": "2022-02-26T11:56:10.573Z"
   },
   {
    "duration": 43,
    "start_time": "2022-02-26T11:56:10.577Z"
   },
   {
    "duration": 17,
    "start_time": "2022-02-26T11:56:10.621Z"
   },
   {
    "duration": 21,
    "start_time": "2022-02-26T11:56:10.640Z"
   },
   {
    "duration": 24,
    "start_time": "2022-02-26T11:56:10.663Z"
   },
   {
    "duration": 30,
    "start_time": "2022-02-26T11:56:10.689Z"
   },
   {
    "duration": 15,
    "start_time": "2022-02-26T11:56:10.722Z"
   },
   {
    "duration": 24,
    "start_time": "2022-02-26T11:56:10.739Z"
   },
   {
    "duration": 14,
    "start_time": "2022-02-26T11:56:10.764Z"
   },
   {
    "duration": 18,
    "start_time": "2022-02-26T11:56:10.780Z"
   },
   {
    "duration": 28,
    "start_time": "2022-02-26T11:56:10.800Z"
   },
   {
    "duration": 620,
    "start_time": "2022-02-26T11:56:10.829Z"
   },
   {
    "duration": 15,
    "start_time": "2022-02-26T11:56:11.450Z"
   },
   {
    "duration": 15,
    "start_time": "2022-02-26T11:56:11.466Z"
   },
   {
    "duration": 25,
    "start_time": "2022-02-26T11:56:11.483Z"
   },
   {
    "duration": 51,
    "start_time": "2022-02-26T11:56:11.510Z"
   },
   {
    "duration": 473,
    "start_time": "2022-02-26T11:56:11.564Z"
   },
   {
    "duration": 6,
    "start_time": "2022-02-26T11:56:12.038Z"
   },
   {
    "duration": 29,
    "start_time": "2022-02-26T11:56:12.047Z"
   },
   {
    "duration": 406,
    "start_time": "2022-02-26T11:56:12.078Z"
   },
   {
    "duration": 361,
    "start_time": "2022-02-26T11:56:12.486Z"
   },
   {
    "duration": 764,
    "start_time": "2022-02-26T11:56:12.849Z"
   },
   {
    "duration": 712,
    "start_time": "2022-02-26T11:56:13.614Z"
   },
   {
    "duration": 6,
    "start_time": "2022-02-26T11:56:14.329Z"
   },
   {
    "duration": 432,
    "start_time": "2022-02-26T11:56:14.337Z"
   },
   {
    "duration": 403,
    "start_time": "2022-02-26T11:56:14.771Z"
   },
   {
    "duration": 44,
    "start_time": "2022-02-26T11:56:15.175Z"
   },
   {
    "duration": 19,
    "start_time": "2022-02-26T11:56:15.221Z"
   },
   {
    "duration": 315,
    "start_time": "2022-02-26T11:56:15.242Z"
   },
   {
    "duration": 72,
    "start_time": "2022-02-26T11:56:15.559Z"
   },
   {
    "duration": -41,
    "start_time": "2022-02-26T11:56:15.673Z"
   },
   {
    "duration": -53,
    "start_time": "2022-02-26T11:56:15.687Z"
   },
   {
    "duration": -63,
    "start_time": "2022-02-26T11:56:15.698Z"
   },
   {
    "duration": 3,
    "start_time": "2022-02-26T11:56:53.774Z"
   },
   {
    "duration": 92,
    "start_time": "2022-02-26T11:56:55.042Z"
   },
   {
    "duration": 444,
    "start_time": "2022-02-26T11:57:34.308Z"
   },
   {
    "duration": 224,
    "start_time": "2022-02-26T11:57:46.955Z"
   },
   {
    "duration": 3,
    "start_time": "2022-02-26T11:58:52.035Z"
   },
   {
    "duration": 96,
    "start_time": "2022-02-26T11:58:53.529Z"
   },
   {
    "duration": 4,
    "start_time": "2022-02-26T11:59:47.674Z"
   },
   {
    "duration": 91,
    "start_time": "2022-02-26T11:59:48.929Z"
   },
   {
    "duration": 1558,
    "start_time": "2022-02-26T12:13:24.934Z"
   },
   {
    "duration": 52,
    "start_time": "2022-02-26T12:13:26.495Z"
   },
   {
    "duration": 4,
    "start_time": "2022-02-26T12:13:26.551Z"
   },
   {
    "duration": 106,
    "start_time": "2022-02-26T12:13:26.559Z"
   },
   {
    "duration": 4,
    "start_time": "2022-02-26T12:13:26.668Z"
   },
   {
    "duration": 27,
    "start_time": "2022-02-26T12:13:26.675Z"
   },
   {
    "duration": 39,
    "start_time": "2022-02-26T12:13:26.704Z"
   },
   {
    "duration": 6,
    "start_time": "2022-02-26T12:13:26.747Z"
   },
   {
    "duration": 13,
    "start_time": "2022-02-26T12:13:26.756Z"
   },
   {
    "duration": 13,
    "start_time": "2022-02-26T12:13:26.771Z"
   },
   {
    "duration": 45,
    "start_time": "2022-02-26T12:13:26.787Z"
   },
   {
    "duration": 8,
    "start_time": "2022-02-26T12:13:26.835Z"
   },
   {
    "duration": 18,
    "start_time": "2022-02-26T12:13:26.847Z"
   },
   {
    "duration": 66,
    "start_time": "2022-02-26T12:13:26.868Z"
   },
   {
    "duration": 19,
    "start_time": "2022-02-26T12:13:26.937Z"
   },
   {
    "duration": 1426,
    "start_time": "2022-02-26T12:13:26.959Z"
   },
   {
    "duration": 47,
    "start_time": "2022-02-26T12:13:28.387Z"
   },
   {
    "duration": 6,
    "start_time": "2022-02-26T12:13:28.436Z"
   },
   {
    "duration": 11,
    "start_time": "2022-02-26T12:13:28.445Z"
   },
   {
    "duration": 73,
    "start_time": "2022-02-26T12:13:28.459Z"
   },
   {
    "duration": 1010,
    "start_time": "2022-02-26T12:13:28.535Z"
   },
   {
    "duration": 8,
    "start_time": "2022-02-26T12:13:29.548Z"
   },
   {
    "duration": 20,
    "start_time": "2022-02-26T12:13:29.562Z"
   },
   {
    "duration": 609,
    "start_time": "2022-02-26T12:13:29.584Z"
   },
   {
    "duration": 526,
    "start_time": "2022-02-26T12:13:30.195Z"
   },
   {
    "duration": 1126,
    "start_time": "2022-02-26T12:13:30.723Z"
   },
   {
    "duration": 1183,
    "start_time": "2022-02-26T12:13:31.851Z"
   },
   {
    "duration": 7,
    "start_time": "2022-02-26T12:13:33.036Z"
   },
   {
    "duration": 537,
    "start_time": "2022-02-26T12:13:33.045Z"
   },
   {
    "duration": 499,
    "start_time": "2022-02-26T12:13:33.584Z"
   },
   {
    "duration": 63,
    "start_time": "2022-02-26T12:13:34.085Z"
   },
   {
    "duration": 31,
    "start_time": "2022-02-26T12:13:34.151Z"
   },
   {
    "duration": 492,
    "start_time": "2022-02-26T12:13:34.185Z"
   },
   {
    "duration": 5,
    "start_time": "2022-02-26T12:13:34.680Z"
   },
   {
    "duration": 162,
    "start_time": "2022-02-26T12:13:34.688Z"
   },
   {
    "duration": 69,
    "start_time": "2022-02-26T12:13:34.852Z"
   },
   {
    "duration": -70,
    "start_time": "2022-02-26T12:13:34.995Z"
   },
   {
    "duration": -81,
    "start_time": "2022-02-26T12:13:35.008Z"
   },
   {
    "duration": -89,
    "start_time": "2022-02-26T12:13:35.018Z"
   },
   {
    "duration": 1362,
    "start_time": "2022-02-26T12:15:22.509Z"
   },
   {
    "duration": 47,
    "start_time": "2022-02-26T12:15:23.873Z"
   },
   {
    "duration": 4,
    "start_time": "2022-02-26T12:15:23.923Z"
   },
   {
    "duration": 105,
    "start_time": "2022-02-26T12:15:23.933Z"
   },
   {
    "duration": 4,
    "start_time": "2022-02-26T12:15:24.041Z"
   },
   {
    "duration": 26,
    "start_time": "2022-02-26T12:15:24.048Z"
   },
   {
    "duration": 15,
    "start_time": "2022-02-26T12:15:24.076Z"
   },
   {
    "duration": 5,
    "start_time": "2022-02-26T12:15:24.094Z"
   },
   {
    "duration": 12,
    "start_time": "2022-02-26T12:15:24.132Z"
   },
   {
    "duration": 12,
    "start_time": "2022-02-26T12:15:24.146Z"
   },
   {
    "duration": 5,
    "start_time": "2022-02-26T12:15:24.161Z"
   },
   {
    "duration": 8,
    "start_time": "2022-02-26T12:15:24.168Z"
   },
   {
    "duration": 13,
    "start_time": "2022-02-26T12:15:24.178Z"
   },
   {
    "duration": 23,
    "start_time": "2022-02-26T12:15:24.233Z"
   },
   {
    "duration": 12,
    "start_time": "2022-02-26T12:15:24.258Z"
   },
   {
    "duration": 1003,
    "start_time": "2022-02-26T12:15:24.273Z"
   },
   {
    "duration": 21,
    "start_time": "2022-02-26T12:15:25.278Z"
   },
   {
    "duration": 5,
    "start_time": "2022-02-26T12:15:25.301Z"
   },
   {
    "duration": 31,
    "start_time": "2022-02-26T12:15:25.308Z"
   },
   {
    "duration": 46,
    "start_time": "2022-02-26T12:15:25.341Z"
   },
   {
    "duration": 711,
    "start_time": "2022-02-26T12:15:25.389Z"
   },
   {
    "duration": 7,
    "start_time": "2022-02-26T12:15:26.102Z"
   },
   {
    "duration": 38,
    "start_time": "2022-02-26T12:15:26.113Z"
   },
   {
    "duration": 579,
    "start_time": "2022-02-26T12:15:26.153Z"
   },
   {
    "duration": 508,
    "start_time": "2022-02-26T12:15:26.734Z"
   },
   {
    "duration": 1199,
    "start_time": "2022-02-26T12:15:27.245Z"
   },
   {
    "duration": 1345,
    "start_time": "2022-02-26T12:15:28.446Z"
   },
   {
    "duration": 7,
    "start_time": "2022-02-26T12:15:29.793Z"
   },
   {
    "duration": 601,
    "start_time": "2022-02-26T12:15:29.803Z"
   },
   {
    "duration": 561,
    "start_time": "2022-02-26T12:15:30.406Z"
   },
   {
    "duration": 64,
    "start_time": "2022-02-26T12:15:30.970Z"
   },
   {
    "duration": 31,
    "start_time": "2022-02-26T12:15:31.037Z"
   },
   {
    "duration": 521,
    "start_time": "2022-02-26T12:15:31.071Z"
   },
   {
    "duration": 6,
    "start_time": "2022-02-26T12:15:31.595Z"
   },
   {
    "duration": 496,
    "start_time": "2022-02-26T12:15:31.603Z"
   },
   {
    "duration": 350,
    "start_time": "2022-02-26T12:15:32.102Z"
   },
   {
    "duration": 1463,
    "start_time": "2022-02-26T12:17:30.449Z"
   },
   {
    "duration": 52,
    "start_time": "2022-02-26T12:17:31.915Z"
   },
   {
    "duration": 4,
    "start_time": "2022-02-26T12:17:31.969Z"
   },
   {
    "duration": 103,
    "start_time": "2022-02-26T12:17:31.976Z"
   },
   {
    "duration": 5,
    "start_time": "2022-02-26T12:17:32.081Z"
   },
   {
    "duration": 51,
    "start_time": "2022-02-26T12:17:32.088Z"
   },
   {
    "duration": 15,
    "start_time": "2022-02-26T12:17:32.141Z"
   },
   {
    "duration": 6,
    "start_time": "2022-02-26T12:17:32.160Z"
   },
   {
    "duration": 13,
    "start_time": "2022-02-26T12:17:32.168Z"
   },
   {
    "duration": 50,
    "start_time": "2022-02-26T12:17:32.183Z"
   },
   {
    "duration": 9,
    "start_time": "2022-02-26T12:17:32.236Z"
   },
   {
    "duration": 12,
    "start_time": "2022-02-26T12:17:32.249Z"
   },
   {
    "duration": 14,
    "start_time": "2022-02-26T12:17:32.264Z"
   },
   {
    "duration": 60,
    "start_time": "2022-02-26T12:17:32.280Z"
   },
   {
    "duration": 14,
    "start_time": "2022-02-26T12:17:32.342Z"
   },
   {
    "duration": 1427,
    "start_time": "2022-02-26T12:17:32.359Z"
   },
   {
    "duration": 48,
    "start_time": "2022-02-26T12:17:33.789Z"
   },
   {
    "duration": 7,
    "start_time": "2022-02-26T12:17:33.840Z"
   },
   {
    "duration": 9,
    "start_time": "2022-02-26T12:17:33.850Z"
   },
   {
    "duration": 29,
    "start_time": "2022-02-26T12:17:33.862Z"
   },
   {
    "duration": 721,
    "start_time": "2022-02-26T12:17:33.893Z"
   },
   {
    "duration": 14,
    "start_time": "2022-02-26T12:17:34.617Z"
   },
   {
    "duration": 22,
    "start_time": "2022-02-26T12:17:34.636Z"
   },
   {
    "duration": 643,
    "start_time": "2022-02-26T12:17:34.661Z"
   },
   {
    "duration": 530,
    "start_time": "2022-02-26T12:17:35.307Z"
   },
   {
    "duration": 1227,
    "start_time": "2022-02-26T12:17:35.841Z"
   },
   {
    "duration": 1100,
    "start_time": "2022-02-26T12:17:37.070Z"
   },
   {
    "duration": 7,
    "start_time": "2022-02-26T12:17:38.173Z"
   },
   {
    "duration": 528,
    "start_time": "2022-02-26T12:17:38.182Z"
   },
   {
    "duration": 556,
    "start_time": "2022-02-26T12:17:38.712Z"
   },
   {
    "duration": 45,
    "start_time": "2022-02-26T12:17:39.270Z"
   },
   {
    "duration": 35,
    "start_time": "2022-02-26T12:17:39.334Z"
   },
   {
    "duration": 507,
    "start_time": "2022-02-26T12:17:39.372Z"
   },
   {
    "duration": 5,
    "start_time": "2022-02-26T12:17:39.881Z"
   },
   {
    "duration": 461,
    "start_time": "2022-02-26T12:17:39.889Z"
   },
   {
    "duration": 412,
    "start_time": "2022-02-26T12:17:40.353Z"
   },
   {
    "duration": 5,
    "start_time": "2022-02-26T12:19:10.094Z"
   },
   {
    "duration": 5,
    "start_time": "2022-02-26T12:19:58.319Z"
   },
   {
    "duration": 503,
    "start_time": "2022-02-26T12:19:59.810Z"
   },
   {
    "duration": 5,
    "start_time": "2022-02-26T12:20:26.107Z"
   },
   {
    "duration": 430,
    "start_time": "2022-02-26T12:20:26.891Z"
   },
   {
    "duration": 6,
    "start_time": "2022-02-26T12:20:31.106Z"
   },
   {
    "duration": 507,
    "start_time": "2022-02-26T12:20:45.699Z"
   },
   {
    "duration": 1201,
    "start_time": "2022-02-26T15:50:04.341Z"
   },
   {
    "duration": 32,
    "start_time": "2022-02-26T15:50:05.547Z"
   },
   {
    "duration": 3,
    "start_time": "2022-02-26T15:50:05.581Z"
   },
   {
    "duration": 66,
    "start_time": "2022-02-26T15:50:05.586Z"
   },
   {
    "duration": 2,
    "start_time": "2022-02-26T15:50:05.654Z"
   },
   {
    "duration": 19,
    "start_time": "2022-02-26T15:50:05.658Z"
   },
   {
    "duration": 10,
    "start_time": "2022-02-26T15:50:05.679Z"
   },
   {
    "duration": 3,
    "start_time": "2022-02-26T15:50:05.691Z"
   },
   {
    "duration": 37,
    "start_time": "2022-02-26T15:50:05.696Z"
   },
   {
    "duration": 9,
    "start_time": "2022-02-26T15:50:05.735Z"
   },
   {
    "duration": 4,
    "start_time": "2022-02-26T15:50:05.746Z"
   },
   {
    "duration": 8,
    "start_time": "2022-02-26T15:50:05.752Z"
   },
   {
    "duration": 11,
    "start_time": "2022-02-26T15:50:05.762Z"
   },
   {
    "duration": 14,
    "start_time": "2022-02-26T15:50:05.775Z"
   },
   {
    "duration": 9,
    "start_time": "2022-02-26T15:50:05.790Z"
   },
   {
    "duration": 583,
    "start_time": "2022-02-26T15:50:05.801Z"
   },
   {
    "duration": 14,
    "start_time": "2022-02-26T15:50:06.386Z"
   },
   {
    "duration": 3,
    "start_time": "2022-02-26T15:50:06.402Z"
   },
   {
    "duration": 26,
    "start_time": "2022-02-26T15:50:06.406Z"
   },
   {
    "duration": 23,
    "start_time": "2022-02-26T15:50:06.434Z"
   },
   {
    "duration": 619,
    "start_time": "2022-02-26T15:50:06.459Z"
   },
   {
    "duration": 7,
    "start_time": "2022-02-26T15:50:07.082Z"
   },
   {
    "duration": 19,
    "start_time": "2022-02-26T15:50:07.091Z"
   },
   {
    "duration": 519,
    "start_time": "2022-02-26T15:50:07.133Z"
   },
   {
    "duration": 459,
    "start_time": "2022-02-26T15:50:07.654Z"
   },
   {
    "duration": 988,
    "start_time": "2022-02-26T15:50:08.115Z"
   },
   {
    "duration": 920,
    "start_time": "2022-02-26T15:50:09.105Z"
   },
   {
    "duration": 7,
    "start_time": "2022-02-26T15:50:10.033Z"
   },
   {
    "duration": 424,
    "start_time": "2022-02-26T15:50:10.042Z"
   },
   {
    "duration": 392,
    "start_time": "2022-02-26T15:50:10.468Z"
   },
   {
    "duration": 29,
    "start_time": "2022-02-26T15:50:10.862Z"
   },
   {
    "duration": 42,
    "start_time": "2022-02-26T15:50:10.892Z"
   },
   {
    "duration": 298,
    "start_time": "2022-02-26T15:50:10.935Z"
   },
   {
    "duration": 4,
    "start_time": "2022-02-26T15:50:11.235Z"
   },
   {
    "duration": 282,
    "start_time": "2022-02-26T15:50:11.240Z"
   },
   {
    "duration": 8,
    "start_time": "2022-02-26T15:50:11.524Z"
   },
   {
    "duration": 285,
    "start_time": "2022-02-26T15:50:11.534Z"
   },
   {
    "duration": 261,
    "start_time": "2022-02-26T15:53:15.842Z"
   },
   {
    "duration": 4,
    "start_time": "2022-02-26T15:53:18.041Z"
   },
   {
    "duration": 268,
    "start_time": "2022-02-26T15:53:21.761Z"
   },
   {
    "duration": 4,
    "start_time": "2022-02-26T16:04:15.071Z"
   },
   {
    "duration": 3,
    "start_time": "2022-02-26T16:04:20.705Z"
   },
   {
    "duration": 348,
    "start_time": "2022-02-26T16:04:43.001Z"
   },
   {
    "duration": 1050,
    "start_time": "2022-02-26T16:05:52.532Z"
   },
   {
    "duration": 32,
    "start_time": "2022-02-26T16:05:53.584Z"
   },
   {
    "duration": 3,
    "start_time": "2022-02-26T16:05:53.618Z"
   },
   {
    "duration": 59,
    "start_time": "2022-02-26T16:05:53.624Z"
   },
   {
    "duration": 3,
    "start_time": "2022-02-26T16:05:53.685Z"
   },
   {
    "duration": 44,
    "start_time": "2022-02-26T16:05:53.690Z"
   },
   {
    "duration": 11,
    "start_time": "2022-02-26T16:05:53.736Z"
   },
   {
    "duration": 4,
    "start_time": "2022-02-26T16:05:53.750Z"
   },
   {
    "duration": 10,
    "start_time": "2022-02-26T16:05:53.755Z"
   },
   {
    "duration": 9,
    "start_time": "2022-02-26T16:05:53.766Z"
   },
   {
    "duration": 4,
    "start_time": "2022-02-26T16:05:53.777Z"
   },
   {
    "duration": 8,
    "start_time": "2022-02-26T16:05:53.782Z"
   },
   {
    "duration": 43,
    "start_time": "2022-02-26T16:05:53.792Z"
   },
   {
    "duration": 14,
    "start_time": "2022-02-26T16:05:53.837Z"
   },
   {
    "duration": 9,
    "start_time": "2022-02-26T16:05:53.853Z"
   },
   {
    "duration": 555,
    "start_time": "2022-02-26T16:05:53.864Z"
   },
   {
    "duration": 22,
    "start_time": "2022-02-26T16:05:54.421Z"
   },
   {
    "duration": 3,
    "start_time": "2022-02-26T16:05:54.445Z"
   },
   {
    "duration": 7,
    "start_time": "2022-02-26T16:05:54.450Z"
   },
   {
    "duration": 19,
    "start_time": "2022-02-26T16:05:54.459Z"
   },
   {
    "duration": 421,
    "start_time": "2022-02-26T16:05:54.480Z"
   },
   {
    "duration": 6,
    "start_time": "2022-02-26T16:05:54.902Z"
   },
   {
    "duration": 30,
    "start_time": "2022-02-26T16:05:54.912Z"
   },
   {
    "duration": 345,
    "start_time": "2022-02-26T16:05:54.944Z"
   },
   {
    "duration": 289,
    "start_time": "2022-02-26T16:05:55.291Z"
   },
   {
    "duration": 672,
    "start_time": "2022-02-26T16:05:55.582Z"
   },
   {
    "duration": 617,
    "start_time": "2022-02-26T16:05:56.256Z"
   },
   {
    "duration": 6,
    "start_time": "2022-02-26T16:05:56.875Z"
   },
   {
    "duration": 364,
    "start_time": "2022-02-26T16:05:56.883Z"
   },
   {
    "duration": 381,
    "start_time": "2022-02-26T16:05:57.249Z"
   },
   {
    "duration": 29,
    "start_time": "2022-02-26T16:05:57.633Z"
   },
   {
    "duration": 19,
    "start_time": "2022-02-26T16:05:57.664Z"
   },
   {
    "duration": 293,
    "start_time": "2022-02-26T16:05:57.685Z"
   },
   {
    "duration": 4,
    "start_time": "2022-02-26T16:05:57.979Z"
   },
   {
    "duration": 273,
    "start_time": "2022-02-26T16:05:57.984Z"
   },
   {
    "duration": 4,
    "start_time": "2022-02-26T16:05:58.259Z"
   },
   {
    "duration": 274,
    "start_time": "2022-02-26T16:05:58.264Z"
   },
   {
    "duration": 4,
    "start_time": "2022-02-26T16:05:58.539Z"
   },
   {
    "duration": 270,
    "start_time": "2022-02-26T16:05:58.544Z"
   },
   {
    "duration": 61,
    "start_time": "2022-02-26T16:08:46.176Z"
   },
   {
    "duration": 253,
    "start_time": "2022-02-26T16:08:47.098Z"
   },
   {
    "duration": 50,
    "start_time": "2022-02-26T16:09:03.446Z"
   },
   {
    "duration": 4,
    "start_time": "2022-02-26T16:10:07.947Z"
   },
   {
    "duration": 1078,
    "start_time": "2022-02-26T16:10:10.273Z"
   },
   {
    "duration": 4,
    "start_time": "2022-02-26T16:11:03.619Z"
   },
   {
    "duration": 594,
    "start_time": "2022-02-26T16:11:04.180Z"
   },
   {
    "duration": 3,
    "start_time": "2022-02-26T16:13:09.869Z"
   },
   {
    "duration": 253,
    "start_time": "2022-02-26T16:13:10.772Z"
   },
   {
    "duration": 4,
    "start_time": "2022-02-26T16:13:14.834Z"
   },
   {
    "duration": 272,
    "start_time": "2022-02-26T16:13:16.860Z"
   },
   {
    "duration": 4,
    "start_time": "2022-02-26T16:13:19.873Z"
   },
   {
    "duration": 272,
    "start_time": "2022-02-26T16:13:21.164Z"
   },
   {
    "duration": 2,
    "start_time": "2022-02-26T16:34:21.661Z"
   },
   {
    "duration": 1061,
    "start_time": "2022-02-26T16:35:36.684Z"
   },
   {
    "duration": 33,
    "start_time": "2022-02-26T16:35:37.746Z"
   },
   {
    "duration": 3,
    "start_time": "2022-02-26T16:35:37.781Z"
   },
   {
    "duration": 59,
    "start_time": "2022-02-26T16:35:37.785Z"
   },
   {
    "duration": 3,
    "start_time": "2022-02-26T16:35:37.845Z"
   },
   {
    "duration": 17,
    "start_time": "2022-02-26T16:35:37.850Z"
   },
   {
    "duration": 10,
    "start_time": "2022-02-26T16:35:37.869Z"
   },
   {
    "duration": 5,
    "start_time": "2022-02-26T16:35:37.881Z"
   },
   {
    "duration": 8,
    "start_time": "2022-02-26T16:35:37.888Z"
   },
   {
    "duration": 40,
    "start_time": "2022-02-26T16:35:37.897Z"
   },
   {
    "duration": 5,
    "start_time": "2022-02-26T16:35:37.938Z"
   },
   {
    "duration": 6,
    "start_time": "2022-02-26T16:35:37.945Z"
   },
   {
    "duration": 10,
    "start_time": "2022-02-26T16:35:37.952Z"
   },
   {
    "duration": 14,
    "start_time": "2022-02-26T16:35:37.963Z"
   },
   {
    "duration": 9,
    "start_time": "2022-02-26T16:35:37.979Z"
   },
   {
    "duration": 583,
    "start_time": "2022-02-26T16:35:37.989Z"
   },
   {
    "duration": 14,
    "start_time": "2022-02-26T16:35:38.574Z"
   },
   {
    "duration": 3,
    "start_time": "2022-02-26T16:35:38.589Z"
   },
   {
    "duration": 8,
    "start_time": "2022-02-26T16:35:38.594Z"
   },
   {
    "duration": 41,
    "start_time": "2022-02-26T16:35:38.603Z"
   },
   {
    "duration": 513,
    "start_time": "2022-02-26T16:35:38.646Z"
   },
   {
    "duration": 6,
    "start_time": "2022-02-26T16:35:39.161Z"
   },
   {
    "duration": 15,
    "start_time": "2022-02-26T16:35:39.170Z"
   },
   {
    "duration": 362,
    "start_time": "2022-02-26T16:35:39.187Z"
   },
   {
    "duration": 297,
    "start_time": "2022-02-26T16:35:39.551Z"
   },
   {
    "duration": 703,
    "start_time": "2022-02-26T16:35:39.850Z"
   },
   {
    "duration": 627,
    "start_time": "2022-02-26T16:35:40.555Z"
   },
   {
    "duration": 5,
    "start_time": "2022-02-26T16:35:41.184Z"
   },
   {
    "duration": 360,
    "start_time": "2022-02-26T16:35:41.191Z"
   },
   {
    "duration": 396,
    "start_time": "2022-02-26T16:35:41.553Z"
   },
   {
    "duration": 28,
    "start_time": "2022-02-26T16:35:41.950Z"
   },
   {
    "duration": 19,
    "start_time": "2022-02-26T16:35:41.980Z"
   },
   {
    "duration": 291,
    "start_time": "2022-02-26T16:35:42.000Z"
   },
   {
    "duration": 4,
    "start_time": "2022-02-26T16:35:42.292Z"
   },
   {
    "duration": 272,
    "start_time": "2022-02-26T16:35:42.298Z"
   },
   {
    "duration": 4,
    "start_time": "2022-02-26T16:35:42.571Z"
   },
   {
    "duration": 273,
    "start_time": "2022-02-26T16:35:42.576Z"
   },
   {
    "duration": 3,
    "start_time": "2022-02-26T16:35:42.850Z"
   },
   {
    "duration": 268,
    "start_time": "2022-02-26T16:35:42.855Z"
   },
   {
    "duration": 294,
    "start_time": "2022-02-26T16:35:43.124Z"
   },
   {
    "duration": 7,
    "start_time": "2022-02-26T16:36:05.569Z"
   },
   {
    "duration": 158,
    "start_time": "2022-02-26T16:37:33.834Z"
   },
   {
    "duration": 3,
    "start_time": "2022-02-26T16:44:33.698Z"
   },
   {
    "duration": 126,
    "start_time": "2022-02-26T16:46:11.789Z"
   },
   {
    "duration": 5,
    "start_time": "2022-02-26T16:46:20.653Z"
   },
   {
    "duration": 5,
    "start_time": "2022-02-26T16:47:29.191Z"
   },
   {
    "duration": 219,
    "start_time": "2022-02-26T16:47:50.413Z"
   },
   {
    "duration": 6,
    "start_time": "2022-02-26T16:47:57.549Z"
   },
   {
    "duration": 232,
    "start_time": "2022-02-26T16:48:16.509Z"
   },
   {
    "duration": 160,
    "start_time": "2022-02-26T16:48:31.678Z"
   },
   {
    "duration": 2083,
    "start_time": "2022-02-26T16:55:31.068Z"
   },
   {
    "duration": 6,
    "start_time": "2022-02-26T16:56:10.102Z"
   },
   {
    "duration": 142,
    "start_time": "2022-02-26T16:56:33.414Z"
   },
   {
    "duration": 6,
    "start_time": "2022-02-26T16:56:44.831Z"
   },
   {
    "duration": 1736,
    "start_time": "2022-02-26T16:56:58.439Z"
   },
   {
    "duration": 428,
    "start_time": "2022-02-26T16:57:20.607Z"
   },
   {
    "duration": 131,
    "start_time": "2022-02-26T16:59:10.056Z"
   },
   {
    "duration": 1050,
    "start_time": "2022-02-26T16:59:36.393Z"
   },
   {
    "duration": 32,
    "start_time": "2022-02-26T16:59:37.445Z"
   },
   {
    "duration": 3,
    "start_time": "2022-02-26T16:59:37.481Z"
   },
   {
    "duration": 90,
    "start_time": "2022-02-26T16:59:37.485Z"
   },
   {
    "duration": 3,
    "start_time": "2022-02-26T16:59:37.577Z"
   },
   {
    "duration": 31,
    "start_time": "2022-02-26T16:59:37.582Z"
   },
   {
    "duration": 25,
    "start_time": "2022-02-26T16:59:37.615Z"
   },
   {
    "duration": 5,
    "start_time": "2022-02-26T16:59:37.642Z"
   },
   {
    "duration": 12,
    "start_time": "2022-02-26T16:59:37.648Z"
   },
   {
    "duration": 10,
    "start_time": "2022-02-26T16:59:37.662Z"
   },
   {
    "duration": 5,
    "start_time": "2022-02-26T16:59:37.674Z"
   },
   {
    "duration": 8,
    "start_time": "2022-02-26T16:59:37.681Z"
   },
   {
    "duration": 43,
    "start_time": "2022-02-26T16:59:37.690Z"
   },
   {
    "duration": 15,
    "start_time": "2022-02-26T16:59:37.734Z"
   },
   {
    "duration": 9,
    "start_time": "2022-02-26T16:59:37.751Z"
   },
   {
    "duration": 556,
    "start_time": "2022-02-26T16:59:37.762Z"
   },
   {
    "duration": 18,
    "start_time": "2022-02-26T16:59:38.320Z"
   },
   {
    "duration": 3,
    "start_time": "2022-02-26T16:59:38.339Z"
   },
   {
    "duration": 6,
    "start_time": "2022-02-26T16:59:38.344Z"
   },
   {
    "duration": 17,
    "start_time": "2022-02-26T16:59:38.352Z"
   },
   {
    "duration": 425,
    "start_time": "2022-02-26T16:59:38.370Z"
   },
   {
    "duration": 6,
    "start_time": "2022-02-26T16:59:38.798Z"
   },
   {
    "duration": 29,
    "start_time": "2022-02-26T16:59:38.806Z"
   },
   {
    "duration": 343,
    "start_time": "2022-02-26T16:59:38.837Z"
   },
   {
    "duration": 296,
    "start_time": "2022-02-26T16:59:39.182Z"
   },
   {
    "duration": 715,
    "start_time": "2022-02-26T16:59:39.479Z"
   },
   {
    "duration": 662,
    "start_time": "2022-02-26T16:59:40.196Z"
   },
   {
    "duration": 6,
    "start_time": "2022-02-26T16:59:40.859Z"
   },
   {
    "duration": 371,
    "start_time": "2022-02-26T16:59:40.866Z"
   },
   {
    "duration": 324,
    "start_time": "2022-02-26T16:59:41.239Z"
   },
   {
    "duration": 31,
    "start_time": "2022-02-26T16:59:41.565Z"
   },
   {
    "duration": 43,
    "start_time": "2022-02-26T16:59:41.597Z"
   },
   {
    "duration": 272,
    "start_time": "2022-02-26T16:59:41.641Z"
   },
   {
    "duration": 4,
    "start_time": "2022-02-26T16:59:41.915Z"
   },
   {
    "duration": 275,
    "start_time": "2022-02-26T16:59:41.920Z"
   },
   {
    "duration": 4,
    "start_time": "2022-02-26T16:59:42.197Z"
   },
   {
    "duration": 290,
    "start_time": "2022-02-26T16:59:42.202Z"
   },
   {
    "duration": 4,
    "start_time": "2022-02-26T16:59:42.494Z"
   },
   {
    "duration": 277,
    "start_time": "2022-02-26T16:59:42.499Z"
   },
   {
    "duration": 7,
    "start_time": "2022-02-26T16:59:42.777Z"
   },
   {
    "duration": 11,
    "start_time": "2022-02-26T16:59:42.785Z"
   },
   {
    "duration": 214,
    "start_time": "2022-02-26T16:59:42.797Z"
   },
   {
    "duration": 6,
    "start_time": "2022-02-26T17:00:26.730Z"
   },
   {
    "duration": 239,
    "start_time": "2022-02-26T17:01:05.787Z"
   },
   {
    "duration": 450,
    "start_time": "2022-02-26T17:02:29.609Z"
   },
   {
    "duration": 292,
    "start_time": "2022-02-26T17:02:54.780Z"
   },
   {
    "duration": 319,
    "start_time": "2022-02-26T17:03:31.516Z"
   },
   {
    "duration": 319,
    "start_time": "2022-02-26T17:04:15.108Z"
   },
   {
    "duration": 4820,
    "start_time": "2022-02-26T17:05:58.692Z"
   },
   {
    "duration": 4848,
    "start_time": "2022-02-26T17:06:09.412Z"
   },
   {
    "duration": 192,
    "start_time": "2022-02-26T17:06:18.955Z"
   },
   {
    "duration": 1115,
    "start_time": "2022-02-26T17:07:37.324Z"
   },
   {
    "duration": 31,
    "start_time": "2022-02-26T17:07:38.441Z"
   },
   {
    "duration": 3,
    "start_time": "2022-02-26T17:07:38.474Z"
   },
   {
    "duration": 61,
    "start_time": "2022-02-26T17:07:38.478Z"
   },
   {
    "duration": 2,
    "start_time": "2022-02-26T17:07:38.541Z"
   },
   {
    "duration": 18,
    "start_time": "2022-02-26T17:07:38.545Z"
   },
   {
    "duration": 9,
    "start_time": "2022-02-26T17:07:38.565Z"
   },
   {
    "duration": 4,
    "start_time": "2022-02-26T17:07:38.577Z"
   },
   {
    "duration": 9,
    "start_time": "2022-02-26T17:07:38.584Z"
   },
   {
    "duration": 42,
    "start_time": "2022-02-26T17:07:38.595Z"
   },
   {
    "duration": 5,
    "start_time": "2022-02-26T17:07:38.639Z"
   },
   {
    "duration": 7,
    "start_time": "2022-02-26T17:07:38.645Z"
   },
   {
    "duration": 11,
    "start_time": "2022-02-26T17:07:38.654Z"
   },
   {
    "duration": 15,
    "start_time": "2022-02-26T17:07:38.666Z"
   },
   {
    "duration": 10,
    "start_time": "2022-02-26T17:07:38.682Z"
   },
   {
    "duration": 569,
    "start_time": "2022-02-26T17:07:38.693Z"
   },
   {
    "duration": 15,
    "start_time": "2022-02-26T17:07:39.263Z"
   },
   {
    "duration": 4,
    "start_time": "2022-02-26T17:07:39.279Z"
   },
   {
    "duration": 7,
    "start_time": "2022-02-26T17:07:39.285Z"
   },
   {
    "duration": 51,
    "start_time": "2022-02-26T17:07:39.294Z"
   },
   {
    "duration": 404,
    "start_time": "2022-02-26T17:07:39.346Z"
   },
   {
    "duration": 7,
    "start_time": "2022-02-26T17:07:39.751Z"
   },
   {
    "duration": 18,
    "start_time": "2022-02-26T17:07:39.761Z"
   },
   {
    "duration": 359,
    "start_time": "2022-02-26T17:07:39.781Z"
   },
   {
    "duration": 296,
    "start_time": "2022-02-26T17:07:40.142Z"
   },
   {
    "duration": 725,
    "start_time": "2022-02-26T17:07:40.440Z"
   },
   {
    "duration": 651,
    "start_time": "2022-02-26T17:07:41.168Z"
   },
   {
    "duration": 11,
    "start_time": "2022-02-26T17:07:41.821Z"
   },
   {
    "duration": 339,
    "start_time": "2022-02-26T17:07:41.834Z"
   },
   {
    "duration": 375,
    "start_time": "2022-02-26T17:07:42.175Z"
   },
   {
    "duration": 30,
    "start_time": "2022-02-26T17:07:42.552Z"
   },
   {
    "duration": 20,
    "start_time": "2022-02-26T17:07:42.584Z"
   },
   {
    "duration": 292,
    "start_time": "2022-02-26T17:07:42.606Z"
   },
   {
    "duration": 4,
    "start_time": "2022-02-26T17:07:42.900Z"
   },
   {
    "duration": 287,
    "start_time": "2022-02-26T17:07:42.906Z"
   },
   {
    "duration": 4,
    "start_time": "2022-02-26T17:07:43.195Z"
   },
   {
    "duration": 280,
    "start_time": "2022-02-26T17:07:43.201Z"
   },
   {
    "duration": 3,
    "start_time": "2022-02-26T17:07:43.483Z"
   },
   {
    "duration": 279,
    "start_time": "2022-02-26T17:07:43.488Z"
   },
   {
    "duration": 7,
    "start_time": "2022-02-26T17:07:43.769Z"
   },
   {
    "duration": 11,
    "start_time": "2022-02-26T17:07:43.777Z"
   },
   {
    "duration": 5,
    "start_time": "2022-02-26T17:07:43.789Z"
   },
   {
    "duration": 6,
    "start_time": "2022-02-26T17:07:43.796Z"
   },
   {
    "duration": 5,
    "start_time": "2022-02-26T17:09:37.619Z"
   },
   {
    "duration": 7,
    "start_time": "2022-02-26T17:09:58.774Z"
   },
   {
    "duration": 5,
    "start_time": "2022-02-26T17:10:04.815Z"
   },
   {
    "duration": 8,
    "start_time": "2022-02-26T17:13:18.179Z"
   },
   {
    "duration": 6,
    "start_time": "2022-02-26T17:13:18.998Z"
   },
   {
    "duration": 4,
    "start_time": "2022-02-26T17:13:57.421Z"
   },
   {
    "duration": 6,
    "start_time": "2022-02-26T17:16:37.366Z"
   },
   {
    "duration": 4,
    "start_time": "2022-02-26T17:16:38.856Z"
   },
   {
    "duration": 3,
    "start_time": "2022-02-26T17:16:43.660Z"
   },
   {
    "duration": 6,
    "start_time": "2022-02-26T17:16:44.175Z"
   },
   {
    "duration": 4,
    "start_time": "2022-02-26T17:16:44.975Z"
   },
   {
    "duration": 1106,
    "start_time": "2022-02-26T17:17:02.241Z"
   },
   {
    "duration": 35,
    "start_time": "2022-02-26T17:17:03.349Z"
   },
   {
    "duration": 3,
    "start_time": "2022-02-26T17:17:03.385Z"
   },
   {
    "duration": 54,
    "start_time": "2022-02-26T17:17:03.390Z"
   },
   {
    "duration": 3,
    "start_time": "2022-02-26T17:17:03.445Z"
   },
   {
    "duration": 17,
    "start_time": "2022-02-26T17:17:03.450Z"
   },
   {
    "duration": 10,
    "start_time": "2022-02-26T17:17:03.468Z"
   },
   {
    "duration": 4,
    "start_time": "2022-02-26T17:17:03.480Z"
   },
   {
    "duration": 9,
    "start_time": "2022-02-26T17:17:03.486Z"
   },
   {
    "duration": 42,
    "start_time": "2022-02-26T17:17:03.497Z"
   },
   {
    "duration": 5,
    "start_time": "2022-02-26T17:17:03.541Z"
   },
   {
    "duration": 10,
    "start_time": "2022-02-26T17:17:03.547Z"
   },
   {
    "duration": 14,
    "start_time": "2022-02-26T17:17:03.558Z"
   },
   {
    "duration": 14,
    "start_time": "2022-02-26T17:17:03.574Z"
   },
   {
    "duration": 9,
    "start_time": "2022-02-26T17:17:03.589Z"
   },
   {
    "duration": 572,
    "start_time": "2022-02-26T17:17:03.600Z"
   },
   {
    "duration": 14,
    "start_time": "2022-02-26T17:17:04.173Z"
   },
   {
    "duration": 3,
    "start_time": "2022-02-26T17:17:04.188Z"
   },
   {
    "duration": 7,
    "start_time": "2022-02-26T17:17:04.192Z"
   },
   {
    "duration": 40,
    "start_time": "2022-02-26T17:17:04.201Z"
   },
   {
    "duration": 398,
    "start_time": "2022-02-26T17:17:04.242Z"
   },
   {
    "duration": 8,
    "start_time": "2022-02-26T17:17:04.642Z"
   },
   {
    "duration": 14,
    "start_time": "2022-02-26T17:17:04.654Z"
   },
   {
    "duration": 361,
    "start_time": "2022-02-26T17:17:04.671Z"
   },
   {
    "duration": 308,
    "start_time": "2022-02-26T17:17:05.033Z"
   },
   {
    "duration": 734,
    "start_time": "2022-02-26T17:17:05.343Z"
   },
   {
    "duration": 674,
    "start_time": "2022-02-26T17:17:06.079Z"
   },
   {
    "duration": 5,
    "start_time": "2022-02-26T17:17:06.755Z"
   },
   {
    "duration": 413,
    "start_time": "2022-02-26T17:17:06.762Z"
   },
   {
    "duration": 390,
    "start_time": "2022-02-26T17:17:07.177Z"
   },
   {
    "duration": 28,
    "start_time": "2022-02-26T17:17:07.569Z"
   },
   {
    "duration": 39,
    "start_time": "2022-02-26T17:17:07.599Z"
   },
   {
    "duration": 268,
    "start_time": "2022-02-26T17:17:07.640Z"
   },
   {
    "duration": 4,
    "start_time": "2022-02-26T17:17:07.909Z"
   },
   {
    "duration": 268,
    "start_time": "2022-02-26T17:17:07.915Z"
   },
   {
    "duration": 4,
    "start_time": "2022-02-26T17:17:08.184Z"
   },
   {
    "duration": 273,
    "start_time": "2022-02-26T17:17:08.189Z"
   },
   {
    "duration": 3,
    "start_time": "2022-02-26T17:17:08.464Z"
   },
   {
    "duration": 275,
    "start_time": "2022-02-26T17:17:08.469Z"
   },
   {
    "duration": 7,
    "start_time": "2022-02-26T17:17:08.746Z"
   },
   {
    "duration": 9,
    "start_time": "2022-02-26T17:17:08.754Z"
   },
   {
    "duration": 4,
    "start_time": "2022-02-26T17:17:08.765Z"
   },
   {
    "duration": 7,
    "start_time": "2022-02-26T17:17:08.770Z"
   },
   {
    "duration": 4,
    "start_time": "2022-02-26T17:17:08.779Z"
   },
   {
    "duration": 8,
    "start_time": "2022-02-26T17:17:08.785Z"
   },
   {
    "duration": 44,
    "start_time": "2022-02-26T17:17:08.794Z"
   },
   {
    "duration": 4,
    "start_time": "2022-02-26T17:17:08.840Z"
   },
   {
    "duration": 4,
    "start_time": "2022-02-26T17:17:56.143Z"
   },
   {
    "duration": 6,
    "start_time": "2022-02-26T17:18:00.056Z"
   },
   {
    "duration": 9,
    "start_time": "2022-02-26T17:18:01.088Z"
   },
   {
    "duration": 6,
    "start_time": "2022-02-26T17:18:08.823Z"
   },
   {
    "duration": 8,
    "start_time": "2022-02-26T17:18:15.078Z"
   },
   {
    "duration": 240,
    "start_time": "2022-02-26T17:21:10.971Z"
   },
   {
    "duration": 8,
    "start_time": "2022-02-26T17:21:24.414Z"
   },
   {
    "duration": 10,
    "start_time": "2022-02-26T17:21:35.059Z"
   },
   {
    "duration": 5,
    "start_time": "2022-02-26T17:21:35.769Z"
   },
   {
    "duration": 3,
    "start_time": "2022-02-26T17:21:37.985Z"
   },
   {
    "duration": 4,
    "start_time": "2022-02-26T17:21:40.185Z"
   },
   {
    "duration": 10,
    "start_time": "2022-02-26T17:21:53.772Z"
   },
   {
    "duration": 6,
    "start_time": "2022-02-26T17:21:54.458Z"
   },
   {
    "duration": 4,
    "start_time": "2022-02-26T17:21:55.794Z"
   },
   {
    "duration": 5,
    "start_time": "2022-02-26T17:21:57.105Z"
   },
   {
    "duration": 9,
    "start_time": "2022-02-26T17:23:32.686Z"
   },
   {
    "duration": 6,
    "start_time": "2022-02-26T17:23:33.329Z"
   },
   {
    "duration": 4,
    "start_time": "2022-02-26T17:23:35.283Z"
   },
   {
    "duration": 1119,
    "start_time": "2022-02-26T17:24:43.137Z"
   },
   {
    "duration": 32,
    "start_time": "2022-02-26T17:24:44.257Z"
   },
   {
    "duration": 3,
    "start_time": "2022-02-26T17:24:44.291Z"
   },
   {
    "duration": 67,
    "start_time": "2022-02-26T17:24:44.296Z"
   },
   {
    "duration": 3,
    "start_time": "2022-02-26T17:24:44.364Z"
   },
   {
    "duration": 20,
    "start_time": "2022-02-26T17:24:44.369Z"
   },
   {
    "duration": 10,
    "start_time": "2022-02-26T17:24:44.391Z"
   },
   {
    "duration": 4,
    "start_time": "2022-02-26T17:24:44.403Z"
   },
   {
    "duration": 30,
    "start_time": "2022-02-26T17:24:44.409Z"
   },
   {
    "duration": 9,
    "start_time": "2022-02-26T17:24:44.441Z"
   },
   {
    "duration": 5,
    "start_time": "2022-02-26T17:24:44.452Z"
   },
   {
    "duration": 6,
    "start_time": "2022-02-26T17:24:44.459Z"
   },
   {
    "duration": 9,
    "start_time": "2022-02-26T17:24:44.466Z"
   },
   {
    "duration": 14,
    "start_time": "2022-02-26T17:24:44.476Z"
   },
   {
    "duration": 47,
    "start_time": "2022-02-26T17:24:44.492Z"
   },
   {
    "duration": 558,
    "start_time": "2022-02-26T17:24:44.541Z"
   },
   {
    "duration": 15,
    "start_time": "2022-02-26T17:24:45.101Z"
   },
   {
    "duration": 16,
    "start_time": "2022-02-26T17:24:45.117Z"
   },
   {
    "duration": 8,
    "start_time": "2022-02-26T17:24:45.134Z"
   },
   {
    "duration": 20,
    "start_time": "2022-02-26T17:24:45.143Z"
   },
   {
    "duration": 413,
    "start_time": "2022-02-26T17:24:45.165Z"
   },
   {
    "duration": 6,
    "start_time": "2022-02-26T17:24:45.579Z"
   },
   {
    "duration": 13,
    "start_time": "2022-02-26T17:24:45.588Z"
   },
   {
    "duration": 354,
    "start_time": "2022-02-26T17:24:45.603Z"
   },
   {
    "duration": 298,
    "start_time": "2022-02-26T17:24:45.959Z"
   },
   {
    "duration": 706,
    "start_time": "2022-02-26T17:24:46.259Z"
   },
   {
    "duration": 636,
    "start_time": "2022-02-26T17:24:46.966Z"
   },
   {
    "duration": 6,
    "start_time": "2022-02-26T17:24:47.603Z"
   },
   {
    "duration": 360,
    "start_time": "2022-02-26T17:24:47.611Z"
   },
   {
    "duration": 369,
    "start_time": "2022-02-26T17:24:47.972Z"
   },
   {
    "duration": 30,
    "start_time": "2022-02-26T17:24:48.342Z"
   },
   {
    "duration": 20,
    "start_time": "2022-02-26T17:24:48.373Z"
   },
   {
    "duration": 302,
    "start_time": "2022-02-26T17:24:48.395Z"
   },
   {
    "duration": 4,
    "start_time": "2022-02-26T17:24:48.700Z"
   },
   {
    "duration": 276,
    "start_time": "2022-02-26T17:24:48.706Z"
   },
   {
    "duration": 4,
    "start_time": "2022-02-26T17:24:48.984Z"
   },
   {
    "duration": 284,
    "start_time": "2022-02-26T17:24:48.989Z"
   },
   {
    "duration": 4,
    "start_time": "2022-02-26T17:24:49.274Z"
   },
   {
    "duration": 276,
    "start_time": "2022-02-26T17:24:49.279Z"
   },
   {
    "duration": 9,
    "start_time": "2022-02-26T17:24:49.557Z"
   },
   {
    "duration": 8,
    "start_time": "2022-02-26T17:24:49.567Z"
   },
   {
    "duration": 3,
    "start_time": "2022-02-26T17:24:49.577Z"
   },
   {
    "duration": 8,
    "start_time": "2022-02-26T17:24:49.581Z"
   },
   {
    "duration": 12,
    "start_time": "2022-02-26T17:24:49.591Z"
   },
   {
    "duration": 31,
    "start_time": "2022-02-26T17:24:49.605Z"
   },
   {
    "duration": 4,
    "start_time": "2022-02-26T17:24:49.639Z"
   },
   {
    "duration": 1062,
    "start_time": "2022-02-26T17:39:03.404Z"
   },
   {
    "duration": 33,
    "start_time": "2022-02-26T17:39:04.467Z"
   },
   {
    "duration": 3,
    "start_time": "2022-02-26T17:39:04.502Z"
   },
   {
    "duration": 60,
    "start_time": "2022-02-26T17:39:04.506Z"
   },
   {
    "duration": 3,
    "start_time": "2022-02-26T17:39:04.567Z"
   },
   {
    "duration": 19,
    "start_time": "2022-02-26T17:39:04.571Z"
   },
   {
    "duration": 11,
    "start_time": "2022-02-26T17:39:04.592Z"
   },
   {
    "duration": 30,
    "start_time": "2022-02-26T17:39:04.605Z"
   },
   {
    "duration": 11,
    "start_time": "2022-02-26T17:39:04.637Z"
   },
   {
    "duration": 11,
    "start_time": "2022-02-26T17:39:04.649Z"
   },
   {
    "duration": 5,
    "start_time": "2022-02-26T17:39:04.662Z"
   },
   {
    "duration": 5,
    "start_time": "2022-02-26T17:39:04.669Z"
   },
   {
    "duration": 9,
    "start_time": "2022-02-26T17:39:04.676Z"
   },
   {
    "duration": 48,
    "start_time": "2022-02-26T17:39:04.686Z"
   },
   {
    "duration": 11,
    "start_time": "2022-02-26T17:39:04.736Z"
   },
   {
    "duration": 551,
    "start_time": "2022-02-26T17:39:04.749Z"
   },
   {
    "duration": 14,
    "start_time": "2022-02-26T17:39:05.302Z"
   },
   {
    "duration": 16,
    "start_time": "2022-02-26T17:39:05.318Z"
   },
   {
    "duration": 7,
    "start_time": "2022-02-26T17:39:05.335Z"
   },
   {
    "duration": 26,
    "start_time": "2022-02-26T17:39:05.344Z"
   },
   {
    "duration": 410,
    "start_time": "2022-02-26T17:39:05.371Z"
   },
   {
    "duration": 6,
    "start_time": "2022-02-26T17:39:05.783Z"
   },
   {
    "duration": 14,
    "start_time": "2022-02-26T17:39:05.792Z"
   },
   {
    "duration": 362,
    "start_time": "2022-02-26T17:39:05.808Z"
   },
   {
    "duration": 287,
    "start_time": "2022-02-26T17:39:06.171Z"
   },
   {
    "duration": 732,
    "start_time": "2022-02-26T17:39:06.460Z"
   },
   {
    "duration": 678,
    "start_time": "2022-02-26T17:39:07.193Z"
   },
   {
    "duration": 5,
    "start_time": "2022-02-26T17:39:07.873Z"
   },
   {
    "duration": 390,
    "start_time": "2022-02-26T17:39:07.879Z"
   },
   {
    "duration": 368,
    "start_time": "2022-02-26T17:39:08.270Z"
   },
   {
    "duration": 27,
    "start_time": "2022-02-26T17:39:08.640Z"
   },
   {
    "duration": 18,
    "start_time": "2022-02-26T17:39:08.668Z"
   },
   {
    "duration": 288,
    "start_time": "2022-02-26T17:39:08.688Z"
   },
   {
    "duration": 3,
    "start_time": "2022-02-26T17:39:08.978Z"
   },
   {
    "duration": 268,
    "start_time": "2022-02-26T17:39:08.983Z"
   },
   {
    "duration": 3,
    "start_time": "2022-02-26T17:39:09.253Z"
   },
   {
    "duration": 278,
    "start_time": "2022-02-26T17:39:09.258Z"
   },
   {
    "duration": 3,
    "start_time": "2022-02-26T17:39:09.538Z"
   },
   {
    "duration": 272,
    "start_time": "2022-02-26T17:39:09.543Z"
   },
   {
    "duration": 21,
    "start_time": "2022-02-26T17:39:09.818Z"
   },
   {
    "duration": 9,
    "start_time": "2022-02-26T17:39:09.840Z"
   },
   {
    "duration": 4,
    "start_time": "2022-02-26T17:39:09.850Z"
   },
   {
    "duration": 5,
    "start_time": "2022-02-26T17:39:09.856Z"
   },
   {
    "duration": 9,
    "start_time": "2022-02-26T17:39:09.863Z"
   },
   {
    "duration": 7,
    "start_time": "2022-02-26T17:39:09.874Z"
   },
   {
    "duration": 5,
    "start_time": "2022-02-26T17:39:09.883Z"
   },
   {
    "duration": 176,
    "start_time": "2022-02-26T17:40:05.626Z"
   },
   {
    "duration": 2335,
    "start_time": "2022-02-26T17:42:22.442Z"
   },
   {
    "duration": 285,
    "start_time": "2022-02-26T17:43:06.410Z"
   },
   {
    "duration": 222,
    "start_time": "2022-02-26T17:43:18.119Z"
   },
   {
    "duration": 221,
    "start_time": "2022-02-26T17:44:07.962Z"
   },
   {
    "duration": 1128,
    "start_time": "2022-02-26T17:44:18.031Z"
   },
   {
    "duration": 32,
    "start_time": "2022-02-26T17:44:19.160Z"
   },
   {
    "duration": 3,
    "start_time": "2022-02-26T17:44:19.194Z"
   },
   {
    "duration": 61,
    "start_time": "2022-02-26T17:44:19.198Z"
   },
   {
    "duration": 3,
    "start_time": "2022-02-26T17:44:19.260Z"
   },
   {
    "duration": 21,
    "start_time": "2022-02-26T17:44:19.265Z"
   },
   {
    "duration": 11,
    "start_time": "2022-02-26T17:44:19.287Z"
   },
   {
    "duration": 4,
    "start_time": "2022-02-26T17:44:19.300Z"
   },
   {
    "duration": 31,
    "start_time": "2022-02-26T17:44:19.306Z"
   },
   {
    "duration": 9,
    "start_time": "2022-02-26T17:44:19.339Z"
   },
   {
    "duration": 5,
    "start_time": "2022-02-26T17:44:19.350Z"
   },
   {
    "duration": 10,
    "start_time": "2022-02-26T17:44:19.357Z"
   },
   {
    "duration": 10,
    "start_time": "2022-02-26T17:44:19.368Z"
   },
   {
    "duration": 14,
    "start_time": "2022-02-26T17:44:19.379Z"
   },
   {
    "duration": 42,
    "start_time": "2022-02-26T17:44:19.394Z"
   },
   {
    "duration": 547,
    "start_time": "2022-02-26T17:44:19.438Z"
   },
   {
    "duration": 13,
    "start_time": "2022-02-26T17:44:19.987Z"
   },
   {
    "duration": 4,
    "start_time": "2022-02-26T17:44:20.001Z"
   },
   {
    "duration": 30,
    "start_time": "2022-02-26T17:44:20.006Z"
   },
   {
    "duration": 23,
    "start_time": "2022-02-26T17:44:20.038Z"
   },
   {
    "duration": 415,
    "start_time": "2022-02-26T17:44:20.063Z"
   },
   {
    "duration": 6,
    "start_time": "2022-02-26T17:44:20.480Z"
   },
   {
    "duration": 14,
    "start_time": "2022-02-26T17:44:20.489Z"
   },
   {
    "duration": 350,
    "start_time": "2022-02-26T17:44:20.505Z"
   },
   {
    "duration": 304,
    "start_time": "2022-02-26T17:44:20.857Z"
   },
   {
    "duration": 694,
    "start_time": "2022-02-26T17:44:21.162Z"
   },
   {
    "duration": 655,
    "start_time": "2022-02-26T17:44:21.858Z"
   },
   {
    "duration": 5,
    "start_time": "2022-02-26T17:44:22.514Z"
   },
   {
    "duration": 342,
    "start_time": "2022-02-26T17:44:22.521Z"
   },
   {
    "duration": 508,
    "start_time": "2022-02-26T17:44:22.865Z"
   },
   {
    "duration": 86,
    "start_time": "2022-02-26T17:44:23.376Z"
   },
   {
    "duration": 20,
    "start_time": "2022-02-26T17:44:23.464Z"
   },
   {
    "duration": 316,
    "start_time": "2022-02-26T17:44:23.486Z"
   },
   {
    "duration": 4,
    "start_time": "2022-02-26T17:44:23.804Z"
   },
   {
    "duration": 415,
    "start_time": "2022-02-26T17:44:23.810Z"
   },
   {
    "duration": 5,
    "start_time": "2022-02-26T17:44:24.232Z"
   },
   {
    "duration": 278,
    "start_time": "2022-02-26T17:44:24.239Z"
   },
   {
    "duration": 14,
    "start_time": "2022-02-26T17:44:24.519Z"
   },
   {
    "duration": 286,
    "start_time": "2022-02-26T17:44:24.534Z"
   },
   {
    "duration": 16,
    "start_time": "2022-02-26T17:44:24.822Z"
   },
   {
    "duration": 8,
    "start_time": "2022-02-26T17:44:24.840Z"
   },
   {
    "duration": 248,
    "start_time": "2022-02-26T17:44:24.850Z"
   },
   {
    "duration": 3,
    "start_time": "2022-02-26T17:44:25.099Z"
   },
   {
    "duration": 487,
    "start_time": "2022-02-26T17:44:25.104Z"
   },
   {
    "duration": -319,
    "start_time": "2022-02-26T17:44:25.912Z"
   },
   {
    "duration": -329,
    "start_time": "2022-02-26T17:44:25.922Z"
   },
   {
    "duration": -341,
    "start_time": "2022-02-26T17:44:25.935Z"
   },
   {
    "duration": -351,
    "start_time": "2022-02-26T17:44:25.946Z"
   },
   {
    "duration": 579,
    "start_time": "2022-02-26T17:45:46.316Z"
   },
   {
    "duration": 558,
    "start_time": "2022-02-26T17:45:59.356Z"
   },
   {
    "duration": 470,
    "start_time": "2022-02-26T17:46:07.133Z"
   },
   {
    "duration": 541,
    "start_time": "2022-02-26T17:46:11.723Z"
   },
   {
    "duration": 694,
    "start_time": "2022-02-26T17:46:18.714Z"
   },
   {
    "duration": 675,
    "start_time": "2022-02-26T17:46:29.629Z"
   },
   {
    "duration": 1094,
    "start_time": "2022-02-26T17:47:49.047Z"
   },
   {
    "duration": 31,
    "start_time": "2022-02-26T17:47:50.143Z"
   },
   {
    "duration": 3,
    "start_time": "2022-02-26T17:47:50.176Z"
   },
   {
    "duration": 71,
    "start_time": "2022-02-26T17:47:50.181Z"
   },
   {
    "duration": 3,
    "start_time": "2022-02-26T17:47:50.254Z"
   },
   {
    "duration": 19,
    "start_time": "2022-02-26T17:47:50.259Z"
   },
   {
    "duration": 11,
    "start_time": "2022-02-26T17:47:50.280Z"
   },
   {
    "duration": 4,
    "start_time": "2022-02-26T17:47:50.293Z"
   },
   {
    "duration": 42,
    "start_time": "2022-02-26T17:47:50.299Z"
   },
   {
    "duration": 8,
    "start_time": "2022-02-26T17:47:50.343Z"
   },
   {
    "duration": 5,
    "start_time": "2022-02-26T17:47:50.353Z"
   },
   {
    "duration": 8,
    "start_time": "2022-02-26T17:47:50.359Z"
   },
   {
    "duration": 10,
    "start_time": "2022-02-26T17:47:50.369Z"
   },
   {
    "duration": 14,
    "start_time": "2022-02-26T17:47:50.380Z"
   },
   {
    "duration": 42,
    "start_time": "2022-02-26T17:47:50.396Z"
   },
   {
    "duration": 555,
    "start_time": "2022-02-26T17:47:50.440Z"
   },
   {
    "duration": 14,
    "start_time": "2022-02-26T17:47:50.997Z"
   },
   {
    "duration": 3,
    "start_time": "2022-02-26T17:47:51.013Z"
   },
   {
    "duration": 7,
    "start_time": "2022-02-26T17:47:51.033Z"
   },
   {
    "duration": 19,
    "start_time": "2022-02-26T17:47:51.041Z"
   },
   {
    "duration": 419,
    "start_time": "2022-02-26T17:47:51.062Z"
   },
   {
    "duration": 7,
    "start_time": "2022-02-26T17:47:51.483Z"
   },
   {
    "duration": 13,
    "start_time": "2022-02-26T17:47:51.494Z"
   },
   {
    "duration": 458,
    "start_time": "2022-02-26T17:47:51.509Z"
   },
   {
    "duration": 307,
    "start_time": "2022-02-26T17:47:51.968Z"
   },
   {
    "duration": 737,
    "start_time": "2022-02-26T17:47:52.276Z"
   },
   {
    "duration": 659,
    "start_time": "2022-02-26T17:47:53.014Z"
   },
   {
    "duration": 5,
    "start_time": "2022-02-26T17:47:53.675Z"
   },
   {
    "duration": 373,
    "start_time": "2022-02-26T17:47:53.682Z"
   },
   {
    "duration": 381,
    "start_time": "2022-02-26T17:47:54.056Z"
   },
   {
    "duration": 30,
    "start_time": "2022-02-26T17:47:54.439Z"
   },
   {
    "duration": 18,
    "start_time": "2022-02-26T17:47:54.471Z"
   },
   {
    "duration": 299,
    "start_time": "2022-02-26T17:47:54.491Z"
   },
   {
    "duration": 4,
    "start_time": "2022-02-26T17:47:54.792Z"
   },
   {
    "duration": 290,
    "start_time": "2022-02-26T17:47:54.798Z"
   },
   {
    "duration": 4,
    "start_time": "2022-02-26T17:47:55.090Z"
   },
   {
    "duration": 293,
    "start_time": "2022-02-26T17:47:55.095Z"
   },
   {
    "duration": 4,
    "start_time": "2022-02-26T17:47:55.390Z"
   },
   {
    "duration": 279,
    "start_time": "2022-02-26T17:47:55.395Z"
   },
   {
    "duration": 225,
    "start_time": "2022-02-26T17:47:55.676Z"
   },
   {
    "duration": 10,
    "start_time": "2022-02-26T17:47:55.903Z"
   },
   {
    "duration": 21,
    "start_time": "2022-02-26T17:47:55.914Z"
   },
   {
    "duration": 4,
    "start_time": "2022-02-26T17:47:55.938Z"
   },
   {
    "duration": 6,
    "start_time": "2022-02-26T17:47:55.944Z"
   },
   {
    "duration": 483,
    "start_time": "2022-02-26T17:47:55.952Z"
   },
   {
    "duration": 13,
    "start_time": "2022-02-26T17:47:56.438Z"
   },
   {
    "duration": 8,
    "start_time": "2022-02-26T17:47:56.453Z"
   },
   {
    "duration": 5,
    "start_time": "2022-02-26T17:47:56.463Z"
   },
   {
    "duration": 1170,
    "start_time": "2022-02-26T17:48:47.797Z"
   },
   {
    "duration": 32,
    "start_time": "2022-02-26T17:48:48.969Z"
   },
   {
    "duration": 3,
    "start_time": "2022-02-26T17:48:49.006Z"
   },
   {
    "duration": 65,
    "start_time": "2022-02-26T17:48:49.010Z"
   },
   {
    "duration": 2,
    "start_time": "2022-02-26T17:48:49.077Z"
   },
   {
    "duration": 19,
    "start_time": "2022-02-26T17:48:49.081Z"
   },
   {
    "duration": 30,
    "start_time": "2022-02-26T17:48:49.103Z"
   },
   {
    "duration": 5,
    "start_time": "2022-02-26T17:48:49.135Z"
   },
   {
    "duration": 11,
    "start_time": "2022-02-26T17:48:49.141Z"
   },
   {
    "duration": 9,
    "start_time": "2022-02-26T17:48:49.154Z"
   },
   {
    "duration": 5,
    "start_time": "2022-02-26T17:48:49.164Z"
   },
   {
    "duration": 5,
    "start_time": "2022-02-26T17:48:49.171Z"
   },
   {
    "duration": 9,
    "start_time": "2022-02-26T17:48:49.178Z"
   },
   {
    "duration": 57,
    "start_time": "2022-02-26T17:48:49.188Z"
   },
   {
    "duration": 10,
    "start_time": "2022-02-26T17:48:49.247Z"
   },
   {
    "duration": 557,
    "start_time": "2022-02-26T17:48:49.259Z"
   },
   {
    "duration": 23,
    "start_time": "2022-02-26T17:48:49.818Z"
   },
   {
    "duration": 4,
    "start_time": "2022-02-26T17:48:49.842Z"
   },
   {
    "duration": 8,
    "start_time": "2022-02-26T17:48:49.848Z"
   },
   {
    "duration": 18,
    "start_time": "2022-02-26T17:48:49.857Z"
   },
   {
    "duration": 428,
    "start_time": "2022-02-26T17:48:49.877Z"
   },
   {
    "duration": 6,
    "start_time": "2022-02-26T17:48:50.309Z"
   },
   {
    "duration": 28,
    "start_time": "2022-02-26T17:48:50.317Z"
   },
   {
    "duration": 436,
    "start_time": "2022-02-26T17:48:50.346Z"
   },
   {
    "duration": 300,
    "start_time": "2022-02-26T17:48:50.783Z"
   },
   {
    "duration": 709,
    "start_time": "2022-02-26T17:48:51.084Z"
   },
   {
    "duration": 651,
    "start_time": "2022-02-26T17:48:51.795Z"
   },
   {
    "duration": 6,
    "start_time": "2022-02-26T17:48:52.447Z"
   },
   {
    "duration": 386,
    "start_time": "2022-02-26T17:48:52.455Z"
   },
   {
    "duration": 324,
    "start_time": "2022-02-26T17:48:52.842Z"
   },
   {
    "duration": 29,
    "start_time": "2022-02-26T17:48:53.167Z"
   },
   {
    "duration": 36,
    "start_time": "2022-02-26T17:48:53.198Z"
   },
   {
    "duration": 285,
    "start_time": "2022-02-26T17:48:53.235Z"
   },
   {
    "duration": 10,
    "start_time": "2022-02-26T17:48:53.522Z"
   },
   {
    "duration": 260,
    "start_time": "2022-02-26T17:48:53.534Z"
   },
   {
    "duration": 4,
    "start_time": "2022-02-26T17:48:53.796Z"
   },
   {
    "duration": 278,
    "start_time": "2022-02-26T17:48:53.802Z"
   },
   {
    "duration": 3,
    "start_time": "2022-02-26T17:48:54.082Z"
   },
   {
    "duration": 280,
    "start_time": "2022-02-26T17:48:54.087Z"
   },
   {
    "duration": 222,
    "start_time": "2022-02-26T17:48:54.368Z"
   },
   {
    "duration": 8,
    "start_time": "2022-02-26T17:48:54.592Z"
   },
   {
    "duration": 7,
    "start_time": "2022-02-26T17:48:54.602Z"
   },
   {
    "duration": 3,
    "start_time": "2022-02-26T17:48:54.611Z"
   },
   {
    "duration": 4,
    "start_time": "2022-02-26T17:48:54.633Z"
   },
   {
    "duration": 297,
    "start_time": "2022-02-26T17:48:54.638Z"
   },
   {
    "duration": 10,
    "start_time": "2022-02-26T17:48:54.936Z"
   },
   {
    "duration": 9,
    "start_time": "2022-02-26T17:48:54.947Z"
   },
   {
    "duration": 9,
    "start_time": "2022-02-26T17:48:54.957Z"
   },
   {
    "duration": 279,
    "start_time": "2022-03-07T09:50:28.117Z"
   },
   {
    "duration": 83,
    "start_time": "2022-03-07T09:50:31.105Z"
   },
   {
    "duration": 1368,
    "start_time": "2022-03-07T09:50:44.745Z"
   },
   {
    "duration": 41,
    "start_time": "2022-03-07T09:50:46.116Z"
   },
   {
    "duration": 4,
    "start_time": "2022-03-07T09:50:46.160Z"
   },
   {
    "duration": 98,
    "start_time": "2022-03-07T09:50:46.166Z"
   },
   {
    "duration": 3,
    "start_time": "2022-03-07T09:50:46.267Z"
   },
   {
    "duration": 26,
    "start_time": "2022-03-07T09:50:46.272Z"
   },
   {
    "duration": 14,
    "start_time": "2022-03-07T09:50:46.300Z"
   },
   {
    "duration": 35,
    "start_time": "2022-03-07T09:50:46.316Z"
   },
   {
    "duration": 11,
    "start_time": "2022-03-07T09:50:46.356Z"
   },
   {
    "duration": 14,
    "start_time": "2022-03-07T09:50:46.370Z"
   },
   {
    "duration": 6,
    "start_time": "2022-03-07T09:50:46.387Z"
   },
   {
    "duration": 8,
    "start_time": "2022-03-07T09:50:46.396Z"
   },
   {
    "duration": 56,
    "start_time": "2022-03-07T09:50:46.407Z"
   },
   {
    "duration": 22,
    "start_time": "2022-03-07T09:50:46.465Z"
   },
   {
    "duration": 14,
    "start_time": "2022-03-07T09:50:46.490Z"
   },
   {
    "duration": 938,
    "start_time": "2022-03-07T09:50:46.506Z"
   },
   {
    "duration": 23,
    "start_time": "2022-03-07T09:50:47.446Z"
   },
   {
    "duration": 5,
    "start_time": "2022-03-07T09:50:47.471Z"
   },
   {
    "duration": 8,
    "start_time": "2022-03-07T09:50:47.479Z"
   },
   {
    "duration": 69,
    "start_time": "2022-03-07T09:50:47.489Z"
   },
   {
    "duration": 675,
    "start_time": "2022-03-07T09:50:47.561Z"
   },
   {
    "duration": 17,
    "start_time": "2022-03-07T09:50:48.239Z"
   },
   {
    "duration": 28,
    "start_time": "2022-03-07T09:50:48.259Z"
   },
   {
    "duration": 743,
    "start_time": "2022-03-07T09:50:48.290Z"
   },
   {
    "duration": 551,
    "start_time": "2022-03-07T09:50:49.035Z"
   },
   {
    "duration": 1019,
    "start_time": "2022-03-07T09:50:49.589Z"
   },
   {
    "duration": 1003,
    "start_time": "2022-03-07T09:50:50.613Z"
   },
   {
    "duration": 8,
    "start_time": "2022-03-07T09:50:51.620Z"
   },
   {
    "duration": 581,
    "start_time": "2022-03-07T09:50:51.630Z"
   },
   {
    "duration": 478,
    "start_time": "2022-03-07T09:50:52.213Z"
   },
   {
    "duration": 63,
    "start_time": "2022-03-07T09:50:52.693Z"
   },
   {
    "duration": 31,
    "start_time": "2022-03-07T09:50:52.758Z"
   },
   {
    "duration": 463,
    "start_time": "2022-03-07T09:50:52.791Z"
   },
   {
    "duration": 5,
    "start_time": "2022-03-07T09:50:53.256Z"
   },
   {
    "duration": 441,
    "start_time": "2022-03-07T09:50:53.264Z"
   },
   {
    "duration": 5,
    "start_time": "2022-03-07T09:50:53.707Z"
   },
   {
    "duration": 473,
    "start_time": "2022-03-07T09:50:53.715Z"
   },
   {
    "duration": 5,
    "start_time": "2022-03-07T09:50:54.190Z"
   },
   {
    "duration": 465,
    "start_time": "2022-03-07T09:50:54.198Z"
   },
   {
    "duration": 466,
    "start_time": "2022-03-07T09:50:54.665Z"
   },
   {
    "duration": 22,
    "start_time": "2022-03-07T09:50:55.133Z"
   },
   {
    "duration": 12,
    "start_time": "2022-03-07T09:50:55.158Z"
   },
   {
    "duration": 5,
    "start_time": "2022-03-07T09:50:55.172Z"
   },
   {
    "duration": 7,
    "start_time": "2022-03-07T09:50:55.180Z"
   },
   {
    "duration": 417,
    "start_time": "2022-03-07T09:50:55.189Z"
   },
   {
    "duration": 14,
    "start_time": "2022-03-07T09:50:55.608Z"
   },
   {
    "duration": 31,
    "start_time": "2022-03-07T09:50:55.624Z"
   },
   {
    "duration": 9,
    "start_time": "2022-03-07T09:50:55.657Z"
   },
   {
    "duration": 82,
    "start_time": "2022-03-07T09:52:03.891Z"
   },
   {
    "duration": 22,
    "start_time": "2022-03-07T09:55:55.565Z"
   },
   {
    "duration": 66,
    "start_time": "2022-03-07T09:58:48.345Z"
   },
   {
    "duration": 69,
    "start_time": "2022-03-07T09:59:23.987Z"
   },
   {
    "duration": 77,
    "start_time": "2022-03-07T10:03:03.467Z"
   },
   {
    "duration": 77,
    "start_time": "2022-03-07T10:12:39.216Z"
   },
   {
    "duration": 75,
    "start_time": "2022-03-07T10:15:29.229Z"
   },
   {
    "duration": 89,
    "start_time": "2022-03-07T10:23:16.495Z"
   },
   {
    "duration": 82,
    "start_time": "2022-03-07T10:27:11.874Z"
   },
   {
    "duration": 146,
    "start_time": "2022-03-07T12:40:33.634Z"
   },
   {
    "duration": 1477,
    "start_time": "2022-03-07T12:43:28.746Z"
   },
   {
    "duration": 52,
    "start_time": "2022-03-07T12:43:30.226Z"
   },
   {
    "duration": 4,
    "start_time": "2022-03-07T12:43:30.281Z"
   },
   {
    "duration": 109,
    "start_time": "2022-03-07T12:43:30.287Z"
   },
   {
    "duration": 4,
    "start_time": "2022-03-07T12:43:30.398Z"
   },
   {
    "duration": 30,
    "start_time": "2022-03-07T12:43:30.405Z"
   },
   {
    "duration": 16,
    "start_time": "2022-03-07T12:43:30.438Z"
   },
   {
    "duration": 6,
    "start_time": "2022-03-07T12:43:30.458Z"
   },
   {
    "duration": 25,
    "start_time": "2022-03-07T12:43:30.477Z"
   },
   {
    "duration": 31,
    "start_time": "2022-03-07T12:43:30.504Z"
   },
   {
    "duration": 22,
    "start_time": "2022-03-07T12:43:30.538Z"
   },
   {
    "duration": 10,
    "start_time": "2022-03-07T12:43:30.562Z"
   },
   {
    "duration": 30,
    "start_time": "2022-03-07T12:43:30.574Z"
   },
   {
    "duration": 25,
    "start_time": "2022-03-07T12:43:30.606Z"
   },
   {
    "duration": 9,
    "start_time": "2022-03-07T12:43:30.633Z"
   },
   {
    "duration": 224,
    "start_time": "2022-03-07T12:43:30.644Z"
   },
   {
    "duration": -2012,
    "start_time": "2022-03-07T12:43:32.883Z"
   },
   {
    "duration": -2074,
    "start_time": "2022-03-07T12:43:32.947Z"
   },
   {
    "duration": -2087,
    "start_time": "2022-03-07T12:43:32.961Z"
   },
   {
    "duration": -2102,
    "start_time": "2022-03-07T12:43:32.978Z"
   },
   {
    "duration": -2114,
    "start_time": "2022-03-07T12:43:32.991Z"
   },
   {
    "duration": -2124,
    "start_time": "2022-03-07T12:43:33.003Z"
   },
   {
    "duration": -2135,
    "start_time": "2022-03-07T12:43:33.015Z"
   },
   {
    "duration": -2148,
    "start_time": "2022-03-07T12:43:33.029Z"
   },
   {
    "duration": -2158,
    "start_time": "2022-03-07T12:43:33.041Z"
   },
   {
    "duration": -2213,
    "start_time": "2022-03-07T12:43:33.098Z"
   },
   {
    "duration": -2226,
    "start_time": "2022-03-07T12:43:33.112Z"
   },
   {
    "duration": -2237,
    "start_time": "2022-03-07T12:43:33.124Z"
   },
   {
    "duration": -2246,
    "start_time": "2022-03-07T12:43:33.135Z"
   },
   {
    "duration": -2258,
    "start_time": "2022-03-07T12:43:33.148Z"
   },
   {
    "duration": -2270,
    "start_time": "2022-03-07T12:43:33.161Z"
   },
   {
    "duration": -2281,
    "start_time": "2022-03-07T12:43:33.174Z"
   },
   {
    "duration": -2293,
    "start_time": "2022-03-07T12:43:33.187Z"
   },
   {
    "duration": -2341,
    "start_time": "2022-03-07T12:43:33.236Z"
   },
   {
    "duration": -2353,
    "start_time": "2022-03-07T12:43:33.249Z"
   },
   {
    "duration": -2364,
    "start_time": "2022-03-07T12:43:33.261Z"
   },
   {
    "duration": -2373,
    "start_time": "2022-03-07T12:43:33.272Z"
   },
   {
    "duration": -2385,
    "start_time": "2022-03-07T12:43:33.285Z"
   },
   {
    "duration": -2396,
    "start_time": "2022-03-07T12:43:33.297Z"
   },
   {
    "duration": -2405,
    "start_time": "2022-03-07T12:43:33.308Z"
   },
   {
    "duration": -2416,
    "start_time": "2022-03-07T12:43:33.320Z"
   },
   {
    "duration": -2461,
    "start_time": "2022-03-07T12:43:33.367Z"
   },
   {
    "duration": -2471,
    "start_time": "2022-03-07T12:43:33.379Z"
   },
   {
    "duration": -2481,
    "start_time": "2022-03-07T12:43:33.390Z"
   },
   {
    "duration": -2493,
    "start_time": "2022-03-07T12:43:33.404Z"
   },
   {
    "duration": -2503,
    "start_time": "2022-03-07T12:43:33.415Z"
   },
   {
    "duration": -2513,
    "start_time": "2022-03-07T12:43:33.426Z"
   },
   {
    "duration": -2525,
    "start_time": "2022-03-07T12:43:33.440Z"
   },
   {
    "duration": -2536,
    "start_time": "2022-03-07T12:43:33.452Z"
   },
   {
    "duration": -2545,
    "start_time": "2022-03-07T12:43:33.463Z"
   },
   {
    "duration": 25,
    "start_time": "2022-03-07T12:44:38.409Z"
   },
   {
    "duration": 1551,
    "start_time": "2022-03-07T12:46:30.654Z"
   },
   {
    "duration": 59,
    "start_time": "2022-03-07T12:46:32.207Z"
   },
   {
    "duration": 4,
    "start_time": "2022-03-07T12:46:32.269Z"
   },
   {
    "duration": 96,
    "start_time": "2022-03-07T12:46:32.276Z"
   },
   {
    "duration": 5,
    "start_time": "2022-03-07T12:46:32.374Z"
   },
   {
    "duration": 54,
    "start_time": "2022-03-07T12:46:32.382Z"
   },
   {
    "duration": 17,
    "start_time": "2022-03-07T12:46:32.439Z"
   },
   {
    "duration": 6,
    "start_time": "2022-03-07T12:46:32.461Z"
   },
   {
    "duration": 16,
    "start_time": "2022-03-07T12:46:32.470Z"
   },
   {
    "duration": 56,
    "start_time": "2022-03-07T12:46:32.489Z"
   },
   {
    "duration": 6,
    "start_time": "2022-03-07T12:46:32.548Z"
   },
   {
    "duration": 8,
    "start_time": "2022-03-07T12:46:32.557Z"
   },
   {
    "duration": 16,
    "start_time": "2022-03-07T12:46:32.567Z"
   },
   {
    "duration": 63,
    "start_time": "2022-03-07T12:46:32.585Z"
   },
   {
    "duration": 14,
    "start_time": "2022-03-07T12:46:32.651Z"
   },
   {
    "duration": 955,
    "start_time": "2022-03-07T12:46:32.667Z"
   },
   {
    "duration": 26,
    "start_time": "2022-03-07T12:46:33.624Z"
   },
   {
    "duration": 4,
    "start_time": "2022-03-07T12:46:33.653Z"
   },
   {
    "duration": 14,
    "start_time": "2022-03-07T12:46:33.660Z"
   },
   {
    "duration": 59,
    "start_time": "2022-03-07T12:46:33.676Z"
   },
   {
    "duration": 704,
    "start_time": "2022-03-07T12:46:33.738Z"
   },
   {
    "duration": 10,
    "start_time": "2022-03-07T12:46:34.445Z"
   },
   {
    "duration": 24,
    "start_time": "2022-03-07T12:46:34.461Z"
   },
   {
    "duration": 801,
    "start_time": "2022-03-07T12:46:34.488Z"
   },
   {
    "duration": 671,
    "start_time": "2022-03-07T12:46:35.292Z"
   },
   {
    "duration": 1272,
    "start_time": "2022-03-07T12:46:35.965Z"
   },
   {
    "duration": 1178,
    "start_time": "2022-03-07T12:46:37.239Z"
   },
   {
    "duration": 14,
    "start_time": "2022-03-07T12:46:38.419Z"
   },
   {
    "duration": 557,
    "start_time": "2022-03-07T12:46:38.435Z"
   },
   {
    "duration": 565,
    "start_time": "2022-03-07T12:46:38.995Z"
   },
   {
    "duration": 44,
    "start_time": "2022-03-07T12:46:39.563Z"
   },
   {
    "duration": 50,
    "start_time": "2022-03-07T12:46:39.610Z"
   },
   {
    "duration": 480,
    "start_time": "2022-03-07T12:46:39.663Z"
   },
   {
    "duration": 5,
    "start_time": "2022-03-07T12:46:40.145Z"
   },
   {
    "duration": 457,
    "start_time": "2022-03-07T12:46:40.152Z"
   },
   {
    "duration": 5,
    "start_time": "2022-03-07T12:46:40.611Z"
   },
   {
    "duration": 471,
    "start_time": "2022-03-07T12:46:40.618Z"
   },
   {
    "duration": 5,
    "start_time": "2022-03-07T12:46:41.091Z"
   },
   {
    "duration": 458,
    "start_time": "2022-03-07T12:46:41.098Z"
   },
   {
    "duration": 403,
    "start_time": "2022-03-07T12:46:41.558Z"
   },
   {
    "duration": 13,
    "start_time": "2022-03-07T12:46:41.963Z"
   },
   {
    "duration": 15,
    "start_time": "2022-03-07T12:46:41.978Z"
   },
   {
    "duration": 12,
    "start_time": "2022-03-07T12:46:41.996Z"
   },
   {
    "duration": 23,
    "start_time": "2022-03-07T12:46:42.011Z"
   },
   {
    "duration": 657,
    "start_time": "2022-03-07T12:46:42.037Z"
   },
   {
    "duration": 21,
    "start_time": "2022-03-07T12:46:42.697Z"
   },
   {
    "duration": 11,
    "start_time": "2022-03-07T12:46:42.734Z"
   },
   {
    "duration": 9,
    "start_time": "2022-03-07T12:46:42.748Z"
   },
   {
    "duration": 876,
    "start_time": "2022-03-07T12:48:56.701Z"
   },
   {
    "duration": 722,
    "start_time": "2022-03-07T12:50:04.558Z"
   },
   {
    "duration": 760,
    "start_time": "2022-03-07T12:50:12.239Z"
   },
   {
    "duration": 718,
    "start_time": "2022-03-07T12:50:18.527Z"
   },
   {
    "duration": 678,
    "start_time": "2022-03-07T12:50:26.343Z"
   },
   {
    "duration": 751,
    "start_time": "2022-03-07T12:50:36.013Z"
   },
   {
    "duration": 680,
    "start_time": "2022-03-07T12:50:41.693Z"
   },
   {
    "duration": 673,
    "start_time": "2022-03-07T12:50:46.422Z"
   },
   {
    "duration": 870,
    "start_time": "2022-03-07T12:50:56.378Z"
   },
   {
    "duration": 678,
    "start_time": "2022-03-07T12:50:57.501Z"
   },
   {
    "duration": 1174,
    "start_time": "2022-03-07T12:52:05.965Z"
   },
   {
    "duration": 1108,
    "start_time": "2022-03-07T12:53:21.166Z"
   },
   {
    "duration": 1089,
    "start_time": "2022-03-07T12:53:23.093Z"
   },
   {
    "duration": 1550,
    "start_time": "2022-03-07T13:11:07.694Z"
   },
   {
    "duration": 49,
    "start_time": "2022-03-07T13:11:09.247Z"
   },
   {
    "duration": 4,
    "start_time": "2022-03-07T13:11:09.298Z"
   },
   {
    "duration": 93,
    "start_time": "2022-03-07T13:11:09.305Z"
   },
   {
    "duration": 31,
    "start_time": "2022-03-07T13:11:09.401Z"
   },
   {
    "duration": 25,
    "start_time": "2022-03-07T13:11:09.434Z"
   },
   {
    "duration": 15,
    "start_time": "2022-03-07T13:11:09.461Z"
   },
   {
    "duration": 12,
    "start_time": "2022-03-07T13:11:09.480Z"
   },
   {
    "duration": 39,
    "start_time": "2022-03-07T13:11:09.496Z"
   },
   {
    "duration": 13,
    "start_time": "2022-03-07T13:11:09.537Z"
   },
   {
    "duration": 14,
    "start_time": "2022-03-07T13:11:09.552Z"
   },
   {
    "duration": 25,
    "start_time": "2022-03-07T13:11:09.568Z"
   },
   {
    "duration": 16,
    "start_time": "2022-03-07T13:11:09.596Z"
   },
   {
    "duration": 37,
    "start_time": "2022-03-07T13:11:09.614Z"
   },
   {
    "duration": 13,
    "start_time": "2022-03-07T13:11:09.654Z"
   },
   {
    "duration": 983,
    "start_time": "2022-03-07T13:11:09.670Z"
   },
   {
    "duration": 25,
    "start_time": "2022-03-07T13:11:10.655Z"
   },
   {
    "duration": 6,
    "start_time": "2022-03-07T13:11:10.682Z"
   },
   {
    "duration": 42,
    "start_time": "2022-03-07T13:11:10.691Z"
   },
   {
    "duration": 32,
    "start_time": "2022-03-07T13:11:10.736Z"
   },
   {
    "duration": 694,
    "start_time": "2022-03-07T13:11:10.771Z"
   },
   {
    "duration": 10,
    "start_time": "2022-03-07T13:11:11.468Z"
   },
   {
    "duration": 49,
    "start_time": "2022-03-07T13:11:11.483Z"
   },
   {
    "duration": 863,
    "start_time": "2022-03-07T13:11:11.535Z"
   },
   {
    "duration": 494,
    "start_time": "2022-03-07T13:11:12.401Z"
   },
   {
    "duration": 1117,
    "start_time": "2022-03-07T13:11:12.897Z"
   },
   {
    "duration": 1060,
    "start_time": "2022-03-07T13:11:14.017Z"
   },
   {
    "duration": 7,
    "start_time": "2022-03-07T13:11:15.080Z"
   },
   {
    "duration": 496,
    "start_time": "2022-03-07T13:11:15.089Z"
   },
   {
    "duration": 688,
    "start_time": "2022-03-07T13:11:15.588Z"
   },
   {
    "duration": 62,
    "start_time": "2022-03-07T13:11:16.278Z"
   },
   {
    "duration": 29,
    "start_time": "2022-03-07T13:11:16.342Z"
   },
   {
    "duration": 488,
    "start_time": "2022-03-07T13:11:16.373Z"
   },
   {
    "duration": 1111,
    "start_time": "2022-03-07T13:11:16.864Z"
   },
   {
    "duration": 1100,
    "start_time": "2022-03-07T13:11:17.978Z"
   },
   {
    "duration": 5,
    "start_time": "2022-03-07T13:11:19.080Z"
   },
   {
    "duration": 527,
    "start_time": "2022-03-07T13:11:19.088Z"
   },
   {
    "duration": 15,
    "start_time": "2022-03-07T13:11:19.617Z"
   },
   {
    "duration": 461,
    "start_time": "2022-03-07T13:11:19.634Z"
   },
   {
    "duration": 6,
    "start_time": "2022-03-07T13:11:20.097Z"
   },
   {
    "duration": 462,
    "start_time": "2022-03-07T13:11:20.105Z"
   },
   {
    "duration": 388,
    "start_time": "2022-03-07T13:11:20.570Z"
   },
   {
    "duration": 14,
    "start_time": "2022-03-07T13:11:20.960Z"
   },
   {
    "duration": 17,
    "start_time": "2022-03-07T13:11:20.976Z"
   },
   {
    "duration": 7,
    "start_time": "2022-03-07T13:11:20.996Z"
   },
   {
    "duration": 29,
    "start_time": "2022-03-07T13:11:21.005Z"
   },
   {
    "duration": 378,
    "start_time": "2022-03-07T13:11:21.036Z"
   },
   {
    "duration": 24,
    "start_time": "2022-03-07T13:11:21.418Z"
   },
   {
    "duration": 8,
    "start_time": "2022-03-07T13:11:21.444Z"
   },
   {
    "duration": 6,
    "start_time": "2022-03-07T13:11:21.455Z"
   },
   {
    "duration": 1535,
    "start_time": "2022-03-07T13:17:21.007Z"
   },
   {
    "duration": 71,
    "start_time": "2022-03-07T13:17:22.546Z"
   },
   {
    "duration": 6,
    "start_time": "2022-03-07T13:17:22.621Z"
   },
   {
    "duration": 134,
    "start_time": "2022-03-07T13:17:22.630Z"
   },
   {
    "duration": 4,
    "start_time": "2022-03-07T13:17:22.766Z"
   },
   {
    "duration": 27,
    "start_time": "2022-03-07T13:17:22.773Z"
   },
   {
    "duration": 22,
    "start_time": "2022-03-07T13:17:22.831Z"
   },
   {
    "duration": 8,
    "start_time": "2022-03-07T13:17:22.858Z"
   },
   {
    "duration": 12,
    "start_time": "2022-03-07T13:17:22.870Z"
   },
   {
    "duration": 48,
    "start_time": "2022-03-07T13:17:22.884Z"
   },
   {
    "duration": 12,
    "start_time": "2022-03-07T13:17:22.936Z"
   },
   {
    "duration": 16,
    "start_time": "2022-03-07T13:17:22.951Z"
   },
   {
    "duration": 19,
    "start_time": "2022-03-07T13:17:22.970Z"
   },
   {
    "duration": 63,
    "start_time": "2022-03-07T13:17:22.992Z"
   },
   {
    "duration": 20,
    "start_time": "2022-03-07T13:17:23.058Z"
   },
   {
    "duration": 1196,
    "start_time": "2022-03-07T13:17:23.081Z"
   },
   {
    "duration": 22,
    "start_time": "2022-03-07T13:17:24.280Z"
   },
   {
    "duration": 29,
    "start_time": "2022-03-07T13:17:24.304Z"
   },
   {
    "duration": 14,
    "start_time": "2022-03-07T13:17:24.335Z"
   },
   {
    "duration": 32,
    "start_time": "2022-03-07T13:17:24.352Z"
   },
   {
    "duration": 724,
    "start_time": "2022-03-07T13:17:24.386Z"
   },
   {
    "duration": 22,
    "start_time": "2022-03-07T13:17:25.113Z"
   },
   {
    "duration": 22,
    "start_time": "2022-03-07T13:17:25.142Z"
   },
   {
    "duration": 786,
    "start_time": "2022-03-07T13:17:25.168Z"
   },
   {
    "duration": 514,
    "start_time": "2022-03-07T13:17:25.957Z"
   },
   {
    "duration": 1161,
    "start_time": "2022-03-07T13:17:26.474Z"
   },
   {
    "duration": 1103,
    "start_time": "2022-03-07T13:17:27.638Z"
   },
   {
    "duration": 8,
    "start_time": "2022-03-07T13:17:28.744Z"
   },
   {
    "duration": 536,
    "start_time": "2022-03-07T13:17:28.755Z"
   },
   {
    "duration": 571,
    "start_time": "2022-03-07T13:17:29.294Z"
   },
   {
    "duration": 48,
    "start_time": "2022-03-07T13:17:29.868Z"
   },
   {
    "duration": 45,
    "start_time": "2022-03-07T13:17:29.919Z"
   },
   {
    "duration": 685,
    "start_time": "2022-03-07T13:17:29.966Z"
   },
   {
    "duration": 1124,
    "start_time": "2022-03-07T13:17:30.654Z"
   },
   {
    "duration": 1291,
    "start_time": "2022-03-07T13:17:31.780Z"
   },
   {
    "duration": 6,
    "start_time": "2022-03-07T13:17:33.074Z"
   },
   {
    "duration": 544,
    "start_time": "2022-03-07T13:17:33.082Z"
   },
   {
    "duration": 5,
    "start_time": "2022-03-07T13:17:33.629Z"
   },
   {
    "duration": 464,
    "start_time": "2022-03-07T13:17:33.637Z"
   },
   {
    "duration": 6,
    "start_time": "2022-03-07T13:17:34.103Z"
   },
   {
    "duration": 498,
    "start_time": "2022-03-07T13:17:34.111Z"
   },
   {
    "duration": 385,
    "start_time": "2022-03-07T13:17:34.612Z"
   },
   {
    "duration": 14,
    "start_time": "2022-03-07T13:17:34.999Z"
   },
   {
    "duration": 22,
    "start_time": "2022-03-07T13:17:35.015Z"
   },
   {
    "duration": 5,
    "start_time": "2022-03-07T13:17:35.040Z"
   },
   {
    "duration": 8,
    "start_time": "2022-03-07T13:17:35.047Z"
   },
   {
    "duration": 409,
    "start_time": "2022-03-07T13:17:35.057Z"
   },
   {
    "duration": 15,
    "start_time": "2022-03-07T13:17:35.468Z"
   },
   {
    "duration": 12,
    "start_time": "2022-03-07T13:17:35.485Z"
   },
   {
    "duration": 7,
    "start_time": "2022-03-07T13:17:35.499Z"
   },
   {
    "duration": 1924,
    "start_time": "2022-03-07T13:30:01.308Z"
   },
   {
    "duration": 52,
    "start_time": "2022-03-07T13:30:03.235Z"
   },
   {
    "duration": 5,
    "start_time": "2022-03-07T13:30:03.290Z"
   },
   {
    "duration": 108,
    "start_time": "2022-03-07T13:30:03.298Z"
   },
   {
    "duration": 24,
    "start_time": "2022-03-07T13:30:03.409Z"
   },
   {
    "duration": 32,
    "start_time": "2022-03-07T13:30:03.436Z"
   },
   {
    "duration": 15,
    "start_time": "2022-03-07T13:30:03.470Z"
   },
   {
    "duration": 7,
    "start_time": "2022-03-07T13:30:03.490Z"
   },
   {
    "duration": 54,
    "start_time": "2022-03-07T13:30:03.500Z"
   },
   {
    "duration": 15,
    "start_time": "2022-03-07T13:30:03.560Z"
   },
   {
    "duration": 8,
    "start_time": "2022-03-07T13:30:03.578Z"
   },
   {
    "duration": 9,
    "start_time": "2022-03-07T13:30:03.588Z"
   },
   {
    "duration": 44,
    "start_time": "2022-03-07T13:30:03.599Z"
   },
   {
    "duration": 27,
    "start_time": "2022-03-07T13:30:03.646Z"
   },
   {
    "duration": 18,
    "start_time": "2022-03-07T13:30:03.676Z"
   },
   {
    "duration": 1011,
    "start_time": "2022-03-07T13:30:03.700Z"
   },
   {
    "duration": 37,
    "start_time": "2022-03-07T13:30:04.715Z"
   },
   {
    "duration": 5,
    "start_time": "2022-03-07T13:30:04.755Z"
   },
   {
    "duration": 15,
    "start_time": "2022-03-07T13:30:04.763Z"
   },
   {
    "duration": 80,
    "start_time": "2022-03-07T13:30:04.780Z"
   },
   {
    "duration": 718,
    "start_time": "2022-03-07T13:30:04.863Z"
   },
   {
    "duration": 10,
    "start_time": "2022-03-07T13:30:05.584Z"
   },
   {
    "duration": 50,
    "start_time": "2022-03-07T13:30:05.601Z"
   },
   {
    "duration": 762,
    "start_time": "2022-03-07T13:30:05.655Z"
   },
   {
    "duration": 516,
    "start_time": "2022-03-07T13:30:06.420Z"
   },
   {
    "duration": 1148,
    "start_time": "2022-03-07T13:30:06.939Z"
   },
   {
    "duration": 1072,
    "start_time": "2022-03-07T13:30:08.090Z"
   },
   {
    "duration": 11,
    "start_time": "2022-03-07T13:30:09.165Z"
   },
   {
    "duration": 640,
    "start_time": "2022-03-07T13:30:09.179Z"
   },
   {
    "duration": 568,
    "start_time": "2022-03-07T13:30:09.822Z"
   },
   {
    "duration": 63,
    "start_time": "2022-03-07T13:30:10.392Z"
   },
   {
    "duration": 30,
    "start_time": "2022-03-07T13:30:10.457Z"
   },
   {
    "duration": 483,
    "start_time": "2022-03-07T13:30:10.490Z"
   },
   {
    "duration": 1181,
    "start_time": "2022-03-07T13:30:10.975Z"
   },
   {
    "duration": 1136,
    "start_time": "2022-03-07T13:30:12.159Z"
   },
   {
    "duration": 6,
    "start_time": "2022-03-07T13:30:13.298Z"
   },
   {
    "duration": 561,
    "start_time": "2022-03-07T13:30:13.307Z"
   },
   {
    "duration": 5,
    "start_time": "2022-03-07T13:30:13.870Z"
   },
   {
    "duration": 460,
    "start_time": "2022-03-07T13:30:13.878Z"
   },
   {
    "duration": 6,
    "start_time": "2022-03-07T13:30:14.341Z"
   },
   {
    "duration": 473,
    "start_time": "2022-03-07T13:30:14.349Z"
   },
   {
    "duration": 432,
    "start_time": "2022-03-07T13:30:14.824Z"
   },
   {
    "duration": 15,
    "start_time": "2022-03-07T13:30:15.259Z"
   },
   {
    "duration": 9,
    "start_time": "2022-03-07T13:30:15.276Z"
   },
   {
    "duration": 5,
    "start_time": "2022-03-07T13:30:15.287Z"
   },
   {
    "duration": 40,
    "start_time": "2022-03-07T13:30:15.294Z"
   },
   {
    "duration": 432,
    "start_time": "2022-03-07T13:30:15.337Z"
   },
   {
    "duration": 13,
    "start_time": "2022-03-07T13:30:15.772Z"
   },
   {
    "duration": 8,
    "start_time": "2022-03-07T13:30:15.788Z"
   },
   {
    "duration": 37,
    "start_time": "2022-03-07T13:30:15.799Z"
   },
   {
    "duration": 78,
    "start_time": "2022-03-07T23:49:39.275Z"
   },
   {
    "duration": 84,
    "start_time": "2022-03-07T23:56:18.175Z"
   },
   {
    "duration": 1127,
    "start_time": "2022-03-08T00:01:53.319Z"
   },
   {
    "duration": 35,
    "start_time": "2022-03-08T00:01:54.448Z"
   },
   {
    "duration": 3,
    "start_time": "2022-03-08T00:01:54.486Z"
   },
   {
    "duration": 63,
    "start_time": "2022-03-08T00:01:54.491Z"
   },
   {
    "duration": 3,
    "start_time": "2022-03-08T00:01:54.555Z"
   },
   {
    "duration": 45,
    "start_time": "2022-03-08T00:01:54.560Z"
   },
   {
    "duration": 12,
    "start_time": "2022-03-08T00:01:54.606Z"
   },
   {
    "duration": 5,
    "start_time": "2022-03-08T00:01:54.620Z"
   },
   {
    "duration": 12,
    "start_time": "2022-03-08T00:01:54.627Z"
   },
   {
    "duration": 10,
    "start_time": "2022-03-08T00:01:54.641Z"
   },
   {
    "duration": 10,
    "start_time": "2022-03-08T00:01:54.653Z"
   },
   {
    "duration": 38,
    "start_time": "2022-03-08T00:01:54.665Z"
   },
   {
    "duration": 12,
    "start_time": "2022-03-08T00:01:54.705Z"
   },
   {
    "duration": 17,
    "start_time": "2022-03-08T00:01:54.719Z"
   },
   {
    "duration": 11,
    "start_time": "2022-03-08T00:01:54.738Z"
   },
   {
    "duration": 721,
    "start_time": "2022-03-08T00:01:54.751Z"
   },
   {
    "duration": 28,
    "start_time": "2022-03-08T00:01:55.475Z"
   },
   {
    "duration": 4,
    "start_time": "2022-03-08T00:01:55.505Z"
   },
   {
    "duration": 20,
    "start_time": "2022-03-08T00:01:55.511Z"
   },
   {
    "duration": 32,
    "start_time": "2022-03-08T00:01:55.534Z"
   },
   {
    "duration": 445,
    "start_time": "2022-03-08T00:01:55.568Z"
   },
   {
    "duration": 6,
    "start_time": "2022-03-08T00:01:56.015Z"
   },
   {
    "duration": 15,
    "start_time": "2022-03-08T00:01:56.025Z"
   },
   {
    "duration": 497,
    "start_time": "2022-03-08T00:01:56.042Z"
   },
   {
    "duration": 326,
    "start_time": "2022-03-08T00:01:56.542Z"
   },
   {
    "duration": 820,
    "start_time": "2022-03-08T00:01:56.871Z"
   },
   {
    "duration": 710,
    "start_time": "2022-03-08T00:01:57.701Z"
   },
   {
    "duration": 7,
    "start_time": "2022-03-08T00:01:58.414Z"
   },
   {
    "duration": 418,
    "start_time": "2022-03-08T00:01:58.424Z"
   },
   {
    "duration": 396,
    "start_time": "2022-03-08T00:01:58.844Z"
   },
   {
    "duration": 33,
    "start_time": "2022-03-08T00:01:59.242Z"
   },
   {
    "duration": 39,
    "start_time": "2022-03-08T00:01:59.277Z"
   },
   {
    "duration": 307,
    "start_time": "2022-03-08T00:01:59.319Z"
   },
   {
    "duration": 737,
    "start_time": "2022-03-08T00:01:59.628Z"
   },
   {
    "duration": 759,
    "start_time": "2022-03-08T00:02:00.368Z"
   },
   {
    "duration": 5,
    "start_time": "2022-03-08T00:02:01.129Z"
   },
   {
    "duration": 422,
    "start_time": "2022-03-08T00:02:01.135Z"
   },
   {
    "duration": 4,
    "start_time": "2022-03-08T00:02:01.559Z"
   },
   {
    "duration": 323,
    "start_time": "2022-03-08T00:02:01.565Z"
   },
   {
    "duration": 13,
    "start_time": "2022-03-08T00:02:01.891Z"
   },
   {
    "duration": 353,
    "start_time": "2022-03-08T00:02:01.907Z"
   },
   {
    "duration": 276,
    "start_time": "2022-03-08T00:02:02.262Z"
   },
   {
    "duration": 12,
    "start_time": "2022-03-08T00:02:02.540Z"
   },
   {
    "duration": 15,
    "start_time": "2022-03-08T00:02:02.554Z"
   },
   {
    "duration": 10,
    "start_time": "2022-03-08T00:02:02.570Z"
   },
   {
    "duration": 20,
    "start_time": "2022-03-08T00:02:02.582Z"
   },
   {
    "duration": 264,
    "start_time": "2022-03-08T00:02:02.604Z"
   },
   {
    "duration": 13,
    "start_time": "2022-03-08T00:02:02.871Z"
   },
   {
    "duration": 11,
    "start_time": "2022-03-08T00:02:02.901Z"
   },
   {
    "duration": 28,
    "start_time": "2022-03-08T00:02:02.915Z"
   },
   {
    "duration": 1117,
    "start_time": "2022-08-21T11:19:02.277Z"
   },
   {
    "duration": 90,
    "start_time": "2022-08-21T11:19:03.396Z"
   },
   {
    "duration": 3,
    "start_time": "2022-08-21T11:19:03.487Z"
   },
   {
    "duration": 57,
    "start_time": "2022-08-21T11:19:03.492Z"
   },
   {
    "duration": 3,
    "start_time": "2022-08-21T11:19:03.550Z"
   },
   {
    "duration": 17,
    "start_time": "2022-08-21T11:19:03.555Z"
   },
   {
    "duration": 24,
    "start_time": "2022-08-21T11:19:03.574Z"
   },
   {
    "duration": 5,
    "start_time": "2022-08-21T11:19:03.599Z"
   },
   {
    "duration": 10,
    "start_time": "2022-08-21T11:19:03.605Z"
   },
   {
    "duration": 12,
    "start_time": "2022-08-21T11:19:03.617Z"
   },
   {
    "duration": 5,
    "start_time": "2022-08-21T11:19:03.630Z"
   },
   {
    "duration": 10,
    "start_time": "2022-08-21T11:19:03.637Z"
   },
   {
    "duration": 17,
    "start_time": "2022-08-21T11:19:03.649Z"
   },
   {
    "duration": 24,
    "start_time": "2022-08-21T11:19:03.698Z"
   },
   {
    "duration": 15,
    "start_time": "2022-08-21T11:19:03.724Z"
   },
   {
    "duration": 393,
    "start_time": "2022-08-21T11:19:03.740Z"
   },
   {
    "duration": 14,
    "start_time": "2022-08-21T11:19:04.134Z"
   },
   {
    "duration": 3,
    "start_time": "2022-08-21T11:19:04.149Z"
   },
   {
    "duration": 7,
    "start_time": "2022-08-21T11:19:04.154Z"
   },
   {
    "duration": 45,
    "start_time": "2022-08-21T11:19:04.162Z"
   },
   {
    "duration": 314,
    "start_time": "2022-08-21T11:19:04.208Z"
   },
   {
    "duration": 7,
    "start_time": "2022-08-21T11:19:04.523Z"
   },
   {
    "duration": 24,
    "start_time": "2022-08-21T11:19:04.531Z"
   },
   {
    "duration": 329,
    "start_time": "2022-08-21T11:19:04.557Z"
   },
   {
    "duration": 242,
    "start_time": "2022-08-21T11:19:04.887Z"
   },
   {
    "duration": 544,
    "start_time": "2022-08-21T11:19:05.131Z"
   },
   {
    "duration": 501,
    "start_time": "2022-08-21T11:19:05.676Z"
   },
   {
    "duration": 5,
    "start_time": "2022-08-21T11:19:06.180Z"
   },
   {
    "duration": 281,
    "start_time": "2022-08-21T11:19:06.197Z"
   },
   {
    "duration": 295,
    "start_time": "2022-08-21T11:19:06.480Z"
   },
   {
    "duration": 41,
    "start_time": "2022-08-21T11:19:06.776Z"
   },
   {
    "duration": 18,
    "start_time": "2022-08-21T11:19:06.819Z"
   },
   {
    "duration": 218,
    "start_time": "2022-08-21T11:19:06.839Z"
   },
   {
    "duration": 530,
    "start_time": "2022-08-21T11:19:07.059Z"
   },
   {
    "duration": 543,
    "start_time": "2022-08-21T11:19:07.592Z"
   },
   {
    "duration": 4,
    "start_time": "2022-08-21T11:19:08.137Z"
   },
   {
    "duration": 279,
    "start_time": "2022-08-21T11:19:08.143Z"
   },
   {
    "duration": 4,
    "start_time": "2022-08-21T11:19:08.423Z"
   },
   {
    "duration": 371,
    "start_time": "2022-08-21T11:19:08.429Z"
   },
   {
    "duration": 4,
    "start_time": "2022-08-21T11:19:08.802Z"
   },
   {
    "duration": 292,
    "start_time": "2022-08-21T11:19:08.808Z"
   },
   {
    "duration": 173,
    "start_time": "2022-08-21T11:19:09.102Z"
   },
   {
    "duration": 9,
    "start_time": "2022-08-21T11:19:09.277Z"
   },
   {
    "duration": 14,
    "start_time": "2022-08-21T11:19:09.287Z"
   },
   {
    "duration": 3,
    "start_time": "2022-08-21T11:19:09.302Z"
   },
   {
    "duration": 10,
    "start_time": "2022-08-21T11:19:09.307Z"
   },
   {
    "duration": 163,
    "start_time": "2022-08-21T11:19:09.319Z"
   },
   {
    "duration": 16,
    "start_time": "2022-08-21T11:19:09.483Z"
   },
   {
    "duration": 9,
    "start_time": "2022-08-21T11:19:09.501Z"
   },
   {
    "duration": 4,
    "start_time": "2022-08-21T11:19:09.512Z"
   }
  ],
  "kernelspec": {
   "display_name": "Python 3 (ipykernel)",
   "language": "python",
   "name": "python3"
  },
  "language_info": {
   "codemirror_mode": {
    "name": "ipython",
    "version": 3
   },
   "file_extension": ".py",
   "mimetype": "text/x-python",
   "name": "python",
   "nbconvert_exporter": "python",
   "pygments_lexer": "ipython3",
   "version": "3.9.5"
  },
  "toc": {
   "base_numbering": 1,
   "nav_menu": {},
   "number_sections": true,
   "sideBar": true,
   "skip_h1_title": true,
   "title_cell": "Table of Contents",
   "title_sidebar": "Contents",
   "toc_cell": true,
   "toc_position": {},
   "toc_section_display": true,
   "toc_window_display": false
  }
 },
 "nbformat": 4,
 "nbformat_minor": 2
}
