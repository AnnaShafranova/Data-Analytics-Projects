{
 "cells": [
  {
   "cell_type": "markdown",
   "metadata": {
    "toc": true
   },
   "source": [
    "<h1>Table of Contents<span class=\"tocSkip\"></span></h1>\n",
    "<div class=\"toc\"><ul class=\"toc-item\"><li><span><a href=\"#Посчитаем,-сколько-книг-вышло-после-1-января-2000-года\" data-toc-modified-id=\"Посчитаем,-сколько-книг-вышло-после-1-января-2000-года-1\"><span class=\"toc-item-num\">1&nbsp;&nbsp;</span>Посчитаем, сколько книг вышло после 1 января 2000 года</a></span></li><li><span><a href=\"#Посчитаем-для-каждой-книги-количество-обзоров-и-среднюю-оценку\" data-toc-modified-id=\"Посчитаем-для-каждой-книги-количество-обзоров-и-среднюю-оценку-2\"><span class=\"toc-item-num\">2&nbsp;&nbsp;</span>Посчитаем для каждой книги количество обзоров и среднюю оценку</a></span></li><li><span><a href=\"#Определим-издательство,-которое-выпустило-наибольшее-число-книг-толще-50-страниц\" data-toc-modified-id=\"Определим-издательство,-которое-выпустило-наибольшее-число-книг-толще-50-страниц-3\"><span class=\"toc-item-num\">3&nbsp;&nbsp;</span>Определим издательство, которое выпустило наибольшее число книг толще 50 страниц</a></span></li><li><span><a href=\"#Определим-автора-с-самой-высокой-средней-оценкой-книг\" data-toc-modified-id=\"Определим-автора-с-самой-высокой-средней-оценкой-книг-4\"><span class=\"toc-item-num\">4&nbsp;&nbsp;</span>Определим автора с самой высокой средней оценкой книг</a></span></li><li><span><a href=\"#Посчитаем-среднее-количество-обзоров-от-пользователей,-которые-поставили-больше-50-оценок\" data-toc-modified-id=\"Посчитаем-среднее-количество-обзоров-от-пользователей,-которые-поставили-больше-50-оценок-5\"><span class=\"toc-item-num\">5&nbsp;&nbsp;</span>Посчитаем среднее количество обзоров от пользователей, которые поставили больше 50 оценок</a></span></li></ul></div>"
   ]
  },
  {
   "cell_type": "markdown",
   "metadata": {},
   "source": [
    "# Проект - исследование базы данных крупного сервиса для чтения книг по подписке"
   ]
  },
  {
   "cell_type": "markdown",
   "metadata": {},
   "source": [
    "**Цель исследования** - сформулировать ценностное предложение для нового продукта"
   ]
  },
  {
   "cell_type": "markdown",
   "metadata": {},
   "source": [
    "# Описание данных\n",
    "**Таблица `books`**\n",
    "\n",
    "Содержит данные о книгах:\n",
    "\n",
    "- `book_id` — идентификатор книги;\n",
    "- `author_id` — идентификатор автора;\n",
    "- `title` — название книги;\n",
    "- `num_pages` — количество страниц;\n",
    "- `publication_date` — дата публикации книги;\n",
    "- `publisher_id` — идентификатор издателя.\n",
    "\n",
    "**Таблица `authors`**\n",
    "\n",
    "Содержит данные об авторах:\n",
    "\n",
    "- `author_id` — идентификатор автора;\n",
    "- `author` — имя автора.\n",
    "\n",
    "**Таблица `publishers`**\n",
    "\n",
    "Содержит данные об издательствах:\n",
    "\n",
    "- `publisher_id` — идентификатор издательства;\n",
    "- `publisher` — название издательства;\n",
    "\n",
    "**Таблица `ratings`**\n",
    "\n",
    "Содержит данные о пользовательских оценках книг:\n",
    "\n",
    "- `rating_id` — идентификатор оценки;\n",
    "- `book_id` — идентификатор книги;\n",
    "- `username` — имя пользователя, оставившего оценку;\n",
    "- `rating` — оценка книги.\n",
    "\n",
    "**Таблица `reviews`**\n",
    "\n",
    "Содержит данные о пользовательских обзорах на книги:\n",
    "\n",
    "- `review_id` — идентификатор обзора;\n",
    "- `book_id` — идентификатор книги;\n",
    "- `username` — имя пользователя, написавшего обзор;\n",
    "- `text` — текст обзора."
   ]
  },
  {
   "cell_type": "markdown",
   "metadata": {},
   "source": [
    "# Подключение к базе данных"
   ]
  },
  {
   "cell_type": "code",
   "execution_count": null,
   "metadata": {},
   "outputs": [],
   "source": [
    "# импортируем библиотеки\n",
    "import pandas as pd\n",
    "from sqlalchemy import create_engine\n",
    "# устанавливаем параметры\n",
    "db_config = {'user': 'praktikum_student', # имя пользователя\n",
    "'pwd': 'Sdf4$2;d-d30pp', # пароль\n",
    "'host': 'rc1b-wcoijxj3yxfsf3fs.mdb.yandexcloud.net',\n",
    "'port': 6432, # порт подключения\n",
    "'db': 'data-analyst-final-project-db'} # название базы данных\n",
    "connection_string = 'postgresql://{}:{}@{}:{}/{}'.format(db_config['user'],\n",
    " db_config['pwd'],\n",
    " db_config['host'],\n",
    " db_config['port'],\n",
    " db_config['db'])\n",
    "# сохраняем коннектор\n",
    "engine = create_engine(connection_string, connect_args={'sslmode':'require'}) "
   ]
  },
  {
   "cell_type": "markdown",
   "metadata": {},
   "source": [
    "# Исследование таблиц из базы данных"
   ]
  },
  {
   "cell_type": "code",
   "execution_count": null,
   "metadata": {},
   "outputs": [],
   "source": [
    "books = ''' SELECT *\n",
    "            FROM books\n",
    "        '''\n",
    "pd.io.sql.read_sql(books, con = engine) "
   ]
  },
  {
   "cell_type": "code",
   "execution_count": null,
   "metadata": {},
   "outputs": [],
   "source": [
    "authors = ''' SELECT *\n",
    "              FROM authors\n",
    "          '''\n",
    "pd.io.sql.read_sql(authors, con = engine) "
   ]
  },
  {
   "cell_type": "code",
   "execution_count": null,
   "metadata": {},
   "outputs": [],
   "source": [
    "publishers = ''' SELECT *\n",
    "                 FROM publishers\n",
    "             '''\n",
    "pd.io.sql.read_sql(publishers, con = engine) "
   ]
  },
  {
   "cell_type": "code",
   "execution_count": null,
   "metadata": {},
   "outputs": [],
   "source": [
    "ratings = ''' SELECT *\n",
    "              FROM ratings\n",
    "          '''\n",
    "pd.io.sql.read_sql(ratings, con = engine) "
   ]
  },
  {
   "cell_type": "code",
   "execution_count": null,
   "metadata": {},
   "outputs": [],
   "source": [
    "reviews = ''' SELECT *\n",
    "              FROM reviews\n",
    "          '''\n",
    "pd.io.sql.read_sql(reviews, con = engine) "
   ]
  },
  {
   "cell_type": "markdown",
   "metadata": {},
   "source": [
    "# Исследовальский анализ данных"
   ]
  },
  {
   "cell_type": "markdown",
   "metadata": {},
   "source": [
    "## Посчитаем, сколько книг вышло после 1 января 2000 года"
   ]
  },
  {
   "cell_type": "code",
   "execution_count": null,
   "metadata": {},
   "outputs": [],
   "source": [
    "books_after_2000 = ''' \n",
    "SELECT COUNT(book_id)\n",
    "FROM books\n",
    "WHERE publication_date > '2000-01-01'\n",
    "'''\n",
    "pd.io.sql.read_sql(books_after_2000, con = engine) "
   ]
  },
  {
   "cell_type": "markdown",
   "metadata": {},
   "source": [
    "**Вывод**\n",
    "\n",
    "819 книг были опубликованы после 1 января 2000 года"
   ]
  },
  {
   "cell_type": "markdown",
   "metadata": {},
   "source": [
    "## Посчитаем для каждой книги количество обзоров и среднюю оценку"
   ]
  },
  {
   "cell_type": "code",
   "execution_count": null,
   "metadata": {},
   "outputs": [],
   "source": [
    "mean_rating = '''\n",
    "SELECT b.book_id,\n",
    "            title,\n",
    "COUNT(DISTINCT rev.review_id) AS total_reviews, AVG(r.rating) AS mean_rating\n",
    "FROM books AS b LEFT JOIN reviews AS rev ON b.book_id = rev.book_id\n",
    "LEFT JOIN ratings AS r ON rev.book_id = r.book_id\n",
    "GROUP BY b.book_id\n",
    "ORDER BY total_reviews DESC;\n",
    "'''\n",
    "\n",
    "pd.io.sql.read_sql(mean_rating, con = engine)"
   ]
  },
  {
   "cell_type": "markdown",
   "metadata": {},
   "source": [
    "**Вывод**\n",
    "\n",
    "- количество обзоров до 7, также их может и не быть \n",
    "- средняя оценка имеет диапазон 1.5-5\n",
    "- Twilight - книга с наибольшим количеством обзоров (7)"
   ]
  },
  {
   "cell_type": "markdown",
   "metadata": {},
   "source": [
    "## Определим издательство, которое выпустило наибольшее число книг толще 50 страниц "
   ]
  },
  {
   "cell_type": "code",
   "execution_count": null,
   "metadata": {},
   "outputs": [],
   "source": [
    "page = ''' \n",
    "SELECT publisher, count(book_id) AS books_count\n",
    "FROM (SELECT books.*, publishers.publisher\n",
    "FROM books, publishers\n",
    "WHERE books.publisher_id = publishers.publisher_id) AS tbl\n",
    "WHERE num_pages > 50\n",
    "GROUP BY publisher\n",
    "ORDER BY books_count DESC \n",
    "LIMIT 1;\n",
    "'''\n",
    "pd.io.sql.read_sql(page, con = engine) "
   ]
  },
  {
   "cell_type": "markdown",
   "metadata": {},
   "source": [
    "**Вывод**\n",
    "\n",
    "Издательство Penguin Books выпустило наибольшее число книг толще 50 страниц"
   ]
  },
  {
   "cell_type": "markdown",
   "metadata": {},
   "source": [
    "## Определим автора с самой высокой средней оценкой книг "
   ]
  },
  {
   "cell_type": "code",
   "execution_count": null,
   "metadata": {},
   "outputs": [],
   "source": [
    "#учитывайте только книги с 50 и более оценками\n",
    "pop_author = '''\n",
    "SELECT authors.author, avg(book_avg_ratings.book_rating_avg) as author_rating_avg\n",
    "FROM books\n",
    "INNER JOIN (SELECT book_id, avg(rating) as book_rating_avg\n",
    "FROM ratings\n",
    "GROUP BY book_id\n",
    "HAVING COUNT(*) >= 50) AS book_avg_ratings\n",
    "ON book_avg_ratings.book_id = books.book_id\n",
    "INNER JOIN authors ON authors.author_id = books.author_id\n",
    "GROUP BY authors.author\n",
    "ORDER BY author_rating_avg desc                   \n",
    "'''\n",
    "pd.io.sql.read_sql(pop_author, con = engine)"
   ]
  },
  {
   "cell_type": "markdown",
   "metadata": {},
   "source": [
    "**Вывод**\n",
    "\n",
    "Автор с самой высокой средней оценкой книг среди книг с 50 и более оценками - J.K. Rowling/Mary GrandPré, оценка - 4.28"
   ]
  },
  {
   "cell_type": "markdown",
   "metadata": {},
   "source": [
    "##  Посчитаем среднее количество обзоров от пользователей, которые поставили больше 50 оценок"
   ]
  },
  {
   "cell_type": "code",
   "execution_count": null,
   "metadata": {},
   "outputs": [],
   "source": [
    "mean_review = '''\n",
    "SELECT AVG(tbl.count)\n",
    "FROM (SELECT total.username, COUNT(total.username)\n",
    "FROM (SELECT username, COUNT(rating_id) AS count\n",
    "FROM ratings\n",
    "GROUP BY username) as total\n",
    "JOIN reviews ON reviews.username = total.username\n",
    "WHERE total.count > 50\n",
    "GROUP BY total.username) as tbl          \n",
    "'''\n",
    "pd.io.sql.read_sql(mean_review, con = engine)"
   ]
  },
  {
   "cell_type": "markdown",
   "metadata": {},
   "source": [
    "**Вывод**\n",
    "\n",
    "Активные пользователи в среднем пишут 24 обзора."
   ]
  },
  {
   "cell_type": "markdown",
   "metadata": {},
   "source": [
    "# Общий вывод по анализу данных\n",
    "\n",
    "Данные содержат информацию о 1000 книг, 636 авторах, 340 издателях. Было зарегистрировано 6456 оценок по книгам и оставлено 2793 отзыва.\n",
    "- 819 книг были опубликованы после 1 января 2000 года\n",
    "- количество обзоров до 7, также их может и не быть\n",
    "- средняя оценка имеет диапазон 1.5-5\n",
    "- издательство Penguin Books выпустило наибольшее число книг толще 50 страниц\n",
    "- автор с самой высокой средней оценкой книг среди книг с 50 и более оценками - J.K. Rowling/Mary GrandPré, оценка - 4.28\n",
    "- активные пользователи в среднем пишут 24 обзора."
   ]
  }
 ],
 "metadata": {
  "ExecuteTimeLog": [
   {
    "duration": 9525,
    "start_time": "2022-08-05T06:48:59.278Z"
   },
   {
    "duration": 73,
    "start_time": "2022-08-05T06:49:18.281Z"
   },
   {
    "duration": 17,
    "start_time": "2022-08-05T06:49:26.877Z"
   },
   {
    "duration": 14,
    "start_time": "2022-08-05T06:49:35.848Z"
   },
   {
    "duration": 35,
    "start_time": "2022-08-05T06:49:44.142Z"
   },
   {
    "duration": 24,
    "start_time": "2022-08-05T06:49:51.030Z"
   },
   {
    "duration": 13,
    "start_time": "2022-08-05T06:50:25.932Z"
   },
   {
    "duration": 24,
    "start_time": "2022-08-05T06:51:04.881Z"
   },
   {
    "duration": 18,
    "start_time": "2022-08-05T06:51:33.076Z"
   },
   {
    "duration": 16,
    "start_time": "2022-08-05T06:51:58.023Z"
   },
   {
    "duration": 14,
    "start_time": "2022-08-05T06:52:31.888Z"
   },
   {
    "duration": 156,
    "start_time": "2022-08-05T06:52:32.681Z"
   },
   {
    "duration": 10324,
    "start_time": "2022-08-05T07:01:27.531Z"
   },
   {
    "duration": 79,
    "start_time": "2022-08-05T07:01:37.857Z"
   },
   {
    "duration": 15,
    "start_time": "2022-08-05T07:01:37.938Z"
   },
   {
    "duration": 25,
    "start_time": "2022-08-05T07:01:37.955Z"
   },
   {
    "duration": 29,
    "start_time": "2022-08-05T07:01:37.982Z"
   },
   {
    "duration": 23,
    "start_time": "2022-08-05T07:01:38.013Z"
   },
   {
    "duration": 11,
    "start_time": "2022-08-05T07:01:38.038Z"
   },
   {
    "duration": 31,
    "start_time": "2022-08-05T07:01:38.050Z"
   },
   {
    "duration": 13,
    "start_time": "2022-08-05T07:01:38.084Z"
   },
   {
    "duration": 16,
    "start_time": "2022-08-05T07:01:38.099Z"
   },
   {
    "duration": 14,
    "start_time": "2022-08-05T07:01:38.117Z"
   },
   {
    "duration": 10026,
    "start_time": "2022-08-05T07:01:56.212Z"
   },
   {
    "duration": 75,
    "start_time": "2022-08-05T07:02:06.239Z"
   },
   {
    "duration": 13,
    "start_time": "2022-08-05T07:02:06.316Z"
   },
   {
    "duration": 16,
    "start_time": "2022-08-05T07:02:06.331Z"
   },
   {
    "duration": 32,
    "start_time": "2022-08-05T07:02:06.349Z"
   },
   {
    "duration": 22,
    "start_time": "2022-08-05T07:02:06.383Z"
   },
   {
    "duration": 11,
    "start_time": "2022-08-05T07:02:06.407Z"
   },
   {
    "duration": 21,
    "start_time": "2022-08-05T07:02:06.419Z"
   },
   {
    "duration": 11,
    "start_time": "2022-08-05T07:02:06.442Z"
   },
   {
    "duration": 22,
    "start_time": "2022-08-05T07:02:06.455Z"
   },
   {
    "duration": 18,
    "start_time": "2022-08-05T07:02:06.488Z"
   },
   {
    "duration": 32,
    "start_time": "2022-08-05T07:54:54.556Z"
   },
   {
    "duration": 181,
    "start_time": "2022-08-05T07:56:33.426Z"
   },
   {
    "duration": 245,
    "start_time": "2022-08-05T07:57:50.447Z"
   },
   {
    "duration": 32,
    "start_time": "2022-08-05T07:58:13.946Z"
   },
   {
    "duration": 23,
    "start_time": "2022-08-05T07:59:40.043Z"
   },
   {
    "duration": 10,
    "start_time": "2022-08-05T08:00:20.712Z"
   },
   {
    "duration": 8,
    "start_time": "2022-08-05T08:00:47.528Z"
   },
   {
    "duration": 3,
    "start_time": "2022-08-05T08:00:57.442Z"
   },
   {
    "duration": 118,
    "start_time": "2022-08-05T08:01:08.384Z"
   },
   {
    "duration": 34,
    "start_time": "2022-08-05T08:01:35.115Z"
   },
   {
    "duration": 38,
    "start_time": "2022-08-05T08:03:36.073Z"
   },
   {
    "duration": 41,
    "start_time": "2022-08-05T08:05:28.157Z"
   },
   {
    "duration": 9938,
    "start_time": "2022-08-05T08:05:52.555Z"
   },
   {
    "duration": 115,
    "start_time": "2022-08-05T08:06:02.495Z"
   },
   {
    "duration": 15,
    "start_time": "2022-08-05T08:06:02.611Z"
   },
   {
    "duration": 15,
    "start_time": "2022-08-05T08:06:02.628Z"
   },
   {
    "duration": 33,
    "start_time": "2022-08-05T08:06:02.644Z"
   },
   {
    "duration": 22,
    "start_time": "2022-08-05T08:06:02.681Z"
   },
   {
    "duration": 11,
    "start_time": "2022-08-05T08:06:02.705Z"
   },
   {
    "duration": 32,
    "start_time": "2022-08-05T08:06:02.717Z"
   },
   {
    "duration": 11,
    "start_time": "2022-08-05T08:06:02.751Z"
   },
   {
    "duration": 19,
    "start_time": "2022-08-05T08:06:02.774Z"
   },
   {
    "duration": 13,
    "start_time": "2022-08-05T08:06:02.795Z"
   },
   {
    "duration": 123,
    "start_time": "2022-08-05T08:07:26.304Z"
   },
   {
    "duration": 10272,
    "start_time": "2022-08-05T08:08:58.679Z"
   },
   {
    "duration": 69,
    "start_time": "2022-08-05T08:09:08.953Z"
   },
   {
    "duration": 14,
    "start_time": "2022-08-05T08:09:09.024Z"
   },
   {
    "duration": 15,
    "start_time": "2022-08-05T08:09:09.040Z"
   },
   {
    "duration": 27,
    "start_time": "2022-08-05T08:09:09.057Z"
   },
   {
    "duration": 28,
    "start_time": "2022-08-05T08:09:09.085Z"
   },
   {
    "duration": 10,
    "start_time": "2022-08-05T08:09:09.116Z"
   },
   {
    "duration": 31,
    "start_time": "2022-08-05T08:09:09.128Z"
   },
   {
    "duration": 12,
    "start_time": "2022-08-05T08:09:09.160Z"
   },
   {
    "duration": 16,
    "start_time": "2022-08-05T08:09:09.175Z"
   },
   {
    "duration": 12,
    "start_time": "2022-08-05T08:09:09.193Z"
   }
  ],
  "kernelspec": {
   "display_name": "Python 3 (ipykernel)",
   "language": "python",
   "name": "python3"
  },
  "language_info": {
   "codemirror_mode": {
    "name": "ipython",
    "version": 3
   },
   "file_extension": ".py",
   "mimetype": "text/x-python",
   "name": "python",
   "nbconvert_exporter": "python",
   "pygments_lexer": "ipython3",
   "version": "3.9.5"
  },
  "toc": {
   "base_numbering": 1,
   "nav_menu": {},
   "number_sections": true,
   "sideBar": true,
   "skip_h1_title": true,
   "title_cell": "Table of Contents",
   "title_sidebar": "Contents",
   "toc_cell": true,
   "toc_position": {},
   "toc_section_display": true,
   "toc_window_display": true
  }
 },
 "nbformat": 4,
 "nbformat_minor": 2
}
