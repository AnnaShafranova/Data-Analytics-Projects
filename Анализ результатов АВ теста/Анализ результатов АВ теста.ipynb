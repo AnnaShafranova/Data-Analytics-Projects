{
 "cells": [
  {
   "cell_type": "markdown",
   "metadata": {},
   "source": [
    "# Проект\n",
    "**Описание проекта**\n",
    "\n",
    "**Контекст**\n",
    "\n",
    "Вы — аналитик крупного интернет-магазина. Вместе с отделом маркетинга вы подготовили список гипотез для увеличения выручки.\n",
    "Приоритизируйте гипотезы, запустите A/B-тест и проанализируйте результаты."
   ]
  },
  {
   "cell_type": "markdown",
   "metadata": {},
   "source": [
    "# Описание данных\n",
    "Данные для первой части\n",
    "\n",
    "1. Файл /datasets/hypothesis.csv\n",
    "- Hypothesis — краткое описание гипотезы;\n",
    "- Reach — охват пользователей по 10-балльной шкале;\n",
    "- Impact — влияние на пользователей по 10-балльной шкале;\n",
    "- Confidence — уверенность в гипотезе по 10-балльной шкале;\n",
    "- Efforts — затраты ресурсов на проверку гипотезы по 10-балльной шкале. Чем больше значение Efforts, тем дороже проверка гипотезы.\n",
    "\n",
    "\n",
    "Данные для второй части\n",
    "\n",
    "2. Файл /datasets/orders.csv\n",
    "- transactionId — идентификатор заказа;\n",
    "- visitorId — идентификатор пользователя, совершившего заказ;\n",
    "- date — дата, когда был совершён заказ;\n",
    "- revenue — выручка заказа;\n",
    "- group — группа A/B-теста, в которую попал заказ.\n",
    "3. Файл /datasets/visitors.csv. \n",
    "- date — дата;\n",
    "- group — группа A/B-теста;\n",
    "- visitors — количество пользователей в указанную дату в указанной группе A/B-теста"
   ]
  },
  {
   "cell_type": "markdown",
   "metadata": {},
   "source": [
    "## Часть 1. Приоритизация гипотез.\n",
    "В файле /datasets/hypothesis.csv 9 гипотез по увеличению выручки интернет-магазина с указанными параметрами Reach, Impact, Confidence, Effort."
   ]
  },
  {
   "cell_type": "markdown",
   "metadata": {},
   "source": [
    "### Примените фреймворк ICE для приоритизации гипотез. Отсортируйте их по убыванию приоритета."
   ]
  },
  {
   "cell_type": "code",
   "execution_count": 1,
   "metadata": {},
   "outputs": [],
   "source": [
    "import pandas as pd\n",
    "import numpy as np\n",
    "from matplotlib import pyplot as plt\n",
    "\n",
    "import math\n",
    "from scipy import stats\n",
    "\n",
    "from datetime import timedelta\n",
    "import datetime as dt\n",
    "\n",
    "from statsmodels.stats.proportion import proportions_ztest\n",
    "import warnings\n",
    "pd.options.display.float_format = '{:,.1f}'.format"
   ]
  },
  {
   "cell_type": "markdown",
   "metadata": {},
   "source": [
    "Фреймворк ICE состоит из компонент:\n",
    "- Impact — насколько сильно изменение повлияет на пользователей, их опыт и удовлетворение от продукта;\n",
    "- Confidence — насколько вы уверены, что это изменение повлияет на пользователей именно так;\n",
    "- Efforts — сколько стоит протестировать эту гипотезу.\n",
    "\n",
    "\n",
    "Формула для расчета ICE = (impact * confidence) / efforts"
   ]
  },
  {
   "cell_type": "code",
   "execution_count": 2,
   "metadata": {},
   "outputs": [
    {
     "data": {
      "text/html": [
       "<div>\n",
       "<style scoped>\n",
       "    .dataframe tbody tr th:only-of-type {\n",
       "        vertical-align: middle;\n",
       "    }\n",
       "\n",
       "    .dataframe tbody tr th {\n",
       "        vertical-align: top;\n",
       "    }\n",
       "\n",
       "    .dataframe thead th {\n",
       "        text-align: right;\n",
       "    }\n",
       "</style>\n",
       "<table border=\"1\" class=\"dataframe\">\n",
       "  <thead>\n",
       "    <tr style=\"text-align: right;\">\n",
       "      <th></th>\n",
       "      <th>Hypothesis</th>\n",
       "      <th>Reach</th>\n",
       "      <th>Impact</th>\n",
       "      <th>Confidence</th>\n",
       "      <th>Efforts</th>\n",
       "    </tr>\n",
       "  </thead>\n",
       "  <tbody>\n",
       "    <tr>\n",
       "      <th>0</th>\n",
       "      <td>Добавить два новых канала привлечения трафика,...</td>\n",
       "      <td>3</td>\n",
       "      <td>10</td>\n",
       "      <td>8</td>\n",
       "      <td>6</td>\n",
       "    </tr>\n",
       "    <tr>\n",
       "      <th>1</th>\n",
       "      <td>Запустить собственную службу доставки, что сок...</td>\n",
       "      <td>2</td>\n",
       "      <td>5</td>\n",
       "      <td>4</td>\n",
       "      <td>10</td>\n",
       "    </tr>\n",
       "    <tr>\n",
       "      <th>2</th>\n",
       "      <td>Добавить блоки рекомендаций товаров на сайт ин...</td>\n",
       "      <td>8</td>\n",
       "      <td>3</td>\n",
       "      <td>7</td>\n",
       "      <td>3</td>\n",
       "    </tr>\n",
       "    <tr>\n",
       "      <th>3</th>\n",
       "      <td>Изменить структура категорий, что увеличит кон...</td>\n",
       "      <td>8</td>\n",
       "      <td>3</td>\n",
       "      <td>3</td>\n",
       "      <td>8</td>\n",
       "    </tr>\n",
       "    <tr>\n",
       "      <th>4</th>\n",
       "      <td>Изменить цвет фона главной страницы, чтобы уве...</td>\n",
       "      <td>3</td>\n",
       "      <td>1</td>\n",
       "      <td>1</td>\n",
       "      <td>1</td>\n",
       "    </tr>\n",
       "    <tr>\n",
       "      <th>5</th>\n",
       "      <td>Добавить страницу отзывов клиентов о магазине,...</td>\n",
       "      <td>3</td>\n",
       "      <td>2</td>\n",
       "      <td>2</td>\n",
       "      <td>3</td>\n",
       "    </tr>\n",
       "    <tr>\n",
       "      <th>6</th>\n",
       "      <td>Показать на главной странице баннеры с актуаль...</td>\n",
       "      <td>5</td>\n",
       "      <td>3</td>\n",
       "      <td>8</td>\n",
       "      <td>3</td>\n",
       "    </tr>\n",
       "    <tr>\n",
       "      <th>7</th>\n",
       "      <td>Добавить форму подписки на все основные страни...</td>\n",
       "      <td>10</td>\n",
       "      <td>7</td>\n",
       "      <td>8</td>\n",
       "      <td>5</td>\n",
       "    </tr>\n",
       "    <tr>\n",
       "      <th>8</th>\n",
       "      <td>Запустить акцию, дающую скидку на товар в день...</td>\n",
       "      <td>1</td>\n",
       "      <td>9</td>\n",
       "      <td>9</td>\n",
       "      <td>5</td>\n",
       "    </tr>\n",
       "  </tbody>\n",
       "</table>\n",
       "</div>"
      ],
      "text/plain": [
       "                                          Hypothesis  Reach  Impact  \\\n",
       "0  Добавить два новых канала привлечения трафика,...      3      10   \n",
       "1  Запустить собственную службу доставки, что сок...      2       5   \n",
       "2  Добавить блоки рекомендаций товаров на сайт ин...      8       3   \n",
       "3  Изменить структура категорий, что увеличит кон...      8       3   \n",
       "4  Изменить цвет фона главной страницы, чтобы уве...      3       1   \n",
       "5  Добавить страницу отзывов клиентов о магазине,...      3       2   \n",
       "6  Показать на главной странице баннеры с актуаль...      5       3   \n",
       "7  Добавить форму подписки на все основные страни...     10       7   \n",
       "8  Запустить акцию, дающую скидку на товар в день...      1       9   \n",
       "\n",
       "   Confidence  Efforts  \n",
       "0           8        6  \n",
       "1           4       10  \n",
       "2           7        3  \n",
       "3           3        8  \n",
       "4           1        1  \n",
       "5           2        3  \n",
       "6           8        3  \n",
       "7           8        5  \n",
       "8           9        5  "
      ]
     },
     "metadata": {},
     "output_type": "display_data"
    },
    {
     "data": {
      "text/html": [
       "<div>\n",
       "<style scoped>\n",
       "    .dataframe tbody tr th:only-of-type {\n",
       "        vertical-align: middle;\n",
       "    }\n",
       "\n",
       "    .dataframe tbody tr th {\n",
       "        vertical-align: top;\n",
       "    }\n",
       "\n",
       "    .dataframe thead th {\n",
       "        text-align: right;\n",
       "    }\n",
       "</style>\n",
       "<table border=\"1\" class=\"dataframe\">\n",
       "  <thead>\n",
       "    <tr style=\"text-align: right;\">\n",
       "      <th></th>\n",
       "      <th>hypothesis</th>\n",
       "      <th>ICE</th>\n",
       "    </tr>\n",
       "  </thead>\n",
       "  <tbody>\n",
       "    <tr>\n",
       "      <th>8</th>\n",
       "      <td>Запустить акцию, дающую скидку на товар в день...</td>\n",
       "      <td>16.2</td>\n",
       "    </tr>\n",
       "    <tr>\n",
       "      <th>0</th>\n",
       "      <td>Добавить два новых канала привлечения трафика,...</td>\n",
       "      <td>13.3</td>\n",
       "    </tr>\n",
       "    <tr>\n",
       "      <th>7</th>\n",
       "      <td>Добавить форму подписки на все основные страни...</td>\n",
       "      <td>11.2</td>\n",
       "    </tr>\n",
       "    <tr>\n",
       "      <th>6</th>\n",
       "      <td>Показать на главной странице баннеры с актуаль...</td>\n",
       "      <td>8.0</td>\n",
       "    </tr>\n",
       "    <tr>\n",
       "      <th>2</th>\n",
       "      <td>Добавить блоки рекомендаций товаров на сайт ин...</td>\n",
       "      <td>7.0</td>\n",
       "    </tr>\n",
       "    <tr>\n",
       "      <th>1</th>\n",
       "      <td>Запустить собственную службу доставки, что сок...</td>\n",
       "      <td>2.0</td>\n",
       "    </tr>\n",
       "    <tr>\n",
       "      <th>5</th>\n",
       "      <td>Добавить страницу отзывов клиентов о магазине,...</td>\n",
       "      <td>1.3</td>\n",
       "    </tr>\n",
       "    <tr>\n",
       "      <th>3</th>\n",
       "      <td>Изменить структура категорий, что увеличит кон...</td>\n",
       "      <td>1.1</td>\n",
       "    </tr>\n",
       "    <tr>\n",
       "      <th>4</th>\n",
       "      <td>Изменить цвет фона главной страницы, чтобы уве...</td>\n",
       "      <td>1.0</td>\n",
       "    </tr>\n",
       "  </tbody>\n",
       "</table>\n",
       "</div>"
      ],
      "text/plain": [
       "                                          hypothesis  ICE\n",
       "8  Запустить акцию, дающую скидку на товар в день... 16.2\n",
       "0  Добавить два новых канала привлечения трафика,... 13.3\n",
       "7  Добавить форму подписки на все основные страни... 11.2\n",
       "6  Показать на главной странице баннеры с актуаль...  8.0\n",
       "2  Добавить блоки рекомендаций товаров на сайт ин...  7.0\n",
       "1  Запустить собственную службу доставки, что сок...  2.0\n",
       "5  Добавить страницу отзывов клиентов о магазине,...  1.3\n",
       "3  Изменить структура категорий, что увеличит кон...  1.1\n",
       "4  Изменить цвет фона главной страницы, чтобы уве...  1.0"
      ]
     },
     "metadata": {},
     "output_type": "display_data"
    }
   ],
   "source": [
    "data = pd.read_csv('/datasets/hypothesis.csv', sep=',')\n",
    "display(data)\n",
    "data.columns = map(str.lower, data.columns)\n",
    "data['ICE'] = (data['impact']*data['confidence'])/data['efforts']\n",
    "display(data[['hypothesis','ICE']].sort_values(by='ICE', ascending=False))\n",
    "pd.set_option('display.max_colwidth', 400)"
   ]
  },
  {
   "cell_type": "markdown",
   "metadata": {},
   "source": [
    "**Наиболее перспективные гипотезы по ICE - 8,0,7**"
   ]
  },
  {
   "cell_type": "markdown",
   "metadata": {},
   "source": [
    "### Примените фреймворк RICE для приоритизации гипотез. Отсортируйте их по убыванию приоритета."
   ]
  },
  {
   "cell_type": "markdown",
   "metadata": {},
   "source": [
    "Фреймворк RICE состоит из четырёх компонент:\n",
    "- Reach — скольких пользователей затронет изменение, которое вы хотите внести;\n",
    "- Impact — насколько сильно изменение повлияет на пользователей, их опыт и удовлетворение от продукта;\n",
    "- Confidence — насколько вы уверены, что это изменение повлияет на пользователей именно так;\n",
    "- Efforts — сколько стоит протестировать эту гипотезу.\n",
    "\n",
    "Формула для расчета RICE = (reach * impact * confidence) / efforts"
   ]
  },
  {
   "cell_type": "code",
   "execution_count": 3,
   "metadata": {},
   "outputs": [
    {
     "data": {
      "text/html": [
       "<div>\n",
       "<style scoped>\n",
       "    .dataframe tbody tr th:only-of-type {\n",
       "        vertical-align: middle;\n",
       "    }\n",
       "\n",
       "    .dataframe tbody tr th {\n",
       "        vertical-align: top;\n",
       "    }\n",
       "\n",
       "    .dataframe thead th {\n",
       "        text-align: right;\n",
       "    }\n",
       "</style>\n",
       "<table border=\"1\" class=\"dataframe\">\n",
       "  <thead>\n",
       "    <tr style=\"text-align: right;\">\n",
       "      <th></th>\n",
       "      <th>hypothesis</th>\n",
       "      <th>RICE</th>\n",
       "    </tr>\n",
       "  </thead>\n",
       "  <tbody>\n",
       "    <tr>\n",
       "      <th>7</th>\n",
       "      <td>Добавить форму подписки на все основные страницы, чтобы собрать базу клиентов для email-рассылок</td>\n",
       "      <td>112.0</td>\n",
       "    </tr>\n",
       "    <tr>\n",
       "      <th>2</th>\n",
       "      <td>Добавить блоки рекомендаций товаров на сайт интернет магазина, чтобы повысить конверсию и средний чек заказа</td>\n",
       "      <td>56.0</td>\n",
       "    </tr>\n",
       "    <tr>\n",
       "      <th>0</th>\n",
       "      <td>Добавить два новых канала привлечения трафика, что позволит привлекать на 30% больше пользователей</td>\n",
       "      <td>40.0</td>\n",
       "    </tr>\n",
       "    <tr>\n",
       "      <th>6</th>\n",
       "      <td>Показать на главной странице баннеры с актуальными акциями и распродажами, чтобы увеличить конверсию</td>\n",
       "      <td>40.0</td>\n",
       "    </tr>\n",
       "    <tr>\n",
       "      <th>8</th>\n",
       "      <td>Запустить акцию, дающую скидку на товар в день рождения</td>\n",
       "      <td>16.2</td>\n",
       "    </tr>\n",
       "    <tr>\n",
       "      <th>3</th>\n",
       "      <td>Изменить структура категорий, что увеличит конверсию, т.к. пользователи быстрее найдут нужный товар</td>\n",
       "      <td>9.0</td>\n",
       "    </tr>\n",
       "    <tr>\n",
       "      <th>1</th>\n",
       "      <td>Запустить собственную службу доставки, что сократит срок доставки заказов</td>\n",
       "      <td>4.0</td>\n",
       "    </tr>\n",
       "    <tr>\n",
       "      <th>5</th>\n",
       "      <td>Добавить страницу отзывов клиентов о магазине, что позволит увеличить количество заказов</td>\n",
       "      <td>4.0</td>\n",
       "    </tr>\n",
       "    <tr>\n",
       "      <th>4</th>\n",
       "      <td>Изменить цвет фона главной страницы, чтобы увеличить вовлеченность пользователей</td>\n",
       "      <td>3.0</td>\n",
       "    </tr>\n",
       "  </tbody>\n",
       "</table>\n",
       "</div>"
      ],
      "text/plain": [
       "                                                                                                     hypothesis  \\\n",
       "7              Добавить форму подписки на все основные страницы, чтобы собрать базу клиентов для email-рассылок   \n",
       "2  Добавить блоки рекомендаций товаров на сайт интернет магазина, чтобы повысить конверсию и средний чек заказа   \n",
       "0            Добавить два новых канала привлечения трафика, что позволит привлекать на 30% больше пользователей   \n",
       "6          Показать на главной странице баннеры с актуальными акциями и распродажами, чтобы увеличить конверсию   \n",
       "8                                                       Запустить акцию, дающую скидку на товар в день рождения   \n",
       "3           Изменить структура категорий, что увеличит конверсию, т.к. пользователи быстрее найдут нужный товар   \n",
       "1                                     Запустить собственную службу доставки, что сократит срок доставки заказов   \n",
       "5                      Добавить страницу отзывов клиентов о магазине, что позволит увеличить количество заказов   \n",
       "4                              Изменить цвет фона главной страницы, чтобы увеличить вовлеченность пользователей   \n",
       "\n",
       "   RICE  \n",
       "7 112.0  \n",
       "2  56.0  \n",
       "0  40.0  \n",
       "6  40.0  \n",
       "8  16.2  \n",
       "3   9.0  \n",
       "1   4.0  \n",
       "5   4.0  \n",
       "4   3.0  "
      ]
     },
     "metadata": {},
     "output_type": "display_data"
    }
   ],
   "source": [
    "data['RICE'] = (data['reach']*data['impact']*data['confidence'])/data['efforts']\n",
    "display(data[['hypothesis','RICE']].sort_values(by='RICE', ascending=False))"
   ]
  },
  {
   "cell_type": "markdown",
   "metadata": {},
   "source": [
    "**Наиболее перспективные гипотезы по RICE - 7,2,0**"
   ]
  },
  {
   "cell_type": "markdown",
   "metadata": {},
   "source": [
    "### Укажите, как изменилась приоритизация гипотез при применении RICE вместо ICE. Объясните, почему так произошло."
   ]
  },
  {
   "cell_type": "markdown",
   "metadata": {},
   "source": [
    "**Гипотеза под номером 7 теперь самая перспективная, это связано с тем, что ее параметр reach = 10 - самое большое значение среди других (охват пользователей).**"
   ]
  },
  {
   "cell_type": "code",
   "execution_count": 4,
   "metadata": {},
   "outputs": [
    {
     "data": {
      "text/html": [
       "<style  type=\"text/css\" >\n",
       "#T_4477c_row0_col1{\n",
       "            background-color:  #f7b79b;\n",
       "            color:  #000000;\n",
       "        }#T_4477c_row0_col2,#T_4477c_row4_col1{\n",
       "            background-color:  #b40426;\n",
       "            color:  #f1f1f1;\n",
       "        }#T_4477c_row1_col1{\n",
       "            background-color:  #bfd3f6;\n",
       "            color:  #000000;\n",
       "        }#T_4477c_row1_col2{\n",
       "            background-color:  #d9dce1;\n",
       "            color:  #000000;\n",
       "        }#T_4477c_row2_col1{\n",
       "            background-color:  #ec7f63;\n",
       "            color:  #000000;\n",
       "        }#T_4477c_row2_col2,#T_4477c_row3_col2{\n",
       "            background-color:  #abc8fd;\n",
       "            color:  #000000;\n",
       "        }#T_4477c_row3_col1{\n",
       "            background-color:  #d2dbe8;\n",
       "            color:  #000000;\n",
       "        }#T_4477c_row4_col2{\n",
       "            background-color:  #6180e9;\n",
       "            color:  #000000;\n",
       "        }#T_4477c_row5_col1,#T_4477c_row6_col2,#T_4477c_row7_col2{\n",
       "            background-color:  #3d50c3;\n",
       "            color:  #f1f1f1;\n",
       "        }#T_4477c_row5_col2{\n",
       "            background-color:  #4b64d5;\n",
       "            color:  #f1f1f1;\n",
       "        }#T_4477c_row6_col1{\n",
       "            background-color:  #4e68d8;\n",
       "            color:  #000000;\n",
       "        }#T_4477c_row7_col1{\n",
       "            background-color:  #4055c8;\n",
       "            color:  #f1f1f1;\n",
       "        }#T_4477c_row8_col1,#T_4477c_row8_col2{\n",
       "            background-color:  #3b4cc0;\n",
       "            color:  #f1f1f1;\n",
       "        }</style><table id=\"T_4477c_\" ><thead>    <tr>        <th class=\"blank level0\" ></th>        <th class=\"col_heading level0 col0\" >hypothesis</th>        <th class=\"col_heading level0 col1\" >ICE</th>        <th class=\"col_heading level0 col2\" >RICE</th>    </tr></thead><tbody>\n",
       "                <tr>\n",
       "                        <th id=\"T_4477c_level0_row0\" class=\"row_heading level0 row0\" >7</th>\n",
       "                        <td id=\"T_4477c_row0_col0\" class=\"data row0 col0\" >Добавить форму подписки на все основные страницы, чтобы собрать базу клиентов для email-рассылок</td>\n",
       "                        <td id=\"T_4477c_row0_col1\" class=\"data row0 col1\" >11.200000</td>\n",
       "                        <td id=\"T_4477c_row0_col2\" class=\"data row0 col2\" >112.000000</td>\n",
       "            </tr>\n",
       "            <tr>\n",
       "                        <th id=\"T_4477c_level0_row1\" class=\"row_heading level0 row1\" >2</th>\n",
       "                        <td id=\"T_4477c_row1_col0\" class=\"data row1 col0\" >Добавить блоки рекомендаций товаров на сайт интернет магазина, чтобы повысить конверсию и средний чек заказа</td>\n",
       "                        <td id=\"T_4477c_row1_col1\" class=\"data row1 col1\" >7.000000</td>\n",
       "                        <td id=\"T_4477c_row1_col2\" class=\"data row1 col2\" >56.000000</td>\n",
       "            </tr>\n",
       "            <tr>\n",
       "                        <th id=\"T_4477c_level0_row2\" class=\"row_heading level0 row2\" >0</th>\n",
       "                        <td id=\"T_4477c_row2_col0\" class=\"data row2 col0\" >Добавить два новых канала привлечения трафика, что позволит привлекать на 30% больше пользователей</td>\n",
       "                        <td id=\"T_4477c_row2_col1\" class=\"data row2 col1\" >13.333333</td>\n",
       "                        <td id=\"T_4477c_row2_col2\" class=\"data row2 col2\" >40.000000</td>\n",
       "            </tr>\n",
       "            <tr>\n",
       "                        <th id=\"T_4477c_level0_row3\" class=\"row_heading level0 row3\" >6</th>\n",
       "                        <td id=\"T_4477c_row3_col0\" class=\"data row3 col0\" >Показать на главной странице баннеры с актуальными акциями и распродажами, чтобы увеличить конверсию</td>\n",
       "                        <td id=\"T_4477c_row3_col1\" class=\"data row3 col1\" >8.000000</td>\n",
       "                        <td id=\"T_4477c_row3_col2\" class=\"data row3 col2\" >40.000000</td>\n",
       "            </tr>\n",
       "            <tr>\n",
       "                        <th id=\"T_4477c_level0_row4\" class=\"row_heading level0 row4\" >8</th>\n",
       "                        <td id=\"T_4477c_row4_col0\" class=\"data row4 col0\" >Запустить акцию, дающую скидку на товар в день рождения</td>\n",
       "                        <td id=\"T_4477c_row4_col1\" class=\"data row4 col1\" >16.200000</td>\n",
       "                        <td id=\"T_4477c_row4_col2\" class=\"data row4 col2\" >16.200000</td>\n",
       "            </tr>\n",
       "            <tr>\n",
       "                        <th id=\"T_4477c_level0_row5\" class=\"row_heading level0 row5\" >3</th>\n",
       "                        <td id=\"T_4477c_row5_col0\" class=\"data row5 col0\" >Изменить структура категорий, что увеличит конверсию, т.к. пользователи быстрее найдут нужный товар</td>\n",
       "                        <td id=\"T_4477c_row5_col1\" class=\"data row5 col1\" >1.125000</td>\n",
       "                        <td id=\"T_4477c_row5_col2\" class=\"data row5 col2\" >9.000000</td>\n",
       "            </tr>\n",
       "            <tr>\n",
       "                        <th id=\"T_4477c_level0_row6\" class=\"row_heading level0 row6\" >1</th>\n",
       "                        <td id=\"T_4477c_row6_col0\" class=\"data row6 col0\" >Запустить собственную службу доставки, что сократит срок доставки заказов</td>\n",
       "                        <td id=\"T_4477c_row6_col1\" class=\"data row6 col1\" >2.000000</td>\n",
       "                        <td id=\"T_4477c_row6_col2\" class=\"data row6 col2\" >4.000000</td>\n",
       "            </tr>\n",
       "            <tr>\n",
       "                        <th id=\"T_4477c_level0_row7\" class=\"row_heading level0 row7\" >5</th>\n",
       "                        <td id=\"T_4477c_row7_col0\" class=\"data row7 col0\" >Добавить страницу отзывов клиентов о магазине, что позволит увеличить количество заказов</td>\n",
       "                        <td id=\"T_4477c_row7_col1\" class=\"data row7 col1\" >1.333333</td>\n",
       "                        <td id=\"T_4477c_row7_col2\" class=\"data row7 col2\" >4.000000</td>\n",
       "            </tr>\n",
       "            <tr>\n",
       "                        <th id=\"T_4477c_level0_row8\" class=\"row_heading level0 row8\" >4</th>\n",
       "                        <td id=\"T_4477c_row8_col0\" class=\"data row8 col0\" >Изменить цвет фона главной страницы, чтобы увеличить вовлеченность пользователей</td>\n",
       "                        <td id=\"T_4477c_row8_col1\" class=\"data row8 col1\" >1.000000</td>\n",
       "                        <td id=\"T_4477c_row8_col2\" class=\"data row8 col2\" >3.000000</td>\n",
       "            </tr>\n",
       "    </tbody></table>"
      ],
      "text/plain": [
       "<pandas.io.formats.style.Styler at 0x7f7a94aec7c0>"
      ]
     },
     "execution_count": 4,
     "metadata": {},
     "output_type": "execute_result"
    }
   ],
   "source": [
    "data[['hypothesis', 'ICE', 'RICE']].sort_values(by='RICE', ascending=False).style.background_gradient('coolwarm')"
   ]
  },
  {
   "cell_type": "markdown",
   "metadata": {},
   "source": [
    "## Часть 2. Анализ A/B-теста\n",
    "Вы провели A/B-тест и получили результаты, которые описаны в файлах /datasets/orders.csv и /datasets/visitors.csv."
   ]
  },
  {
   "cell_type": "code",
   "execution_count": 5,
   "metadata": {},
   "outputs": [],
   "source": [
    "# Загрузим данные\n",
    "orders = pd.read_csv('/datasets/orders.csv', sep=',')\n",
    "visitors = pd.read_csv('/datasets/visitors.csv', sep=',')"
   ]
  },
  {
   "cell_type": "code",
   "execution_count": 6,
   "metadata": {},
   "outputs": [
    {
     "name": "stdout",
     "output_type": "stream",
     "text": [
      "<class 'pandas.core.frame.DataFrame'>\n",
      "RangeIndex: 1197 entries, 0 to 1196\n",
      "Data columns (total 5 columns):\n",
      " #   Column         Non-Null Count  Dtype \n",
      "---  ------         --------------  ----- \n",
      " 0   transactionId  1197 non-null   int64 \n",
      " 1   visitorId      1197 non-null   int64 \n",
      " 2   date           1197 non-null   object\n",
      " 3   revenue        1197 non-null   int64 \n",
      " 4   group          1197 non-null   object\n",
      "dtypes: int64(3), object(2)\n",
      "memory usage: 46.9+ KB\n"
     ]
    }
   ],
   "source": [
    "orders.info()"
   ]
  },
  {
   "cell_type": "code",
   "execution_count": 7,
   "metadata": {},
   "outputs": [
    {
     "data": {
      "text/html": [
       "<div>\n",
       "<style scoped>\n",
       "    .dataframe tbody tr th:only-of-type {\n",
       "        vertical-align: middle;\n",
       "    }\n",
       "\n",
       "    .dataframe tbody tr th {\n",
       "        vertical-align: top;\n",
       "    }\n",
       "\n",
       "    .dataframe thead th {\n",
       "        text-align: right;\n",
       "    }\n",
       "</style>\n",
       "<table border=\"1\" class=\"dataframe\">\n",
       "  <thead>\n",
       "    <tr style=\"text-align: right;\">\n",
       "      <th></th>\n",
       "      <th>transactionId</th>\n",
       "      <th>visitorId</th>\n",
       "      <th>date</th>\n",
       "      <th>revenue</th>\n",
       "      <th>group</th>\n",
       "    </tr>\n",
       "  </thead>\n",
       "  <tbody>\n",
       "    <tr>\n",
       "      <th>0</th>\n",
       "      <td>3667963787</td>\n",
       "      <td>3312258926</td>\n",
       "      <td>2019-08-15</td>\n",
       "      <td>1650</td>\n",
       "      <td>B</td>\n",
       "    </tr>\n",
       "    <tr>\n",
       "      <th>1</th>\n",
       "      <td>2804400009</td>\n",
       "      <td>3642806036</td>\n",
       "      <td>2019-08-15</td>\n",
       "      <td>730</td>\n",
       "      <td>B</td>\n",
       "    </tr>\n",
       "    <tr>\n",
       "      <th>2</th>\n",
       "      <td>2961555356</td>\n",
       "      <td>4069496402</td>\n",
       "      <td>2019-08-15</td>\n",
       "      <td>400</td>\n",
       "      <td>A</td>\n",
       "    </tr>\n",
       "    <tr>\n",
       "      <th>3</th>\n",
       "      <td>3797467345</td>\n",
       "      <td>1196621759</td>\n",
       "      <td>2019-08-15</td>\n",
       "      <td>9759</td>\n",
       "      <td>B</td>\n",
       "    </tr>\n",
       "    <tr>\n",
       "      <th>4</th>\n",
       "      <td>2282983706</td>\n",
       "      <td>2322279887</td>\n",
       "      <td>2019-08-15</td>\n",
       "      <td>2308</td>\n",
       "      <td>B</td>\n",
       "    </tr>\n",
       "    <tr>\n",
       "      <th>...</th>\n",
       "      <td>...</td>\n",
       "      <td>...</td>\n",
       "      <td>...</td>\n",
       "      <td>...</td>\n",
       "      <td>...</td>\n",
       "    </tr>\n",
       "    <tr>\n",
       "      <th>1192</th>\n",
       "      <td>2662137336</td>\n",
       "      <td>3733762160</td>\n",
       "      <td>2019-08-14</td>\n",
       "      <td>6490</td>\n",
       "      <td>B</td>\n",
       "    </tr>\n",
       "    <tr>\n",
       "      <th>1193</th>\n",
       "      <td>2203539145</td>\n",
       "      <td>370388673</td>\n",
       "      <td>2019-08-14</td>\n",
       "      <td>3190</td>\n",
       "      <td>A</td>\n",
       "    </tr>\n",
       "    <tr>\n",
       "      <th>1194</th>\n",
       "      <td>1807773912</td>\n",
       "      <td>573423106</td>\n",
       "      <td>2019-08-14</td>\n",
       "      <td>10550</td>\n",
       "      <td>A</td>\n",
       "    </tr>\n",
       "    <tr>\n",
       "      <th>1195</th>\n",
       "      <td>1947021204</td>\n",
       "      <td>1614305549</td>\n",
       "      <td>2019-08-14</td>\n",
       "      <td>100</td>\n",
       "      <td>A</td>\n",
       "    </tr>\n",
       "    <tr>\n",
       "      <th>1196</th>\n",
       "      <td>3936777065</td>\n",
       "      <td>2108080724</td>\n",
       "      <td>2019-08-15</td>\n",
       "      <td>202740</td>\n",
       "      <td>B</td>\n",
       "    </tr>\n",
       "  </tbody>\n",
       "</table>\n",
       "<p>1197 rows × 5 columns</p>\n",
       "</div>"
      ],
      "text/plain": [
       "      transactionId   visitorId        date  revenue group\n",
       "0        3667963787  3312258926  2019-08-15     1650     B\n",
       "1        2804400009  3642806036  2019-08-15      730     B\n",
       "2        2961555356  4069496402  2019-08-15      400     A\n",
       "3        3797467345  1196621759  2019-08-15     9759     B\n",
       "4        2282983706  2322279887  2019-08-15     2308     B\n",
       "...             ...         ...         ...      ...   ...\n",
       "1192     2662137336  3733762160  2019-08-14     6490     B\n",
       "1193     2203539145   370388673  2019-08-14     3190     A\n",
       "1194     1807773912   573423106  2019-08-14    10550     A\n",
       "1195     1947021204  1614305549  2019-08-14      100     A\n",
       "1196     3936777065  2108080724  2019-08-15   202740     B\n",
       "\n",
       "[1197 rows x 5 columns]"
      ]
     },
     "metadata": {},
     "output_type": "display_data"
    }
   ],
   "source": [
    "display(orders)"
   ]
  },
  {
   "cell_type": "code",
   "execution_count": 8,
   "metadata": {},
   "outputs": [],
   "source": [
    "#transactionId — идентификатор заказа;\n",
    "#visitorId — идентификатор пользователя, совершившего заказ;\n",
    "#Из тренажера:\n",
    "#orderId — идентификатор заказа;\n",
    "#userId — идентификатор пользователя, совершившего заказ;\n",
    "orders = orders.rename(columns={\"transactionId\": \"orderId\", \"visitorId\": \"userId\"})"
   ]
  },
  {
   "cell_type": "code",
   "execution_count": 9,
   "metadata": {},
   "outputs": [
    {
     "data": {
      "text/html": [
       "<div>\n",
       "<style scoped>\n",
       "    .dataframe tbody tr th:only-of-type {\n",
       "        vertical-align: middle;\n",
       "    }\n",
       "\n",
       "    .dataframe tbody tr th {\n",
       "        vertical-align: top;\n",
       "    }\n",
       "\n",
       "    .dataframe thead th {\n",
       "        text-align: right;\n",
       "    }\n",
       "</style>\n",
       "<table border=\"1\" class=\"dataframe\">\n",
       "  <thead>\n",
       "    <tr style=\"text-align: right;\">\n",
       "      <th></th>\n",
       "      <th>orderId</th>\n",
       "      <th>userId</th>\n",
       "      <th>date</th>\n",
       "      <th>revenue</th>\n",
       "      <th>group</th>\n",
       "    </tr>\n",
       "  </thead>\n",
       "  <tbody>\n",
       "    <tr>\n",
       "      <th>0</th>\n",
       "      <td>3667963787</td>\n",
       "      <td>3312258926</td>\n",
       "      <td>2019-08-15</td>\n",
       "      <td>1650</td>\n",
       "      <td>B</td>\n",
       "    </tr>\n",
       "    <tr>\n",
       "      <th>1</th>\n",
       "      <td>2804400009</td>\n",
       "      <td>3642806036</td>\n",
       "      <td>2019-08-15</td>\n",
       "      <td>730</td>\n",
       "      <td>B</td>\n",
       "    </tr>\n",
       "    <tr>\n",
       "      <th>2</th>\n",
       "      <td>2961555356</td>\n",
       "      <td>4069496402</td>\n",
       "      <td>2019-08-15</td>\n",
       "      <td>400</td>\n",
       "      <td>A</td>\n",
       "    </tr>\n",
       "    <tr>\n",
       "      <th>3</th>\n",
       "      <td>3797467345</td>\n",
       "      <td>1196621759</td>\n",
       "      <td>2019-08-15</td>\n",
       "      <td>9759</td>\n",
       "      <td>B</td>\n",
       "    </tr>\n",
       "    <tr>\n",
       "      <th>4</th>\n",
       "      <td>2282983706</td>\n",
       "      <td>2322279887</td>\n",
       "      <td>2019-08-15</td>\n",
       "      <td>2308</td>\n",
       "      <td>B</td>\n",
       "    </tr>\n",
       "  </tbody>\n",
       "</table>\n",
       "</div>"
      ],
      "text/plain": [
       "      orderId      userId        date  revenue group\n",
       "0  3667963787  3312258926  2019-08-15     1650     B\n",
       "1  2804400009  3642806036  2019-08-15      730     B\n",
       "2  2961555356  4069496402  2019-08-15      400     A\n",
       "3  3797467345  1196621759  2019-08-15     9759     B\n",
       "4  2282983706  2322279887  2019-08-15     2308     B"
      ]
     },
     "execution_count": 9,
     "metadata": {},
     "output_type": "execute_result"
    }
   ],
   "source": [
    "orders.head(5)"
   ]
  },
  {
   "cell_type": "code",
   "execution_count": 10,
   "metadata": {},
   "outputs": [
    {
     "name": "stdout",
     "output_type": "stream",
     "text": [
      "<class 'pandas.core.frame.DataFrame'>\n",
      "RangeIndex: 62 entries, 0 to 61\n",
      "Data columns (total 3 columns):\n",
      " #   Column    Non-Null Count  Dtype \n",
      "---  ------    --------------  ----- \n",
      " 0   date      62 non-null     object\n",
      " 1   group     62 non-null     object\n",
      " 2   visitors  62 non-null     int64 \n",
      "dtypes: int64(1), object(2)\n",
      "memory usage: 1.6+ KB\n"
     ]
    }
   ],
   "source": [
    "visitors.info()"
   ]
  },
  {
   "cell_type": "code",
   "execution_count": 11,
   "metadata": {},
   "outputs": [
    {
     "data": {
      "text/html": [
       "<div>\n",
       "<style scoped>\n",
       "    .dataframe tbody tr th:only-of-type {\n",
       "        vertical-align: middle;\n",
       "    }\n",
       "\n",
       "    .dataframe tbody tr th {\n",
       "        vertical-align: top;\n",
       "    }\n",
       "\n",
       "    .dataframe thead th {\n",
       "        text-align: right;\n",
       "    }\n",
       "</style>\n",
       "<table border=\"1\" class=\"dataframe\">\n",
       "  <thead>\n",
       "    <tr style=\"text-align: right;\">\n",
       "      <th></th>\n",
       "      <th>date</th>\n",
       "      <th>group</th>\n",
       "      <th>visitors</th>\n",
       "    </tr>\n",
       "  </thead>\n",
       "  <tbody>\n",
       "    <tr>\n",
       "      <th>0</th>\n",
       "      <td>2019-08-01</td>\n",
       "      <td>A</td>\n",
       "      <td>719</td>\n",
       "    </tr>\n",
       "    <tr>\n",
       "      <th>1</th>\n",
       "      <td>2019-08-02</td>\n",
       "      <td>A</td>\n",
       "      <td>619</td>\n",
       "    </tr>\n",
       "    <tr>\n",
       "      <th>2</th>\n",
       "      <td>2019-08-03</td>\n",
       "      <td>A</td>\n",
       "      <td>507</td>\n",
       "    </tr>\n",
       "    <tr>\n",
       "      <th>3</th>\n",
       "      <td>2019-08-04</td>\n",
       "      <td>A</td>\n",
       "      <td>717</td>\n",
       "    </tr>\n",
       "    <tr>\n",
       "      <th>4</th>\n",
       "      <td>2019-08-05</td>\n",
       "      <td>A</td>\n",
       "      <td>756</td>\n",
       "    </tr>\n",
       "    <tr>\n",
       "      <th>...</th>\n",
       "      <td>...</td>\n",
       "      <td>...</td>\n",
       "      <td>...</td>\n",
       "    </tr>\n",
       "    <tr>\n",
       "      <th>57</th>\n",
       "      <td>2019-08-27</td>\n",
       "      <td>B</td>\n",
       "      <td>720</td>\n",
       "    </tr>\n",
       "    <tr>\n",
       "      <th>58</th>\n",
       "      <td>2019-08-28</td>\n",
       "      <td>B</td>\n",
       "      <td>654</td>\n",
       "    </tr>\n",
       "    <tr>\n",
       "      <th>59</th>\n",
       "      <td>2019-08-29</td>\n",
       "      <td>B</td>\n",
       "      <td>531</td>\n",
       "    </tr>\n",
       "    <tr>\n",
       "      <th>60</th>\n",
       "      <td>2019-08-30</td>\n",
       "      <td>B</td>\n",
       "      <td>490</td>\n",
       "    </tr>\n",
       "    <tr>\n",
       "      <th>61</th>\n",
       "      <td>2019-08-31</td>\n",
       "      <td>B</td>\n",
       "      <td>718</td>\n",
       "    </tr>\n",
       "  </tbody>\n",
       "</table>\n",
       "<p>62 rows × 3 columns</p>\n",
       "</div>"
      ],
      "text/plain": [
       "          date group  visitors\n",
       "0   2019-08-01     A       719\n",
       "1   2019-08-02     A       619\n",
       "2   2019-08-03     A       507\n",
       "3   2019-08-04     A       717\n",
       "4   2019-08-05     A       756\n",
       "..         ...   ...       ...\n",
       "57  2019-08-27     B       720\n",
       "58  2019-08-28     B       654\n",
       "59  2019-08-29     B       531\n",
       "60  2019-08-30     B       490\n",
       "61  2019-08-31     B       718\n",
       "\n",
       "[62 rows x 3 columns]"
      ]
     },
     "metadata": {},
     "output_type": "display_data"
    }
   ],
   "source": [
    "display(visitors)"
   ]
  },
  {
   "cell_type": "code",
   "execution_count": 12,
   "metadata": {},
   "outputs": [],
   "source": [
    "orders['date'] = orders['date'].map(\n",
    "    lambda x: dt.datetime.strptime(x, '%Y-%m-%d')\n",
    ")\n",
    "visitors['date'] = visitors['date'].map(\n",
    "    lambda x: dt.datetime.strptime(x, '%Y-%m-%d')\n",
    ")"
   ]
  },
  {
   "cell_type": "code",
   "execution_count": 13,
   "metadata": {},
   "outputs": [
    {
     "name": "stdout",
     "output_type": "stream",
     "text": [
      "<class 'pandas.core.frame.DataFrame'>\n",
      "RangeIndex: 62 entries, 0 to 61\n",
      "Data columns (total 3 columns):\n",
      " #   Column    Non-Null Count  Dtype         \n",
      "---  ------    --------------  -----         \n",
      " 0   date      62 non-null     datetime64[ns]\n",
      " 1   group     62 non-null     object        \n",
      " 2   visitors  62 non-null     int64         \n",
      "dtypes: datetime64[ns](1), int64(1), object(1)\n",
      "memory usage: 1.6+ KB\n"
     ]
    }
   ],
   "source": [
    "visitors.info()"
   ]
  },
  {
   "cell_type": "code",
   "execution_count": 14,
   "metadata": {},
   "outputs": [
    {
     "data": {
      "text/plain": [
       "B    640\n",
       "A    557\n",
       "Name: group, dtype: int64"
      ]
     },
     "execution_count": 14,
     "metadata": {},
     "output_type": "execute_result"
    }
   ],
   "source": [
    "orders['group'].value_counts()"
   ]
  },
  {
   "cell_type": "code",
   "execution_count": 15,
   "metadata": {},
   "outputs": [
    {
     "data": {
      "text/plain": [
       "B    31\n",
       "A    31\n",
       "Name: group, dtype: int64"
      ]
     },
     "execution_count": 15,
     "metadata": {},
     "output_type": "execute_result"
    }
   ],
   "source": [
    "visitors['group'].value_counts()"
   ]
  },
  {
   "cell_type": "markdown",
   "metadata": {},
   "source": [
    "Не понимаю, как то странно получается, что в таблице visitors записей одинакое количество - по 31 в группах, а в таблице orders они не равны, посмотрим повнимательнее. "
   ]
  },
  {
   "cell_type": "code",
   "execution_count": 16,
   "metadata": {},
   "outputs": [
    {
     "data": {
      "text/plain": [
       "58"
      ]
     },
     "execution_count": 16,
     "metadata": {},
     "output_type": "execute_result"
    }
   ],
   "source": [
    "orders.groupby('userId').agg({'group':'nunique'}).query('group>1').shape[0]"
   ]
  },
  {
   "cell_type": "markdown",
   "metadata": {},
   "source": [
    "58 пользователей оказались и в группе А и в группе В. В описании проекта ничего не сказано о том, каким образом были сформированы группы, а также не акцентировали внимание на их проверке, возможно наличие этих 58 пользователей не влияет на результаты, оставляю их без изменений."
   ]
  },
  {
   "cell_type": "markdown",
   "metadata": {},
   "source": [
    "### Постройте график кумулятивной выручки по группам. Сделайте выводы и предположения."
   ]
  },
  {
   "cell_type": "code",
   "execution_count": 17,
   "metadata": {},
   "outputs": [
    {
     "data": {
      "text/html": [
       "<div>\n",
       "<style scoped>\n",
       "    .dataframe tbody tr th:only-of-type {\n",
       "        vertical-align: middle;\n",
       "    }\n",
       "\n",
       "    .dataframe tbody tr th {\n",
       "        vertical-align: top;\n",
       "    }\n",
       "\n",
       "    .dataframe thead th {\n",
       "        text-align: right;\n",
       "    }\n",
       "</style>\n",
       "<table border=\"1\" class=\"dataframe\">\n",
       "  <thead>\n",
       "    <tr style=\"text-align: right;\">\n",
       "      <th></th>\n",
       "      <th>date</th>\n",
       "      <th>group</th>\n",
       "    </tr>\n",
       "  </thead>\n",
       "  <tbody>\n",
       "    <tr>\n",
       "      <th>0</th>\n",
       "      <td>2019-08-15</td>\n",
       "      <td>B</td>\n",
       "    </tr>\n",
       "    <tr>\n",
       "      <th>2</th>\n",
       "      <td>2019-08-15</td>\n",
       "      <td>A</td>\n",
       "    </tr>\n",
       "    <tr>\n",
       "      <th>45</th>\n",
       "      <td>2019-08-16</td>\n",
       "      <td>A</td>\n",
       "    </tr>\n",
       "    <tr>\n",
       "      <th>47</th>\n",
       "      <td>2019-08-16</td>\n",
       "      <td>B</td>\n",
       "    </tr>\n",
       "    <tr>\n",
       "      <th>55</th>\n",
       "      <td>2019-08-01</td>\n",
       "      <td>A</td>\n",
       "    </tr>\n",
       "  </tbody>\n",
       "</table>\n",
       "</div>"
      ],
      "text/plain": [
       "         date group\n",
       "0  2019-08-15     B\n",
       "2  2019-08-15     A\n",
       "45 2019-08-16     A\n",
       "47 2019-08-16     B\n",
       "55 2019-08-01     A"
      ]
     },
     "execution_count": 17,
     "metadata": {},
     "output_type": "execute_result"
    }
   ],
   "source": [
    "# создаем массив уникальных пар значений дат и групп теста\n",
    "datesGroups = orders[['date','group']].drop_duplicates()\n",
    "datesGroups.head()"
   ]
  },
  {
   "cell_type": "code",
   "execution_count": 18,
   "metadata": {},
   "outputs": [
    {
     "data": {
      "text/html": [
       "<div>\n",
       "<style scoped>\n",
       "    .dataframe tbody tr th:only-of-type {\n",
       "        vertical-align: middle;\n",
       "    }\n",
       "\n",
       "    .dataframe tbody tr th {\n",
       "        vertical-align: top;\n",
       "    }\n",
       "\n",
       "    .dataframe thead th {\n",
       "        text-align: right;\n",
       "    }\n",
       "</style>\n",
       "<table border=\"1\" class=\"dataframe\">\n",
       "  <thead>\n",
       "    <tr style=\"text-align: right;\">\n",
       "      <th></th>\n",
       "      <th>date</th>\n",
       "      <th>group</th>\n",
       "      <th>orderId</th>\n",
       "      <th>userId</th>\n",
       "      <th>revenue</th>\n",
       "    </tr>\n",
       "  </thead>\n",
       "  <tbody>\n",
       "    <tr>\n",
       "      <th>55</th>\n",
       "      <td>2019-08-01</td>\n",
       "      <td>A</td>\n",
       "      <td>24</td>\n",
       "      <td>20</td>\n",
       "      <td>148579</td>\n",
       "    </tr>\n",
       "    <tr>\n",
       "      <th>66</th>\n",
       "      <td>2019-08-01</td>\n",
       "      <td>B</td>\n",
       "      <td>21</td>\n",
       "      <td>20</td>\n",
       "      <td>101217</td>\n",
       "    </tr>\n",
       "    <tr>\n",
       "      <th>175</th>\n",
       "      <td>2019-08-02</td>\n",
       "      <td>A</td>\n",
       "      <td>44</td>\n",
       "      <td>38</td>\n",
       "      <td>242401</td>\n",
       "    </tr>\n",
       "    <tr>\n",
       "      <th>173</th>\n",
       "      <td>2019-08-02</td>\n",
       "      <td>B</td>\n",
       "      <td>45</td>\n",
       "      <td>43</td>\n",
       "      <td>266748</td>\n",
       "    </tr>\n",
       "    <tr>\n",
       "      <th>291</th>\n",
       "      <td>2019-08-03</td>\n",
       "      <td>A</td>\n",
       "      <td>68</td>\n",
       "      <td>62</td>\n",
       "      <td>354874</td>\n",
       "    </tr>\n",
       "  </tbody>\n",
       "</table>\n",
       "</div>"
      ],
      "text/plain": [
       "          date group  orderId  userId  revenue\n",
       "55  2019-08-01     A       24      20   148579\n",
       "66  2019-08-01     B       21      20   101217\n",
       "175 2019-08-02     A       44      38   242401\n",
       "173 2019-08-02     B       45      43   266748\n",
       "291 2019-08-03     A       68      62   354874"
      ]
     },
     "execution_count": 18,
     "metadata": {},
     "output_type": "execute_result"
    }
   ],
   "source": [
    "# cоберём агрегированные кумулятивные по дням данные о заказах \n",
    "ordersAggregated = datesGroups.apply(\n",
    "    lambda x: orders[\n",
    "        np.logical_and(\n",
    "            orders['date'] <= x['date'], orders['group'] == x['group']\n",
    "        )\n",
    "    ].agg(\n",
    "        {\n",
    "            'date': 'max',\n",
    "            'group': 'max',\n",
    "            'orderId': pd.Series.nunique,\n",
    "            'userId': pd.Series.nunique,\n",
    "            'revenue': 'sum',\n",
    "        }\n",
    "    ),\n",
    "    axis=1,\n",
    ").sort_values(by=['date', 'group'])\n",
    "ordersAggregated.head()"
   ]
  },
  {
   "cell_type": "code",
   "execution_count": 19,
   "metadata": {},
   "outputs": [
    {
     "data": {
      "text/html": [
       "<div>\n",
       "<style scoped>\n",
       "    .dataframe tbody tr th:only-of-type {\n",
       "        vertical-align: middle;\n",
       "    }\n",
       "\n",
       "    .dataframe tbody tr th {\n",
       "        vertical-align: top;\n",
       "    }\n",
       "\n",
       "    .dataframe thead th {\n",
       "        text-align: right;\n",
       "    }\n",
       "</style>\n",
       "<table border=\"1\" class=\"dataframe\">\n",
       "  <thead>\n",
       "    <tr style=\"text-align: right;\">\n",
       "      <th></th>\n",
       "      <th>date</th>\n",
       "      <th>group</th>\n",
       "      <th>visitors</th>\n",
       "    </tr>\n",
       "  </thead>\n",
       "  <tbody>\n",
       "    <tr>\n",
       "      <th>55</th>\n",
       "      <td>2019-08-01</td>\n",
       "      <td>A</td>\n",
       "      <td>719</td>\n",
       "    </tr>\n",
       "    <tr>\n",
       "      <th>66</th>\n",
       "      <td>2019-08-01</td>\n",
       "      <td>B</td>\n",
       "      <td>713</td>\n",
       "    </tr>\n",
       "    <tr>\n",
       "      <th>175</th>\n",
       "      <td>2019-08-02</td>\n",
       "      <td>A</td>\n",
       "      <td>1338</td>\n",
       "    </tr>\n",
       "    <tr>\n",
       "      <th>173</th>\n",
       "      <td>2019-08-02</td>\n",
       "      <td>B</td>\n",
       "      <td>1294</td>\n",
       "    </tr>\n",
       "    <tr>\n",
       "      <th>291</th>\n",
       "      <td>2019-08-03</td>\n",
       "      <td>A</td>\n",
       "      <td>1845</td>\n",
       "    </tr>\n",
       "  </tbody>\n",
       "</table>\n",
       "</div>"
      ],
      "text/plain": [
       "          date group  visitors\n",
       "55  2019-08-01     A       719\n",
       "66  2019-08-01     B       713\n",
       "175 2019-08-02     A      1338\n",
       "173 2019-08-02     B      1294\n",
       "291 2019-08-03     A      1845"
      ]
     },
     "execution_count": 19,
     "metadata": {},
     "output_type": "execute_result"
    }
   ],
   "source": [
    "# Аналогично получим агрегированные кумулятивные по дням данные о посетителях интернет-магазина\n",
    "visitorsAggregated = datesGroups.apply(\n",
    "    lambda x: visitors[\n",
    "        np.logical_and(\n",
    "            visitors['date'] <= x['date'], visitors['group'] == x['group']\n",
    "        )\n",
    "    ].agg({'date': 'max', 'group': 'max', 'visitors': 'sum'}),\n",
    "    axis=1,\n",
    ").sort_values(by=['date', 'group'])\n",
    "visitorsAggregated.head()"
   ]
  },
  {
   "cell_type": "code",
   "execution_count": 20,
   "metadata": {},
   "outputs": [
    {
     "data": {
      "text/html": [
       "<div>\n",
       "<style scoped>\n",
       "    .dataframe tbody tr th:only-of-type {\n",
       "        vertical-align: middle;\n",
       "    }\n",
       "\n",
       "    .dataframe tbody tr th {\n",
       "        vertical-align: top;\n",
       "    }\n",
       "\n",
       "    .dataframe thead th {\n",
       "        text-align: right;\n",
       "    }\n",
       "</style>\n",
       "<table border=\"1\" class=\"dataframe\">\n",
       "  <thead>\n",
       "    <tr style=\"text-align: right;\">\n",
       "      <th></th>\n",
       "      <th>date</th>\n",
       "      <th>group</th>\n",
       "      <th>orders</th>\n",
       "      <th>buyers</th>\n",
       "      <th>revenue</th>\n",
       "      <th>visitors</th>\n",
       "    </tr>\n",
       "  </thead>\n",
       "  <tbody>\n",
       "    <tr>\n",
       "      <th>0</th>\n",
       "      <td>2019-08-01</td>\n",
       "      <td>A</td>\n",
       "      <td>24</td>\n",
       "      <td>20</td>\n",
       "      <td>148579</td>\n",
       "      <td>719</td>\n",
       "    </tr>\n",
       "    <tr>\n",
       "      <th>1</th>\n",
       "      <td>2019-08-01</td>\n",
       "      <td>B</td>\n",
       "      <td>21</td>\n",
       "      <td>20</td>\n",
       "      <td>101217</td>\n",
       "      <td>713</td>\n",
       "    </tr>\n",
       "    <tr>\n",
       "      <th>2</th>\n",
       "      <td>2019-08-02</td>\n",
       "      <td>A</td>\n",
       "      <td>44</td>\n",
       "      <td>38</td>\n",
       "      <td>242401</td>\n",
       "      <td>1338</td>\n",
       "    </tr>\n",
       "    <tr>\n",
       "      <th>3</th>\n",
       "      <td>2019-08-02</td>\n",
       "      <td>B</td>\n",
       "      <td>45</td>\n",
       "      <td>43</td>\n",
       "      <td>266748</td>\n",
       "      <td>1294</td>\n",
       "    </tr>\n",
       "    <tr>\n",
       "      <th>4</th>\n",
       "      <td>2019-08-03</td>\n",
       "      <td>A</td>\n",
       "      <td>68</td>\n",
       "      <td>62</td>\n",
       "      <td>354874</td>\n",
       "      <td>1845</td>\n",
       "    </tr>\n",
       "  </tbody>\n",
       "</table>\n",
       "</div>"
      ],
      "text/plain": [
       "        date group  orders  buyers  revenue  visitors\n",
       "0 2019-08-01     A      24      20   148579       719\n",
       "1 2019-08-01     B      21      20   101217       713\n",
       "2 2019-08-02     A      44      38   242401      1338\n",
       "3 2019-08-02     B      45      43   266748      1294\n",
       "4 2019-08-03     A      68      62   354874      1845"
      ]
     },
     "metadata": {},
     "output_type": "display_data"
    }
   ],
   "source": [
    "#Объединим обе таблицы в одну с понятными названиями столбцов:\n",
    "cumulativeData = ordersAggregated.merge(visitorsAggregated, left_on=['date', 'group'], right_on=['date', 'group'])\n",
    "cumulativeData.columns = ['date', 'group', 'orders', 'buyers', 'revenue', 'visitors']\n",
    "\n",
    "display(cumulativeData.head(5)) "
   ]
  },
  {
   "cell_type": "code",
   "execution_count": 21,
   "metadata": {},
   "outputs": [
    {
     "data": {
      "image/png": "[encoded data removed]",
      "text/plain": [
       "<Figure size 432x288 with 1 Axes>"
      ]
     },
     "metadata": {
      "needs_background": "light"
     },
     "output_type": "display_data"
    }
   ],
   "source": [
    "#Построим графики кумулятивной выручки по дням и группам A/B-тестирования:\n",
    "# датафрейм с кумулятивным количеством заказов и кумулятивной выручкой по дням в группе А\n",
    "cumulativeRevenueA = cumulativeData[cumulativeData['group']=='A'][['date','revenue', 'orders']]\n",
    "\n",
    "# датафрейм с кумулятивным количеством заказов и кумулятивной выручкой по дням в группе B\n",
    "cumulativeRevenueB = cumulativeData[cumulativeData['group']=='B'][['date','revenue', 'orders']]\n",
    "\n",
    "# Строим график выручки группы А\n",
    "plt.plot(cumulativeRevenueA['date'], cumulativeRevenueA['revenue'], label='A')\n",
    "\n",
    "# Строим график выручки группы B\n",
    "plt.plot(cumulativeRevenueB['date'], cumulativeRevenueB['revenue'], label='B')\n",
    "plt.xticks(rotation=45)\n",
    "plt.title('Кумулятивная выручка по группам')\n",
    "plt.xlabel('Дата')\n",
    "plt.ylabel('Выручка')\n",
    "plt.legend(); "
   ]
  },
  {
   "cell_type": "markdown",
   "metadata": {},
   "source": [
    "**Наблюдаем, что график выручки группы В имеет резкий рост в промежутке между 17-21 числом, вероятно в выборке увеличилось число заказов либо их стоимость. Выручка по обоим группам увеличивается на протяжении всего теста.**"
   ]
  },
  {
   "cell_type": "markdown",
   "metadata": {},
   "source": [
    "### Постройте график кумулятивного среднего чека по группам. Сделайте выводы и предположения."
   ]
  },
  {
   "cell_type": "code",
   "execution_count": 22,
   "metadata": {},
   "outputs": [
    {
     "data": {
      "image/png": "[encoded data removed]",
      "text/plain": [
       "<Figure size 432x288 with 1 Axes>"
      ]
     },
     "metadata": {
      "needs_background": "light"
     },
     "output_type": "display_data"
    }
   ],
   "source": [
    "plt.plot(cumulativeRevenueA['date'], cumulativeRevenueA['revenue']/cumulativeRevenueA['orders'], label='A')\n",
    "plt.plot(cumulativeRevenueB['date'], cumulativeRevenueB['revenue']/cumulativeRevenueB['orders'], label='B')\n",
    "plt.xticks(rotation=45)\n",
    "plt.title('Кумулятивный средний чек по группам')\n",
    "plt.xlabel('Дата')\n",
    "plt.ylabel('Средний чек')\n",
    "plt.legend();"
   ]
  },
  {
   "cell_type": "markdown",
   "metadata": {},
   "source": [
    "**Очень нестабильные кривые. Также как и для выручки в промежутке между 17-21 числом виден резкий скачок по группе В, возможно пользователи привыкли к новой фиче, которую мы проверяем и научились ей пользоваться, что дало рост показателей. Тем не менее стабилизации не произошло и вряд ли можно основываться на этих данных, очень сильный разброс.**"
   ]
  },
  {
   "cell_type": "markdown",
   "metadata": {},
   "source": [
    "### Постройте график относительного изменения кумулятивного среднего чека группы B к группе A. Сделайте выводы и предположения."
   ]
  },
  {
   "cell_type": "code",
   "execution_count": 23,
   "metadata": {},
   "outputs": [
    {
     "data": {
      "image/png": "[encoded data removed]",
      "text/plain": [
       "<Figure size 432x288 with 1 Axes>"
      ]
     },
     "metadata": {
      "needs_background": "light"
     },
     "output_type": "display_data"
    }
   ],
   "source": [
    "#Чтобы нагляднее увидеть разницу между группами, строят график относительного различия. \n",
    "#Каждую его точку рассчитывают так: кумулятивная метрика группы B / кумулятивная метрика группы A - 1\n",
    "#Добавим горизонтальную ось методом axhline() \n",
    "# собираем данные в одном датафрейме\n",
    "mergedCumulativeRevenue = cumulativeRevenueA.merge(\n",
    "    cumulativeRevenueB, left_on='date', right_on='date', how='left', suffixes=['A', 'B'])\n",
    "\n",
    "# cтроим отношение средних чеков\n",
    "plt.plot(mergedCumulativeRevenue['date'], \n",
    "         (mergedCumulativeRevenue['revenueB']/mergedCumulativeRevenue['ordersB'])/\n",
    "         (mergedCumulativeRevenue['revenueA']/mergedCumulativeRevenue['ordersA'])-1)\n",
    "\n",
    "# добавляем ось X\n",
    "plt.axhline(y=0, color='black', linestyle='--') \n",
    "plt.xticks(rotation=45)\n",
    "plt.title('Относительное изменение кумулятивного среднего чека группы B к группе A')\n",
    "plt.xlabel('Дата')\n",
    "plt.ylabel('Отношение средних чеков');"
   ]
  },
  {
   "cell_type": "markdown",
   "metadata": {},
   "source": [
    "**В нескольких точках график различия между сегментами резко «скачет». Где-то уж точно спрятались крупные заказы и выбросы!**"
   ]
  },
  {
   "cell_type": "markdown",
   "metadata": {},
   "source": [
    "### Постройте график кумулятивной конверсии по группам. Сделайте выводы и предположения."
   ]
  },
  {
   "cell_type": "code",
   "execution_count": 24,
   "metadata": {},
   "outputs": [
    {
     "data": {
      "text/html": [
       "<div>\n",
       "<style scoped>\n",
       "    .dataframe tbody tr th:only-of-type {\n",
       "        vertical-align: middle;\n",
       "    }\n",
       "\n",
       "    .dataframe tbody tr th {\n",
       "        vertical-align: top;\n",
       "    }\n",
       "\n",
       "    .dataframe thead th {\n",
       "        text-align: right;\n",
       "    }\n",
       "</style>\n",
       "<table border=\"1\" class=\"dataframe\">\n",
       "  <thead>\n",
       "    <tr style=\"text-align: right;\">\n",
       "      <th></th>\n",
       "      <th>date</th>\n",
       "      <th>group</th>\n",
       "      <th>orders</th>\n",
       "      <th>buyers</th>\n",
       "      <th>revenue</th>\n",
       "      <th>visitors</th>\n",
       "      <th>conversion</th>\n",
       "    </tr>\n",
       "  </thead>\n",
       "  <tbody>\n",
       "    <tr>\n",
       "      <th>0</th>\n",
       "      <td>2019-08-01</td>\n",
       "      <td>A</td>\n",
       "      <td>24</td>\n",
       "      <td>20</td>\n",
       "      <td>148579</td>\n",
       "      <td>719</td>\n",
       "      <td>0.0</td>\n",
       "    </tr>\n",
       "    <tr>\n",
       "      <th>1</th>\n",
       "      <td>2019-08-01</td>\n",
       "      <td>B</td>\n",
       "      <td>21</td>\n",
       "      <td>20</td>\n",
       "      <td>101217</td>\n",
       "      <td>713</td>\n",
       "      <td>0.0</td>\n",
       "    </tr>\n",
       "    <tr>\n",
       "      <th>2</th>\n",
       "      <td>2019-08-02</td>\n",
       "      <td>A</td>\n",
       "      <td>44</td>\n",
       "      <td>38</td>\n",
       "      <td>242401</td>\n",
       "      <td>1338</td>\n",
       "      <td>0.0</td>\n",
       "    </tr>\n",
       "    <tr>\n",
       "      <th>3</th>\n",
       "      <td>2019-08-02</td>\n",
       "      <td>B</td>\n",
       "      <td>45</td>\n",
       "      <td>43</td>\n",
       "      <td>266748</td>\n",
       "      <td>1294</td>\n",
       "      <td>0.0</td>\n",
       "    </tr>\n",
       "    <tr>\n",
       "      <th>4</th>\n",
       "      <td>2019-08-03</td>\n",
       "      <td>A</td>\n",
       "      <td>68</td>\n",
       "      <td>62</td>\n",
       "      <td>354874</td>\n",
       "      <td>1845</td>\n",
       "      <td>0.0</td>\n",
       "    </tr>\n",
       "    <tr>\n",
       "      <th>...</th>\n",
       "      <td>...</td>\n",
       "      <td>...</td>\n",
       "      <td>...</td>\n",
       "      <td>...</td>\n",
       "      <td>...</td>\n",
       "      <td>...</td>\n",
       "      <td>...</td>\n",
       "    </tr>\n",
       "    <tr>\n",
       "      <th>57</th>\n",
       "      <td>2019-08-29</td>\n",
       "      <td>B</td>\n",
       "      <td>596</td>\n",
       "      <td>544</td>\n",
       "      <td>5559398</td>\n",
       "      <td>17708</td>\n",
       "      <td>0.0</td>\n",
       "    </tr>\n",
       "    <tr>\n",
       "      <th>58</th>\n",
       "      <td>2019-08-30</td>\n",
       "      <td>A</td>\n",
       "      <td>545</td>\n",
       "      <td>493</td>\n",
       "      <td>4022970</td>\n",
       "      <td>18037</td>\n",
       "      <td>0.0</td>\n",
       "    </tr>\n",
       "    <tr>\n",
       "      <th>59</th>\n",
       "      <td>2019-08-30</td>\n",
       "      <td>B</td>\n",
       "      <td>620</td>\n",
       "      <td>567</td>\n",
       "      <td>5774631</td>\n",
       "      <td>18198</td>\n",
       "      <td>0.0</td>\n",
       "    </tr>\n",
       "    <tr>\n",
       "      <th>60</th>\n",
       "      <td>2019-08-31</td>\n",
       "      <td>A</td>\n",
       "      <td>557</td>\n",
       "      <td>503</td>\n",
       "      <td>4084803</td>\n",
       "      <td>18736</td>\n",
       "      <td>0.0</td>\n",
       "    </tr>\n",
       "    <tr>\n",
       "      <th>61</th>\n",
       "      <td>2019-08-31</td>\n",
       "      <td>B</td>\n",
       "      <td>640</td>\n",
       "      <td>586</td>\n",
       "      <td>5907760</td>\n",
       "      <td>18916</td>\n",
       "      <td>0.0</td>\n",
       "    </tr>\n",
       "  </tbody>\n",
       "</table>\n",
       "<p>62 rows × 7 columns</p>\n",
       "</div>"
      ],
      "text/plain": [
       "         date group  orders  buyers  revenue  visitors  conversion\n",
       "0  2019-08-01     A      24      20   148579       719         0.0\n",
       "1  2019-08-01     B      21      20   101217       713         0.0\n",
       "2  2019-08-02     A      44      38   242401      1338         0.0\n",
       "3  2019-08-02     B      45      43   266748      1294         0.0\n",
       "4  2019-08-03     A      68      62   354874      1845         0.0\n",
       "..        ...   ...     ...     ...      ...       ...         ...\n",
       "57 2019-08-29     B     596     544  5559398     17708         0.0\n",
       "58 2019-08-30     A     545     493  4022970     18037         0.0\n",
       "59 2019-08-30     B     620     567  5774631     18198         0.0\n",
       "60 2019-08-31     A     557     503  4084803     18736         0.0\n",
       "61 2019-08-31     B     640     586  5907760     18916         0.0\n",
       "\n",
       "[62 rows x 7 columns]"
      ]
     },
     "execution_count": 24,
     "metadata": {},
     "output_type": "execute_result"
    }
   ],
   "source": [
    "cumulativeData['conversion'] = cumulativeData['orders']/cumulativeData['visitors']\n",
    "cumulativeData"
   ]
  },
  {
   "cell_type": "code",
   "execution_count": 25,
   "metadata": {},
   "outputs": [
    {
     "data": {
      "text/html": [
       "<div>\n",
       "<style scoped>\n",
       "    .dataframe tbody tr th:only-of-type {\n",
       "        vertical-align: middle;\n",
       "    }\n",
       "\n",
       "    .dataframe tbody tr th {\n",
       "        vertical-align: top;\n",
       "    }\n",
       "\n",
       "    .dataframe thead th {\n",
       "        text-align: right;\n",
       "    }\n",
       "</style>\n",
       "<table border=\"1\" class=\"dataframe\">\n",
       "  <thead>\n",
       "    <tr style=\"text-align: right;\">\n",
       "      <th></th>\n",
       "      <th>orders</th>\n",
       "      <th>buyers</th>\n",
       "      <th>revenue</th>\n",
       "      <th>visitors</th>\n",
       "      <th>conversion</th>\n",
       "    </tr>\n",
       "  </thead>\n",
       "  <tbody>\n",
       "    <tr>\n",
       "      <th>count</th>\n",
       "      <td>62.0</td>\n",
       "      <td>62.0</td>\n",
       "      <td>62.0</td>\n",
       "      <td>62.0</td>\n",
       "      <td>62.0</td>\n",
       "    </tr>\n",
       "    <tr>\n",
       "      <th>mean</th>\n",
       "      <td>317.7</td>\n",
       "      <td>291.9</td>\n",
       "      <td>2,464,490.6</td>\n",
       "      <td>9,883.3</td>\n",
       "      <td>0.0</td>\n",
       "    </tr>\n",
       "    <tr>\n",
       "      <th>std</th>\n",
       "      <td>172.8</td>\n",
       "      <td>157.5</td>\n",
       "      <td>1,659,118.1</td>\n",
       "      <td>5,378.1</td>\n",
       "      <td>0.0</td>\n",
       "    </tr>\n",
       "    <tr>\n",
       "      <th>min</th>\n",
       "      <td>21.0</td>\n",
       "      <td>20.0</td>\n",
       "      <td>101,217.0</td>\n",
       "      <td>713.0</td>\n",
       "      <td>0.0</td>\n",
       "    </tr>\n",
       "    <tr>\n",
       "      <th>25%</th>\n",
       "      <td>177.8</td>\n",
       "      <td>162.0</td>\n",
       "      <td>1,096,277.8</td>\n",
       "      <td>5,437.5</td>\n",
       "      <td>0.0</td>\n",
       "    </tr>\n",
       "    <tr>\n",
       "      <th>50%</th>\n",
       "      <td>319.5</td>\n",
       "      <td>293.5</td>\n",
       "      <td>2,165,968.0</td>\n",
       "      <td>10,030.0</td>\n",
       "      <td>0.0</td>\n",
       "    </tr>\n",
       "    <tr>\n",
       "      <th>75%</th>\n",
       "      <td>459.2</td>\n",
       "      <td>421.0</td>\n",
       "      <td>3,856,337.5</td>\n",
       "      <td>14,259.0</td>\n",
       "      <td>0.0</td>\n",
       "    </tr>\n",
       "    <tr>\n",
       "      <th>max</th>\n",
       "      <td>640.0</td>\n",
       "      <td>586.0</td>\n",
       "      <td>5,907,760.0</td>\n",
       "      <td>18,916.0</td>\n",
       "      <td>0.0</td>\n",
       "    </tr>\n",
       "  </tbody>\n",
       "</table>\n",
       "</div>"
      ],
      "text/plain": [
       "       orders  buyers     revenue  visitors  conversion\n",
       "count    62.0    62.0        62.0      62.0        62.0\n",
       "mean    317.7   291.9 2,464,490.6   9,883.3         0.0\n",
       "std     172.8   157.5 1,659,118.1   5,378.1         0.0\n",
       "min      21.0    20.0   101,217.0     713.0         0.0\n",
       "25%     177.8   162.0 1,096,277.8   5,437.5         0.0\n",
       "50%     319.5   293.5 2,165,968.0  10,030.0         0.0\n",
       "75%     459.2   421.0 3,856,337.5  14,259.0         0.0\n",
       "max     640.0   586.0 5,907,760.0  18,916.0         0.0"
      ]
     },
     "execution_count": 25,
     "metadata": {},
     "output_type": "execute_result"
    }
   ],
   "source": [
    "cumulativeData.describe()"
   ]
  },
  {
   "cell_type": "code",
   "execution_count": 26,
   "metadata": {},
   "outputs": [
    {
     "data": {
      "image/png": "[encoded data removed]",
      "text/plain": [
       "<Figure size 432x288 with 1 Axes>"
      ]
     },
     "metadata": {
      "needs_background": "light"
     },
     "output_type": "display_data"
    }
   ],
   "source": [
    "# считаем кумулятивную конверсию\n",
    "cumulativeData['conversion'] = cumulativeData['orders']/cumulativeData['visitors']\n",
    "\n",
    "# отделяем данные по группе A\n",
    "cumulativeDataA = cumulativeData[cumulativeData['group']=='A']\n",
    "\n",
    "# отделяем данные по группе B\n",
    "cumulativeDataB = cumulativeData[cumulativeData['group']=='B']\n",
    "\n",
    "# строим графики\n",
    "plt.plot(cumulativeDataA['date'], cumulativeDataA['conversion'], label='A')\n",
    "plt.plot(cumulativeDataB['date'], cumulativeDataB['conversion'], label='B')\n",
    "plt.legend();\n",
    "plt.xticks(rotation=45)\n",
    "plt.title(\"Кумулятивная конверсия по группам\")\n",
    "plt.xlabel('Дата')\n",
    "plt.ylabel('Конверсия')\n",
    "plt.show()"
   ]
  },
  {
   "cell_type": "markdown",
   "metadata": {},
   "source": [
    "**Получился в целом семмитричный график,в начале были колебания, но потом выровнялись. Конверсия группы В выше чем в А.**"
   ]
  },
  {
   "cell_type": "markdown",
   "metadata": {},
   "source": [
    "### Постройте график относительного изменения кумулятивной конверсии группы B к группе A. Сделайте выводы и предположения."
   ]
  },
  {
   "cell_type": "code",
   "execution_count": 27,
   "metadata": {},
   "outputs": [
    {
     "data": {
      "image/png": "[encoded data removed]",
      "text/plain": [
       "<Figure size 576x432 with 1 Axes>"
      ]
     },
     "metadata": {
      "needs_background": "light"
     },
     "output_type": "display_data"
    }
   ],
   "source": [
    "mergedCumulativeConversions = cumulativeDataA[['date','conversion']].merge(cumulativeDataB[['date','conversion']], left_on='date', right_on='date', how='left', suffixes=['A', 'B'])\n",
    "plt.figure(figsize=(8,6))\n",
    "plt.plot(\n",
    "    mergedCumulativeConversions['date'], \n",
    "    mergedCumulativeConversions['conversionB']/mergedCumulativeConversions['conversionA']-1, \n",
    "    label=\"Относительный прирост конверсии группы B относительно группы A\"\n",
    ")\n",
    "plt.legend()\n",
    "plt.xticks(rotation=45)\n",
    "plt.title(\"Относительное изменение кумулятивной конверсии по группам\")\n",
    "plt.xlabel('Дата')\n",
    "plt.ylabel('Значение прироста')\n",
    "\n",
    "\n",
    "#Добавим пунктирную линию оси X чёрного цвета ('black') со значением оси Y = 0 методом plt.axhline(). \n",
    "plt.axhline(y=0, color='black', linestyle='--')\n",
    "#И ещё одну линию оси X серого цвета ('grey') со значением оси Y = 0.2.\n",
    "plt.axhline(y=0.2, color='grey', linestyle='--')\n",
    "plt.show()"
   ]
  },
  {
   "cell_type": "markdown",
   "metadata": {},
   "source": [
    "**Группа A стабильно хуже группы B и различие увеличивается со временем.** "
   ]
  },
  {
   "cell_type": "markdown",
   "metadata": {},
   "source": [
    "**Выводы**\n",
    "\n",
    "Изучили графики кумулятивных, или накапливаемых данных.\n",
    "- Построили график кумулятивной выручки по группам: выручка группы В выше\n",
    "- Построили график кумулятивного среднего чека по группам: средний чек группы В выше\n",
    "- Построили график относительного изменения кумулятивного среднего чека группы B к группе A: в начале теста группа B значительно проигрывала группе A, затем вырвалась вперёд\n",
    "- Построили график кумулятивной конверсии по группам: конверсия группы В выше\n",
    "\n",
    "\n",
    "**На данном этапе все параметры группы В лучше.**"
   ]
  },
  {
   "cell_type": "markdown",
   "metadata": {},
   "source": [
    "### Постройте точечный график количества заказов по пользователям. Сделайте выводы и предположения."
   ]
  },
  {
   "cell_type": "code",
   "execution_count": 28,
   "metadata": {},
   "outputs": [
    {
     "data": {
      "text/html": [
       "<div>\n",
       "<style scoped>\n",
       "    .dataframe tbody tr th:only-of-type {\n",
       "        vertical-align: middle;\n",
       "    }\n",
       "\n",
       "    .dataframe tbody tr th {\n",
       "        vertical-align: top;\n",
       "    }\n",
       "\n",
       "    .dataframe thead th {\n",
       "        text-align: right;\n",
       "    }\n",
       "</style>\n",
       "<table border=\"1\" class=\"dataframe\">\n",
       "  <thead>\n",
       "    <tr style=\"text-align: right;\">\n",
       "      <th></th>\n",
       "      <th>userId</th>\n",
       "      <th>orders</th>\n",
       "    </tr>\n",
       "  </thead>\n",
       "  <tbody>\n",
       "    <tr>\n",
       "      <th>1023</th>\n",
       "      <td>4256040402</td>\n",
       "      <td>11</td>\n",
       "    </tr>\n",
       "    <tr>\n",
       "      <th>591</th>\n",
       "      <td>2458001652</td>\n",
       "      <td>11</td>\n",
       "    </tr>\n",
       "    <tr>\n",
       "      <th>569</th>\n",
       "      <td>2378935119</td>\n",
       "      <td>9</td>\n",
       "    </tr>\n",
       "    <tr>\n",
       "      <th>487</th>\n",
       "      <td>2038680547</td>\n",
       "      <td>8</td>\n",
       "    </tr>\n",
       "    <tr>\n",
       "      <th>44</th>\n",
       "      <td>199603092</td>\n",
       "      <td>5</td>\n",
       "    </tr>\n",
       "    <tr>\n",
       "      <th>744</th>\n",
       "      <td>3062433592</td>\n",
       "      <td>5</td>\n",
       "    </tr>\n",
       "    <tr>\n",
       "      <th>55</th>\n",
       "      <td>237748145</td>\n",
       "      <td>5</td>\n",
       "    </tr>\n",
       "    <tr>\n",
       "      <th>917</th>\n",
       "      <td>3803269165</td>\n",
       "      <td>5</td>\n",
       "    </tr>\n",
       "    <tr>\n",
       "      <th>299</th>\n",
       "      <td>1230306981</td>\n",
       "      <td>5</td>\n",
       "    </tr>\n",
       "    <tr>\n",
       "      <th>897</th>\n",
       "      <td>3717692402</td>\n",
       "      <td>5</td>\n",
       "    </tr>\n",
       "  </tbody>\n",
       "</table>\n",
       "</div>"
      ],
      "text/plain": [
       "          userId  orders\n",
       "1023  4256040402      11\n",
       "591   2458001652      11\n",
       "569   2378935119       9\n",
       "487   2038680547       8\n",
       "44     199603092       5\n",
       "744   3062433592       5\n",
       "55     237748145       5\n",
       "917   3803269165       5\n",
       "299   1230306981       5\n",
       "897   3717692402       5"
      ]
     },
     "metadata": {},
     "output_type": "display_data"
    }
   ],
   "source": [
    "ordersByUsers = (\n",
    "    orders.groupby('userId', as_index=False)\n",
    "    .agg({'orderId': 'nunique'})\n",
    ")\n",
    "\n",
    "ordersByUsers.columns = ['userId', 'orders']\n",
    "\n",
    "display(ordersByUsers.sort_values(by='orders', ascending=False).head(10)) "
   ]
  },
  {
   "cell_type": "markdown",
   "metadata": {},
   "source": [
    "Есть пользователи, которые совершали 11,9,8 и 5 заказов в месяц."
   ]
  },
  {
   "cell_type": "code",
   "execution_count": 29,
   "metadata": {},
   "outputs": [
    {
     "data": {
      "image/png": "[encoded data removed]",
      "text/plain": [
       "<Figure size 432x288 with 1 Axes>"
      ]
     },
     "metadata": {
      "needs_background": "light"
     },
     "output_type": "display_data"
    }
   ],
   "source": [
    "#Построим гистрограмму распределения количества заказов на одного пользователя.\n",
    "plt.hist(ordersByUsers['orders']);\n",
    "plt.title('Распределение количества заказов на одного пользователя')\n",
    "plt.xlabel('Число пользователей, чел')\n",
    "plt.ylabel('Число заказов, шт')\n",
    "plt.show()"
   ]
  },
  {
   "cell_type": "markdown",
   "metadata": {},
   "source": [
    "**Большинство покупателей заказывали только один раз. Однако доля пользователей с 2-4 заказами тоже значительна.**"
   ]
  },
  {
   "cell_type": "code",
   "execution_count": 30,
   "metadata": {},
   "outputs": [
    {
     "data": {
      "image/png": "[encoded data removed]",
      "text/plain": [
       "<Figure size 432x288 with 1 Axes>"
      ]
     },
     "metadata": {
      "needs_background": "light"
     },
     "output_type": "display_data"
    }
   ],
   "source": [
    "#Построим точечную диаграмму числа заказов на одного пользователя:\n",
    "x_values = pd.Series(range(0,len(ordersByUsers)))\n",
    "\n",
    "plt.scatter(x_values, ordersByUsers['orders']); \n",
    " \n",
    "plt.title('Распределение количества заказов по пользователям')\n",
    "plt.xlabel('Число пользователей, чел')\n",
    "plt.ylabel('Число заказов, шт')\n",
    "plt.show()"
   ]
  },
  {
   "cell_type": "markdown",
   "metadata": {},
   "source": [
    "**Выводы подтверждаются: много пользователей с 2-4 заказами. Их точная доля не ясна — непонятно, считать их аномалиями или нет.**"
   ]
  },
  {
   "cell_type": "markdown",
   "metadata": {},
   "source": [
    "### Посчитайте 95-й и 99-й перцентили количества заказов на пользователя. Выберите границу для определения аномальных пользователей."
   ]
  },
  {
   "cell_type": "code",
   "execution_count": 31,
   "metadata": {},
   "outputs": [
    {
     "data": {
      "text/plain": [
       "array([2., 4.])"
      ]
     },
     "metadata": {},
     "output_type": "display_data"
    }
   ],
   "source": [
    "#Посчитаем выборочные перцентили количества заказов на одного пользователя:\n",
    "display(np.percentile(ordersByUsers['orders'], [95, 99])) "
   ]
  },
  {
   "cell_type": "markdown",
   "metadata": {},
   "source": [
    "**Не более 5% пользователей совершали больше двух заказов. Разумно выбрать 2-3 заказа на одного пользователя за нижнюю границу числа заказов, и отсеять аномальных пользователей по ней. **"
   ]
  },
  {
   "cell_type": "markdown",
   "metadata": {},
   "source": [
    "### Постройте точечный график стоимостей заказов. Сделайте выводы и предположения."
   ]
  },
  {
   "cell_type": "code",
   "execution_count": 32,
   "metadata": {},
   "outputs": [
    {
     "data": {
      "image/png": "[encoded data removed]",
      "text/plain": [
       "<Figure size 432x288 with 1 Axes>"
      ]
     },
     "metadata": {
      "needs_background": "light"
     },
     "output_type": "display_data"
    }
   ],
   "source": [
    "x_values = pd.Series(range(0,len(orders['revenue'])))\n",
    "plt.scatter(x_values, orders['revenue'])\n",
    "plt.title('Распределение стоимости заказов')\n",
    "plt.xlabel('Число пользователей, чел')\n",
    "plt.ylabel('Стоимость заказов, руб');"
   ]
  },
  {
   "cell_type": "markdown",
   "metadata": {},
   "source": [
    "**Есть небольшие выбросы, но в целом покупатели оформляют заказы примерно с одниковой стоимостью.**"
   ]
  },
  {
   "cell_type": "markdown",
   "metadata": {},
   "source": [
    "### Посчитайте 95-й и 99-й перцентили стоимости заказов. Выберите границу для определения аномальных заказов."
   ]
  },
  {
   "cell_type": "code",
   "execution_count": 33,
   "metadata": {},
   "outputs": [
    {
     "data": {
      "text/plain": [
       "array([28000. , 58233.2])"
      ]
     },
     "metadata": {},
     "output_type": "display_data"
    }
   ],
   "source": [
    "display(np.percentile(orders['revenue'], [95, 99])) "
   ]
  },
  {
   "cell_type": "markdown",
   "metadata": {},
   "source": [
    "Не более 5% заказов с чеком дороже 28 000 и 1% заказов с чеком дороже 58 233."
   ]
  },
  {
   "cell_type": "markdown",
   "metadata": {},
   "source": [
    "**Выводы**\n",
    "- Построили точечный график количества заказов по пользователям: есть пользователи, которые совершали 11,9,8 и 5 заказов в месяц,большинство покупателей заказывали только один раз, однако доля пользователей с 2-4 заказами тоже значительна.\n",
    "- Посчитали 95-й и 99-й перцентили количества заказов на пользователя: не более 5% пользователей совершали больше двух заказов \n",
    "- Построили точечный график стоимостей заказов: в целом покупатели оформляют заказы примерно с одниковой стоимостью\n",
    "- Посчитали 95-й и 99-й перцентили стоимости заказов: не более 5% заказов с чеком дороже 28 000 и 1% заказов с чеком дороже 58 233"
   ]
  },
  {
   "cell_type": "markdown",
   "metadata": {},
   "source": [
    "### Посчитайте статистическую значимость различий в конверсии между группами по «сырым» данным. Сделайте выводы и предположения."
   ]
  },
  {
   "cell_type": "code",
   "execution_count": 34,
   "metadata": {},
   "outputs": [
    {
     "data": {
      "text/html": [
       "<div>\n",
       "<style scoped>\n",
       "    .dataframe tbody tr th:only-of-type {\n",
       "        vertical-align: middle;\n",
       "    }\n",
       "\n",
       "    .dataframe tbody tr th {\n",
       "        vertical-align: top;\n",
       "    }\n",
       "\n",
       "    .dataframe thead th {\n",
       "        text-align: right;\n",
       "    }\n",
       "</style>\n",
       "<table border=\"1\" class=\"dataframe\">\n",
       "  <thead>\n",
       "    <tr style=\"text-align: right;\">\n",
       "      <th></th>\n",
       "      <th>date</th>\n",
       "      <th>ordersPerDateA</th>\n",
       "      <th>revenuePerDateA</th>\n",
       "      <th>ordersPerDateB</th>\n",
       "      <th>revenuePerDateB</th>\n",
       "      <th>ordersCummulativeA</th>\n",
       "      <th>revenueCummulativeA</th>\n",
       "      <th>ordersCummulativeB</th>\n",
       "      <th>revenueCummulativeB</th>\n",
       "      <th>visitorsPerDateA</th>\n",
       "      <th>visitorsPerDateB</th>\n",
       "      <th>visitorsCummulativeA</th>\n",
       "      <th>visitorsCummulativeB</th>\n",
       "    </tr>\n",
       "  </thead>\n",
       "  <tbody>\n",
       "    <tr>\n",
       "      <th>0</th>\n",
       "      <td>2019-08-01</td>\n",
       "      <td>24</td>\n",
       "      <td>148579</td>\n",
       "      <td>21</td>\n",
       "      <td>101217</td>\n",
       "      <td>24</td>\n",
       "      <td>148579</td>\n",
       "      <td>21</td>\n",
       "      <td>101217</td>\n",
       "      <td>719</td>\n",
       "      <td>713</td>\n",
       "      <td>719</td>\n",
       "      <td>713</td>\n",
       "    </tr>\n",
       "    <tr>\n",
       "      <th>1</th>\n",
       "      <td>2019-08-02</td>\n",
       "      <td>20</td>\n",
       "      <td>93822</td>\n",
       "      <td>24</td>\n",
       "      <td>165531</td>\n",
       "      <td>44</td>\n",
       "      <td>242401</td>\n",
       "      <td>45</td>\n",
       "      <td>266748</td>\n",
       "      <td>619</td>\n",
       "      <td>581</td>\n",
       "      <td>1338</td>\n",
       "      <td>1294</td>\n",
       "    </tr>\n",
       "    <tr>\n",
       "      <th>2</th>\n",
       "      <td>2019-08-03</td>\n",
       "      <td>24</td>\n",
       "      <td>112473</td>\n",
       "      <td>16</td>\n",
       "      <td>114248</td>\n",
       "      <td>68</td>\n",
       "      <td>354874</td>\n",
       "      <td>61</td>\n",
       "      <td>380996</td>\n",
       "      <td>507</td>\n",
       "      <td>509</td>\n",
       "      <td>1845</td>\n",
       "      <td>1803</td>\n",
       "    </tr>\n",
       "    <tr>\n",
       "      <th>3</th>\n",
       "      <td>2019-08-04</td>\n",
       "      <td>16</td>\n",
       "      <td>70825</td>\n",
       "      <td>17</td>\n",
       "      <td>108571</td>\n",
       "      <td>84</td>\n",
       "      <td>425699</td>\n",
       "      <td>78</td>\n",
       "      <td>489567</td>\n",
       "      <td>717</td>\n",
       "      <td>770</td>\n",
       "      <td>2562</td>\n",
       "      <td>2573</td>\n",
       "    </tr>\n",
       "    <tr>\n",
       "      <th>4</th>\n",
       "      <td>2019-08-05</td>\n",
       "      <td>25</td>\n",
       "      <td>124218</td>\n",
       "      <td>23</td>\n",
       "      <td>92428</td>\n",
       "      <td>109</td>\n",
       "      <td>549917</td>\n",
       "      <td>101</td>\n",
       "      <td>581995</td>\n",
       "      <td>756</td>\n",
       "      <td>707</td>\n",
       "      <td>3318</td>\n",
       "      <td>3280</td>\n",
       "    </tr>\n",
       "  </tbody>\n",
       "</table>\n",
       "</div>"
      ],
      "text/plain": [
       "        date  ordersPerDateA  revenuePerDateA  ordersPerDateB  \\\n",
       "0 2019-08-01              24           148579              21   \n",
       "1 2019-08-02              20            93822              24   \n",
       "2 2019-08-03              24           112473              16   \n",
       "3 2019-08-04              16            70825              17   \n",
       "4 2019-08-05              25           124218              23   \n",
       "\n",
       "   revenuePerDateB  ordersCummulativeA  revenueCummulativeA  \\\n",
       "0           101217                  24               148579   \n",
       "1           165531                  44               242401   \n",
       "2           114248                  68               354874   \n",
       "3           108571                  84               425699   \n",
       "4            92428                 109               549917   \n",
       "\n",
       "   ordersCummulativeB  revenueCummulativeB  visitorsPerDateA  \\\n",
       "0                  21               101217               719   \n",
       "1                  45               266748               619   \n",
       "2                  61               380996               507   \n",
       "3                  78               489567               717   \n",
       "4                 101               581995               756   \n",
       "\n",
       "   visitorsPerDateB  visitorsCummulativeA  visitorsCummulativeB  \n",
       "0               713                   719                   713  \n",
       "1               581                  1338                  1294  \n",
       "2               509                  1845                  1803  \n",
       "3               770                  2562                  2573  \n",
       "4               707                  3318                  3280  "
      ]
     },
     "metadata": {},
     "output_type": "display_data"
    }
   ],
   "source": [
    "visitorsADaily = visitors[visitors['group'] == 'A'][['date', 'visitors']]\n",
    "visitorsADaily.columns = ['date', 'visitorsPerDateA']\n",
    "\n",
    "visitorsACummulative = visitorsADaily.apply(\n",
    "    lambda x: visitorsADaily[visitorsADaily['date'] <= x['date']].agg(\n",
    "        {'date': 'max', 'visitorsPerDateA': 'sum'}\n",
    "    ),\n",
    "    axis=1,\n",
    ")\n",
    "visitorsACummulative.columns = ['date', 'visitorsCummulativeA']\n",
    "\n",
    "visitorsBDaily = visitors[visitors['group'] == 'B'][['date', 'visitors']]\n",
    "visitorsBDaily.columns = ['date', 'visitorsPerDateB']\n",
    "\n",
    "visitorsBCummulative = visitorsBDaily.apply(\n",
    "    lambda x: visitorsBDaily[visitorsBDaily['date'] <= x['date']].agg(\n",
    "        {'date': 'max', 'visitorsPerDateB': 'sum'}\n",
    "    ),\n",
    "    axis=1,\n",
    ")\n",
    "visitorsBCummulative.columns = ['date', 'visitorsCummulativeB']\n",
    "\n",
    "ordersADaily = (\n",
    "    orders[orders['group'] == 'A'][['date', 'orderId', 'userId', 'revenue']]\n",
    "    .groupby('date', as_index=False)\n",
    "    .agg({'orderId': pd.Series.nunique, 'revenue': 'sum'})\n",
    ")\n",
    "ordersADaily.columns = ['date', 'ordersPerDateA', 'revenuePerDateA']\n",
    "\n",
    "ordersACummulative = ordersADaily.apply(\n",
    "    lambda x: ordersADaily[ordersADaily['date'] <= x['date']].agg(\n",
    "        {'date': 'max', 'ordersPerDateA': 'sum', 'revenuePerDateA': 'sum'}\n",
    "    ),\n",
    "    axis=1,\n",
    ").sort_values(by=['date'])\n",
    "ordersACummulative.columns = [\n",
    "    'date',\n",
    "    'ordersCummulativeA',\n",
    "    'revenueCummulativeA',\n",
    "]\n",
    "\n",
    "ordersBDaily = (\n",
    "    orders[orders['group'] == 'B'][['date', 'orderId', 'userId', 'revenue']]\n",
    "    .groupby('date', as_index=False)\n",
    "    .agg({'orderId': pd.Series.nunique, 'revenue': 'sum'})\n",
    ")\n",
    "ordersBDaily.columns = ['date', 'ordersPerDateB', 'revenuePerDateB']\n",
    "\n",
    "ordersBCummulative = ordersBDaily.apply(\n",
    "    lambda x: ordersBDaily[ordersBDaily['date'] <= x['date']].agg(\n",
    "        {'date': 'max', 'ordersPerDateB': 'sum', 'revenuePerDateB': 'sum'}\n",
    "    ),\n",
    "    axis=1,\n",
    ").sort_values(by=['date'])\n",
    "ordersBCummulative.columns = [\n",
    "    'date',\n",
    "    'ordersCummulativeB',\n",
    "    'revenueCummulativeB',\n",
    "]\n",
    "\n",
    "data = (\n",
    "    ordersADaily.merge(\n",
    "        ordersBDaily, left_on='date', right_on='date', how='left'\n",
    "    )\n",
    "    .merge(ordersACummulative, left_on='date', right_on='date', how='left')\n",
    "    .merge(ordersBCummulative, left_on='date', right_on='date', how='left')\n",
    "    .merge(visitorsADaily, left_on='date', right_on='date', how='left')\n",
    "    .merge(visitorsBDaily, left_on='date', right_on='date', how='left')\n",
    "    .merge(visitorsACummulative, left_on='date', right_on='date', how='left')\n",
    "    .merge(visitorsBCummulative, left_on='date', right_on='date', how='left')\n",
    ")\n",
    "\n",
    "display(data.head(5)) \n"
   ]
  },
  {
   "cell_type": "markdown",
   "metadata": {},
   "source": [
    "Сформулируем гипотезы.\n",
    "\n",
    "- H0 - нет различий в конверсии между группами A и B \n",
    "\n",
    "- H1 - есть различия в конверсии между группами A и B "
   ]
  },
  {
   "cell_type": "code",
   "execution_count": 35,
   "metadata": {},
   "outputs": [
    {
     "data": {
      "text/plain": [
       "'0.017'"
      ]
     },
     "metadata": {},
     "output_type": "display_data"
    },
    {
     "data": {
      "text/plain": [
       "'0.138'"
      ]
     },
     "metadata": {},
     "output_type": "display_data"
    }
   ],
   "source": [
    "ordersByUsersA = (\n",
    "    orders[orders['group'] == 'A']\n",
    "    .groupby('userId', as_index=False)\n",
    "    .agg({'orderId': pd.Series.nunique})\n",
    ")\n",
    "ordersByUsersA.columns = ['userId', 'orders']\n",
    "\n",
    "ordersByUsersB = (\n",
    "    orders[orders['group'] == 'B']\n",
    "    .groupby('userId', as_index=False)\n",
    "    .agg({'orderId': pd.Series.nunique})\n",
    ")\n",
    "ordersByUsersB.columns = ['userId', 'orders']\n",
    "\n",
    "sampleA = pd.concat(\n",
    "    [\n",
    "        ordersByUsersA['orders'],\n",
    "        pd.Series(\n",
    "            0,\n",
    "            index=np.arange(\n",
    "                data['visitorsPerDateA'].sum() - len(ordersByUsersA['orders'])\n",
    "            ),\n",
    "            name='orders',\n",
    "        ),\n",
    "    ],\n",
    "    axis=0,\n",
    ")\n",
    "\n",
    "sampleB = pd.concat(\n",
    "    [\n",
    "        ordersByUsersB['orders'],\n",
    "        pd.Series(\n",
    "            0,\n",
    "            index=np.arange(\n",
    "                data['visitorsPerDateB'].sum() - len(ordersByUsersB['orders'])\n",
    "            ),\n",
    "            name='orders',\n",
    "        ),\n",
    "    ],\n",
    "    axis=0,\n",
    ")\n",
    "\n",
    "display(\"{0:.3f}\".format(stats.mannwhitneyu(sampleA, sampleB)[1]))\n",
    "\n",
    "display(\"{0:.3f}\".format(sampleB.mean() / sampleA.mean() - 1))\n",
    " "
   ]
  },
  {
   "cell_type": "markdown",
   "metadata": {},
   "source": [
    "Первое число - 0.017 = P-value значительно меньше 0.05, поэтому нулевую гипотезу отвергаем.\n",
    "Анализ сырых данных показывает, что в конверсии между группами есть статистически значимые различия.\n",
    "Относительный прирост конверсии группы B к конверсии группы А равен 13.8%."
   ]
  },
  {
   "cell_type": "markdown",
   "metadata": {},
   "source": [
    "**Вывод**: По «сырым» данным различия в конверсии групп A и B есть."
   ]
  },
  {
   "cell_type": "markdown",
   "metadata": {},
   "source": [
    "### Посчитайте статистическую значимость различий в среднем чеке заказа между группами по «сырым» данным. Сделайте выводы и предположения."
   ]
  },
  {
   "cell_type": "markdown",
   "metadata": {},
   "source": [
    "Теперь проверим статистическую значимость различий в среднем чеке между группами.\n",
    "- H0 - нет различий в среднем чеке между группами A и B \n",
    "\n",
    "- H1 - есть различия в среднем чеке между группами A и B "
   ]
  },
  {
   "cell_type": "code",
   "execution_count": 36,
   "metadata": {},
   "outputs": [
    {
     "data": {
      "text/plain": [
       "'0.729'"
      ]
     },
     "metadata": {},
     "output_type": "display_data"
    },
    {
     "data": {
      "text/plain": [
       "'0.259'"
      ]
     },
     "metadata": {},
     "output_type": "display_data"
    }
   ],
   "source": [
    "display('{0:.3f}'.format(stats.mannwhitneyu(orders[orders['group']=='A']['revenue'], orders[orders['group']=='B']['revenue'])[1]))\n",
    "display('{0:.3f}'.format(orders[orders['group']=='B']['revenue'].mean()/orders[orders['group']=='A']['revenue'].mean()-1)) "
   ]
  },
  {
   "cell_type": "markdown",
   "metadata": {},
   "source": [
    "Не получилось отвергнуть нулевую гипотезу\n",
    "\n",
    "P-value значительно больше 0.05. Значит, причин отвергать нулевую гипотезу и считать, что в среднем чеке есть различия, нет. \n",
    "Разница средних чеков между группами 26%, но она не является статически значимой и мы принимаем нулевую гипотезу - нет различий в среднем чеке между группами A и B"
   ]
  },
  {
   "cell_type": "markdown",
   "metadata": {},
   "source": [
    "### Посчитайте статистическую значимость различий в конверсии между группами по «очищенным» данным. Сделайте выводы и предположения."
   ]
  },
  {
   "cell_type": "markdown",
   "metadata": {},
   "source": [
    "95-й и 99-й перцентили средних чеков равны 28 000 и 58 233 рублям. А 95-й и 99-й перцентили количества заказов на одного пользователя равны 2 и 4 заказа на пользователя.\n",
    "Примем за аномальных пользователей тех, кто совершил от 4 заказов или совершил заказ дороже 30 000 рублей. Так мы уберём 5% пользователей с наибольшим числом заказов и от 1% до 5% пользователей с дорогими заказами. Сделаем срезы пользователей с числом заказов 4 и более и пользователей, совершивших заказы дороже 30 000. Объединим их в таблице.\n",
    "Узнаем, сколько всего аномальных пользователей методом shape()."
   ]
  },
  {
   "cell_type": "code",
   "execution_count": 37,
   "metadata": {},
   "outputs": [
    {
     "data": {
      "text/plain": [
       "1099    148427295\n",
       "18      199603092\n",
       "928     204675465\n",
       "23      237748145\n",
       "684     358944393\n",
       "Name: userId, dtype: int64"
      ]
     },
     "metadata": {},
     "output_type": "display_data"
    },
    {
     "data": {
      "text/plain": [
       "(57,)"
      ]
     },
     "metadata": {},
     "output_type": "display_data"
    }
   ],
   "source": [
    "usersWithManyOrders = pd.concat(\n",
    "    [\n",
    "        ordersByUsersA[ordersByUsersA['orders'] > 3]['userId'],\n",
    "        ordersByUsersB[ordersByUsersB['orders'] > 3]['userId'],\n",
    "    ],\n",
    "    axis=0,\n",
    ")\n",
    "usersWithExpensiveOrders = orders[orders['revenue'] > 30000]['userId']\n",
    "abnormalUsers = (\n",
    "    pd.concat([usersWithManyOrders, usersWithExpensiveOrders], axis=0)\n",
    "    .drop_duplicates()\n",
    "    .sort_values()\n",
    ")\n",
    "display(abnormalUsers.head(5))\n",
    "display(abnormalUsers.shape) "
   ]
  },
  {
   "cell_type": "markdown",
   "metadata": {},
   "source": [
    "Всего 57 аномальных пользователей.\n",
    "Узнаем, как их действия повлияли на результаты теста. Посчитаем статистическую значимость различий в конверсии между группами теста по очищенным данным. "
   ]
  },
  {
   "cell_type": "markdown",
   "metadata": {},
   "source": [
    "### Посчитайте статистическую значимость различий в среднем чеке заказа между группами по «очищенным» данным. Сделайте выводы и предположения."
   ]
  },
  {
   "cell_type": "markdown",
   "metadata": {},
   "source": [
    "Сначала подготовим выборки количества заказов по пользователям по группам теста:"
   ]
  },
  {
   "cell_type": "code",
   "execution_count": 38,
   "metadata": {},
   "outputs": [],
   "source": [
    "sampleAFiltered = pd.concat(\n",
    "    [\n",
    "        ordersByUsersA[\n",
    "            np.logical_not(ordersByUsersA['userId'].isin(abnormalUsers))\n",
    "        ]['orders'],\n",
    "        pd.Series(\n",
    "            0,\n",
    "            index=np.arange(\n",
    "                data['visitorsPerDateA'].sum() - len(ordersByUsersA['orders'])\n",
    "            ),\n",
    "            name='orders',\n",
    "        ),\n",
    "    ],\n",
    "    axis=0,\n",
    ")\n",
    "\n",
    "sampleBFiltered = pd.concat(\n",
    "    [\n",
    "        ordersByUsersB[\n",
    "            np.logical_not(ordersByUsersB['userId'].isin(abnormalUsers))\n",
    "        ]['orders'],\n",
    "        pd.Series(\n",
    "            0,\n",
    "            index=np.arange(\n",
    "                data['visitorsPerDateB'].sum() - len(ordersByUsersB['orders'])\n",
    "            ),\n",
    "            name='orders',\n",
    "        ),\n",
    "    ],\n",
    "    axis=0,\n",
    ") "
   ]
  },
  {
   "cell_type": "markdown",
   "metadata": {},
   "source": [
    "Применим статистический критерий Манна-Уитни к полученным выборкам:"
   ]
  },
  {
   "cell_type": "code",
   "execution_count": 39,
   "metadata": {},
   "outputs": [
    {
     "data": {
      "text/plain": [
       "'0.018'"
      ]
     },
     "metadata": {},
     "output_type": "display_data"
    },
    {
     "data": {
      "text/plain": [
       "'0.148'"
      ]
     },
     "metadata": {},
     "output_type": "display_data"
    }
   ],
   "source": [
    "display('{0:.3f}'.format(stats.mannwhitneyu(sampleAFiltered, sampleBFiltered)[1]))\n",
    "display('{0:.3f}'.format(sampleBFiltered.mean()/sampleAFiltered.mean()-1)) "
   ]
  },
  {
   "cell_type": "markdown",
   "metadata": {},
   "source": [
    "Первое число - 0.018 = P-value значительно меньше 0.05, поэтому нулевую гипотезу отвергаем. Анализ очищенных данных показывает, что в конверсии между группами есть статистически значимые различия.\n",
    "\n",
    "\n",
    "Группа B лучше группы А. Относительный прирост конверсии очищенной группы B к А увеличился на 1% (13.8/14.8)"
   ]
  },
  {
   "cell_type": "code",
   "execution_count": 40,
   "metadata": {},
   "outputs": [
    {
     "data": {
      "text/plain": [
       "'0.958'"
      ]
     },
     "metadata": {},
     "output_type": "display_data"
    },
    {
     "data": {
      "text/plain": [
       "'-0.020'"
      ]
     },
     "metadata": {},
     "output_type": "display_data"
    }
   ],
   "source": [
    "display(\n",
    "    '{0:.3f}'.format(\n",
    "        stats.mannwhitneyu(\n",
    "            orders[\n",
    "                np.logical_and(\n",
    "                    orders['group'] == 'A',\n",
    "                    np.logical_not(orders['userId'].isin(abnormalUsers)),\n",
    "                )\n",
    "            ]['revenue'],\n",
    "            orders[\n",
    "                np.logical_and(\n",
    "                    orders['group'] == 'B',\n",
    "                    np.logical_not(orders['userId'].isin(abnormalUsers)),\n",
    "                )\n",
    "            ]['revenue'],\n",
    "        )[1]\n",
    "    )\n",
    ")\n",
    "\n",
    "display(\n",
    "    \"{0:.3f}\".format(\n",
    "        orders[\n",
    "            np.logical_and(\n",
    "                orders['group'] == 'B',\n",
    "                np.logical_not(orders['userId'].isin(abnormalUsers)),\n",
    "            )\n",
    "        ]['revenue'].mean()\n",
    "        / orders[\n",
    "            np.logical_and(\n",
    "                orders['group'] == 'A',\n",
    "                np.logical_not(orders['userId'].isin(abnormalUsers)),\n",
    "            )\n",
    "        ]['revenue'].mean()\n",
    "        - 1\n",
    "    )\n",
    ") "
   ]
  },
  {
   "cell_type": "markdown",
   "metadata": {},
   "source": [
    "Не получилось отвергнуть нулевую гипотезу\n",
    "\n",
    "P-value значительно больше 0.05. Значит в очищенных данных также нет причин отвергать нулевую гипотезу и считать, что в среднем чеке есть различия. Изменилась разница средних чеков между группами - было 0.259,  стало -0.02. Получается, средний чек группы B ниже среднего чека группы A на 2% в очищенных данных, но это различие также не является статически значимым и следовательно принимаем, что различий средних чеков между группами А и В нет."
   ]
  },
  {
   "cell_type": "markdown",
   "metadata": {},
   "source": [
    "**Вывод:**\n",
    "- Есть статистически значимое различие в конверсиях групп А и В и по \"сырым\" и по \"очищенным\" данным\n",
    "- Нет статистически значимого различия по среднему чеку между группами А и В и по \"сырым\" и по \"очищенным\" данным"
   ]
  },
  {
   "cell_type": "markdown",
   "metadata": {},
   "source": [
    "### Примите решение по результатам теста и объясните его. Варианты решений: 1. Остановить тест, зафиксировать победу одной из групп. 2. Остановить тест, зафиксировать отсутствие различий между группами. 3. Продолжить тест."
   ]
  },
  {
   "cell_type": "markdown",
   "metadata": {},
   "source": [
    "- В проекте оценили результаты A/B-теста визуально и выяснили, что в данных, скорее всего, есть выбросы\n",
    "- Увидели выбросы и нашли границу для их определения\n",
    "- Посчитали статистическую значимость различий в конверсии и среднем чеке между группами по «сырым» данным — без удаления аномальных пользователей\n",
    "- Сформировали гипотезы \n",
    "- Посчитали статистическую значимость различия в конверсии между группами \n",
    "- Проверили статистическую значимость различий в среднем чеке между сегментами \n",
    "- Узнали, сколько всего аномальных пользователей \n",
    "- Посчитали статистическую значимость различий в конверсии между группами теста по очищенным данным\n",
    "\n",
    "**Имеющиеся факты:**\n",
    "- Есть статистически значимое  различие в конверсиях групп и по \"сырым\" и по \"очищенным\" данным\n",
    "- Относительный прирост конверсии группы B к конверсии группы А равен 13.8% по \"сырым\" данным и 14.8% по \"очищенным\" данным. \n",
    "- Нет статистически значимого различия по среднему чеку между группами и по \"сырым\" и по \"очищенным\" данным\n",
    "- График различия конверсии между группами сообщает, что результаты группы B лучше группы A \n",
    "\n",
    "\n",
    "**Исходя из обнаруженных фактов, тест следует остановить и зафиксировать победу группы В.**"
   ]
  }
 ],
 "metadata": {
  "ExecuteTimeLog": [
   {
    "duration": 460,
    "start_time": "2022-04-03T15:37:19.375Z"
   },
   {
    "duration": 19,
    "start_time": "2022-04-03T15:39:30.054Z"
   },
   {
    "duration": 10,
    "start_time": "2022-04-03T15:39:33.380Z"
   },
   {
    "duration": 428,
    "start_time": "2022-04-03T15:42:18.119Z"
   },
   {
    "duration": 9,
    "start_time": "2022-04-03T15:42:18.550Z"
   },
   {
    "duration": 79,
    "start_time": "2022-04-03T15:42:18.561Z"
   },
   {
    "duration": 464,
    "start_time": "2022-04-03T15:52:29.892Z"
   },
   {
    "duration": 10,
    "start_time": "2022-04-03T15:52:30.358Z"
   },
   {
    "duration": 27,
    "start_time": "2022-04-03T16:03:18.331Z"
   },
   {
    "duration": 28,
    "start_time": "2022-04-03T16:04:29.085Z"
   },
   {
    "duration": 13,
    "start_time": "2022-04-03T16:04:29.594Z"
   },
   {
    "duration": 11,
    "start_time": "2022-04-03T16:04:30.713Z"
   },
   {
    "duration": 492,
    "start_time": "2022-04-03T16:05:52.883Z"
   },
   {
    "duration": 1476,
    "start_time": "2022-04-03T16:07:08.619Z"
   },
   {
    "duration": 23,
    "start_time": "2022-04-03T16:07:10.097Z"
   },
   {
    "duration": 11,
    "start_time": "2022-04-03T16:07:10.122Z"
   },
   {
    "duration": 31,
    "start_time": "2022-04-03T16:07:10.136Z"
   },
   {
    "duration": 12,
    "start_time": "2022-04-03T16:07:10.170Z"
   },
   {
    "duration": 24,
    "start_time": "2022-04-03T16:07:10.185Z"
   },
   {
    "duration": 15,
    "start_time": "2022-04-03T16:07:10.211Z"
   },
   {
    "duration": 15,
    "start_time": "2022-04-03T16:11:19.582Z"
   },
   {
    "duration": 141,
    "start_time": "2022-04-03T16:21:31.909Z"
   },
   {
    "duration": 1206,
    "start_time": "2022-04-03T16:21:59.866Z"
   },
   {
    "duration": 21,
    "start_time": "2022-04-03T16:22:01.075Z"
   },
   {
    "duration": 18,
    "start_time": "2022-04-03T16:22:01.100Z"
   },
   {
    "duration": 38,
    "start_time": "2022-04-03T16:22:01.121Z"
   },
   {
    "duration": 17,
    "start_time": "2022-04-03T16:22:01.162Z"
   },
   {
    "duration": 25,
    "start_time": "2022-04-03T16:22:01.182Z"
   },
   {
    "duration": 36,
    "start_time": "2022-04-03T16:22:01.209Z"
   },
   {
    "duration": 46,
    "start_time": "2022-04-03T16:22:01.248Z"
   },
   {
    "duration": 135,
    "start_time": "2022-04-03T16:22:01.297Z"
   },
   {
    "duration": 13,
    "start_time": "2022-04-03T16:23:53.933Z"
   },
   {
    "duration": 1267,
    "start_time": "2022-04-03T16:26:18.362Z"
   },
   {
    "duration": 23,
    "start_time": "2022-04-03T16:26:19.632Z"
   },
   {
    "duration": 12,
    "start_time": "2022-04-03T16:26:19.656Z"
   },
   {
    "duration": 33,
    "start_time": "2022-04-03T16:26:19.671Z"
   },
   {
    "duration": 14,
    "start_time": "2022-04-03T16:26:19.706Z"
   },
   {
    "duration": 23,
    "start_time": "2022-04-03T16:26:19.722Z"
   },
   {
    "duration": 35,
    "start_time": "2022-04-03T16:26:19.747Z"
   },
   {
    "duration": 15,
    "start_time": "2022-04-03T16:26:19.784Z"
   },
   {
    "duration": 16,
    "start_time": "2022-04-03T16:26:19.801Z"
   },
   {
    "duration": 20,
    "start_time": "2022-04-03T16:26:19.820Z"
   },
   {
    "duration": 17,
    "start_time": "2022-04-03T16:26:19.842Z"
   },
   {
    "duration": 232,
    "start_time": "2022-04-03T16:26:19.861Z"
   },
   {
    "duration": 132,
    "start_time": "2022-04-03T16:27:50.967Z"
   },
   {
    "duration": 11,
    "start_time": "2022-04-03T16:29:20.502Z"
   },
   {
    "duration": 367,
    "start_time": "2022-04-03T16:30:20.321Z"
   },
   {
    "duration": 299,
    "start_time": "2022-04-03T16:30:31.116Z"
   },
   {
    "duration": 294,
    "start_time": "2022-04-03T16:31:44.152Z"
   },
   {
    "duration": 198,
    "start_time": "2022-04-03T16:31:55.207Z"
   },
   {
    "duration": 1988,
    "start_time": "2022-04-10T08:17:44.407Z"
   },
   {
    "duration": 32,
    "start_time": "2022-04-10T08:17:46.398Z"
   },
   {
    "duration": 12,
    "start_time": "2022-04-10T08:17:46.432Z"
   },
   {
    "duration": 57,
    "start_time": "2022-04-10T08:17:46.447Z"
   },
   {
    "duration": 16,
    "start_time": "2022-04-10T08:17:46.507Z"
   },
   {
    "duration": 24,
    "start_time": "2022-04-10T08:17:46.525Z"
   },
   {
    "duration": 4,
    "start_time": "2022-04-10T08:17:46.552Z"
   },
   {
    "duration": 25,
    "start_time": "2022-04-10T08:17:46.558Z"
   },
   {
    "duration": 25,
    "start_time": "2022-04-10T08:17:46.587Z"
   },
   {
    "duration": 20,
    "start_time": "2022-04-10T08:17:46.615Z"
   },
   {
    "duration": 35,
    "start_time": "2022-04-10T08:17:46.638Z"
   },
   {
    "duration": 359,
    "start_time": "2022-04-10T08:17:46.676Z"
   },
   {
    "duration": 264,
    "start_time": "2022-04-10T08:17:47.037Z"
   },
   {
    "duration": 14,
    "start_time": "2022-04-10T08:17:47.304Z"
   },
   {
    "duration": 508,
    "start_time": "2022-04-10T08:17:47.320Z"
   },
   {
    "duration": 8,
    "start_time": "2022-04-10T08:21:41.680Z"
   },
   {
    "duration": 149,
    "start_time": "2022-04-10T08:27:56.408Z"
   },
   {
    "duration": 1385,
    "start_time": "2022-04-10T08:29:58.684Z"
   },
   {
    "duration": 30,
    "start_time": "2022-04-10T08:30:00.073Z"
   },
   {
    "duration": 12,
    "start_time": "2022-04-10T08:30:00.105Z"
   },
   {
    "duration": 36,
    "start_time": "2022-04-10T08:30:00.119Z"
   },
   {
    "duration": 26,
    "start_time": "2022-04-10T08:30:00.158Z"
   },
   {
    "duration": 24,
    "start_time": "2022-04-10T08:30:00.186Z"
   },
   {
    "duration": 5,
    "start_time": "2022-04-10T08:30:00.212Z"
   },
   {
    "duration": 19,
    "start_time": "2022-04-10T08:30:00.219Z"
   },
   {
    "duration": 19,
    "start_time": "2022-04-10T08:30:00.269Z"
   },
   {
    "duration": 23,
    "start_time": "2022-04-10T08:30:00.291Z"
   },
   {
    "duration": 14,
    "start_time": "2022-04-10T08:30:00.316Z"
   },
   {
    "duration": 198,
    "start_time": "2022-04-10T08:30:00.332Z"
   },
   {
    "duration": 0,
    "start_time": "2022-04-10T08:30:00.532Z"
   },
   {
    "duration": 0,
    "start_time": "2022-04-10T08:30:00.534Z"
   },
   {
    "duration": 0,
    "start_time": "2022-04-10T08:30:00.535Z"
   },
   {
    "duration": 0,
    "start_time": "2022-04-10T08:30:00.536Z"
   },
   {
    "duration": 0,
    "start_time": "2022-04-10T08:30:00.538Z"
   },
   {
    "duration": 1478,
    "start_time": "2022-04-10T08:35:06.281Z"
   },
   {
    "duration": 36,
    "start_time": "2022-04-10T08:35:07.761Z"
   },
   {
    "duration": 14,
    "start_time": "2022-04-10T08:35:07.799Z"
   },
   {
    "duration": 32,
    "start_time": "2022-04-10T08:35:07.817Z"
   },
   {
    "duration": 27,
    "start_time": "2022-04-10T08:35:07.851Z"
   },
   {
    "duration": 27,
    "start_time": "2022-04-10T08:35:07.881Z"
   },
   {
    "duration": 6,
    "start_time": "2022-04-10T08:35:07.910Z"
   },
   {
    "duration": 16,
    "start_time": "2022-04-10T08:35:07.918Z"
   },
   {
    "duration": 34,
    "start_time": "2022-04-10T08:35:07.968Z"
   },
   {
    "duration": 21,
    "start_time": "2022-04-10T08:35:08.005Z"
   },
   {
    "duration": 9,
    "start_time": "2022-04-10T08:35:08.028Z"
   },
   {
    "duration": 168,
    "start_time": "2022-04-10T08:35:08.039Z"
   },
   {
    "duration": 0,
    "start_time": "2022-04-10T08:35:08.210Z"
   },
   {
    "duration": 0,
    "start_time": "2022-04-10T08:35:08.212Z"
   },
   {
    "duration": 0,
    "start_time": "2022-04-10T08:35:08.214Z"
   },
   {
    "duration": 0,
    "start_time": "2022-04-10T08:35:08.216Z"
   },
   {
    "duration": 0,
    "start_time": "2022-04-10T08:35:08.218Z"
   },
   {
    "duration": 13,
    "start_time": "2022-04-10T08:35:40.781Z"
   },
   {
    "duration": 13,
    "start_time": "2022-04-10T08:36:23.309Z"
   },
   {
    "duration": 20,
    "start_time": "2022-04-10T08:36:39.237Z"
   },
   {
    "duration": 8,
    "start_time": "2022-04-10T08:38:39.636Z"
   },
   {
    "duration": 18,
    "start_time": "2022-04-10T08:49:22.323Z"
   },
   {
    "duration": 1455,
    "start_time": "2022-04-10T08:49:45.081Z"
   },
   {
    "duration": 30,
    "start_time": "2022-04-10T08:49:46.539Z"
   },
   {
    "duration": 15,
    "start_time": "2022-04-10T08:49:46.573Z"
   },
   {
    "duration": 29,
    "start_time": "2022-04-10T08:49:46.592Z"
   },
   {
    "duration": 16,
    "start_time": "2022-04-10T08:49:46.622Z"
   },
   {
    "duration": 45,
    "start_time": "2022-04-10T08:49:46.640Z"
   },
   {
    "duration": 5,
    "start_time": "2022-04-10T08:49:46.687Z"
   },
   {
    "duration": 15,
    "start_time": "2022-04-10T08:49:46.694Z"
   },
   {
    "duration": 13,
    "start_time": "2022-04-10T08:49:46.712Z"
   },
   {
    "duration": 57,
    "start_time": "2022-04-10T08:49:46.729Z"
   },
   {
    "duration": 12,
    "start_time": "2022-04-10T08:49:46.789Z"
   },
   {
    "duration": 9,
    "start_time": "2022-04-10T08:49:46.803Z"
   },
   {
    "duration": 186,
    "start_time": "2022-04-10T08:49:46.815Z"
   },
   {
    "duration": 0,
    "start_time": "2022-04-10T08:49:47.005Z"
   },
   {
    "duration": 0,
    "start_time": "2022-04-10T08:49:47.007Z"
   },
   {
    "duration": 0,
    "start_time": "2022-04-10T08:49:47.009Z"
   },
   {
    "duration": 0,
    "start_time": "2022-04-10T08:49:47.012Z"
   },
   {
    "duration": 0,
    "start_time": "2022-04-10T08:49:47.014Z"
   },
   {
    "duration": 16,
    "start_time": "2022-04-10T08:50:31.191Z"
   },
   {
    "duration": 15,
    "start_time": "2022-04-10T08:51:17.717Z"
   },
   {
    "duration": 13,
    "start_time": "2022-04-10T08:51:41.280Z"
   },
   {
    "duration": 5,
    "start_time": "2022-04-10T08:52:05.425Z"
   },
   {
    "duration": 11,
    "start_time": "2022-04-10T08:52:19.539Z"
   },
   {
    "duration": 14,
    "start_time": "2022-04-10T08:54:19.814Z"
   },
   {
    "duration": 16,
    "start_time": "2022-04-10T08:57:24.555Z"
   },
   {
    "duration": 1424,
    "start_time": "2022-04-10T09:03:34.585Z"
   },
   {
    "duration": 30,
    "start_time": "2022-04-10T09:03:36.012Z"
   },
   {
    "duration": 13,
    "start_time": "2022-04-10T09:03:36.044Z"
   },
   {
    "duration": 38,
    "start_time": "2022-04-10T09:03:36.068Z"
   },
   {
    "duration": 17,
    "start_time": "2022-04-10T09:03:36.108Z"
   },
   {
    "duration": 23,
    "start_time": "2022-04-10T09:03:36.127Z"
   },
   {
    "duration": 18,
    "start_time": "2022-04-10T09:03:36.152Z"
   },
   {
    "duration": 26,
    "start_time": "2022-04-10T09:03:36.173Z"
   },
   {
    "duration": 15,
    "start_time": "2022-04-10T09:03:36.202Z"
   },
   {
    "duration": 14,
    "start_time": "2022-04-10T09:03:36.223Z"
   },
   {
    "duration": 58,
    "start_time": "2022-04-10T09:03:36.239Z"
   },
   {
    "duration": 11,
    "start_time": "2022-04-10T09:03:36.300Z"
   },
   {
    "duration": 7,
    "start_time": "2022-04-10T09:03:36.313Z"
   },
   {
    "duration": 15,
    "start_time": "2022-04-10T09:03:36.322Z"
   },
   {
    "duration": 42,
    "start_time": "2022-04-10T09:03:36.339Z"
   },
   {
    "duration": 329,
    "start_time": "2022-04-10T09:03:36.384Z"
   },
   {
    "duration": 236,
    "start_time": "2022-04-10T09:03:36.715Z"
   },
   {
    "duration": 19,
    "start_time": "2022-04-10T09:03:36.969Z"
   },
   {
    "duration": 463,
    "start_time": "2022-04-10T09:03:36.990Z"
   },
   {
    "duration": 282,
    "start_time": "2022-04-10T09:05:59.340Z"
   },
   {
    "duration": 303,
    "start_time": "2022-04-10T09:07:50.181Z"
   },
   {
    "duration": 336,
    "start_time": "2022-04-10T09:13:21.099Z"
   },
   {
    "duration": 446,
    "start_time": "2022-04-10T09:15:53.019Z"
   },
   {
    "duration": 496,
    "start_time": "2022-04-10T09:16:10.480Z"
   },
   {
    "duration": 459,
    "start_time": "2022-04-10T09:16:16.022Z"
   },
   {
    "duration": 422,
    "start_time": "2022-04-10T09:17:01.190Z"
   },
   {
    "duration": 511,
    "start_time": "2022-04-10T09:17:11.197Z"
   },
   {
    "duration": 459,
    "start_time": "2022-04-10T09:22:11.855Z"
   },
   {
    "duration": 469,
    "start_time": "2022-04-10T09:23:30.570Z"
   },
   {
    "duration": 360,
    "start_time": "2022-04-10T09:23:49.759Z"
   },
   {
    "duration": 22,
    "start_time": "2022-04-10T09:24:31.831Z"
   },
   {
    "duration": 413,
    "start_time": "2022-04-10T09:25:42.596Z"
   },
   {
    "duration": 379,
    "start_time": "2022-04-10T09:26:24.024Z"
   },
   {
    "duration": 346,
    "start_time": "2022-04-10T09:27:51.882Z"
   },
   {
    "duration": 1544,
    "start_time": "2022-04-10T09:28:57.481Z"
   },
   {
    "duration": 26,
    "start_time": "2022-04-10T09:28:59.027Z"
   },
   {
    "duration": 32,
    "start_time": "2022-04-10T09:28:59.056Z"
   },
   {
    "duration": 30,
    "start_time": "2022-04-10T09:28:59.092Z"
   },
   {
    "duration": 15,
    "start_time": "2022-04-10T09:28:59.124Z"
   },
   {
    "duration": 47,
    "start_time": "2022-04-10T09:28:59.141Z"
   },
   {
    "duration": 5,
    "start_time": "2022-04-10T09:28:59.191Z"
   },
   {
    "duration": 13,
    "start_time": "2022-04-10T09:28:59.199Z"
   },
   {
    "duration": 13,
    "start_time": "2022-04-10T09:28:59.215Z"
   },
   {
    "duration": 20,
    "start_time": "2022-04-10T09:28:59.270Z"
   },
   {
    "duration": 22,
    "start_time": "2022-04-10T09:28:59.292Z"
   },
   {
    "duration": 8,
    "start_time": "2022-04-10T09:28:59.316Z"
   },
   {
    "duration": 41,
    "start_time": "2022-04-10T09:28:59.326Z"
   },
   {
    "duration": 18,
    "start_time": "2022-04-10T09:28:59.371Z"
   },
   {
    "duration": 16,
    "start_time": "2022-04-10T09:28:59.392Z"
   },
   {
    "duration": 359,
    "start_time": "2022-04-10T09:28:59.410Z"
   },
   {
    "duration": 249,
    "start_time": "2022-04-10T09:28:59.773Z"
   },
   {
    "duration": 15,
    "start_time": "2022-04-10T09:29:00.024Z"
   },
   {
    "duration": 485,
    "start_time": "2022-04-10T09:29:00.041Z"
   },
   {
    "duration": 321,
    "start_time": "2022-04-10T09:29:00.528Z"
   },
   {
    "duration": 454,
    "start_time": "2022-04-10T09:29:00.851Z"
   },
   {
    "duration": 26,
    "start_time": "2022-04-10T09:29:01.307Z"
   },
   {
    "duration": 524,
    "start_time": "2022-04-10T09:29:01.336Z"
   },
   {
    "duration": 0,
    "start_time": "2022-04-10T09:29:01.867Z"
   },
   {
    "duration": 343,
    "start_time": "2022-04-10T09:29:21.739Z"
   },
   {
    "duration": 32,
    "start_time": "2022-04-10T09:31:01.200Z"
   },
   {
    "duration": 376,
    "start_time": "2022-04-10T09:31:22.782Z"
   },
   {
    "duration": 143,
    "start_time": "2022-04-10T09:41:55.282Z"
   },
   {
    "duration": 446,
    "start_time": "2022-04-10T09:42:08.338Z"
   },
   {
    "duration": 413,
    "start_time": "2022-04-10T09:42:42.102Z"
   },
   {
    "duration": 594,
    "start_time": "2022-04-10T09:43:08.933Z"
   },
   {
    "duration": 424,
    "start_time": "2022-04-10T09:43:31.693Z"
   },
   {
    "duration": 449,
    "start_time": "2022-04-10T09:44:21.564Z"
   },
   {
    "duration": 626,
    "start_time": "2022-04-10T09:44:45.804Z"
   },
   {
    "duration": 545,
    "start_time": "2022-04-10T09:45:12.795Z"
   },
   {
    "duration": 501,
    "start_time": "2022-04-10T09:45:28.177Z"
   },
   {
    "duration": 445,
    "start_time": "2022-04-10T09:45:49.044Z"
   },
   {
    "duration": 448,
    "start_time": "2022-04-10T09:46:09.189Z"
   },
   {
    "duration": 501,
    "start_time": "2022-04-10T09:47:33.011Z"
   },
   {
    "duration": 1421,
    "start_time": "2022-04-10T09:52:32.908Z"
   },
   {
    "duration": 29,
    "start_time": "2022-04-10T09:52:34.332Z"
   },
   {
    "duration": 16,
    "start_time": "2022-04-10T09:52:34.364Z"
   },
   {
    "duration": 31,
    "start_time": "2022-04-10T09:52:34.384Z"
   },
   {
    "duration": 16,
    "start_time": "2022-04-10T09:52:34.417Z"
   },
   {
    "duration": 40,
    "start_time": "2022-04-10T09:52:34.435Z"
   },
   {
    "duration": 6,
    "start_time": "2022-04-10T09:52:34.478Z"
   },
   {
    "duration": 14,
    "start_time": "2022-04-10T09:52:34.487Z"
   },
   {
    "duration": 19,
    "start_time": "2022-04-10T09:52:34.503Z"
   },
   {
    "duration": 46,
    "start_time": "2022-04-10T09:52:34.526Z"
   },
   {
    "duration": 29,
    "start_time": "2022-04-10T09:52:34.576Z"
   },
   {
    "duration": 7,
    "start_time": "2022-04-10T09:52:34.608Z"
   },
   {
    "duration": 9,
    "start_time": "2022-04-10T09:52:34.617Z"
   },
   {
    "duration": 53,
    "start_time": "2022-04-10T09:52:34.628Z"
   },
   {
    "duration": 15,
    "start_time": "2022-04-10T09:52:34.683Z"
   },
   {
    "duration": 343,
    "start_time": "2022-04-10T09:52:34.701Z"
   },
   {
    "duration": 254,
    "start_time": "2022-04-10T09:52:35.047Z"
   },
   {
    "duration": 14,
    "start_time": "2022-04-10T09:52:35.304Z"
   },
   {
    "duration": 477,
    "start_time": "2022-04-10T09:52:35.320Z"
   },
   {
    "duration": 317,
    "start_time": "2022-04-10T09:52:35.799Z"
   },
   {
    "duration": 435,
    "start_time": "2022-04-10T09:52:36.119Z"
   },
   {
    "duration": 33,
    "start_time": "2022-04-10T09:52:36.556Z"
   },
   {
    "duration": 30,
    "start_time": "2022-04-10T09:52:36.591Z"
   },
   {
    "duration": 509,
    "start_time": "2022-04-10T09:52:36.624Z"
   },
   {
    "duration": 0,
    "start_time": "2022-04-10T09:52:37.135Z"
   },
   {
    "duration": 360,
    "start_time": "2022-04-10T09:53:35.965Z"
   },
   {
    "duration": 23,
    "start_time": "2022-04-10T09:53:38.665Z"
   },
   {
    "duration": 503,
    "start_time": "2022-04-10T09:54:15.741Z"
   },
   {
    "duration": 579,
    "start_time": "2022-04-10T09:54:33.112Z"
   },
   {
    "duration": 612,
    "start_time": "2022-04-10T09:54:44.848Z"
   },
   {
    "duration": 866,
    "start_time": "2022-04-10T10:01:25.997Z"
   },
   {
    "duration": 1550,
    "start_time": "2022-04-10T10:01:46.505Z"
   },
   {
    "duration": 48,
    "start_time": "2022-04-10T10:01:48.058Z"
   },
   {
    "duration": 14,
    "start_time": "2022-04-10T10:01:48.108Z"
   },
   {
    "duration": 37,
    "start_time": "2022-04-10T10:01:48.125Z"
   },
   {
    "duration": 23,
    "start_time": "2022-04-10T10:01:48.164Z"
   },
   {
    "duration": 25,
    "start_time": "2022-04-10T10:01:48.190Z"
   },
   {
    "duration": 8,
    "start_time": "2022-04-10T10:01:48.218Z"
   },
   {
    "duration": 57,
    "start_time": "2022-04-10T10:01:48.229Z"
   },
   {
    "duration": 15,
    "start_time": "2022-04-10T10:01:48.289Z"
   },
   {
    "duration": 17,
    "start_time": "2022-04-10T10:01:48.308Z"
   },
   {
    "duration": 62,
    "start_time": "2022-04-10T10:01:48.327Z"
   },
   {
    "duration": 88,
    "start_time": "2022-04-10T10:01:48.392Z"
   },
   {
    "duration": 9,
    "start_time": "2022-04-10T10:01:48.484Z"
   },
   {
    "duration": 12,
    "start_time": "2022-04-10T10:01:48.495Z"
   },
   {
    "duration": 25,
    "start_time": "2022-04-10T10:01:48.510Z"
   },
   {
    "duration": 50,
    "start_time": "2022-04-10T10:01:48.539Z"
   },
   {
    "duration": 283,
    "start_time": "2022-04-10T10:01:48.592Z"
   },
   {
    "duration": 197,
    "start_time": "2022-04-10T10:01:48.878Z"
   },
   {
    "duration": 27,
    "start_time": "2022-04-10T10:01:49.078Z"
   },
   {
    "duration": 454,
    "start_time": "2022-04-10T10:01:49.107Z"
   },
   {
    "duration": 292,
    "start_time": "2022-04-10T10:01:49.568Z"
   },
   {
    "duration": 619,
    "start_time": "2022-04-10T10:01:49.868Z"
   },
   {
    "duration": 79,
    "start_time": "2022-04-10T10:01:50.489Z"
   },
   {
    "duration": 34,
    "start_time": "2022-04-10T10:01:50.572Z"
   },
   {
    "duration": 981,
    "start_time": "2022-04-10T10:01:50.609Z"
   },
   {
    "duration": 0,
    "start_time": "2022-04-10T10:01:51.596Z"
   },
   {
    "duration": 1457,
    "start_time": "2022-04-10T10:03:34.345Z"
   },
   {
    "duration": 25,
    "start_time": "2022-04-10T10:03:35.805Z"
   },
   {
    "duration": 12,
    "start_time": "2022-04-10T10:03:35.833Z"
   },
   {
    "duration": 49,
    "start_time": "2022-04-10T10:03:35.848Z"
   },
   {
    "duration": 16,
    "start_time": "2022-04-10T10:03:35.899Z"
   },
   {
    "duration": 23,
    "start_time": "2022-04-10T10:03:35.918Z"
   },
   {
    "duration": 4,
    "start_time": "2022-04-10T10:03:35.944Z"
   },
   {
    "duration": 17,
    "start_time": "2022-04-10T10:03:35.967Z"
   },
   {
    "duration": 15,
    "start_time": "2022-04-10T10:03:35.986Z"
   },
   {
    "duration": 14,
    "start_time": "2022-04-10T10:03:36.005Z"
   },
   {
    "duration": 71,
    "start_time": "2022-04-10T10:03:36.020Z"
   },
   {
    "duration": 9,
    "start_time": "2022-04-10T10:03:36.093Z"
   },
   {
    "duration": 7,
    "start_time": "2022-04-10T10:03:36.104Z"
   },
   {
    "duration": 13,
    "start_time": "2022-04-10T10:03:36.113Z"
   },
   {
    "duration": 52,
    "start_time": "2022-04-10T10:03:36.128Z"
   },
   {
    "duration": 316,
    "start_time": "2022-04-10T10:03:36.183Z"
   },
   {
    "duration": 221,
    "start_time": "2022-04-10T10:03:36.501Z"
   },
   {
    "duration": 14,
    "start_time": "2022-04-10T10:03:36.724Z"
   },
   {
    "duration": 434,
    "start_time": "2022-04-10T10:03:36.741Z"
   },
   {
    "duration": 893,
    "start_time": "2022-04-10T10:03:37.178Z"
   },
   {
    "duration": 728,
    "start_time": "2022-04-10T10:03:38.076Z"
   },
   {
    "duration": 74,
    "start_time": "2022-04-10T10:03:38.806Z"
   },
   {
    "duration": 85,
    "start_time": "2022-04-10T10:03:38.883Z"
   },
   {
    "duration": 1021,
    "start_time": "2022-04-10T10:03:38.971Z"
   },
   {
    "duration": 0,
    "start_time": "2022-04-10T10:03:39.995Z"
   },
   {
    "duration": 709,
    "start_time": "2022-04-10T10:12:00.062Z"
   },
   {
    "duration": 1540,
    "start_time": "2022-04-10T10:12:13.858Z"
   },
   {
    "duration": 30,
    "start_time": "2022-04-10T10:12:15.401Z"
   },
   {
    "duration": 13,
    "start_time": "2022-04-10T10:12:15.433Z"
   },
   {
    "duration": 35,
    "start_time": "2022-04-10T10:12:15.450Z"
   },
   {
    "duration": 17,
    "start_time": "2022-04-10T10:12:15.487Z"
   },
   {
    "duration": 23,
    "start_time": "2022-04-10T10:12:15.506Z"
   },
   {
    "duration": 38,
    "start_time": "2022-04-10T10:12:15.531Z"
   },
   {
    "duration": 24,
    "start_time": "2022-04-10T10:12:15.572Z"
   },
   {
    "duration": 17,
    "start_time": "2022-04-10T10:12:15.598Z"
   },
   {
    "duration": 16,
    "start_time": "2022-04-10T10:12:15.619Z"
   },
   {
    "duration": 51,
    "start_time": "2022-04-10T10:12:15.637Z"
   },
   {
    "duration": 16,
    "start_time": "2022-04-10T10:12:15.690Z"
   },
   {
    "duration": 10,
    "start_time": "2022-04-10T10:12:15.708Z"
   },
   {
    "duration": 10,
    "start_time": "2022-04-10T10:12:15.720Z"
   },
   {
    "duration": 50,
    "start_time": "2022-04-10T10:12:15.733Z"
   },
   {
    "duration": 15,
    "start_time": "2022-04-10T10:12:15.786Z"
   },
   {
    "duration": 345,
    "start_time": "2022-04-10T10:12:15.804Z"
   },
   {
    "duration": 254,
    "start_time": "2022-04-10T10:12:16.151Z"
   },
   {
    "duration": 15,
    "start_time": "2022-04-10T10:12:16.408Z"
   },
   {
    "duration": 474,
    "start_time": "2022-04-10T10:12:16.426Z"
   },
   {
    "duration": 307,
    "start_time": "2022-04-10T10:12:16.902Z"
   },
   {
    "duration": 448,
    "start_time": "2022-04-10T10:12:17.211Z"
   },
   {
    "duration": 30,
    "start_time": "2022-04-10T10:12:17.662Z"
   },
   {
    "duration": 33,
    "start_time": "2022-04-10T10:12:17.695Z"
   },
   {
    "duration": 850,
    "start_time": "2022-04-10T10:12:17.730Z"
   },
   {
    "duration": 0,
    "start_time": "2022-04-10T10:12:18.584Z"
   },
   {
    "duration": 496,
    "start_time": "2022-04-10T10:16:15.063Z"
   },
   {
    "duration": 382,
    "start_time": "2022-04-10T10:17:22.566Z"
   },
   {
    "duration": 545,
    "start_time": "2022-04-10T10:18:01.597Z"
   },
   {
    "duration": 343,
    "start_time": "2022-04-10T10:18:40.340Z"
   },
   {
    "duration": 641,
    "start_time": "2022-04-10T10:18:51.782Z"
   },
   {
    "duration": 2300,
    "start_time": "2022-04-10T10:24:16.097Z"
   },
   {
    "duration": 28,
    "start_time": "2022-04-10T10:24:18.400Z"
   },
   {
    "duration": 14,
    "start_time": "2022-04-10T10:24:18.431Z"
   },
   {
    "duration": 46,
    "start_time": "2022-04-10T10:24:18.467Z"
   },
   {
    "duration": 16,
    "start_time": "2022-04-10T10:24:18.517Z"
   },
   {
    "duration": 23,
    "start_time": "2022-04-10T10:24:18.535Z"
   },
   {
    "duration": 8,
    "start_time": "2022-04-10T10:24:18.560Z"
   },
   {
    "duration": 34,
    "start_time": "2022-04-10T10:24:18.571Z"
   },
   {
    "duration": 21,
    "start_time": "2022-04-10T10:24:18.608Z"
   },
   {
    "duration": 22,
    "start_time": "2022-04-10T10:24:18.631Z"
   },
   {
    "duration": 50,
    "start_time": "2022-04-10T10:24:18.655Z"
   },
   {
    "duration": 16,
    "start_time": "2022-04-10T10:24:18.708Z"
   },
   {
    "duration": 10,
    "start_time": "2022-04-10T10:24:18.727Z"
   },
   {
    "duration": 11,
    "start_time": "2022-04-10T10:24:18.771Z"
   },
   {
    "duration": 21,
    "start_time": "2022-04-10T10:24:18.785Z"
   },
   {
    "duration": 23,
    "start_time": "2022-04-10T10:24:18.808Z"
   },
   {
    "duration": 519,
    "start_time": "2022-04-10T10:24:18.835Z"
   },
   {
    "duration": 257,
    "start_time": "2022-04-10T10:24:19.356Z"
   },
   {
    "duration": 16,
    "start_time": "2022-04-10T10:24:19.615Z"
   },
   {
    "duration": 840,
    "start_time": "2022-04-10T10:24:19.633Z"
   },
   {
    "duration": 339,
    "start_time": "2022-04-10T10:24:20.476Z"
   },
   {
    "duration": 500,
    "start_time": "2022-04-10T10:24:20.817Z"
   },
   {
    "duration": 50,
    "start_time": "2022-04-10T10:24:21.320Z"
   },
   {
    "duration": 40,
    "start_time": "2022-04-10T10:24:21.374Z"
   },
   {
    "duration": 377,
    "start_time": "2022-04-10T10:24:21.417Z"
   },
   {
    "duration": 515,
    "start_time": "2022-04-10T10:24:21.796Z"
   },
   {
    "duration": 1416,
    "start_time": "2022-04-10T11:08:53.814Z"
   },
   {
    "duration": 24,
    "start_time": "2022-04-10T11:08:55.233Z"
   },
   {
    "duration": 16,
    "start_time": "2022-04-10T11:08:55.267Z"
   },
   {
    "duration": 36,
    "start_time": "2022-04-10T11:08:55.287Z"
   },
   {
    "duration": 17,
    "start_time": "2022-04-10T11:08:55.326Z"
   },
   {
    "duration": 45,
    "start_time": "2022-04-10T11:08:55.346Z"
   },
   {
    "duration": 5,
    "start_time": "2022-04-10T11:08:55.394Z"
   },
   {
    "duration": 13,
    "start_time": "2022-04-10T11:08:55.402Z"
   },
   {
    "duration": 14,
    "start_time": "2022-04-10T11:08:55.417Z"
   },
   {
    "duration": 42,
    "start_time": "2022-04-10T11:08:55.435Z"
   },
   {
    "duration": 23,
    "start_time": "2022-04-10T11:08:55.482Z"
   },
   {
    "duration": 15,
    "start_time": "2022-04-10T11:08:55.507Z"
   },
   {
    "duration": 9,
    "start_time": "2022-04-10T11:08:55.524Z"
   },
   {
    "duration": 11,
    "start_time": "2022-04-10T11:08:55.566Z"
   },
   {
    "duration": 18,
    "start_time": "2022-04-10T11:08:55.581Z"
   },
   {
    "duration": 16,
    "start_time": "2022-04-10T11:08:55.601Z"
   },
   {
    "duration": 358,
    "start_time": "2022-04-10T11:08:55.619Z"
   },
   {
    "duration": 240,
    "start_time": "2022-04-10T11:08:55.981Z"
   },
   {
    "duration": 12,
    "start_time": "2022-04-10T11:08:56.224Z"
   },
   {
    "duration": 479,
    "start_time": "2022-04-10T11:08:56.238Z"
   },
   {
    "duration": 310,
    "start_time": "2022-04-10T11:08:56.719Z"
   },
   {
    "duration": 435,
    "start_time": "2022-04-10T11:08:57.031Z"
   },
   {
    "duration": 29,
    "start_time": "2022-04-10T11:08:57.468Z"
   },
   {
    "duration": 29,
    "start_time": "2022-04-10T11:08:57.499Z"
   },
   {
    "duration": 351,
    "start_time": "2022-04-10T11:08:57.531Z"
   },
   {
    "duration": 435,
    "start_time": "2022-04-10T11:08:57.886Z"
   },
   {
    "duration": 179,
    "start_time": "2022-04-10T11:08:58.324Z"
   },
   {
    "duration": 14,
    "start_time": "2022-04-10T11:10:08.026Z"
   },
   {
    "duration": 167,
    "start_time": "2022-04-10T11:12:39.292Z"
   },
   {
    "duration": 167,
    "start_time": "2022-04-10T11:12:51.080Z"
   },
   {
    "duration": 175,
    "start_time": "2022-04-10T11:13:11.609Z"
   },
   {
    "duration": 281,
    "start_time": "2022-04-10T11:13:16.186Z"
   },
   {
    "duration": 175,
    "start_time": "2022-04-10T11:13:51.240Z"
   },
   {
    "duration": 173,
    "start_time": "2022-04-10T11:14:54.665Z"
   },
   {
    "duration": 176,
    "start_time": "2022-04-10T11:14:57.913Z"
   },
   {
    "duration": 7,
    "start_time": "2022-04-10T11:15:54.502Z"
   },
   {
    "duration": 2212,
    "start_time": "2022-04-10T11:23:06.121Z"
   },
   {
    "duration": 2845,
    "start_time": "2022-04-10T11:24:48.853Z"
   },
   {
    "duration": 218,
    "start_time": "2022-04-10T11:25:06.349Z"
   },
   {
    "duration": 208,
    "start_time": "2022-04-10T11:25:42.590Z"
   },
   {
    "duration": 6,
    "start_time": "2022-04-10T11:27:16.058Z"
   },
   {
    "duration": 7,
    "start_time": "2022-04-10T11:27:29.088Z"
   },
   {
    "duration": 10,
    "start_time": "2022-04-10T11:28:52.167Z"
   },
   {
    "duration": 9,
    "start_time": "2022-04-10T11:29:45.865Z"
   },
   {
    "duration": 204,
    "start_time": "2022-04-10T11:29:58.339Z"
   },
   {
    "duration": 7,
    "start_time": "2022-04-10T11:30:01.287Z"
   },
   {
    "duration": 285,
    "start_time": "2022-04-10T11:40:56.202Z"
   },
   {
    "duration": 273,
    "start_time": "2022-04-10T11:42:21.261Z"
   },
   {
    "duration": 13,
    "start_time": "2022-04-10T11:42:25.339Z"
   },
   {
    "duration": 396,
    "start_time": "2022-04-10T11:42:51.569Z"
   },
   {
    "duration": 287,
    "start_time": "2022-04-10T11:43:08.609Z"
   },
   {
    "duration": 44,
    "start_time": "2022-04-10T11:43:09.453Z"
   },
   {
    "duration": 12,
    "start_time": "2022-04-10T11:43:10.480Z"
   },
   {
    "duration": 35,
    "start_time": "2022-04-10T11:44:29.427Z"
   },
   {
    "duration": 11,
    "start_time": "2022-04-10T11:44:30.044Z"
   },
   {
    "duration": 316,
    "start_time": "2022-04-10T11:44:31.301Z"
   },
   {
    "duration": 380,
    "start_time": "2022-04-10T11:45:03.590Z"
   },
   {
    "duration": 311,
    "start_time": "2022-04-10T11:45:04.718Z"
   },
   {
    "duration": 1183,
    "start_time": "2022-04-16T13:04:55.408Z"
   },
   {
    "duration": 25,
    "start_time": "2022-04-16T13:04:56.593Z"
   },
   {
    "duration": 8,
    "start_time": "2022-04-16T13:04:56.620Z"
   },
   {
    "duration": 37,
    "start_time": "2022-04-16T13:04:56.631Z"
   },
   {
    "duration": 10,
    "start_time": "2022-04-16T13:04:56.670Z"
   },
   {
    "duration": 15,
    "start_time": "2022-04-16T13:04:56.682Z"
   },
   {
    "duration": 3,
    "start_time": "2022-04-16T13:04:56.699Z"
   },
   {
    "duration": 9,
    "start_time": "2022-04-16T13:04:56.704Z"
   },
   {
    "duration": 11,
    "start_time": "2022-04-16T13:04:56.715Z"
   },
   {
    "duration": 19,
    "start_time": "2022-04-16T13:04:56.730Z"
   },
   {
    "duration": 14,
    "start_time": "2022-04-16T13:04:56.751Z"
   },
   {
    "duration": 11,
    "start_time": "2022-04-16T13:04:56.766Z"
   },
   {
    "duration": 6,
    "start_time": "2022-04-16T13:04:56.779Z"
   },
   {
    "duration": 6,
    "start_time": "2022-04-16T13:04:56.787Z"
   },
   {
    "duration": 9,
    "start_time": "2022-04-16T13:04:56.794Z"
   },
   {
    "duration": 44,
    "start_time": "2022-04-16T13:04:56.804Z"
   },
   {
    "duration": 179,
    "start_time": "2022-04-16T13:04:56.850Z"
   },
   {
    "duration": 125,
    "start_time": "2022-04-16T13:04:57.031Z"
   },
   {
    "duration": 9,
    "start_time": "2022-04-16T13:04:57.158Z"
   },
   {
    "duration": 250,
    "start_time": "2022-04-16T13:04:57.169Z"
   },
   {
    "duration": 171,
    "start_time": "2022-04-16T13:04:57.421Z"
   },
   {
    "duration": 283,
    "start_time": "2022-04-16T13:04:57.593Z"
   },
   {
    "duration": 12,
    "start_time": "2022-04-16T13:04:57.878Z"
   },
   {
    "duration": 19,
    "start_time": "2022-04-16T13:04:57.891Z"
   },
   {
    "duration": 192,
    "start_time": "2022-04-16T13:04:57.911Z"
   },
   {
    "duration": 343,
    "start_time": "2022-04-16T13:04:58.104Z"
   },
   {
    "duration": 8,
    "start_time": "2022-04-16T13:04:58.449Z"
   },
   {
    "duration": 102,
    "start_time": "2022-04-16T13:04:58.460Z"
   },
   {
    "duration": 104,
    "start_time": "2022-04-16T13:04:58.563Z"
   },
   {
    "duration": 4,
    "start_time": "2022-04-16T13:04:58.669Z"
   },
   {
    "duration": 115,
    "start_time": "2022-04-16T13:04:58.674Z"
   },
   {
    "duration": 4,
    "start_time": "2022-04-16T13:04:58.791Z"
   },
   {
    "duration": 294,
    "start_time": "2022-04-16T13:04:58.797Z"
   },
   {
    "duration": 165,
    "start_time": "2022-04-16T13:04:59.092Z"
   },
   {
    "duration": 10,
    "start_time": "2022-04-16T13:24:36.901Z"
   },
   {
    "duration": 9,
    "start_time": "2022-04-16T13:33:07.634Z"
   },
   {
    "duration": 7,
    "start_time": "2022-04-16T13:34:43.469Z"
   },
   {
    "duration": 22,
    "start_time": "2022-04-16T13:35:01.779Z"
   },
   {
    "duration": 12,
    "start_time": "2022-04-16T13:35:38.760Z"
   },
   {
    "duration": 1024,
    "start_time": "2022-04-16T14:15:08.270Z"
   },
   {
    "duration": 20,
    "start_time": "2022-04-16T14:15:09.296Z"
   },
   {
    "duration": 9,
    "start_time": "2022-04-16T14:15:09.318Z"
   },
   {
    "duration": 35,
    "start_time": "2022-04-16T14:15:09.328Z"
   },
   {
    "duration": 10,
    "start_time": "2022-04-16T14:15:09.365Z"
   },
   {
    "duration": 16,
    "start_time": "2022-04-16T14:15:09.377Z"
   },
   {
    "duration": 3,
    "start_time": "2022-04-16T14:15:09.394Z"
   },
   {
    "duration": 11,
    "start_time": "2022-04-16T14:15:09.399Z"
   },
   {
    "duration": 11,
    "start_time": "2022-04-16T14:15:09.411Z"
   },
   {
    "duration": 24,
    "start_time": "2022-04-16T14:15:09.424Z"
   },
   {
    "duration": 14,
    "start_time": "2022-04-16T14:15:09.450Z"
   },
   {
    "duration": 11,
    "start_time": "2022-04-16T14:15:09.465Z"
   },
   {
    "duration": 7,
    "start_time": "2022-04-16T14:15:09.477Z"
   },
   {
    "duration": 6,
    "start_time": "2022-04-16T14:15:09.486Z"
   },
   {
    "duration": 9,
    "start_time": "2022-04-16T14:15:09.493Z"
   },
   {
    "duration": 10,
    "start_time": "2022-04-16T14:15:09.503Z"
   },
   {
    "duration": 205,
    "start_time": "2022-04-16T14:15:09.514Z"
   },
   {
    "duration": 118,
    "start_time": "2022-04-16T14:15:09.721Z"
   },
   {
    "duration": 13,
    "start_time": "2022-04-16T14:15:09.840Z"
   },
   {
    "duration": 243,
    "start_time": "2022-04-16T14:15:09.855Z"
   },
   {
    "duration": 170,
    "start_time": "2022-04-16T14:15:10.100Z"
   },
   {
    "duration": 284,
    "start_time": "2022-04-16T14:15:10.273Z"
   },
   {
    "duration": 12,
    "start_time": "2022-04-16T14:15:10.559Z"
   },
   {
    "duration": 18,
    "start_time": "2022-04-16T14:15:10.573Z"
   },
   {
    "duration": 192,
    "start_time": "2022-04-16T14:15:10.592Z"
   },
   {
    "duration": 272,
    "start_time": "2022-04-16T14:15:10.785Z"
   },
   {
    "duration": 8,
    "start_time": "2022-04-16T14:15:11.059Z"
   },
   {
    "duration": 100,
    "start_time": "2022-04-16T14:15:11.070Z"
   },
   {
    "duration": 99,
    "start_time": "2022-04-16T14:15:11.172Z"
   },
   {
    "duration": 4,
    "start_time": "2022-04-16T14:15:11.272Z"
   },
   {
    "duration": 117,
    "start_time": "2022-04-16T14:15:11.277Z"
   },
   {
    "duration": 4,
    "start_time": "2022-04-16T14:15:11.396Z"
   },
   {
    "duration": 281,
    "start_time": "2022-04-16T14:15:11.401Z"
   },
   {
    "duration": 151,
    "start_time": "2022-04-16T14:15:11.683Z"
   },
   {
    "duration": 18,
    "start_time": "2022-04-16T14:15:11.836Z"
   },
   {
    "duration": 8,
    "start_time": "2022-04-16T14:15:11.855Z"
   },
   {
    "duration": 10,
    "start_time": "2022-04-16T14:15:11.864Z"
   },
   {
    "duration": 25,
    "start_time": "2022-04-16T14:15:11.875Z"
   },
   {
    "duration": 12,
    "start_time": "2022-04-16T14:15:11.902Z"
   },
   {
    "duration": 1072,
    "start_time": "2022-04-16T14:21:18.411Z"
   },
   {
    "duration": 25,
    "start_time": "2022-04-16T14:21:19.485Z"
   },
   {
    "duration": 9,
    "start_time": "2022-04-16T14:21:19.512Z"
   },
   {
    "duration": 35,
    "start_time": "2022-04-16T14:21:19.523Z"
   },
   {
    "duration": 10,
    "start_time": "2022-04-16T14:21:19.560Z"
   },
   {
    "duration": 14,
    "start_time": "2022-04-16T14:21:19.571Z"
   },
   {
    "duration": 3,
    "start_time": "2022-04-16T14:21:19.587Z"
   },
   {
    "duration": 9,
    "start_time": "2022-04-16T14:21:19.592Z"
   },
   {
    "duration": 13,
    "start_time": "2022-04-16T14:21:19.603Z"
   },
   {
    "duration": 30,
    "start_time": "2022-04-16T14:21:19.619Z"
   },
   {
    "duration": 14,
    "start_time": "2022-04-16T14:21:19.650Z"
   },
   {
    "duration": 13,
    "start_time": "2022-04-16T14:21:19.665Z"
   },
   {
    "duration": 6,
    "start_time": "2022-04-16T14:21:19.680Z"
   },
   {
    "duration": 5,
    "start_time": "2022-04-16T14:21:19.688Z"
   },
   {
    "duration": 9,
    "start_time": "2022-04-16T14:21:19.695Z"
   },
   {
    "duration": 10,
    "start_time": "2022-04-16T14:21:19.705Z"
   },
   {
    "duration": 187,
    "start_time": "2022-04-16T14:21:19.749Z"
   },
   {
    "duration": 132,
    "start_time": "2022-04-16T14:21:19.937Z"
   },
   {
    "duration": 9,
    "start_time": "2022-04-16T14:21:20.071Z"
   },
   {
    "duration": 250,
    "start_time": "2022-04-16T14:21:20.082Z"
   },
   {
    "duration": 169,
    "start_time": "2022-04-16T14:21:20.334Z"
   },
   {
    "duration": 256,
    "start_time": "2022-04-16T14:21:20.505Z"
   },
   {
    "duration": 13,
    "start_time": "2022-04-16T14:21:20.763Z"
   },
   {
    "duration": 18,
    "start_time": "2022-04-16T14:21:20.778Z"
   },
   {
    "duration": 201,
    "start_time": "2022-04-16T14:21:20.797Z"
   },
   {
    "duration": 325,
    "start_time": "2022-04-16T14:21:21.000Z"
   },
   {
    "duration": 9,
    "start_time": "2022-04-16T14:21:21.326Z"
   },
   {
    "duration": 101,
    "start_time": "2022-04-16T14:21:21.347Z"
   },
   {
    "duration": 100,
    "start_time": "2022-04-16T14:21:21.449Z"
   },
   {
    "duration": 5,
    "start_time": "2022-04-16T14:21:21.551Z"
   },
   {
    "duration": 119,
    "start_time": "2022-04-16T14:21:21.558Z"
   },
   {
    "duration": 5,
    "start_time": "2022-04-16T14:21:21.679Z"
   },
   {
    "duration": 283,
    "start_time": "2022-04-16T14:21:21.686Z"
   },
   {
    "duration": 158,
    "start_time": "2022-04-16T14:21:21.971Z"
   },
   {
    "duration": 18,
    "start_time": "2022-04-16T14:21:22.131Z"
   },
   {
    "duration": 8,
    "start_time": "2022-04-16T14:21:22.151Z"
   },
   {
    "duration": 8,
    "start_time": "2022-04-16T14:21:22.160Z"
   },
   {
    "duration": 27,
    "start_time": "2022-04-16T14:21:22.169Z"
   },
   {
    "duration": 13,
    "start_time": "2022-04-16T14:21:22.197Z"
   },
   {
    "duration": 1662,
    "start_time": "2022-04-17T13:08:46.465Z"
   },
   {
    "duration": 30,
    "start_time": "2022-04-17T13:08:48.130Z"
   },
   {
    "duration": 20,
    "start_time": "2022-04-17T13:08:48.163Z"
   },
   {
    "duration": 39,
    "start_time": "2022-04-17T13:08:48.186Z"
   },
   {
    "duration": 19,
    "start_time": "2022-04-17T13:08:48.227Z"
   },
   {
    "duration": 38,
    "start_time": "2022-04-17T13:08:48.249Z"
   },
   {
    "duration": 7,
    "start_time": "2022-04-17T13:08:48.290Z"
   },
   {
    "duration": 22,
    "start_time": "2022-04-17T13:08:48.300Z"
   },
   {
    "duration": 18,
    "start_time": "2022-04-17T13:08:48.325Z"
   },
   {
    "duration": 37,
    "start_time": "2022-04-17T13:08:48.348Z"
   },
   {
    "duration": 48,
    "start_time": "2022-04-17T13:08:48.388Z"
   },
   {
    "duration": 27,
    "start_time": "2022-04-17T13:08:48.438Z"
   },
   {
    "duration": 18,
    "start_time": "2022-04-17T13:08:48.468Z"
   },
   {
    "duration": 11,
    "start_time": "2022-04-17T13:08:48.488Z"
   },
   {
    "duration": 18,
    "start_time": "2022-04-17T13:08:48.501Z"
   },
   {
    "duration": 21,
    "start_time": "2022-04-17T13:08:48.521Z"
   },
   {
    "duration": 382,
    "start_time": "2022-04-17T13:08:48.545Z"
   },
   {
    "duration": 217,
    "start_time": "2022-04-17T13:08:48.930Z"
   },
   {
    "duration": 33,
    "start_time": "2022-04-17T13:08:49.149Z"
   },
   {
    "duration": 441,
    "start_time": "2022-04-17T13:08:49.184Z"
   },
   {
    "duration": 298,
    "start_time": "2022-04-17T13:08:49.627Z"
   },
   {
    "duration": 435,
    "start_time": "2022-04-17T13:08:49.928Z"
   },
   {
    "duration": 30,
    "start_time": "2022-04-17T13:08:50.365Z"
   },
   {
    "duration": 43,
    "start_time": "2022-04-17T13:08:50.398Z"
   },
   {
    "duration": 488,
    "start_time": "2022-04-17T13:08:50.444Z"
   },
   {
    "duration": 638,
    "start_time": "2022-04-17T13:08:50.935Z"
   },
   {
    "duration": 21,
    "start_time": "2022-04-17T13:08:51.576Z"
   },
   {
    "duration": 262,
    "start_time": "2022-04-17T13:08:51.604Z"
   },
   {
    "duration": 258,
    "start_time": "2022-04-17T13:08:51.868Z"
   },
   {
    "duration": 8,
    "start_time": "2022-04-17T13:08:52.129Z"
   },
   {
    "duration": 324,
    "start_time": "2022-04-17T13:08:52.140Z"
   },
   {
    "duration": 17,
    "start_time": "2022-04-17T13:08:52.466Z"
   },
   {
    "duration": 602,
    "start_time": "2022-04-17T13:08:52.486Z"
   },
   {
    "duration": 490,
    "start_time": "2022-04-17T13:08:53.091Z"
   },
   {
    "duration": 19,
    "start_time": "2022-04-17T13:08:53.583Z"
   },
   {
    "duration": 18,
    "start_time": "2022-04-17T13:08:53.605Z"
   },
   {
    "duration": 14,
    "start_time": "2022-04-17T13:08:53.626Z"
   },
   {
    "duration": 87,
    "start_time": "2022-04-17T13:08:53.643Z"
   },
   {
    "duration": 25,
    "start_time": "2022-04-17T13:08:53.732Z"
   },
   {
    "duration": 1798,
    "start_time": "2022-04-17T14:32:13.826Z"
   },
   {
    "duration": 32,
    "start_time": "2022-04-17T14:32:15.627Z"
   },
   {
    "duration": 15,
    "start_time": "2022-04-17T14:32:15.662Z"
   },
   {
    "duration": 34,
    "start_time": "2022-04-17T14:32:15.681Z"
   },
   {
    "duration": 20,
    "start_time": "2022-04-17T14:32:15.717Z"
   },
   {
    "duration": 24,
    "start_time": "2022-04-17T14:32:15.740Z"
   },
   {
    "duration": 5,
    "start_time": "2022-04-17T14:32:15.766Z"
   },
   {
    "duration": 17,
    "start_time": "2022-04-17T14:32:15.773Z"
   },
   {
    "duration": 17,
    "start_time": "2022-04-17T14:32:15.825Z"
   },
   {
    "duration": 17,
    "start_time": "2022-04-17T14:32:15.846Z"
   },
   {
    "duration": 26,
    "start_time": "2022-04-17T14:32:15.865Z"
   },
   {
    "duration": 44,
    "start_time": "2022-04-17T14:32:15.893Z"
   },
   {
    "duration": 10,
    "start_time": "2022-04-17T14:32:15.939Z"
   },
   {
    "duration": 10,
    "start_time": "2022-04-17T14:32:15.952Z"
   },
   {
    "duration": 15,
    "start_time": "2022-04-17T14:32:15.965Z"
   },
   {
    "duration": 58,
    "start_time": "2022-04-17T14:32:15.982Z"
   },
   {
    "duration": 344,
    "start_time": "2022-04-17T14:32:16.042Z"
   },
   {
    "duration": 242,
    "start_time": "2022-04-17T14:32:16.389Z"
   },
   {
    "duration": 15,
    "start_time": "2022-04-17T14:32:16.634Z"
   },
   {
    "duration": 478,
    "start_time": "2022-04-17T14:32:16.651Z"
   },
   {
    "duration": 308,
    "start_time": "2022-04-17T14:32:17.131Z"
   },
   {
    "duration": 431,
    "start_time": "2022-04-17T14:32:17.441Z"
   },
   {
    "duration": 21,
    "start_time": "2022-04-17T14:32:17.874Z"
   },
   {
    "duration": 51,
    "start_time": "2022-04-17T14:32:17.897Z"
   },
   {
    "duration": 329,
    "start_time": "2022-04-17T14:32:17.951Z"
   },
   {
    "duration": 467,
    "start_time": "2022-04-17T14:32:18.282Z"
   },
   {
    "duration": 14,
    "start_time": "2022-04-17T14:32:18.751Z"
   },
   {
    "duration": 193,
    "start_time": "2022-04-17T14:32:18.770Z"
   },
   {
    "duration": 188,
    "start_time": "2022-04-17T14:32:18.965Z"
   },
   {
    "duration": 7,
    "start_time": "2022-04-17T14:32:19.155Z"
   },
   {
    "duration": 211,
    "start_time": "2022-04-17T14:32:19.164Z"
   },
   {
    "duration": 7,
    "start_time": "2022-04-17T14:32:19.377Z"
   },
   {
    "duration": 479,
    "start_time": "2022-04-17T14:32:19.386Z"
   },
   {
    "duration": 359,
    "start_time": "2022-04-17T14:32:19.867Z"
   },
   {
    "duration": 16,
    "start_time": "2022-04-17T14:32:20.228Z"
   },
   {
    "duration": 25,
    "start_time": "2022-04-17T14:32:20.246Z"
   },
   {
    "duration": 35,
    "start_time": "2022-04-17T14:32:20.273Z"
   },
   {
    "duration": 50,
    "start_time": "2022-04-17T14:32:20.310Z"
   },
   {
    "duration": 23,
    "start_time": "2022-04-17T14:32:20.363Z"
   },
   {
    "duration": 5,
    "start_time": "2022-04-17T14:36:34.158Z"
   },
   {
    "duration": 28,
    "start_time": "2022-04-17T14:38:30.954Z"
   },
   {
    "duration": 15,
    "start_time": "2022-04-17T14:38:44.917Z"
   },
   {
    "duration": 139,
    "start_time": "2022-04-17T14:39:17.962Z"
   },
   {
    "duration": 134,
    "start_time": "2022-04-17T14:39:27.197Z"
   },
   {
    "duration": 127,
    "start_time": "2022-04-17T14:39:42.396Z"
   },
   {
    "duration": 15,
    "start_time": "2022-04-17T14:40:30.523Z"
   },
   {
    "duration": 15,
    "start_time": "2022-04-17T14:40:37.748Z"
   },
   {
    "duration": 122,
    "start_time": "2022-04-17T14:41:40.285Z"
   },
   {
    "duration": 133,
    "start_time": "2022-04-17T14:41:47.012Z"
   },
   {
    "duration": 15,
    "start_time": "2022-04-17T14:42:06.763Z"
   },
   {
    "duration": 38,
    "start_time": "2022-04-17T14:42:29.230Z"
   },
   {
    "duration": 81,
    "start_time": "2022-04-17T14:51:37.368Z"
   },
   {
    "duration": 19,
    "start_time": "2022-04-17T14:52:27.632Z"
   },
   {
    "duration": 30,
    "start_time": "2022-04-17T14:55:21.689Z"
   },
   {
    "duration": 1483,
    "start_time": "2022-04-17T14:56:32.522Z"
   },
   {
    "duration": 45,
    "start_time": "2022-04-17T14:56:34.007Z"
   },
   {
    "duration": 15,
    "start_time": "2022-04-17T14:56:34.054Z"
   },
   {
    "duration": 96,
    "start_time": "2022-04-17T14:56:34.072Z"
   },
   {
    "duration": 41,
    "start_time": "2022-04-17T14:56:34.170Z"
   },
   {
    "duration": 16,
    "start_time": "2022-04-17T14:56:34.213Z"
   },
   {
    "duration": 25,
    "start_time": "2022-04-17T14:56:34.231Z"
   },
   {
    "duration": 8,
    "start_time": "2022-04-17T14:56:34.258Z"
   },
   {
    "duration": 15,
    "start_time": "2022-04-17T14:56:34.268Z"
   },
   {
    "duration": 40,
    "start_time": "2022-04-17T14:56:34.287Z"
   },
   {
    "duration": 17,
    "start_time": "2022-04-17T14:56:34.330Z"
   },
   {
    "duration": 23,
    "start_time": "2022-04-17T14:56:34.349Z"
   },
   {
    "duration": 19,
    "start_time": "2022-04-17T14:56:34.374Z"
   },
   {
    "duration": 33,
    "start_time": "2022-04-17T14:56:34.395Z"
   },
   {
    "duration": 17,
    "start_time": "2022-04-17T14:56:34.430Z"
   },
   {
    "duration": 17,
    "start_time": "2022-04-17T14:56:34.449Z"
   },
   {
    "duration": 15,
    "start_time": "2022-04-17T14:56:34.468Z"
   },
   {
    "duration": 344,
    "start_time": "2022-04-17T14:56:34.485Z"
   },
   {
    "duration": 236,
    "start_time": "2022-04-17T14:56:34.831Z"
   },
   {
    "duration": 15,
    "start_time": "2022-04-17T14:56:35.069Z"
   },
   {
    "duration": 460,
    "start_time": "2022-04-17T14:56:35.087Z"
   },
   {
    "duration": 309,
    "start_time": "2022-04-17T14:56:35.549Z"
   },
   {
    "duration": 446,
    "start_time": "2022-04-17T14:56:35.860Z"
   },
   {
    "duration": 31,
    "start_time": "2022-04-17T14:56:36.308Z"
   },
   {
    "duration": 29,
    "start_time": "2022-04-17T14:56:36.341Z"
   },
   {
    "duration": 362,
    "start_time": "2022-04-17T14:56:36.372Z"
   },
   {
    "duration": 471,
    "start_time": "2022-04-17T14:56:36.737Z"
   },
   {
    "duration": 24,
    "start_time": "2022-04-17T14:56:37.215Z"
   },
   {
    "duration": 238,
    "start_time": "2022-04-17T14:56:37.241Z"
   },
   {
    "duration": 269,
    "start_time": "2022-04-17T14:56:37.481Z"
   },
   {
    "duration": 8,
    "start_time": "2022-04-17T14:56:37.753Z"
   },
   {
    "duration": 417,
    "start_time": "2022-04-17T14:56:37.764Z"
   },
   {
    "duration": 8,
    "start_time": "2022-04-17T14:56:38.184Z"
   },
   {
    "duration": 390,
    "start_time": "2022-04-17T14:56:38.194Z"
   },
   {
    "duration": 364,
    "start_time": "2022-04-17T14:56:38.587Z"
   },
   {
    "duration": 16,
    "start_time": "2022-04-17T14:56:38.953Z"
   },
   {
    "duration": 15,
    "start_time": "2022-04-17T14:56:38.971Z"
   },
   {
    "duration": 44,
    "start_time": "2022-04-17T14:56:38.988Z"
   },
   {
    "duration": 34,
    "start_time": "2022-04-17T14:56:39.035Z"
   },
   {
    "duration": 23,
    "start_time": "2022-04-17T14:56:39.072Z"
   },
   {
    "duration": 31,
    "start_time": "2022-04-17T14:57:55.474Z"
   },
   {
    "duration": 209,
    "start_time": "2022-04-17T15:03:33.619Z"
   },
   {
    "duration": 12,
    "start_time": "2022-04-17T15:05:04.668Z"
   },
   {
    "duration": 301,
    "start_time": "2022-04-17T15:05:37.286Z"
   },
   {
    "duration": 254,
    "start_time": "2022-04-17T15:06:59.638Z"
   },
   {
    "duration": 237,
    "start_time": "2022-04-17T15:07:06.706Z"
   },
   {
    "duration": 232,
    "start_time": "2022-04-17T15:07:11.410Z"
   },
   {
    "duration": 391,
    "start_time": "2022-04-17T15:12:34.341Z"
   },
   {
    "duration": 297,
    "start_time": "2022-04-17T15:12:59.514Z"
   },
   {
    "duration": 1441,
    "start_time": "2022-04-17T15:21:40.953Z"
   },
   {
    "duration": 45,
    "start_time": "2022-04-17T15:21:42.397Z"
   },
   {
    "duration": 17,
    "start_time": "2022-04-17T15:21:42.445Z"
   },
   {
    "duration": 100,
    "start_time": "2022-04-17T15:21:42.466Z"
   },
   {
    "duration": 36,
    "start_time": "2022-04-17T15:21:42.569Z"
   },
   {
    "duration": 18,
    "start_time": "2022-04-17T15:21:42.607Z"
   },
   {
    "duration": 22,
    "start_time": "2022-04-17T15:21:42.627Z"
   },
   {
    "duration": 7,
    "start_time": "2022-04-17T15:21:42.651Z"
   },
   {
    "duration": 13,
    "start_time": "2022-04-17T15:21:42.661Z"
   },
   {
    "duration": 48,
    "start_time": "2022-04-17T15:21:42.678Z"
   },
   {
    "duration": 17,
    "start_time": "2022-04-17T15:21:42.728Z"
   },
   {
    "duration": 27,
    "start_time": "2022-04-17T15:21:42.747Z"
   },
   {
    "duration": 18,
    "start_time": "2022-04-17T15:21:42.776Z"
   },
   {
    "duration": 32,
    "start_time": "2022-04-17T15:21:42.796Z"
   },
   {
    "duration": 9,
    "start_time": "2022-04-17T15:21:42.830Z"
   },
   {
    "duration": 14,
    "start_time": "2022-04-17T15:21:42.841Z"
   },
   {
    "duration": 14,
    "start_time": "2022-04-17T15:21:42.857Z"
   },
   {
    "duration": 346,
    "start_time": "2022-04-17T15:21:42.873Z"
   },
   {
    "duration": 228,
    "start_time": "2022-04-17T15:21:43.221Z"
   },
   {
    "duration": 15,
    "start_time": "2022-04-17T15:21:43.451Z"
   },
   {
    "duration": 456,
    "start_time": "2022-04-17T15:21:43.468Z"
   },
   {
    "duration": 301,
    "start_time": "2022-04-17T15:21:43.926Z"
   },
   {
    "duration": 406,
    "start_time": "2022-04-17T15:21:44.229Z"
   },
   {
    "duration": 22,
    "start_time": "2022-04-17T15:21:44.637Z"
   },
   {
    "duration": 31,
    "start_time": "2022-04-17T15:21:44.661Z"
   },
   {
    "duration": 321,
    "start_time": "2022-04-17T15:21:44.724Z"
   },
   {
    "duration": 490,
    "start_time": "2022-04-17T15:21:45.048Z"
   },
   {
    "duration": 18,
    "start_time": "2022-04-17T15:21:45.545Z"
   },
   {
    "duration": 227,
    "start_time": "2022-04-17T15:21:45.566Z"
   },
   {
    "duration": 219,
    "start_time": "2022-04-17T15:21:45.796Z"
   },
   {
    "duration": 8,
    "start_time": "2022-04-17T15:21:46.025Z"
   },
   {
    "duration": 333,
    "start_time": "2022-04-17T15:21:46.037Z"
   },
   {
    "duration": 8,
    "start_time": "2022-04-17T15:21:46.372Z"
   },
   {
    "duration": 401,
    "start_time": "2022-04-17T15:21:46.382Z"
   },
   {
    "duration": 339,
    "start_time": "2022-04-17T15:21:46.786Z"
   },
   {
    "duration": 16,
    "start_time": "2022-04-17T15:21:47.127Z"
   },
   {
    "duration": 15,
    "start_time": "2022-04-17T15:21:47.145Z"
   },
   {
    "duration": 12,
    "start_time": "2022-04-17T15:21:47.162Z"
   },
   {
    "duration": 69,
    "start_time": "2022-04-17T15:21:47.176Z"
   },
   {
    "duration": 22,
    "start_time": "2022-04-17T15:21:47.247Z"
   },
   {
    "duration": 177,
    "start_time": "2022-04-17T15:21:47.271Z"
   },
   {
    "duration": 1613,
    "start_time": "2022-04-17T15:39:51.788Z"
   },
   {
    "duration": 42,
    "start_time": "2022-04-17T15:39:53.404Z"
   },
   {
    "duration": 17,
    "start_time": "2022-04-17T15:39:53.449Z"
   },
   {
    "duration": 112,
    "start_time": "2022-04-17T15:39:53.470Z"
   },
   {
    "duration": 33,
    "start_time": "2022-04-17T15:39:53.584Z"
   },
   {
    "duration": 16,
    "start_time": "2022-04-17T15:39:53.619Z"
   },
   {
    "duration": 21,
    "start_time": "2022-04-17T15:39:53.638Z"
   },
   {
    "duration": 6,
    "start_time": "2022-04-17T15:39:53.662Z"
   },
   {
    "duration": 13,
    "start_time": "2022-04-17T15:39:53.670Z"
   },
   {
    "duration": 48,
    "start_time": "2022-04-17T15:39:53.687Z"
   },
   {
    "duration": 17,
    "start_time": "2022-04-17T15:39:53.737Z"
   },
   {
    "duration": 24,
    "start_time": "2022-04-17T15:39:53.756Z"
   },
   {
    "duration": 44,
    "start_time": "2022-04-17T15:39:53.782Z"
   },
   {
    "duration": 11,
    "start_time": "2022-04-17T15:39:53.828Z"
   },
   {
    "duration": 9,
    "start_time": "2022-04-17T15:39:53.841Z"
   },
   {
    "duration": 19,
    "start_time": "2022-04-17T15:39:53.852Z"
   },
   {
    "duration": 15,
    "start_time": "2022-04-17T15:39:53.873Z"
   },
   {
    "duration": 363,
    "start_time": "2022-04-17T15:39:53.891Z"
   },
   {
    "duration": 228,
    "start_time": "2022-04-17T15:39:54.256Z"
   },
   {
    "duration": 20,
    "start_time": "2022-04-17T15:39:54.486Z"
   },
   {
    "duration": 452,
    "start_time": "2022-04-17T15:39:54.526Z"
   },
   {
    "duration": 309,
    "start_time": "2022-04-17T15:39:54.981Z"
   },
   {
    "duration": 430,
    "start_time": "2022-04-17T15:39:55.292Z"
   },
   {
    "duration": 23,
    "start_time": "2022-04-17T15:39:55.725Z"
   },
   {
    "duration": 72,
    "start_time": "2022-04-17T15:39:55.751Z"
   },
   {
    "duration": 342,
    "start_time": "2022-04-17T15:39:55.826Z"
   },
   {
    "duration": 474,
    "start_time": "2022-04-17T15:39:56.170Z"
   },
   {
    "duration": 15,
    "start_time": "2022-04-17T15:39:56.649Z"
   },
   {
    "duration": 223,
    "start_time": "2022-04-17T15:39:56.666Z"
   },
   {
    "duration": 217,
    "start_time": "2022-04-17T15:39:56.892Z"
   },
   {
    "duration": 14,
    "start_time": "2022-04-17T15:39:57.111Z"
   },
   {
    "duration": 328,
    "start_time": "2022-04-17T15:39:57.128Z"
   },
   {
    "duration": 9,
    "start_time": "2022-04-17T15:39:57.458Z"
   },
   {
    "duration": 396,
    "start_time": "2022-04-17T15:39:57.470Z"
   },
   {
    "duration": 289,
    "start_time": "2022-04-17T15:39:57.868Z"
   },
   {
    "duration": 16,
    "start_time": "2022-04-17T15:39:58.159Z"
   },
   {
    "duration": 46,
    "start_time": "2022-04-17T15:39:58.178Z"
   },
   {
    "duration": 13,
    "start_time": "2022-04-17T15:39:58.226Z"
   },
   {
    "duration": 36,
    "start_time": "2022-04-17T15:39:58.241Z"
   },
   {
    "duration": 54,
    "start_time": "2022-04-17T15:39:58.279Z"
   },
   {
    "duration": 124,
    "start_time": "2022-04-17T15:39:58.336Z"
   },
   {
    "duration": 1482,
    "start_time": "2022-04-17T15:41:23.630Z"
   },
   {
    "duration": 39,
    "start_time": "2022-04-17T15:41:25.115Z"
   },
   {
    "duration": 15,
    "start_time": "2022-04-17T15:41:25.157Z"
   },
   {
    "duration": 107,
    "start_time": "2022-04-17T15:41:25.174Z"
   },
   {
    "duration": 33,
    "start_time": "2022-04-17T15:41:25.283Z"
   },
   {
    "duration": 16,
    "start_time": "2022-04-17T15:41:25.318Z"
   },
   {
    "duration": 24,
    "start_time": "2022-04-17T15:41:25.336Z"
   },
   {
    "duration": 9,
    "start_time": "2022-04-17T15:41:25.362Z"
   },
   {
    "duration": 23,
    "start_time": "2022-04-17T15:41:25.373Z"
   },
   {
    "duration": 35,
    "start_time": "2022-04-17T15:41:25.400Z"
   },
   {
    "duration": 19,
    "start_time": "2022-04-17T15:41:25.437Z"
   },
   {
    "duration": 24,
    "start_time": "2022-04-17T15:41:25.458Z"
   },
   {
    "duration": 42,
    "start_time": "2022-04-17T15:41:25.484Z"
   },
   {
    "duration": 15,
    "start_time": "2022-04-17T15:41:25.528Z"
   },
   {
    "duration": 12,
    "start_time": "2022-04-17T15:41:25.546Z"
   },
   {
    "duration": 20,
    "start_time": "2022-04-17T15:41:25.560Z"
   },
   {
    "duration": 15,
    "start_time": "2022-04-17T15:41:25.582Z"
   },
   {
    "duration": 351,
    "start_time": "2022-04-17T15:41:25.599Z"
   },
   {
    "duration": 232,
    "start_time": "2022-04-17T15:41:25.953Z"
   },
   {
    "duration": 19,
    "start_time": "2022-04-17T15:41:26.187Z"
   },
   {
    "duration": 447,
    "start_time": "2022-04-17T15:41:26.225Z"
   },
   {
    "duration": 310,
    "start_time": "2022-04-17T15:41:26.675Z"
   },
   {
    "duration": 456,
    "start_time": "2022-04-17T15:41:26.987Z"
   },
   {
    "duration": 21,
    "start_time": "2022-04-17T15:41:27.446Z"
   },
   {
    "duration": 32,
    "start_time": "2022-04-17T15:41:27.469Z"
   },
   {
    "duration": 343,
    "start_time": "2022-04-17T15:41:27.524Z"
   },
   {
    "duration": 501,
    "start_time": "2022-04-17T15:41:27.870Z"
   },
   {
    "duration": 17,
    "start_time": "2022-04-17T15:41:28.376Z"
   },
   {
    "duration": 229,
    "start_time": "2022-04-17T15:41:28.395Z"
   },
   {
    "duration": 216,
    "start_time": "2022-04-17T15:41:28.626Z"
   },
   {
    "duration": 8,
    "start_time": "2022-04-17T15:41:28.844Z"
   },
   {
    "duration": 339,
    "start_time": "2022-04-17T15:41:28.855Z"
   },
   {
    "duration": 9,
    "start_time": "2022-04-17T15:41:29.197Z"
   },
   {
    "duration": 413,
    "start_time": "2022-04-17T15:41:29.208Z"
   },
   {
    "duration": 311,
    "start_time": "2022-04-17T15:41:29.624Z"
   },
   {
    "duration": 19,
    "start_time": "2022-04-17T15:41:29.937Z"
   },
   {
    "duration": 15,
    "start_time": "2022-04-17T15:41:29.959Z"
   },
   {
    "duration": 50,
    "start_time": "2022-04-17T15:41:29.976Z"
   },
   {
    "duration": 42,
    "start_time": "2022-04-17T15:41:30.029Z"
   },
   {
    "duration": 24,
    "start_time": "2022-04-17T15:41:30.073Z"
   },
   {
    "duration": 1123,
    "start_time": "2022-04-18T11:06:44.083Z"
   },
   {
    "duration": 35,
    "start_time": "2022-04-18T11:06:45.208Z"
   },
   {
    "duration": 11,
    "start_time": "2022-04-18T11:06:45.245Z"
   },
   {
    "duration": 54,
    "start_time": "2022-04-18T11:06:45.258Z"
   },
   {
    "duration": 47,
    "start_time": "2022-04-18T11:06:45.313Z"
   },
   {
    "duration": 12,
    "start_time": "2022-04-18T11:06:45.361Z"
   },
   {
    "duration": 17,
    "start_time": "2022-04-18T11:06:45.374Z"
   },
   {
    "duration": 6,
    "start_time": "2022-04-18T11:06:45.392Z"
   },
   {
    "duration": 11,
    "start_time": "2022-04-18T11:06:45.400Z"
   },
   {
    "duration": 22,
    "start_time": "2022-04-18T11:06:45.414Z"
   },
   {
    "duration": 14,
    "start_time": "2022-04-18T11:06:45.438Z"
   },
   {
    "duration": 16,
    "start_time": "2022-04-18T11:06:45.454Z"
   },
   {
    "duration": 16,
    "start_time": "2022-04-18T11:06:45.472Z"
   },
   {
    "duration": 9,
    "start_time": "2022-04-18T11:06:45.490Z"
   },
   {
    "duration": 9,
    "start_time": "2022-04-18T11:06:45.501Z"
   },
   {
    "duration": 29,
    "start_time": "2022-04-18T11:06:45.512Z"
   },
   {
    "duration": 14,
    "start_time": "2022-04-18T11:06:45.543Z"
   },
   {
    "duration": 209,
    "start_time": "2022-04-18T11:06:45.559Z"
   },
   {
    "duration": 129,
    "start_time": "2022-04-18T11:06:45.770Z"
   },
   {
    "duration": 13,
    "start_time": "2022-04-18T11:06:45.901Z"
   },
   {
    "duration": 302,
    "start_time": "2022-04-18T11:06:45.916Z"
   },
   {
    "duration": 200,
    "start_time": "2022-04-18T11:06:46.219Z"
   },
   {
    "duration": 332,
    "start_time": "2022-04-18T11:06:46.421Z"
   },
   {
    "duration": 14,
    "start_time": "2022-04-18T11:06:46.754Z"
   },
   {
    "duration": 20,
    "start_time": "2022-04-18T11:06:46.770Z"
   },
   {
    "duration": 237,
    "start_time": "2022-04-18T11:06:46.792Z"
   },
   {
    "duration": 341,
    "start_time": "2022-04-18T11:06:47.031Z"
   },
   {
    "duration": 12,
    "start_time": "2022-04-18T11:06:47.375Z"
   },
   {
    "duration": 151,
    "start_time": "2022-04-18T11:06:47.388Z"
   },
   {
    "duration": 148,
    "start_time": "2022-04-18T11:06:47.541Z"
   },
   {
    "duration": 5,
    "start_time": "2022-04-18T11:06:47.690Z"
   },
   {
    "duration": 237,
    "start_time": "2022-04-18T11:06:47.697Z"
   },
   {
    "duration": 4,
    "start_time": "2022-04-18T11:06:47.936Z"
   },
   {
    "duration": 247,
    "start_time": "2022-04-18T11:06:47.942Z"
   },
   {
    "duration": 174,
    "start_time": "2022-04-18T11:06:48.191Z"
   },
   {
    "duration": 13,
    "start_time": "2022-04-18T11:06:48.367Z"
   },
   {
    "duration": 11,
    "start_time": "2022-04-18T11:06:48.382Z"
   },
   {
    "duration": 39,
    "start_time": "2022-04-18T11:06:48.395Z"
   },
   {
    "duration": 27,
    "start_time": "2022-04-18T11:06:48.436Z"
   },
   {
    "duration": 15,
    "start_time": "2022-04-18T11:06:48.465Z"
   },
   {
    "duration": 1417,
    "start_time": "2022-08-20T19:22:35.099Z"
   },
   {
    "duration": 124,
    "start_time": "2022-08-20T19:22:36.518Z"
   },
   {
    "duration": 11,
    "start_time": "2022-08-20T19:22:36.644Z"
   },
   {
    "duration": 79,
    "start_time": "2022-08-20T19:22:36.660Z"
   },
   {
    "duration": 178,
    "start_time": "2022-08-20T19:22:36.741Z"
   },
   {
    "duration": 16,
    "start_time": "2022-08-20T19:22:36.921Z"
   },
   {
    "duration": 25,
    "start_time": "2022-08-20T19:22:36.939Z"
   },
   {
    "duration": 30,
    "start_time": "2022-08-20T19:22:36.966Z"
   },
   {
    "duration": 12,
    "start_time": "2022-08-20T19:22:36.997Z"
   },
   {
    "duration": 17,
    "start_time": "2022-08-20T19:22:37.011Z"
   },
   {
    "duration": 15,
    "start_time": "2022-08-20T19:22:37.030Z"
   },
   {
    "duration": 19,
    "start_time": "2022-08-20T19:22:37.047Z"
   },
   {
    "duration": 42,
    "start_time": "2022-08-20T19:22:37.068Z"
   },
   {
    "duration": 8,
    "start_time": "2022-08-20T19:22:37.112Z"
   },
   {
    "duration": 6,
    "start_time": "2022-08-20T19:22:37.121Z"
   },
   {
    "duration": 40,
    "start_time": "2022-08-20T19:22:37.129Z"
   },
   {
    "duration": 49,
    "start_time": "2022-08-20T19:22:37.170Z"
   },
   {
    "duration": 298,
    "start_time": "2022-08-20T19:22:37.221Z"
   },
   {
    "duration": 143,
    "start_time": "2022-08-20T19:22:37.520Z"
   },
   {
    "duration": 16,
    "start_time": "2022-08-20T19:22:37.673Z"
   },
   {
    "duration": 278,
    "start_time": "2022-08-20T19:22:37.691Z"
   },
   {
    "duration": 261,
    "start_time": "2022-08-20T19:22:37.973Z"
   },
   {
    "duration": 419,
    "start_time": "2022-08-20T19:22:38.236Z"
   },
   {
    "duration": 35,
    "start_time": "2022-08-20T19:22:38.657Z"
   },
   {
    "duration": 33,
    "start_time": "2022-08-20T19:22:38.694Z"
   },
   {
    "duration": 227,
    "start_time": "2022-08-20T19:22:38.729Z"
   },
   {
    "duration": 376,
    "start_time": "2022-08-20T19:22:38.963Z"
   },
   {
    "duration": 23,
    "start_time": "2022-08-20T19:22:39.343Z"
   },
   {
    "duration": 189,
    "start_time": "2022-08-20T19:22:39.367Z"
   },
   {
    "duration": 157,
    "start_time": "2022-08-20T19:22:39.561Z"
   },
   {
    "duration": 6,
    "start_time": "2022-08-20T19:22:39.721Z"
   },
   {
    "duration": 286,
    "start_time": "2022-08-20T19:22:39.729Z"
   },
   {
    "duration": 6,
    "start_time": "2022-08-20T19:22:40.017Z"
   },
   {
    "duration": 269,
    "start_time": "2022-08-20T19:22:40.025Z"
   },
   {
    "duration": 227,
    "start_time": "2022-08-20T19:22:40.301Z"
   },
   {
    "duration": 13,
    "start_time": "2022-08-20T19:22:40.530Z"
   },
   {
    "duration": 48,
    "start_time": "2022-08-20T19:22:40.545Z"
   },
   {
    "duration": 23,
    "start_time": "2022-08-20T19:22:40.595Z"
   },
   {
    "duration": 30,
    "start_time": "2022-08-20T19:22:40.621Z"
   },
   {
    "duration": 18,
    "start_time": "2022-08-20T19:22:40.652Z"
   },
   {
    "duration": 1114,
    "start_time": "2022-08-20T19:23:10.738Z"
   },
   {
    "duration": 55,
    "start_time": "2022-08-20T19:23:11.854Z"
   },
   {
    "duration": 10,
    "start_time": "2022-08-20T19:23:11.911Z"
   },
   {
    "duration": 65,
    "start_time": "2022-08-20T19:23:11.923Z"
   },
   {
    "duration": 55,
    "start_time": "2022-08-20T19:23:11.992Z"
   },
   {
    "duration": 15,
    "start_time": "2022-08-20T19:23:12.048Z"
   },
   {
    "duration": 44,
    "start_time": "2022-08-20T19:23:12.065Z"
   },
   {
    "duration": 8,
    "start_time": "2022-08-20T19:23:12.111Z"
   },
   {
    "duration": 18,
    "start_time": "2022-08-20T19:23:12.121Z"
   },
   {
    "duration": 13,
    "start_time": "2022-08-20T19:23:12.141Z"
   },
   {
    "duration": 47,
    "start_time": "2022-08-20T19:23:12.155Z"
   },
   {
    "duration": 19,
    "start_time": "2022-08-20T19:23:12.203Z"
   },
   {
    "duration": 17,
    "start_time": "2022-08-20T19:23:12.224Z"
   },
   {
    "duration": 11,
    "start_time": "2022-08-20T19:23:12.243Z"
   },
   {
    "duration": 43,
    "start_time": "2022-08-20T19:23:12.256Z"
   },
   {
    "duration": 11,
    "start_time": "2022-08-20T19:23:12.301Z"
   },
   {
    "duration": 12,
    "start_time": "2022-08-20T19:23:12.314Z"
   },
   {
    "duration": 245,
    "start_time": "2022-08-20T19:23:12.328Z"
   },
   {
    "duration": 147,
    "start_time": "2022-08-20T19:23:12.574Z"
   },
   {
    "duration": 17,
    "start_time": "2022-08-20T19:23:12.723Z"
   },
   {
    "duration": 285,
    "start_time": "2022-08-20T19:23:12.742Z"
   },
   {
    "duration": 203,
    "start_time": "2022-08-20T19:23:13.029Z"
   },
   {
    "duration": 306,
    "start_time": "2022-08-20T19:23:13.234Z"
   },
   {
    "duration": 28,
    "start_time": "2022-08-20T19:23:13.543Z"
   },
   {
    "duration": 27,
    "start_time": "2022-08-20T19:23:13.575Z"
   },
   {
    "duration": 216,
    "start_time": "2022-08-20T19:23:13.604Z"
   },
   {
    "duration": 366,
    "start_time": "2022-08-20T19:23:13.822Z"
   },
   {
    "duration": 13,
    "start_time": "2022-08-20T19:23:14.191Z"
   },
   {
    "duration": 141,
    "start_time": "2022-08-20T19:23:14.206Z"
   },
   {
    "duration": 161,
    "start_time": "2022-08-20T19:23:14.349Z"
   },
   {
    "duration": 6,
    "start_time": "2022-08-20T19:23:14.511Z"
   },
   {
    "duration": 248,
    "start_time": "2022-08-20T19:23:14.519Z"
   },
   {
    "duration": 10,
    "start_time": "2022-08-20T19:23:14.770Z"
   },
   {
    "duration": 243,
    "start_time": "2022-08-20T19:23:14.782Z"
   },
   {
    "duration": 178,
    "start_time": "2022-08-20T19:23:15.027Z"
   },
   {
    "duration": 11,
    "start_time": "2022-08-20T19:23:15.206Z"
   },
   {
    "duration": 11,
    "start_time": "2022-08-20T19:23:15.218Z"
   },
   {
    "duration": 20,
    "start_time": "2022-08-20T19:23:15.263Z"
   },
   {
    "duration": 46,
    "start_time": "2022-08-20T19:23:15.291Z"
   },
   {
    "duration": 15,
    "start_time": "2022-08-20T19:23:15.339Z"
   }
  ],
  "kernelspec": {
   "display_name": "Python 3 (ipykernel)",
   "language": "python",
   "name": "python3"
  },
  "language_info": {
   "codemirror_mode": {
    "name": "ipython",
    "version": 3
   },
   "file_extension": ".py",
   "mimetype": "text/x-python",
   "name": "python",
   "nbconvert_exporter": "python",
   "pygments_lexer": "ipython3",
   "version": "3.9.5"
  },
  "toc": {
   "base_numbering": 1,
   "nav_menu": {},
   "number_sections": true,
   "sideBar": true,
   "skip_h1_title": true,
   "title_cell": "Table of Contents",
   "title_sidebar": "Contents",
   "toc_cell": false,
   "toc_position": {
    "height": "calc(100% - 180px)",
    "left": "10px",
    "top": "150px",
    "width": "223.91px"
   },
   "toc_section_display": true,
   "toc_window_display": true
  }
 },
 "nbformat": 4,
 "nbformat_minor": 2
}
