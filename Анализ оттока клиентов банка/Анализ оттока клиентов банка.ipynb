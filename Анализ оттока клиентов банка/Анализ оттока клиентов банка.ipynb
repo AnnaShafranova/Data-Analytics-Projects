{
 "cells": [
  {
   "cell_type": "markdown",
   "metadata": {
    "toc": true
   },
   "source": [
    "<h1>Table of Contents<span class=\"tocSkip\"></span></h1>\n",
    "<div class=\"toc\"><ul class=\"toc-item\"><li><span><a href=\"#Шаг-1.-Загрузим-данные-и-подготовим-их-к-анализу-(предобработка-данных)\" data-toc-modified-id=\"Шаг-1.-Загрузим-данные-и-подготовим-их-к-анализу-(предобработка-данных)-1\"><span class=\"toc-item-num\">1&nbsp;&nbsp;</span>Шаг 1. Загрузим данные и подготовим их к анализу (предобработка данных)</a></span><ul class=\"toc-item\"><li><span><a href=\"#Заменим-названия-столбцов\" data-toc-modified-id=\"Заменим-названия-столбцов-1.1\"><span class=\"toc-item-num\">1.1&nbsp;&nbsp;</span>Заменим названия столбцов</a></span></li><li><span><a href=\"#Преобразуем-данные-в-нужные-типы\" data-toc-modified-id=\"Преобразуем-данные-в-нужные-типы-1.2\"><span class=\"toc-item-num\">1.2&nbsp;&nbsp;</span>Преобразуем данные в нужные типы</a></span></li><li><span><a href=\"#Обработаем-пропуски\" data-toc-modified-id=\"Обработаем-пропуски-1.3\"><span class=\"toc-item-num\">1.3&nbsp;&nbsp;</span>Обработаем пропуски</a></span></li></ul></li><li><span><a href=\"#Шаг-2.-Проведем-исследовательский-анализ-данных-(EDA)\" data-toc-modified-id=\"Шаг-2.-Проведем-исследовательский-анализ-данных-(EDA)-2\"><span class=\"toc-item-num\">2&nbsp;&nbsp;</span>Шаг 2. Проведем исследовательский анализ данных (EDA)</a></span><ul class=\"toc-item\"><li><span><a href=\"#Посмотрим-на-средние-значения-и-стандартные-отклонения-в-данных\" data-toc-modified-id=\"Посмотрим-на-средние-значения-и-стандартные-отклонения-в-данных-2.1\"><span class=\"toc-item-num\">2.1&nbsp;&nbsp;</span>Посмотрим на средние значения и стандартные отклонения в данных</a></span></li><li><span><a href=\"#Посмотрим-распределения-признаков-для-тех-кто-ушел-в-отток\" data-toc-modified-id=\"Посмотрим-распределения-признаков-для-тех-кто-ушел-в-отток-2.2\"><span class=\"toc-item-num\">2.2&nbsp;&nbsp;</span>Посмотрим распределения признаков для тех кто ушел в отток</a></span></li><li><span><a href=\"#Посмотрим-на-средние-значения-признаков-в-двух-группах-—-тех,-кто-ушел-в-отток-и-тех,-кто-остался\" data-toc-modified-id=\"Посмотрим-на-средние-значения-признаков-в-двух-группах-—-тех,-кто-ушел-в-отток-и-тех,-кто-остался-2.3\"><span class=\"toc-item-num\">2.3&nbsp;&nbsp;</span>Посмотрим на средние значения признаков в двух группах — тех, кто ушел в отток и тех, кто остался</a></span></li><li><span><a href=\"#Построим-столбчатые-гистограммы-и-распределения-признаков-для-тех,-кто-ушёл-(отток)-и-тех,-кто-остался-(не-попали-в-отток)\" data-toc-modified-id=\"Построим-столбчатые-гистограммы-и-распределения-признаков-для-тех,-кто-ушёл-(отток)-и-тех,-кто-остался-(не-попали-в-отток)-2.4\"><span class=\"toc-item-num\">2.4&nbsp;&nbsp;</span>Построим столбчатые гистограммы и распределения признаков для тех, кто ушёл (отток) и тех, кто остался (не попали в отток)</a></span></li><li><span><a href=\"#Построим-матрицу-корреляций-и-отобразим-её\" data-toc-modified-id=\"Построим-матрицу-корреляций-и-отобразим-её-2.5\"><span class=\"toc-item-num\">2.5&nbsp;&nbsp;</span>Построим матрицу корреляций и отобразим её</a></span></li></ul></li><li><span><a href=\"#Шаг-3.-Сегментируем-пользователей-на-основе-данных-о-количестве-потребляемых-продуктов\" data-toc-modified-id=\"Шаг-3.-Сегментируем-пользователей-на-основе-данных-о-количестве-потребляемых-продуктов-3\"><span class=\"toc-item-num\">3&nbsp;&nbsp;</span>Шаг 3. Сегментируем пользователей на основе данных о количестве потребляемых продуктов</a></span><ul class=\"toc-item\"><li><span><a href=\"#Выделим-портреты-клиентов,-которые-склонны-уходить-из-банка\" data-toc-modified-id=\"Выделим-портреты-клиентов,-которые-склонны-уходить-из-банка-3.1\"><span class=\"toc-item-num\">3.1&nbsp;&nbsp;</span>Выделим портреты клиентов, которые склонны уходить из банка</a></span></li></ul></li><li><span><a href=\"#Шаг-4.-Сформируем-и-проверим-статистические-гипотезы\" data-toc-modified-id=\"Шаг-4.-Сформируем-и-проверим-статистические-гипотезы-4\"><span class=\"toc-item-num\">4&nbsp;&nbsp;</span>Шаг 4. Сформируем и проверим статистические гипотезы</a></span><ul class=\"toc-item\"><li><span><a href=\"#Первая-гипотеза---есть-различия-дохода-между-теми-клиентами,-которые-ушли-и-теми,-которые-остались\" data-toc-modified-id=\"Первая-гипотеза---есть-различия-дохода-между-теми-клиентами,-которые-ушли-и-теми,-которые-остались-4.1\"><span class=\"toc-item-num\">4.1&nbsp;&nbsp;</span>Первая гипотеза - есть различия дохода между теми клиентами, которые ушли и теми, которые остались</a></span></li><li><span><a href=\"#Вторая-гипотеза---есть-различия-в-возрасте-между-теми-клиентами,-которые-ушли-и-теми,-которые-остались\" data-toc-modified-id=\"Вторая-гипотеза---есть-различия-в-возрасте-между-теми-клиентами,-которые-ушли-и-теми,-которые-остались-4.2\"><span class=\"toc-item-num\">4.2&nbsp;&nbsp;</span>Вторая гипотеза - есть различия в возрасте между теми клиентами, которые ушли и теми, которые остались</a></span></li></ul></li><li><span><a href=\"#Шаг-7.-Сформулируем-выводы-и-сделаем-базовые-рекомендации-по-работе-с-клиентами\" data-toc-modified-id=\"Шаг-7.-Сформулируем-выводы-и-сделаем-базовые-рекомендации-по-работе-с-клиентами-5\"><span class=\"toc-item-num\">5&nbsp;&nbsp;</span>Шаг 7. Сформулируем выводы и сделаем базовые рекомендации по работе с клиентами</a></span></li></ul></div>"
   ]
  },
  {
   "cell_type": "markdown",
   "metadata": {},
   "source": [
    "# Проект - Банки — Анализ оттока клиентов"
   ]
  },
  {
   "cell_type": "markdown",
   "metadata": {},
   "source": [
    "**Задача**\n",
    "\n",
    "Проанализировать клиентов регионального банка.\n",
    "\n",
    "**Цель**\n",
    "\n",
    "Выделить портрет клиентов, которые склонны уходить из банка."
   ]
  },
  {
   "cell_type": "markdown",
   "metadata": {},
   "source": [
    "## Шаг 1. Загрузим данные и подготовим их к анализу (предобработка данных)"
   ]
  },
  {
   "cell_type": "code",
   "execution_count": 1,
   "metadata": {},
   "outputs": [],
   "source": [
    "import pandas as pd\n",
    "import seaborn as sns\n",
    "import matplotlib.pyplot as plt\n",
    "import numpy as np\n",
    "import scipy.stats as st\n",
    "from functools import reduce\n",
    "from scipy import stats as st\n",
    "import matplotlib.pyplot as plt \n",
    "import matplotlib as mlp"
   ]
  },
  {
   "cell_type": "code",
   "execution_count": 2,
   "metadata": {},
   "outputs": [],
   "source": [
    "from sklearn.preprocessing import StandardScaler"
   ]
  },
  {
   "cell_type": "code",
   "execution_count": 3,
   "metadata": {},
   "outputs": [],
   "source": [
    "pd.options.display.float_format = '{:,.2f}'.format"
   ]
  },
  {
   "cell_type": "code",
   "execution_count": 4,
   "metadata": {},
   "outputs": [],
   "source": [
    "df = pd.read_csv('https://code.s3.yandex.net/datasets/bank_dataset.csv')"
   ]
  },
  {
   "cell_type": "code",
   "execution_count": 5,
   "metadata": {},
   "outputs": [],
   "source": [
    "def info_df (data_frame):\n",
    "    display (data_frame.head(10))\n",
    "    display (data_frame.info())\n",
    "    display (data_frame.describe())\n",
    "    display (data_frame.isna().mean())"
   ]
  },
  {
   "cell_type": "code",
   "execution_count": 6,
   "metadata": {},
   "outputs": [
    {
     "data": {
      "text/html": [
       "<div>\n",
       "<style scoped>\n",
       "    .dataframe tbody tr th:only-of-type {\n",
       "        vertical-align: middle;\n",
       "    }\n",
       "\n",
       "    .dataframe tbody tr th {\n",
       "        vertical-align: top;\n",
       "    }\n",
       "\n",
       "    .dataframe thead th {\n",
       "        text-align: right;\n",
       "    }\n",
       "</style>\n",
       "<table border=\"1\" class=\"dataframe\">\n",
       "  <thead>\n",
       "    <tr style=\"text-align: right;\">\n",
       "      <th></th>\n",
       "      <th>userid</th>\n",
       "      <th>score</th>\n",
       "      <th>City</th>\n",
       "      <th>Gender</th>\n",
       "      <th>Age</th>\n",
       "      <th>Objects</th>\n",
       "      <th>Balance</th>\n",
       "      <th>Products</th>\n",
       "      <th>CreditCard</th>\n",
       "      <th>Loyalty</th>\n",
       "      <th>estimated_salary</th>\n",
       "      <th>Churn</th>\n",
       "    </tr>\n",
       "  </thead>\n",
       "  <tbody>\n",
       "    <tr>\n",
       "      <th>0</th>\n",
       "      <td>15677338</td>\n",
       "      <td>619</td>\n",
       "      <td>Ярославль</td>\n",
       "      <td>Ж</td>\n",
       "      <td>42</td>\n",
       "      <td>2</td>\n",
       "      <td>NaN</td>\n",
       "      <td>1</td>\n",
       "      <td>1</td>\n",
       "      <td>1</td>\n",
       "      <td>101,348.88</td>\n",
       "      <td>1</td>\n",
       "    </tr>\n",
       "    <tr>\n",
       "      <th>1</th>\n",
       "      <td>15690047</td>\n",
       "      <td>608</td>\n",
       "      <td>Рыбинск</td>\n",
       "      <td>Ж</td>\n",
       "      <td>41</td>\n",
       "      <td>1</td>\n",
       "      <td>83,807.86</td>\n",
       "      <td>1</td>\n",
       "      <td>0</td>\n",
       "      <td>1</td>\n",
       "      <td>112,542.58</td>\n",
       "      <td>0</td>\n",
       "    </tr>\n",
       "    <tr>\n",
       "      <th>2</th>\n",
       "      <td>15662040</td>\n",
       "      <td>502</td>\n",
       "      <td>Ярославль</td>\n",
       "      <td>Ж</td>\n",
       "      <td>42</td>\n",
       "      <td>8</td>\n",
       "      <td>159,660.80</td>\n",
       "      <td>3</td>\n",
       "      <td>1</td>\n",
       "      <td>0</td>\n",
       "      <td>113,931.57</td>\n",
       "      <td>1</td>\n",
       "    </tr>\n",
       "    <tr>\n",
       "      <th>3</th>\n",
       "      <td>15744090</td>\n",
       "      <td>699</td>\n",
       "      <td>Ярославль</td>\n",
       "      <td>Ж</td>\n",
       "      <td>39</td>\n",
       "      <td>1</td>\n",
       "      <td>NaN</td>\n",
       "      <td>2</td>\n",
       "      <td>0</td>\n",
       "      <td>0</td>\n",
       "      <td>93,826.63</td>\n",
       "      <td>0</td>\n",
       "    </tr>\n",
       "    <tr>\n",
       "      <th>4</th>\n",
       "      <td>15780624</td>\n",
       "      <td>850</td>\n",
       "      <td>Рыбинск</td>\n",
       "      <td>Ж</td>\n",
       "      <td>43</td>\n",
       "      <td>2</td>\n",
       "      <td>125,510.82</td>\n",
       "      <td>1</td>\n",
       "      <td>1</td>\n",
       "      <td>1</td>\n",
       "      <td>79,084.10</td>\n",
       "      <td>0</td>\n",
       "    </tr>\n",
       "    <tr>\n",
       "      <th>5</th>\n",
       "      <td>15616748</td>\n",
       "      <td>645</td>\n",
       "      <td>Рыбинск</td>\n",
       "      <td>М</td>\n",
       "      <td>44</td>\n",
       "      <td>8</td>\n",
       "      <td>113,755.78</td>\n",
       "      <td>2</td>\n",
       "      <td>1</td>\n",
       "      <td>0</td>\n",
       "      <td>149,756.71</td>\n",
       "      <td>1</td>\n",
       "    </tr>\n",
       "    <tr>\n",
       "      <th>6</th>\n",
       "      <td>15635267</td>\n",
       "      <td>822</td>\n",
       "      <td>Ярославль</td>\n",
       "      <td>М</td>\n",
       "      <td>50</td>\n",
       "      <td>7</td>\n",
       "      <td>NaN</td>\n",
       "      <td>2</td>\n",
       "      <td>1</td>\n",
       "      <td>1</td>\n",
       "      <td>10,062.80</td>\n",
       "      <td>0</td>\n",
       "    </tr>\n",
       "    <tr>\n",
       "      <th>7</th>\n",
       "      <td>15698884</td>\n",
       "      <td>376</td>\n",
       "      <td>Ростов Великий</td>\n",
       "      <td>Ж</td>\n",
       "      <td>29</td>\n",
       "      <td>4</td>\n",
       "      <td>115,046.74</td>\n",
       "      <td>4</td>\n",
       "      <td>1</td>\n",
       "      <td>0</td>\n",
       "      <td>119,346.88</td>\n",
       "      <td>1</td>\n",
       "    </tr>\n",
       "    <tr>\n",
       "      <th>8</th>\n",
       "      <td>15835101</td>\n",
       "      <td>501</td>\n",
       "      <td>Ярославль</td>\n",
       "      <td>М</td>\n",
       "      <td>44</td>\n",
       "      <td>4</td>\n",
       "      <td>142,051.07</td>\n",
       "      <td>2</td>\n",
       "      <td>0</td>\n",
       "      <td>1</td>\n",
       "      <td>74,940.50</td>\n",
       "      <td>0</td>\n",
       "    </tr>\n",
       "    <tr>\n",
       "      <th>9</th>\n",
       "      <td>15635125</td>\n",
       "      <td>684</td>\n",
       "      <td>Ярославль</td>\n",
       "      <td>М</td>\n",
       "      <td>27</td>\n",
       "      <td>2</td>\n",
       "      <td>134,603.88</td>\n",
       "      <td>1</td>\n",
       "      <td>1</td>\n",
       "      <td>1</td>\n",
       "      <td>71,725.73</td>\n",
       "      <td>0</td>\n",
       "    </tr>\n",
       "  </tbody>\n",
       "</table>\n",
       "</div>"
      ],
      "text/plain": [
       "     userid  score            City Gender  Age  Objects    Balance  Products  \\\n",
       "0  15677338    619       Ярославль      Ж   42        2        NaN         1   \n",
       "1  15690047    608         Рыбинск      Ж   41        1  83,807.86         1   \n",
       "2  15662040    502       Ярославль      Ж   42        8 159,660.80         3   \n",
       "3  15744090    699       Ярославль      Ж   39        1        NaN         2   \n",
       "4  15780624    850         Рыбинск      Ж   43        2 125,510.82         1   \n",
       "5  15616748    645         Рыбинск      М   44        8 113,755.78         2   \n",
       "6  15635267    822       Ярославль      М   50        7        NaN         2   \n",
       "7  15698884    376  Ростов Великий      Ж   29        4 115,046.74         4   \n",
       "8  15835101    501       Ярославль      М   44        4 142,051.07         2   \n",
       "9  15635125    684       Ярославль      М   27        2 134,603.88         1   \n",
       "\n",
       "   CreditCard  Loyalty  estimated_salary  Churn  \n",
       "0           1        1        101,348.88      1  \n",
       "1           0        1        112,542.58      0  \n",
       "2           1        0        113,931.57      1  \n",
       "3           0        0         93,826.63      0  \n",
       "4           1        1         79,084.10      0  \n",
       "5           1        0        149,756.71      1  \n",
       "6           1        1         10,062.80      0  \n",
       "7           1        0        119,346.88      1  \n",
       "8           0        1         74,940.50      0  \n",
       "9           1        1         71,725.73      0  "
      ]
     },
     "metadata": {},
     "output_type": "display_data"
    },
    {
     "name": "stdout",
     "output_type": "stream",
     "text": [
      "<class 'pandas.core.frame.DataFrame'>\n",
      "RangeIndex: 10000 entries, 0 to 9999\n",
      "Data columns (total 12 columns):\n",
      " #   Column            Non-Null Count  Dtype  \n",
      "---  ------            --------------  -----  \n",
      " 0   userid            10000 non-null  int64  \n",
      " 1   score             10000 non-null  int64  \n",
      " 2   City              10000 non-null  object \n",
      " 3   Gender            10000 non-null  object \n",
      " 4   Age               10000 non-null  int64  \n",
      " 5   Objects           10000 non-null  int64  \n",
      " 6   Balance           6383 non-null   float64\n",
      " 7   Products          10000 non-null  int64  \n",
      " 8   CreditCard        10000 non-null  int64  \n",
      " 9   Loyalty           10000 non-null  int64  \n",
      " 10  estimated_salary  10000 non-null  float64\n",
      " 11  Churn             10000 non-null  int64  \n",
      "dtypes: float64(2), int64(8), object(2)\n",
      "memory usage: 937.6+ KB\n"
     ]
    },
    {
     "data": {
      "text/plain": [
       "None"
      ]
     },
     "metadata": {},
     "output_type": "display_data"
    },
    {
     "data": {
      "text/html": [
       "<div>\n",
       "<style scoped>\n",
       "    .dataframe tbody tr th:only-of-type {\n",
       "        vertical-align: middle;\n",
       "    }\n",
       "\n",
       "    .dataframe tbody tr th {\n",
       "        vertical-align: top;\n",
       "    }\n",
       "\n",
       "    .dataframe thead th {\n",
       "        text-align: right;\n",
       "    }\n",
       "</style>\n",
       "<table border=\"1\" class=\"dataframe\">\n",
       "  <thead>\n",
       "    <tr style=\"text-align: right;\">\n",
       "      <th></th>\n",
       "      <th>userid</th>\n",
       "      <th>score</th>\n",
       "      <th>Age</th>\n",
       "      <th>Objects</th>\n",
       "      <th>Balance</th>\n",
       "      <th>Products</th>\n",
       "      <th>CreditCard</th>\n",
       "      <th>Loyalty</th>\n",
       "      <th>estimated_salary</th>\n",
       "      <th>Churn</th>\n",
       "    </tr>\n",
       "  </thead>\n",
       "  <tbody>\n",
       "    <tr>\n",
       "      <th>count</th>\n",
       "      <td>10,000.00</td>\n",
       "      <td>10,000.00</td>\n",
       "      <td>10,000.00</td>\n",
       "      <td>10,000.00</td>\n",
       "      <td>6,383.00</td>\n",
       "      <td>10,000.00</td>\n",
       "      <td>10,000.00</td>\n",
       "      <td>10,000.00</td>\n",
       "      <td>10,000.00</td>\n",
       "      <td>10,000.00</td>\n",
       "    </tr>\n",
       "    <tr>\n",
       "      <th>mean</th>\n",
       "      <td>15,733,676.57</td>\n",
       "      <td>650.53</td>\n",
       "      <td>38.92</td>\n",
       "      <td>5.01</td>\n",
       "      <td>119,827.49</td>\n",
       "      <td>1.53</td>\n",
       "      <td>0.71</td>\n",
       "      <td>0.52</td>\n",
       "      <td>100,090.24</td>\n",
       "      <td>0.20</td>\n",
       "    </tr>\n",
       "    <tr>\n",
       "      <th>std</th>\n",
       "      <td>71,936.19</td>\n",
       "      <td>96.65</td>\n",
       "      <td>10.49</td>\n",
       "      <td>2.89</td>\n",
       "      <td>30,095.06</td>\n",
       "      <td>0.58</td>\n",
       "      <td>0.46</td>\n",
       "      <td>0.50</td>\n",
       "      <td>57,510.49</td>\n",
       "      <td>0.40</td>\n",
       "    </tr>\n",
       "    <tr>\n",
       "      <th>min</th>\n",
       "      <td>15,608,437.00</td>\n",
       "      <td>350.00</td>\n",
       "      <td>18.00</td>\n",
       "      <td>0.00</td>\n",
       "      <td>3,768.69</td>\n",
       "      <td>1.00</td>\n",
       "      <td>0.00</td>\n",
       "      <td>0.00</td>\n",
       "      <td>11.58</td>\n",
       "      <td>0.00</td>\n",
       "    </tr>\n",
       "    <tr>\n",
       "      <th>25%</th>\n",
       "      <td>15,671,264.25</td>\n",
       "      <td>584.00</td>\n",
       "      <td>32.00</td>\n",
       "      <td>3.00</td>\n",
       "      <td>100,181.98</td>\n",
       "      <td>1.00</td>\n",
       "      <td>0.00</td>\n",
       "      <td>0.00</td>\n",
       "      <td>51,002.11</td>\n",
       "      <td>0.00</td>\n",
       "    </tr>\n",
       "    <tr>\n",
       "      <th>50%</th>\n",
       "      <td>15,733,474.00</td>\n",
       "      <td>652.00</td>\n",
       "      <td>37.00</td>\n",
       "      <td>5.00</td>\n",
       "      <td>119,839.69</td>\n",
       "      <td>1.00</td>\n",
       "      <td>1.00</td>\n",
       "      <td>1.00</td>\n",
       "      <td>100,193.91</td>\n",
       "      <td>0.00</td>\n",
       "    </tr>\n",
       "    <tr>\n",
       "      <th>75%</th>\n",
       "      <td>15,795,969.75</td>\n",
       "      <td>718.00</td>\n",
       "      <td>44.00</td>\n",
       "      <td>7.00</td>\n",
       "      <td>139,512.29</td>\n",
       "      <td>2.00</td>\n",
       "      <td>1.00</td>\n",
       "      <td>1.00</td>\n",
       "      <td>149,388.25</td>\n",
       "      <td>0.00</td>\n",
       "    </tr>\n",
       "    <tr>\n",
       "      <th>max</th>\n",
       "      <td>15,858,426.00</td>\n",
       "      <td>850.00</td>\n",
       "      <td>92.00</td>\n",
       "      <td>10.00</td>\n",
       "      <td>250,898.09</td>\n",
       "      <td>4.00</td>\n",
       "      <td>1.00</td>\n",
       "      <td>1.00</td>\n",
       "      <td>199,992.48</td>\n",
       "      <td>1.00</td>\n",
       "    </tr>\n",
       "  </tbody>\n",
       "</table>\n",
       "</div>"
      ],
      "text/plain": [
       "             userid     score       Age   Objects    Balance  Products  \\\n",
       "count     10,000.00 10,000.00 10,000.00 10,000.00   6,383.00 10,000.00   \n",
       "mean  15,733,676.57    650.53     38.92      5.01 119,827.49      1.53   \n",
       "std       71,936.19     96.65     10.49      2.89  30,095.06      0.58   \n",
       "min   15,608,437.00    350.00     18.00      0.00   3,768.69      1.00   \n",
       "25%   15,671,264.25    584.00     32.00      3.00 100,181.98      1.00   \n",
       "50%   15,733,474.00    652.00     37.00      5.00 119,839.69      1.00   \n",
       "75%   15,795,969.75    718.00     44.00      7.00 139,512.29      2.00   \n",
       "max   15,858,426.00    850.00     92.00     10.00 250,898.09      4.00   \n",
       "\n",
       "       CreditCard   Loyalty  estimated_salary     Churn  \n",
       "count   10,000.00 10,000.00         10,000.00 10,000.00  \n",
       "mean         0.71      0.52        100,090.24      0.20  \n",
       "std          0.46      0.50         57,510.49      0.40  \n",
       "min          0.00      0.00             11.58      0.00  \n",
       "25%          0.00      0.00         51,002.11      0.00  \n",
       "50%          1.00      1.00        100,193.91      0.00  \n",
       "75%          1.00      1.00        149,388.25      0.00  \n",
       "max          1.00      1.00        199,992.48      1.00  "
      ]
     },
     "metadata": {},
     "output_type": "display_data"
    },
    {
     "data": {
      "text/plain": [
       "userid             0.00\n",
       "score              0.00\n",
       "City               0.00\n",
       "Gender             0.00\n",
       "Age                0.00\n",
       "Objects            0.00\n",
       "Balance            0.36\n",
       "Products           0.00\n",
       "CreditCard         0.00\n",
       "Loyalty            0.00\n",
       "estimated_salary   0.00\n",
       "Churn              0.00\n",
       "dtype: float64"
      ]
     },
     "metadata": {},
     "output_type": "display_data"
    }
   ],
   "source": [
    "info_df (df)"
   ]
  },
  {
   "cell_type": "markdown",
   "metadata": {},
   "source": [
    "# Описание данных\n",
    "\n",
    "Датасет содержит данные о клиентах банка «Метанпром». Банк располагается в Ярославле и областных городах: Ростов Великий и Рыбинск.\n",
    "\n",
    "Колонки:\n",
    "\n",
    "- `userid` — идентификатор пользователя,\n",
    "- `score` — баллы кредитного скоринга,\n",
    "- `City` — город,\n",
    "- `Gender` — пол,\n",
    "- `Age` — возраст,\n",
    "- `Objects` — количество объектов в собственности,\n",
    "- `Balance` — баланс на счёте,\n",
    "- `Products` — количество продуктов, которыми пользуется клиент,\n",
    "- `CreditCard` — есть ли кредитная карта,\n",
    "- `Loyalty` — активный клиент,\n",
    "- `estimated_salary` — заработная плата клиента,\n",
    "- `Churn` — ушёл или нет."
   ]
  },
  {
   "cell_type": "markdown",
   "metadata": {},
   "source": [
    "### Заменим названия столбцов"
   ]
  },
  {
   "cell_type": "code",
   "execution_count": 7,
   "metadata": {},
   "outputs": [],
   "source": [
    "#приведем к нижнему регистру\n",
    "df.columns=df.columns.str.lower()"
   ]
  },
  {
   "cell_type": "markdown",
   "metadata": {},
   "source": [
    "### Преобразуем данные в нужные типы "
   ]
  },
  {
   "cell_type": "code",
   "execution_count": 8,
   "metadata": {},
   "outputs": [],
   "source": [
    "#измененим типы данных\n",
    "df['age'] = df['age'].astype('int8')\n",
    "df['objects'] = df['objects'].astype('int8')\n",
    "df['products'] = df['products'].astype('int8')"
   ]
  },
  {
   "cell_type": "code",
   "execution_count": 9,
   "metadata": {},
   "outputs": [
    {
     "data": {
      "text/plain": [
       "userid                int64\n",
       "score                 int64\n",
       "city                 object\n",
       "gender               object\n",
       "age                    int8\n",
       "objects                int8\n",
       "balance             float64\n",
       "products               int8\n",
       "creditcard            int64\n",
       "loyalty               int64\n",
       "estimated_salary    float64\n",
       "churn                 int64\n",
       "dtype: object"
      ]
     },
     "execution_count": 9,
     "metadata": {},
     "output_type": "execute_result"
    }
   ],
   "source": [
    "df.dtypes"
   ]
  },
  {
   "cell_type": "markdown",
   "metadata": {},
   "source": [
    "### Обработаем пропуски "
   ]
  },
  {
   "cell_type": "code",
   "execution_count": 10,
   "metadata": {},
   "outputs": [
    {
     "data": {
      "text/html": [
       "<div>\n",
       "<style scoped>\n",
       "    .dataframe tbody tr th:only-of-type {\n",
       "        vertical-align: middle;\n",
       "    }\n",
       "\n",
       "    .dataframe tbody tr th {\n",
       "        vertical-align: top;\n",
       "    }\n",
       "\n",
       "    .dataframe thead th {\n",
       "        text-align: right;\n",
       "    }\n",
       "</style>\n",
       "<table border=\"1\" class=\"dataframe\">\n",
       "  <thead>\n",
       "    <tr style=\"text-align: right;\">\n",
       "      <th></th>\n",
       "      <th>names</th>\n",
       "      <th>nulls</th>\n",
       "      <th>nulls_percent</th>\n",
       "    </tr>\n",
       "  </thead>\n",
       "  <tbody>\n",
       "    <tr>\n",
       "      <th>0</th>\n",
       "      <td>userid</td>\n",
       "      <td>0</td>\n",
       "      <td>0.00</td>\n",
       "    </tr>\n",
       "    <tr>\n",
       "      <th>1</th>\n",
       "      <td>score</td>\n",
       "      <td>0</td>\n",
       "      <td>0.00</td>\n",
       "    </tr>\n",
       "    <tr>\n",
       "      <th>2</th>\n",
       "      <td>city</td>\n",
       "      <td>0</td>\n",
       "      <td>0.00</td>\n",
       "    </tr>\n",
       "    <tr>\n",
       "      <th>3</th>\n",
       "      <td>gender</td>\n",
       "      <td>0</td>\n",
       "      <td>0.00</td>\n",
       "    </tr>\n",
       "    <tr>\n",
       "      <th>4</th>\n",
       "      <td>age</td>\n",
       "      <td>0</td>\n",
       "      <td>0.00</td>\n",
       "    </tr>\n",
       "    <tr>\n",
       "      <th>5</th>\n",
       "      <td>objects</td>\n",
       "      <td>0</td>\n",
       "      <td>0.00</td>\n",
       "    </tr>\n",
       "    <tr>\n",
       "      <th>6</th>\n",
       "      <td>balance</td>\n",
       "      <td>3617</td>\n",
       "      <td>36.17</td>\n",
       "    </tr>\n",
       "    <tr>\n",
       "      <th>7</th>\n",
       "      <td>products</td>\n",
       "      <td>0</td>\n",
       "      <td>0.00</td>\n",
       "    </tr>\n",
       "    <tr>\n",
       "      <th>8</th>\n",
       "      <td>creditcard</td>\n",
       "      <td>0</td>\n",
       "      <td>0.00</td>\n",
       "    </tr>\n",
       "    <tr>\n",
       "      <th>9</th>\n",
       "      <td>loyalty</td>\n",
       "      <td>0</td>\n",
       "      <td>0.00</td>\n",
       "    </tr>\n",
       "    <tr>\n",
       "      <th>10</th>\n",
       "      <td>estimated_salary</td>\n",
       "      <td>0</td>\n",
       "      <td>0.00</td>\n",
       "    </tr>\n",
       "    <tr>\n",
       "      <th>11</th>\n",
       "      <td>churn</td>\n",
       "      <td>0</td>\n",
       "      <td>0.00</td>\n",
       "    </tr>\n",
       "  </tbody>\n",
       "</table>\n",
       "</div>"
      ],
      "text/plain": [
       "               names  nulls  nulls_percent\n",
       "0             userid      0           0.00\n",
       "1              score      0           0.00\n",
       "2               city      0           0.00\n",
       "3             gender      0           0.00\n",
       "4                age      0           0.00\n",
       "5            objects      0           0.00\n",
       "6            balance   3617          36.17\n",
       "7           products      0           0.00\n",
       "8         creditcard      0           0.00\n",
       "9            loyalty      0           0.00\n",
       "10  estimated_salary      0           0.00\n",
       "11             churn      0           0.00"
      ]
     },
     "execution_count": 10,
     "metadata": {},
     "output_type": "execute_result"
    }
   ],
   "source": [
    "# посмотрим на кол-во пропусков и на их процентное содержание относительно данных\n",
    "num_of_nulls = pd.DataFrame(columns = ['names'], data = df.columns)\n",
    "num_of_nulls ['nulls'] = df.isna().sum().values\n",
    "num_of_nulls ['nulls_percent'] = 100*df.isna().sum().values / df.shape[0]\n",
    "num_of_nulls "
   ]
  },
  {
   "cell_type": "markdown",
   "metadata": {},
   "source": [
    "Я предполагаю, что пропуски связаны с тем, что клиенты пользуются кредитными картами банка у которых нет баланса как такового, к тому же баланс может моментально меняться в любой момент времени и с большим разбросом в числах."
   ]
  },
  {
   "cell_type": "code",
   "execution_count": 11,
   "metadata": {},
   "outputs": [
    {
     "data": {
      "text/html": [
       "<div>\n",
       "<style scoped>\n",
       "    .dataframe tbody tr th:only-of-type {\n",
       "        vertical-align: middle;\n",
       "    }\n",
       "\n",
       "    .dataframe tbody tr th {\n",
       "        vertical-align: top;\n",
       "    }\n",
       "\n",
       "    .dataframe thead th {\n",
       "        text-align: right;\n",
       "    }\n",
       "</style>\n",
       "<table border=\"1\" class=\"dataframe\">\n",
       "  <thead>\n",
       "    <tr style=\"text-align: right;\">\n",
       "      <th></th>\n",
       "      <th>userid</th>\n",
       "      <th>score</th>\n",
       "      <th>city</th>\n",
       "      <th>gender</th>\n",
       "      <th>age</th>\n",
       "      <th>objects</th>\n",
       "      <th>balance</th>\n",
       "      <th>products</th>\n",
       "      <th>creditcard</th>\n",
       "      <th>loyalty</th>\n",
       "      <th>estimated_salary</th>\n",
       "      <th>churn</th>\n",
       "    </tr>\n",
       "  </thead>\n",
       "  <tbody>\n",
       "    <tr>\n",
       "      <th>0</th>\n",
       "      <td>15677338</td>\n",
       "      <td>619</td>\n",
       "      <td>Ярославль</td>\n",
       "      <td>Ж</td>\n",
       "      <td>42</td>\n",
       "      <td>2</td>\n",
       "      <td>NaN</td>\n",
       "      <td>1</td>\n",
       "      <td>1</td>\n",
       "      <td>1</td>\n",
       "      <td>101,348.88</td>\n",
       "      <td>1</td>\n",
       "    </tr>\n",
       "    <tr>\n",
       "      <th>3</th>\n",
       "      <td>15744090</td>\n",
       "      <td>699</td>\n",
       "      <td>Ярославль</td>\n",
       "      <td>Ж</td>\n",
       "      <td>39</td>\n",
       "      <td>1</td>\n",
       "      <td>NaN</td>\n",
       "      <td>2</td>\n",
       "      <td>0</td>\n",
       "      <td>0</td>\n",
       "      <td>93,826.63</td>\n",
       "      <td>0</td>\n",
       "    </tr>\n",
       "    <tr>\n",
       "      <th>6</th>\n",
       "      <td>15635267</td>\n",
       "      <td>822</td>\n",
       "      <td>Ярославль</td>\n",
       "      <td>М</td>\n",
       "      <td>50</td>\n",
       "      <td>7</td>\n",
       "      <td>NaN</td>\n",
       "      <td>2</td>\n",
       "      <td>1</td>\n",
       "      <td>1</td>\n",
       "      <td>10,062.80</td>\n",
       "      <td>0</td>\n",
       "    </tr>\n",
       "    <tr>\n",
       "      <th>11</th>\n",
       "      <td>15779909</td>\n",
       "      <td>497</td>\n",
       "      <td>Рыбинск</td>\n",
       "      <td>М</td>\n",
       "      <td>24</td>\n",
       "      <td>3</td>\n",
       "      <td>NaN</td>\n",
       "      <td>2</td>\n",
       "      <td>1</td>\n",
       "      <td>0</td>\n",
       "      <td>76,390.01</td>\n",
       "      <td>0</td>\n",
       "    </tr>\n",
       "    <tr>\n",
       "      <th>12</th>\n",
       "      <td>15675000</td>\n",
       "      <td>476</td>\n",
       "      <td>Ярославль</td>\n",
       "      <td>Ж</td>\n",
       "      <td>34</td>\n",
       "      <td>10</td>\n",
       "      <td>NaN</td>\n",
       "      <td>2</td>\n",
       "      <td>1</td>\n",
       "      <td>0</td>\n",
       "      <td>26,260.98</td>\n",
       "      <td>0</td>\n",
       "    </tr>\n",
       "    <tr>\n",
       "      <th>13</th>\n",
       "      <td>15734219</td>\n",
       "      <td>549</td>\n",
       "      <td>Ярославль</td>\n",
       "      <td>Ж</td>\n",
       "      <td>25</td>\n",
       "      <td>5</td>\n",
       "      <td>NaN</td>\n",
       "      <td>2</td>\n",
       "      <td>0</td>\n",
       "      <td>0</td>\n",
       "      <td>190,857.79</td>\n",
       "      <td>0</td>\n",
       "    </tr>\n",
       "    <tr>\n",
       "      <th>14</th>\n",
       "      <td>15643618</td>\n",
       "      <td>635</td>\n",
       "      <td>Рыбинск</td>\n",
       "      <td>Ж</td>\n",
       "      <td>35</td>\n",
       "      <td>7</td>\n",
       "      <td>NaN</td>\n",
       "      <td>2</td>\n",
       "      <td>1</td>\n",
       "      <td>1</td>\n",
       "      <td>65,951.65</td>\n",
       "      <td>0</td>\n",
       "    </tr>\n",
       "    <tr>\n",
       "      <th>17</th>\n",
       "      <td>15830954</td>\n",
       "      <td>549</td>\n",
       "      <td>Рыбинск</td>\n",
       "      <td>Ж</td>\n",
       "      <td>24</td>\n",
       "      <td>9</td>\n",
       "      <td>NaN</td>\n",
       "      <td>2</td>\n",
       "      <td>1</td>\n",
       "      <td>1</td>\n",
       "      <td>14,406.41</td>\n",
       "      <td>0</td>\n",
       "    </tr>\n",
       "    <tr>\n",
       "      <th>18</th>\n",
       "      <td>15704243</td>\n",
       "      <td>587</td>\n",
       "      <td>Рыбинск</td>\n",
       "      <td>М</td>\n",
       "      <td>45</td>\n",
       "      <td>6</td>\n",
       "      <td>NaN</td>\n",
       "      <td>1</td>\n",
       "      <td>0</td>\n",
       "      <td>0</td>\n",
       "      <td>158,684.81</td>\n",
       "      <td>0</td>\n",
       "    </tr>\n",
       "    <tr>\n",
       "      <th>19</th>\n",
       "      <td>15611718</td>\n",
       "      <td>726</td>\n",
       "      <td>Ярославль</td>\n",
       "      <td>Ж</td>\n",
       "      <td>24</td>\n",
       "      <td>6</td>\n",
       "      <td>NaN</td>\n",
       "      <td>2</td>\n",
       "      <td>1</td>\n",
       "      <td>1</td>\n",
       "      <td>54,724.03</td>\n",
       "      <td>0</td>\n",
       "    </tr>\n",
       "  </tbody>\n",
       "</table>\n",
       "</div>"
      ],
      "text/plain": [
       "      userid  score       city gender  age  objects  balance  products  \\\n",
       "0   15677338    619  Ярославль      Ж   42        2      NaN         1   \n",
       "3   15744090    699  Ярославль      Ж   39        1      NaN         2   \n",
       "6   15635267    822  Ярославль      М   50        7      NaN         2   \n",
       "11  15779909    497    Рыбинск      М   24        3      NaN         2   \n",
       "12  15675000    476  Ярославль      Ж   34       10      NaN         2   \n",
       "13  15734219    549  Ярославль      Ж   25        5      NaN         2   \n",
       "14  15643618    635    Рыбинск      Ж   35        7      NaN         2   \n",
       "17  15830954    549    Рыбинск      Ж   24        9      NaN         2   \n",
       "18  15704243    587    Рыбинск      М   45        6      NaN         1   \n",
       "19  15611718    726  Ярославль      Ж   24        6      NaN         2   \n",
       "\n",
       "    creditcard  loyalty  estimated_salary  churn  \n",
       "0            1        1        101,348.88      1  \n",
       "3            0        0         93,826.63      0  \n",
       "6            1        1         10,062.80      0  \n",
       "11           1        0         76,390.01      0  \n",
       "12           1        0         26,260.98      0  \n",
       "13           0        0        190,857.79      0  \n",
       "14           1        1         65,951.65      0  \n",
       "17           1        1         14,406.41      0  \n",
       "18           0        0        158,684.81      0  \n",
       "19           1        1         54,724.03      0  "
      ]
     },
     "execution_count": 11,
     "metadata": {},
     "output_type": "execute_result"
    }
   ],
   "source": [
    "df[df['balance'].isnull()].head(10) # 10 значений столбца [balance] c пропуском"
   ]
  },
  {
   "cell_type": "code",
   "execution_count": 12,
   "metadata": {},
   "outputs": [],
   "source": [
    "df['balance_new'] = df['balance']\n",
    "df['balance_new'] = df['balance_new'].fillna(-1)"
   ]
  },
  {
   "cell_type": "code",
   "execution_count": 13,
   "metadata": {},
   "outputs": [
    {
     "data": {
      "text/html": [
       "<div>\n",
       "<style scoped>\n",
       "    .dataframe tbody tr th:only-of-type {\n",
       "        vertical-align: middle;\n",
       "    }\n",
       "\n",
       "    .dataframe tbody tr th {\n",
       "        vertical-align: top;\n",
       "    }\n",
       "\n",
       "    .dataframe thead th {\n",
       "        text-align: right;\n",
       "    }\n",
       "</style>\n",
       "<table border=\"1\" class=\"dataframe\">\n",
       "  <thead>\n",
       "    <tr style=\"text-align: right;\">\n",
       "      <th></th>\n",
       "      <th>userid</th>\n",
       "      <th>score</th>\n",
       "      <th>city</th>\n",
       "      <th>gender</th>\n",
       "      <th>age</th>\n",
       "      <th>objects</th>\n",
       "      <th>balance</th>\n",
       "      <th>products</th>\n",
       "      <th>creditcard</th>\n",
       "      <th>loyalty</th>\n",
       "      <th>estimated_salary</th>\n",
       "      <th>churn</th>\n",
       "      <th>balance_new</th>\n",
       "    </tr>\n",
       "  </thead>\n",
       "  <tbody>\n",
       "  </tbody>\n",
       "</table>\n",
       "</div>"
      ],
      "text/plain": [
       "Empty DataFrame\n",
       "Columns: [userid, score, city, gender, age, objects, balance, products, creditcard, loyalty, estimated_salary, churn, balance_new]\n",
       "Index: []"
      ]
     },
     "metadata": {},
     "output_type": "display_data"
    }
   ],
   "source": [
    "skipping = df.query('balance == 0')\n",
    "display(skipping)"
   ]
  },
  {
   "cell_type": "code",
   "execution_count": 14,
   "metadata": {},
   "outputs": [
    {
     "data": {
      "text/html": [
       "<div>\n",
       "<style scoped>\n",
       "    .dataframe tbody tr th:only-of-type {\n",
       "        vertical-align: middle;\n",
       "    }\n",
       "\n",
       "    .dataframe tbody tr th {\n",
       "        vertical-align: top;\n",
       "    }\n",
       "\n",
       "    .dataframe thead th {\n",
       "        text-align: right;\n",
       "    }\n",
       "</style>\n",
       "<table border=\"1\" class=\"dataframe\">\n",
       "  <thead>\n",
       "    <tr style=\"text-align: right;\">\n",
       "      <th></th>\n",
       "      <th>creditcard</th>\n",
       "      <th>number</th>\n",
       "    </tr>\n",
       "  </thead>\n",
       "  <tbody>\n",
       "    <tr>\n",
       "      <th>0</th>\n",
       "      <td>0</td>\n",
       "      <td>1025</td>\n",
       "    </tr>\n",
       "    <tr>\n",
       "      <th>1</th>\n",
       "      <td>1</td>\n",
       "      <td>2592</td>\n",
       "    </tr>\n",
       "  </tbody>\n",
       "</table>\n",
       "</div>"
      ],
      "text/plain": [
       "   creditcard  number\n",
       "0           0    1025\n",
       "1           1    2592"
      ]
     },
     "execution_count": 14,
     "metadata": {},
     "output_type": "execute_result"
    }
   ],
   "source": [
    "df.query('balance_new == -1').groupby('creditcard').agg({'age':'count'}).reset_index().rename(columns={'age':'number'})"
   ]
  },
  {
   "cell_type": "markdown",
   "metadata": {},
   "source": [
    "Действительно большая часть пользуется кредитной картой."
   ]
  },
  {
   "cell_type": "code",
   "execution_count": 15,
   "metadata": {},
   "outputs": [],
   "source": [
    "df = df.dropna(subset = ['balance'])"
   ]
  },
  {
   "cell_type": "code",
   "execution_count": 16,
   "metadata": {},
   "outputs": [
    {
     "data": {
      "text/plain": [
       "userid              0\n",
       "score               0\n",
       "city                0\n",
       "gender              0\n",
       "age                 0\n",
       "objects             0\n",
       "balance             0\n",
       "products            0\n",
       "creditcard          0\n",
       "loyalty             0\n",
       "estimated_salary    0\n",
       "churn               0\n",
       "balance_new         0\n",
       "dtype: int64"
      ]
     },
     "execution_count": 16,
     "metadata": {},
     "output_type": "execute_result"
    }
   ],
   "source": [
    "#Проверка удаления пропусков\n",
    "df.isna().sum()"
   ]
  },
  {
   "cell_type": "markdown",
   "metadata": {},
   "source": [
    "**Вывод**\n",
    "\n",
    "На данном этапе проведена предобработка данных, в том числе:\n",
    "\n",
    "- изменен регистр в столбцах;\n",
    "- данные преобразованы в нужный тип;\n",
    "- обработаны пропуски в зависимости от данных;"
   ]
  },
  {
   "cell_type": "markdown",
   "metadata": {},
   "source": [
    "## Шаг 2. Проведем исследовательский анализ данных (EDA)"
   ]
  },
  {
   "cell_type": "markdown",
   "metadata": {},
   "source": [
    "### Посмотрим на средние значения и стандартные отклонения в данных "
   ]
  },
  {
   "cell_type": "code",
   "execution_count": 17,
   "metadata": {},
   "outputs": [
    {
     "data": {
      "text/html": [
       "<div>\n",
       "<style scoped>\n",
       "    .dataframe tbody tr th:only-of-type {\n",
       "        vertical-align: middle;\n",
       "    }\n",
       "\n",
       "    .dataframe tbody tr th {\n",
       "        vertical-align: top;\n",
       "    }\n",
       "\n",
       "    .dataframe thead th {\n",
       "        text-align: right;\n",
       "    }\n",
       "</style>\n",
       "<table border=\"1\" class=\"dataframe\">\n",
       "  <thead>\n",
       "    <tr style=\"text-align: right;\">\n",
       "      <th></th>\n",
       "      <th>count</th>\n",
       "      <th>mean</th>\n",
       "      <th>std</th>\n",
       "      <th>min</th>\n",
       "      <th>25%</th>\n",
       "      <th>50%</th>\n",
       "      <th>75%</th>\n",
       "      <th>max</th>\n",
       "    </tr>\n",
       "  </thead>\n",
       "  <tbody>\n",
       "    <tr>\n",
       "      <th>userid</th>\n",
       "      <td>6,383.00</td>\n",
       "      <td>15,733,104.80</td>\n",
       "      <td>71,929.13</td>\n",
       "      <td>15,608,437.00</td>\n",
       "      <td>15,670,940.00</td>\n",
       "      <td>15,732,262.00</td>\n",
       "      <td>15,795,842.00</td>\n",
       "      <td>15,858,426.00</td>\n",
       "    </tr>\n",
       "    <tr>\n",
       "      <th>score</th>\n",
       "      <td>6,383.00</td>\n",
       "      <td>651.14</td>\n",
       "      <td>96.93</td>\n",
       "      <td>350.00</td>\n",
       "      <td>584.00</td>\n",
       "      <td>652.00</td>\n",
       "      <td>718.00</td>\n",
       "      <td>850.00</td>\n",
       "    </tr>\n",
       "    <tr>\n",
       "      <th>age</th>\n",
       "      <td>6,383.00</td>\n",
       "      <td>39.20</td>\n",
       "      <td>10.48</td>\n",
       "      <td>18.00</td>\n",
       "      <td>32.00</td>\n",
       "      <td>38.00</td>\n",
       "      <td>44.00</td>\n",
       "      <td>92.00</td>\n",
       "    </tr>\n",
       "    <tr>\n",
       "      <th>objects</th>\n",
       "      <td>6,383.00</td>\n",
       "      <td>4.98</td>\n",
       "      <td>2.91</td>\n",
       "      <td>0.00</td>\n",
       "      <td>2.00</td>\n",
       "      <td>5.00</td>\n",
       "      <td>8.00</td>\n",
       "      <td>10.00</td>\n",
       "    </tr>\n",
       "    <tr>\n",
       "      <th>balance</th>\n",
       "      <td>6,383.00</td>\n",
       "      <td>119,827.49</td>\n",
       "      <td>30,095.06</td>\n",
       "      <td>3,768.69</td>\n",
       "      <td>100,181.98</td>\n",
       "      <td>119,839.69</td>\n",
       "      <td>139,512.29</td>\n",
       "      <td>250,898.09</td>\n",
       "    </tr>\n",
       "    <tr>\n",
       "      <th>products</th>\n",
       "      <td>6,383.00</td>\n",
       "      <td>1.39</td>\n",
       "      <td>0.58</td>\n",
       "      <td>1.00</td>\n",
       "      <td>1.00</td>\n",
       "      <td>1.00</td>\n",
       "      <td>2.00</td>\n",
       "      <td>4.00</td>\n",
       "    </tr>\n",
       "    <tr>\n",
       "      <th>creditcard</th>\n",
       "      <td>6,383.00</td>\n",
       "      <td>0.70</td>\n",
       "      <td>0.46</td>\n",
       "      <td>0.00</td>\n",
       "      <td>0.00</td>\n",
       "      <td>1.00</td>\n",
       "      <td>1.00</td>\n",
       "      <td>1.00</td>\n",
       "    </tr>\n",
       "    <tr>\n",
       "      <th>loyalty</th>\n",
       "      <td>6,383.00</td>\n",
       "      <td>0.51</td>\n",
       "      <td>0.50</td>\n",
       "      <td>0.00</td>\n",
       "      <td>0.00</td>\n",
       "      <td>1.00</td>\n",
       "      <td>1.00</td>\n",
       "      <td>1.00</td>\n",
       "    </tr>\n",
       "    <tr>\n",
       "      <th>estimated_salary</th>\n",
       "      <td>6,383.00</td>\n",
       "      <td>100,717.35</td>\n",
       "      <td>57,380.32</td>\n",
       "      <td>11.58</td>\n",
       "      <td>51,736.85</td>\n",
       "      <td>101,139.30</td>\n",
       "      <td>149,596.61</td>\n",
       "      <td>199,970.74</td>\n",
       "    </tr>\n",
       "    <tr>\n",
       "      <th>churn</th>\n",
       "      <td>6,383.00</td>\n",
       "      <td>0.24</td>\n",
       "      <td>0.43</td>\n",
       "      <td>0.00</td>\n",
       "      <td>0.00</td>\n",
       "      <td>0.00</td>\n",
       "      <td>0.00</td>\n",
       "      <td>1.00</td>\n",
       "    </tr>\n",
       "    <tr>\n",
       "      <th>balance_new</th>\n",
       "      <td>6,383.00</td>\n",
       "      <td>119,827.49</td>\n",
       "      <td>30,095.06</td>\n",
       "      <td>3,768.69</td>\n",
       "      <td>100,181.98</td>\n",
       "      <td>119,839.69</td>\n",
       "      <td>139,512.29</td>\n",
       "      <td>250,898.09</td>\n",
       "    </tr>\n",
       "  </tbody>\n",
       "</table>\n",
       "</div>"
      ],
      "text/plain": [
       "                    count          mean       std           min           25%  \\\n",
       "userid           6,383.00 15,733,104.80 71,929.13 15,608,437.00 15,670,940.00   \n",
       "score            6,383.00        651.14     96.93        350.00        584.00   \n",
       "age              6,383.00         39.20     10.48         18.00         32.00   \n",
       "objects          6,383.00          4.98      2.91          0.00          2.00   \n",
       "balance          6,383.00    119,827.49 30,095.06      3,768.69    100,181.98   \n",
       "products         6,383.00          1.39      0.58          1.00          1.00   \n",
       "creditcard       6,383.00          0.70      0.46          0.00          0.00   \n",
       "loyalty          6,383.00          0.51      0.50          0.00          0.00   \n",
       "estimated_salary 6,383.00    100,717.35 57,380.32         11.58     51,736.85   \n",
       "churn            6,383.00          0.24      0.43          0.00          0.00   \n",
       "balance_new      6,383.00    119,827.49 30,095.06      3,768.69    100,181.98   \n",
       "\n",
       "                           50%           75%           max  \n",
       "userid           15,732,262.00 15,795,842.00 15,858,426.00  \n",
       "score                   652.00        718.00        850.00  \n",
       "age                      38.00         44.00         92.00  \n",
       "objects                   5.00          8.00         10.00  \n",
       "balance             119,839.69    139,512.29    250,898.09  \n",
       "products                  1.00          2.00          4.00  \n",
       "creditcard                1.00          1.00          1.00  \n",
       "loyalty                   1.00          1.00          1.00  \n",
       "estimated_salary    101,139.30    149,596.61    199,970.74  \n",
       "churn                     0.00          0.00          1.00  \n",
       "balance_new         119,839.69    139,512.29    250,898.09  "
      ]
     },
     "metadata": {},
     "output_type": "display_data"
    }
   ],
   "source": [
    "display(df.describe().T)"
   ]
  },
  {
   "cell_type": "markdown",
   "metadata": {},
   "source": [
    "- возраст клиентов банка от 18-92, средний возраст клиента - 39 лет\n",
    "- количество объектов в собственности от 0-10, в среднем 5\n",
    "- чаще всего клиент банка пользуется 1 продуктом\n",
    "- 70% имеют кредитные карты"
   ]
  },
  {
   "cell_type": "code",
   "execution_count": 18,
   "metadata": {},
   "outputs": [
    {
     "data": {
      "text/plain": [
       "М    3494\n",
       "Ж    2889\n",
       "Name: gender, dtype: int64"
      ]
     },
     "execution_count": 18,
     "metadata": {},
     "output_type": "execute_result"
    }
   ],
   "source": [
    "df['gender'].value_counts()"
   ]
  },
  {
   "cell_type": "markdown",
   "metadata": {},
   "source": [
    "По полу данные распределены почти поровну"
   ]
  },
  {
   "cell_type": "code",
   "execution_count": 19,
   "metadata": {},
   "outputs": [
    {
     "data": {
      "text/plain": [
       "Ярославль         2596\n",
       "Ростов Великий    2509\n",
       "Рыбинск           1278\n",
       "Name: city, dtype: int64"
      ]
     },
     "execution_count": 19,
     "metadata": {},
     "output_type": "execute_result"
    }
   ],
   "source": [
    "df['city'].value_counts()"
   ]
  },
  {
   "cell_type": "markdown",
   "metadata": {},
   "source": [
    "В датасете предствалены данные о клиентах трех городов - Ярославль, Ростов Великий и Рыбинск "
   ]
  },
  {
   "cell_type": "markdown",
   "metadata": {},
   "source": [
    "### Посмотрим распределения признаков для тех кто ушел в отток"
   ]
  },
  {
   "cell_type": "code",
   "execution_count": 20,
   "metadata": {
    "scrolled": true
   },
   "outputs": [
    {
     "name": "stderr",
     "output_type": "stream",
     "text": [
      "/opt/conda/lib/python3.9/site-packages/seaborn/distributions.py:2557: FutureWarning: `distplot` is a deprecated function and will be removed in a future version. Please adapt your code to use either `displot` (a figure-level function with similar flexibility) or `histplot` (an axes-level function for histograms).\n",
      "  warnings.warn(msg, FutureWarning)\n"
     ]
    },
    {
     "data": {
      "image/png": "[encoded data removed]",
      "text/plain": [
       "<Figure size 432x288 with 1 Axes>"
      ]
     },
     "metadata": {
      "needs_background": "light"
     },
     "output_type": "display_data"
    },
    {
     "name": "stderr",
     "output_type": "stream",
     "text": [
      "/opt/conda/lib/python3.9/site-packages/seaborn/distributions.py:2557: FutureWarning: `distplot` is a deprecated function and will be removed in a future version. Please adapt your code to use either `displot` (a figure-level function with similar flexibility) or `histplot` (an axes-level function for histograms).\n",
      "  warnings.warn(msg, FutureWarning)\n"
     ]
    },
    {
     "data": {
      "image/png": "[encoded data removed]",
      "text/plain": [
       "<Figure size 432x288 with 1 Axes>"
      ]
     },
     "metadata": {
      "needs_background": "light"
     },
     "output_type": "display_data"
    },
    {
     "name": "stderr",
     "output_type": "stream",
     "text": [
      "/opt/conda/lib/python3.9/site-packages/seaborn/distributions.py:2557: FutureWarning: `distplot` is a deprecated function and will be removed in a future version. Please adapt your code to use either `displot` (a figure-level function with similar flexibility) or `histplot` (an axes-level function for histograms).\n",
      "  warnings.warn(msg, FutureWarning)\n"
     ]
    },
    {
     "data": {
      "image/png": "[encoded data removed]",
      "text/plain": [
       "<Figure size 432x288 with 1 Axes>"
      ]
     },
     "metadata": {
      "needs_background": "light"
     },
     "output_type": "display_data"
    },
    {
     "name": "stderr",
     "output_type": "stream",
     "text": [
      "/opt/conda/lib/python3.9/site-packages/seaborn/distributions.py:2557: FutureWarning: `distplot` is a deprecated function and will be removed in a future version. Please adapt your code to use either `displot` (a figure-level function with similar flexibility) or `histplot` (an axes-level function for histograms).\n",
      "  warnings.warn(msg, FutureWarning)\n"
     ]
    },
    {
     "data": {
      "image/png": "[encoded data removed]",
      "text/plain": [
       "<Figure size 432x288 with 1 Axes>"
      ]
     },
     "metadata": {
      "needs_background": "light"
     },
     "output_type": "display_data"
    }
   ],
   "source": [
    "for i in ['score', 'age', 'balance', 'estimated_salary']:\n",
    "    sns.distplot(df.query('churn == 1')[i], bins=10, color = 'blue')\n",
    "    plt.show(); "
   ]
  },
  {
   "cell_type": "markdown",
   "metadata": {},
   "source": [
    "### Посмотрим на средние значения признаков в двух группах — тех, кто ушел в отток и тех, кто остался"
   ]
  },
  {
   "cell_type": "code",
   "execution_count": 21,
   "metadata": {},
   "outputs": [
    {
     "data": {
      "text/html": [
       "<div>\n",
       "<style scoped>\n",
       "    .dataframe tbody tr th:only-of-type {\n",
       "        vertical-align: middle;\n",
       "    }\n",
       "\n",
       "    .dataframe tbody tr th {\n",
       "        vertical-align: top;\n",
       "    }\n",
       "\n",
       "    .dataframe thead th {\n",
       "        text-align: right;\n",
       "    }\n",
       "</style>\n",
       "<table border=\"1\" class=\"dataframe\">\n",
       "  <thead>\n",
       "    <tr style=\"text-align: right;\">\n",
       "      <th>churn</th>\n",
       "      <th>0</th>\n",
       "      <th>1</th>\n",
       "    </tr>\n",
       "  </thead>\n",
       "  <tbody>\n",
       "    <tr>\n",
       "      <th>userid</th>\n",
       "      <td>15,733,404.73</td>\n",
       "      <td>15,732,159.15</td>\n",
       "    </tr>\n",
       "    <tr>\n",
       "      <th>score</th>\n",
       "      <td>652.82</td>\n",
       "      <td>645.84</td>\n",
       "    </tr>\n",
       "    <tr>\n",
       "      <th>age</th>\n",
       "      <td>37.42</td>\n",
       "      <td>44.81</td>\n",
       "    </tr>\n",
       "    <tr>\n",
       "      <th>objects</th>\n",
       "      <td>4.98</td>\n",
       "      <td>4.97</td>\n",
       "    </tr>\n",
       "    <tr>\n",
       "      <th>balance</th>\n",
       "      <td>119,535.86</td>\n",
       "      <td>120,746.97</td>\n",
       "    </tr>\n",
       "    <tr>\n",
       "      <th>products</th>\n",
       "      <td>1.36</td>\n",
       "      <td>1.47</td>\n",
       "    </tr>\n",
       "    <tr>\n",
       "      <th>creditcard</th>\n",
       "      <td>0.70</td>\n",
       "      <td>0.70</td>\n",
       "    </tr>\n",
       "    <tr>\n",
       "      <th>loyalty</th>\n",
       "      <td>0.56</td>\n",
       "      <td>0.36</td>\n",
       "    </tr>\n",
       "    <tr>\n",
       "      <th>estimated_salary</th>\n",
       "      <td>100,512.65</td>\n",
       "      <td>101,362.75</td>\n",
       "    </tr>\n",
       "    <tr>\n",
       "      <th>balance_new</th>\n",
       "      <td>119,535.86</td>\n",
       "      <td>120,746.97</td>\n",
       "    </tr>\n",
       "  </tbody>\n",
       "</table>\n",
       "</div>"
      ],
      "text/plain": [
       "churn                        0             1\n",
       "userid           15,733,404.73 15,732,159.15\n",
       "score                   652.82        645.84\n",
       "age                      37.42         44.81\n",
       "objects                   4.98          4.97\n",
       "balance             119,535.86    120,746.97\n",
       "products                  1.36          1.47\n",
       "creditcard                0.70          0.70\n",
       "loyalty                   0.56          0.36\n",
       "estimated_salary    100,512.65    101,362.75\n",
       "balance_new         119,535.86    120,746.97"
      ]
     },
     "metadata": {},
     "output_type": "display_data"
    }
   ],
   "source": [
    "#1-ушел\n",
    "df_churn_group = df.groupby('churn').mean().T\n",
    "display(df_churn_group)"
   ]
  },
  {
   "cell_type": "markdown",
   "metadata": {},
   "source": [
    "### Построим столбчатые гистограммы и распределения признаков для тех, кто ушёл (отток) и тех, кто остался (не попали в отток)"
   ]
  },
  {
   "cell_type": "code",
   "execution_count": 22,
   "metadata": {},
   "outputs": [
    {
     "data": {
      "image/png": "[encoded data removed]",
      "text/plain": [
       "<Figure size 432x288 with 1 Axes>"
      ]
     },
     "metadata": {
      "needs_background": "light"
     },
     "output_type": "display_data"
    },
    {
     "data": {
      "image/png": "[encoded data removed]",
      "text/plain": [
       "<Figure size 432x288 with 1 Axes>"
      ]
     },
     "metadata": {
      "needs_background": "light"
     },
     "output_type": "display_data"
    },
    {
     "data": {
      "image/png": "[encoded data removed]",
      "text/plain": [
       "<Figure size 432x288 with 1 Axes>"
      ]
     },
     "metadata": {
      "needs_background": "light"
     },
     "output_type": "display_data"
    },
    {
     "data": {
      "image/png": "[encoded data removed]",
      "text/plain": [
       "<Figure size 432x288 with 1 Axes>"
      ]
     },
     "metadata": {
      "needs_background": "light"
     },
     "output_type": "display_data"
    },
    {
     "data": {
      "image/png": "[encoded data removed]",
      "text/plain": [
       "<Figure size 432x288 with 1 Axes>"
      ]
     },
     "metadata": {
      "needs_background": "light"
     },
     "output_type": "display_data"
    },
    {
     "data": {
      "image/png": "[encoded data removed]",
      "text/plain": [
       "<Figure size 432x288 with 1 Axes>"
      ]
     },
     "metadata": {
      "needs_background": "light"
     },
     "output_type": "display_data"
    },
    {
     "data": {
      "image/png": "[encoded data removed]",
      "text/plain": [
       "<Figure size 432x288 with 1 Axes>"
      ]
     },
     "metadata": {
      "needs_background": "light"
     },
     "output_type": "display_data"
    },
    {
     "data": {
      "image/png": "[encoded data removed]",
      "text/plain": [
       "<Figure size 432x288 with 1 Axes>"
      ]
     },
     "metadata": {
      "needs_background": "light"
     },
     "output_type": "display_data"
    },
    {
     "data": {
      "image/png": "[encoded data removed]",
      "text/plain": [
       "<Figure size 432x288 with 1 Axes>"
      ]
     },
     "metadata": {
      "needs_background": "light"
     },
     "output_type": "display_data"
    },
    {
     "data": {
      "image/png": "[encoded data removed]",
      "text/plain": [
       "<Figure size 432x288 with 1 Axes>"
      ]
     },
     "metadata": {
      "needs_background": "light"
     },
     "output_type": "display_data"
    },
    {
     "data": {
      "image/png": "[encoded data removed]",
      "text/plain": [
       "<Figure size 432x288 with 1 Axes>"
      ]
     },
     "metadata": {
      "needs_background": "light"
     },
     "output_type": "display_data"
    },
    {
     "data": {
      "image/png": "[encoded data removed]",
      "text/plain": [
       "<Figure size 432x288 with 1 Axes>"
      ]
     },
     "metadata": {
      "needs_background": "light"
     },
     "output_type": "display_data"
    }
   ],
   "source": [
    "for i in df.drop('churn', axis=1).columns:\n",
    "    df.query('churn==0')[i].hist(bins=10,label='Оствашиеся клиенты' )\n",
    "    df.query('churn==1')[i].hist(bins=10, label='Ушедшие клиенты')\n",
    "  \n",
    "    plt.title('Распределение признака')\n",
    "    \n",
    "    plt.xlabel(i)\n",
    "    plt.ylabel('Количество')\n",
    "    plt.legend()\n",
    "    \n",
    "    plt.show()"
   ]
  },
  {
   "cell_type": "markdown",
   "metadata": {},
   "source": [
    "**Вывод**\n",
    "\n",
    "- распределение по баллам кредитного скоринга примерно равное для тех кто ушел и тех, кто остался 645/652 балла в среднем, соответственно баллы кредитного скоринга не влияют на отток клиентов;\n",
    "- большинство ушедших клиентов из Ростова Великого, далее из Ярославля и меньше всего в Рыбинске;\n",
    "- большинство оставшихся - клиенты из Ярославля , далее Ростов и Рыбинск; \n",
    "- женщин, попавших в отток больше чем мужчин;\n",
    "- оставшихся мужчин клиентов больше чем женщин;\n",
    "- в среднем по оттоку возраст старше 45;\n",
    "- средний возраст оставшихся клиентов - 36;\n",
    "- среднее количество объектов у обоих групп - 5, соответственно количество объектов в собственности не влияет на отток клиентов;\n",
    "- распределение баланса между группами в среднем отличается не более чем на 10 000 едениц;\n",
    "- клиенты с 1 продуктом чаще уходят;\n",
    "- наличие кредитной карты не влияет на отток;\n",
    "- 36% клиентов, попавших в отток, были активными, а среди тех, кто остался, 55%, соответственно активные клиенты чаще всего остаются;\n",
    "- кредитными картами пользуются около 70% клиентов из оттока и не из оттока;\n",
    "- средние показатели зароботной платы групп не сильно отличаются:средняя зарплата ушедших клиентов (101362) выше, чем средняя зарплата тех, кто остались клиентами банка (100512)."
   ]
  },
  {
   "cell_type": "markdown",
   "metadata": {},
   "source": [
    "### Построим матрицу корреляций и отобразим её"
   ]
  },
  {
   "cell_type": "code",
   "execution_count": 23,
   "metadata": {},
   "outputs": [
    {
     "data": {
      "text/html": [
       "<div>\n",
       "<style scoped>\n",
       "    .dataframe tbody tr th:only-of-type {\n",
       "        vertical-align: middle;\n",
       "    }\n",
       "\n",
       "    .dataframe tbody tr th {\n",
       "        vertical-align: top;\n",
       "    }\n",
       "\n",
       "    .dataframe thead th {\n",
       "        text-align: right;\n",
       "    }\n",
       "</style>\n",
       "<table border=\"1\" class=\"dataframe\">\n",
       "  <thead>\n",
       "    <tr style=\"text-align: right;\">\n",
       "      <th></th>\n",
       "      <th>userid</th>\n",
       "      <th>score</th>\n",
       "      <th>age</th>\n",
       "      <th>objects</th>\n",
       "      <th>balance</th>\n",
       "      <th>products</th>\n",
       "      <th>creditcard</th>\n",
       "      <th>loyalty</th>\n",
       "      <th>estimated_salary</th>\n",
       "      <th>churn</th>\n",
       "      <th>balance_new</th>\n",
       "      <th>city_Ростов Великий</th>\n",
       "      <th>city_Рыбинск</th>\n",
       "      <th>city_Ярославль</th>\n",
       "      <th>gender_Ж</th>\n",
       "      <th>gender_М</th>\n",
       "    </tr>\n",
       "  </thead>\n",
       "  <tbody>\n",
       "    <tr>\n",
       "      <th>1</th>\n",
       "      <td>15690047</td>\n",
       "      <td>608</td>\n",
       "      <td>41</td>\n",
       "      <td>1</td>\n",
       "      <td>83,807.86</td>\n",
       "      <td>1</td>\n",
       "      <td>0</td>\n",
       "      <td>1</td>\n",
       "      <td>112,542.58</td>\n",
       "      <td>0</td>\n",
       "      <td>83,807.86</td>\n",
       "      <td>0</td>\n",
       "      <td>1</td>\n",
       "      <td>0</td>\n",
       "      <td>1</td>\n",
       "      <td>0</td>\n",
       "    </tr>\n",
       "    <tr>\n",
       "      <th>2</th>\n",
       "      <td>15662040</td>\n",
       "      <td>502</td>\n",
       "      <td>42</td>\n",
       "      <td>8</td>\n",
       "      <td>159,660.80</td>\n",
       "      <td>3</td>\n",
       "      <td>1</td>\n",
       "      <td>0</td>\n",
       "      <td>113,931.57</td>\n",
       "      <td>1</td>\n",
       "      <td>159,660.80</td>\n",
       "      <td>0</td>\n",
       "      <td>0</td>\n",
       "      <td>1</td>\n",
       "      <td>1</td>\n",
       "      <td>0</td>\n",
       "    </tr>\n",
       "    <tr>\n",
       "      <th>4</th>\n",
       "      <td>15780624</td>\n",
       "      <td>850</td>\n",
       "      <td>43</td>\n",
       "      <td>2</td>\n",
       "      <td>125,510.82</td>\n",
       "      <td>1</td>\n",
       "      <td>1</td>\n",
       "      <td>1</td>\n",
       "      <td>79,084.10</td>\n",
       "      <td>0</td>\n",
       "      <td>125,510.82</td>\n",
       "      <td>0</td>\n",
       "      <td>1</td>\n",
       "      <td>0</td>\n",
       "      <td>1</td>\n",
       "      <td>0</td>\n",
       "    </tr>\n",
       "    <tr>\n",
       "      <th>5</th>\n",
       "      <td>15616748</td>\n",
       "      <td>645</td>\n",
       "      <td>44</td>\n",
       "      <td>8</td>\n",
       "      <td>113,755.78</td>\n",
       "      <td>2</td>\n",
       "      <td>1</td>\n",
       "      <td>0</td>\n",
       "      <td>149,756.71</td>\n",
       "      <td>1</td>\n",
       "      <td>113,755.78</td>\n",
       "      <td>0</td>\n",
       "      <td>1</td>\n",
       "      <td>0</td>\n",
       "      <td>0</td>\n",
       "      <td>1</td>\n",
       "    </tr>\n",
       "    <tr>\n",
       "      <th>7</th>\n",
       "      <td>15698884</td>\n",
       "      <td>376</td>\n",
       "      <td>29</td>\n",
       "      <td>4</td>\n",
       "      <td>115,046.74</td>\n",
       "      <td>4</td>\n",
       "      <td>1</td>\n",
       "      <td>0</td>\n",
       "      <td>119,346.88</td>\n",
       "      <td>1</td>\n",
       "      <td>115,046.74</td>\n",
       "      <td>1</td>\n",
       "      <td>0</td>\n",
       "      <td>0</td>\n",
       "      <td>1</td>\n",
       "      <td>0</td>\n",
       "    </tr>\n",
       "  </tbody>\n",
       "</table>\n",
       "</div>"
      ],
      "text/plain": [
       "     userid  score  age  objects    balance  products  creditcard  loyalty  \\\n",
       "1  15690047    608   41        1  83,807.86         1           0        1   \n",
       "2  15662040    502   42        8 159,660.80         3           1        0   \n",
       "4  15780624    850   43        2 125,510.82         1           1        1   \n",
       "5  15616748    645   44        8 113,755.78         2           1        0   \n",
       "7  15698884    376   29        4 115,046.74         4           1        0   \n",
       "\n",
       "   estimated_salary  churn  balance_new  city_Ростов Великий  city_Рыбинск  \\\n",
       "1        112,542.58      0    83,807.86                    0             1   \n",
       "2        113,931.57      1   159,660.80                    0             0   \n",
       "4         79,084.10      0   125,510.82                    0             1   \n",
       "5        149,756.71      1   113,755.78                    0             1   \n",
       "7        119,346.88      1   115,046.74                    1             0   \n",
       "\n",
       "   city_Ярославль  gender_Ж  gender_М  \n",
       "1               0         1         0  \n",
       "2               1         1         0  \n",
       "4               0         1         0  \n",
       "5               0         0         1  \n",
       "7               0         1         0  "
      ]
     },
     "metadata": {},
     "output_type": "display_data"
    }
   ],
   "source": [
    "#унитарное кодирование (One Hot Encoding)\n",
    "df_corr = pd.get_dummies(df, columns=['city','gender'])\n",
    "display(df_corr.head())"
   ]
  },
  {
   "cell_type": "code",
   "execution_count": 24,
   "metadata": {},
   "outputs": [
    {
     "data": {
      "image/png": "[encoded data removed]",
      "text/plain": [
       "<Figure size 1440x720 with 2 Axes>"
      ]
     },
     "metadata": {
      "needs_background": "light"
     },
     "output_type": "display_data"
    }
   ],
   "source": [
    "plt.figure(figsize=(20,10))\n",
    "sns.heatmap(df_corr.corr(), annot=True, square=True)\n",
    "plt.title('Матрица корреляций')\n",
    "plt.show()"
   ]
  },
  {
   "cell_type": "markdown",
   "metadata": {},
   "source": [
    "**Вывод**\n",
    "\n",
    "Больше всего на отток клиентов влияет признак возраста (0.3), также отток коррелирует с городом (особенно с Ростовом Великим - 0,16), лояльностью (-0,17) и 0.11 - с гендерным признаком(женщины)."
   ]
  },
  {
   "cell_type": "markdown",
   "metadata": {},
   "source": [
    "## Шаг 3. Сегментируем пользователей на основе данных о количестве потребляемых продуктов"
   ]
  },
  {
   "cell_type": "code",
   "execution_count": 25,
   "metadata": {},
   "outputs": [
    {
     "data": {
      "image/png": "[encoded data removed]",
      "text/plain": [
       "<Figure size 576x432 with 1 Axes>"
      ]
     },
     "metadata": {},
     "output_type": "display_data"
    }
   ],
   "source": [
    "plt.style.use('ggplot')\n",
    "\n",
    "plt.rcParams.update({'font.size': 16})\n",
    "plt.rcParams[\"figure.figsize\"] = (8,6)\n",
    "plt.style.use('tableau-colorblind10') \n",
    "df.groupby('products')['age'].count().plot(kind='bar').set_title('Сегментация клиентов по количеству продуктов')\n",
    "plt.xlabel('Кол-во продуктов') \n",
    "plt.ylabel('Кол-во клиентов');"
   ]
  },
  {
   "cell_type": "code",
   "execution_count": 26,
   "metadata": {},
   "outputs": [
    {
     "data": {
      "text/html": [
       "<div>\n",
       "<style scoped>\n",
       "    .dataframe tbody tr th:only-of-type {\n",
       "        vertical-align: middle;\n",
       "    }\n",
       "\n",
       "    .dataframe tbody tr th {\n",
       "        vertical-align: top;\n",
       "    }\n",
       "\n",
       "    .dataframe thead th {\n",
       "        text-align: right;\n",
       "    }\n",
       "</style>\n",
       "<table border=\"1\" class=\"dataframe\">\n",
       "  <thead>\n",
       "    <tr style=\"text-align: right;\">\n",
       "      <th></th>\n",
       "      <th>score</th>\n",
       "      <th>age</th>\n",
       "      <th>objects</th>\n",
       "      <th>creditcard</th>\n",
       "      <th>loyalty</th>\n",
       "      <th>estimated_salary</th>\n",
       "      <th>churn</th>\n",
       "      <th>balance_new</th>\n",
       "    </tr>\n",
       "    <tr>\n",
       "      <th>products</th>\n",
       "      <th></th>\n",
       "      <th></th>\n",
       "      <th></th>\n",
       "      <th></th>\n",
       "      <th></th>\n",
       "      <th></th>\n",
       "      <th></th>\n",
       "      <th></th>\n",
       "    </tr>\n",
       "  </thead>\n",
       "  <tbody>\n",
       "    <tr>\n",
       "      <th>4</th>\n",
       "      <td>659.02</td>\n",
       "      <td>45.02</td>\n",
       "      <td>5.33</td>\n",
       "      <td>0.70</td>\n",
       "      <td>0.46</td>\n",
       "      <td>101,487.65</td>\n",
       "      <td>1.00</td>\n",
       "      <td>122,260.61</td>\n",
       "    </tr>\n",
       "    <tr>\n",
       "      <th>3</th>\n",
       "      <td>645.46</td>\n",
       "      <td>43.96</td>\n",
       "      <td>5.14</td>\n",
       "      <td>0.73</td>\n",
       "      <td>0.39</td>\n",
       "      <td>107,300.09</td>\n",
       "      <td>0.94</td>\n",
       "      <td>119,475.69</td>\n",
       "    </tr>\n",
       "    <tr>\n",
       "      <th>1</th>\n",
       "      <td>650.32</td>\n",
       "      <td>39.45</td>\n",
       "      <td>4.98</td>\n",
       "      <td>0.70</td>\n",
       "      <td>0.51</td>\n",
       "      <td>99,696.01</td>\n",
       "      <td>0.26</td>\n",
       "      <td>119,894.16</td>\n",
       "    </tr>\n",
       "    <tr>\n",
       "      <th>2</th>\n",
       "      <td>653.15</td>\n",
       "      <td>38.14</td>\n",
       "      <td>4.96</td>\n",
       "      <td>0.70</td>\n",
       "      <td>0.53</td>\n",
       "      <td>102,288.65</td>\n",
       "      <td>0.13</td>\n",
       "      <td>119,660.94</td>\n",
       "    </tr>\n",
       "  </tbody>\n",
       "</table>\n",
       "</div>"
      ],
      "text/plain": [
       "          score   age  objects  creditcard  loyalty  estimated_salary  churn  \\\n",
       "products                                                                       \n",
       "4        659.02 45.02     5.33        0.70     0.46        101,487.65   1.00   \n",
       "3        645.46 43.96     5.14        0.73     0.39        107,300.09   0.94   \n",
       "1        650.32 39.45     4.98        0.70     0.51         99,696.01   0.26   \n",
       "2        653.15 38.14     4.96        0.70     0.53        102,288.65   0.13   \n",
       "\n",
       "          balance_new  \n",
       "products               \n",
       "4          122,260.61  \n",
       "3          119,475.69  \n",
       "1          119,894.16  \n",
       "2          119,660.94  "
      ]
     },
     "execution_count": 26,
     "metadata": {},
     "output_type": "execute_result"
    }
   ],
   "source": [
    "df.drop(['userid', 'balance'], axis=1).groupby('products').mean().sort_values(by='churn', ascending=False)"
   ]
  },
  {
   "cell_type": "code",
   "execution_count": 27,
   "metadata": {},
   "outputs": [
    {
     "data": {
      "image/png": "[encoded data removed]",
      "text/plain": [
       "<Figure size 576x432 with 1 Axes>"
      ]
     },
     "metadata": {},
     "output_type": "display_data"
    },
    {
     "data": {
      "image/png": "[encoded data removed]",
      "text/plain": [
       "<Figure size 576x432 with 1 Axes>"
      ]
     },
     "metadata": {},
     "output_type": "display_data"
    },
    {
     "data": {
      "image/png": "[encoded data removed]",
      "text/plain": [
       "<Figure size 576x432 with 1 Axes>"
      ]
     },
     "metadata": {},
     "output_type": "display_data"
    },
    {
     "data": {
      "image/png": "[encoded data removed]",
      "text/plain": [
       "<Figure size 576x432 with 1 Axes>"
      ]
     },
     "metadata": {},
     "output_type": "display_data"
    },
    {
     "data": {
      "image/png": "[encoded data removed]",
      "text/plain": [
       "<Figure size 576x432 with 1 Axes>"
      ]
     },
     "metadata": {},
     "output_type": "display_data"
    }
   ],
   "source": [
    "for i in ['city', 'gender', 'creditcard', 'loyalty', 'churn']:\n",
    "    sns.countplot(x='products', hue=i, data=df).set_title(i)\n",
    "    plt.show()"
   ]
  },
  {
   "cell_type": "code",
   "execution_count": 28,
   "metadata": {},
   "outputs": [
    {
     "data": {
      "image/png": "[encoded data removed]",
      "text/plain": [
       "<Figure size 576x432 with 1 Axes>"
      ]
     },
     "metadata": {},
     "output_type": "display_data"
    },
    {
     "data": {
      "image/png": "[encoded data removed]",
      "text/plain": [
       "<Figure size 576x432 with 1 Axes>"
      ]
     },
     "metadata": {},
     "output_type": "display_data"
    },
    {
     "data": {
      "image/png": "[encoded data removed]",
      "text/plain": [
       "<Figure size 576x432 with 1 Axes>"
      ]
     },
     "metadata": {},
     "output_type": "display_data"
    },
    {
     "data": {
      "image/png": "[encoded data removed]",
      "text/plain": [
       "<Figure size 576x432 with 1 Axes>"
      ]
     },
     "metadata": {},
     "output_type": "display_data"
    },
    {
     "data": {
      "image/png": "[encoded data removed]",
      "text/plain": [
       "<Figure size 576x432 with 1 Axes>"
      ]
     },
     "metadata": {},
     "output_type": "display_data"
    }
   ],
   "source": [
    "for i in ['score', 'age', 'objects', 'balance', 'estimated_salary']:\n",
    "    sns.boxplot(x='products',y=i, data=df).set_title(i)\n",
    "    plt.show() "
   ]
  },
  {
   "cell_type": "markdown",
   "metadata": {},
   "source": [
    "**Вывод**\n",
    "\n",
    "- большая часть клиентов пользуется одним продуктом;\n",
    "- чаще всего уходят клиенты, пользующиеся 3-4 продуктами;\n",
    "- более молодые клиенты пользуются 1-2 продуктами, клиенты старше 40 3-4;\n",
    "- больше объектов у тех кто пользуется 3-4 продуктами;\n",
    "- баланс выше у клиентов, которые пользуются 4 продуктами;\n",
    "- зарплата клиентов не сильно зависит от количества продуктов."
   ]
  },
  {
   "cell_type": "markdown",
   "metadata": {},
   "source": [
    "### Выделим портреты клиентов, которые склонны уходить из банка"
   ]
  },
  {
   "cell_type": "code",
   "execution_count": 29,
   "metadata": {},
   "outputs": [
    {
     "data": {
      "text/html": [
       "<div>\n",
       "<style scoped>\n",
       "    .dataframe tbody tr th:only-of-type {\n",
       "        vertical-align: middle;\n",
       "    }\n",
       "\n",
       "    .dataframe tbody tr th {\n",
       "        vertical-align: top;\n",
       "    }\n",
       "\n",
       "    .dataframe thead th {\n",
       "        text-align: right;\n",
       "    }\n",
       "</style>\n",
       "<table border=\"1\" class=\"dataframe\">\n",
       "  <thead>\n",
       "    <tr style=\"text-align: right;\">\n",
       "      <th></th>\n",
       "      <th>score</th>\n",
       "      <th>age</th>\n",
       "      <th>objects</th>\n",
       "      <th>balance</th>\n",
       "      <th>products</th>\n",
       "      <th>creditcard</th>\n",
       "      <th>loyalty</th>\n",
       "      <th>estimated_salary</th>\n",
       "      <th>balance_new</th>\n",
       "    </tr>\n",
       "    <tr>\n",
       "      <th>churn</th>\n",
       "      <th></th>\n",
       "      <th></th>\n",
       "      <th></th>\n",
       "      <th></th>\n",
       "      <th></th>\n",
       "      <th></th>\n",
       "      <th></th>\n",
       "      <th></th>\n",
       "      <th></th>\n",
       "    </tr>\n",
       "  </thead>\n",
       "  <tbody>\n",
       "    <tr>\n",
       "      <th>0</th>\n",
       "      <td>652.82</td>\n",
       "      <td>37.42</td>\n",
       "      <td>4.98</td>\n",
       "      <td>119,535.86</td>\n",
       "      <td>1.36</td>\n",
       "      <td>0.70</td>\n",
       "      <td>0.56</td>\n",
       "      <td>100,512.65</td>\n",
       "      <td>119,535.86</td>\n",
       "    </tr>\n",
       "    <tr>\n",
       "      <th>1</th>\n",
       "      <td>645.84</td>\n",
       "      <td>44.81</td>\n",
       "      <td>4.97</td>\n",
       "      <td>120,746.97</td>\n",
       "      <td>1.47</td>\n",
       "      <td>0.70</td>\n",
       "      <td>0.36</td>\n",
       "      <td>101,362.75</td>\n",
       "      <td>120,746.97</td>\n",
       "    </tr>\n",
       "  </tbody>\n",
       "</table>\n",
       "</div>"
      ],
      "text/plain": [
       "       score   age  objects    balance  products  creditcard  loyalty  \\\n",
       "churn                                                                   \n",
       "0     652.82 37.42     4.98 119,535.86      1.36        0.70     0.56   \n",
       "1     645.84 44.81     4.97 120,746.97      1.47        0.70     0.36   \n",
       "\n",
       "       estimated_salary  balance_new  \n",
       "churn                                 \n",
       "0            100,512.65   119,535.86  \n",
       "1            101,362.75   120,746.97  "
      ]
     },
     "execution_count": 29,
     "metadata": {},
     "output_type": "execute_result"
    }
   ],
   "source": [
    " df.drop(['userid'], axis=1).groupby('churn').mean()"
   ]
  },
  {
   "cell_type": "markdown",
   "metadata": {},
   "source": [
    "По итогу анализа, проведенного выше, портрет ушедшего клиента:\n",
    "    \n",
    "женщина в возрасте 44-х лет с низкой активностью \n",
    "    \n",
    "Портрет  оставшегося клиента:\n",
    "    \n",
    "37-летний клиент с высокой активностью"
   ]
  },
  {
   "cell_type": "markdown",
   "metadata": {},
   "source": [
    "## Шаг 4. Сформируем и проверим статистические гипотезы"
   ]
  },
  {
   "cell_type": "markdown",
   "metadata": {},
   "source": [
    "### Первая гипотеза - есть различия дохода между теми клиентами, которые ушли и теми, которые остались"
   ]
  },
  {
   "cell_type": "code",
   "execution_count": 30,
   "metadata": {},
   "outputs": [
    {
     "data": {
      "text/html": [
       "<div>\n",
       "<style scoped>\n",
       "    .dataframe tbody tr th:only-of-type {\n",
       "        vertical-align: middle;\n",
       "    }\n",
       "\n",
       "    .dataframe tbody tr th {\n",
       "        vertical-align: top;\n",
       "    }\n",
       "\n",
       "    .dataframe thead th {\n",
       "        text-align: right;\n",
       "    }\n",
       "</style>\n",
       "<table border=\"1\" class=\"dataframe\">\n",
       "  <thead>\n",
       "    <tr style=\"text-align: right;\">\n",
       "      <th></th>\n",
       "      <th>estimated_salary</th>\n",
       "    </tr>\n",
       "    <tr>\n",
       "      <th>churn</th>\n",
       "      <th></th>\n",
       "    </tr>\n",
       "  </thead>\n",
       "  <tbody>\n",
       "    <tr>\n",
       "      <th>0</th>\n",
       "      <td>100,512.65</td>\n",
       "    </tr>\n",
       "    <tr>\n",
       "      <th>1</th>\n",
       "      <td>101,362.75</td>\n",
       "    </tr>\n",
       "  </tbody>\n",
       "</table>\n",
       "</div>"
      ],
      "text/plain": [
       "       estimated_salary\n",
       "churn                  \n",
       "0            100,512.65\n",
       "1            101,362.75"
      ]
     },
     "execution_count": 30,
     "metadata": {},
     "output_type": "execute_result"
    }
   ],
   "source": [
    "#посмотрим на среднее выборки\n",
    "df.pivot_table(index='churn', aggfunc={'estimated_salary':'mean'})"
   ]
  },
  {
   "cell_type": "markdown",
   "metadata": {},
   "source": [
    "Для проверки гипотез будем использовать тест Уилкоксона–Манна-Уитни, так как данный параметрический метод не зависит от распределения данных и устойчив к выбросам."
   ]
  },
  {
   "cell_type": "markdown",
   "metadata": {},
   "source": [
    "H0  — доход ушедших клиентов превышает доход оставшихся - вероятность равна 50%\n",
    "\n",
    "H1  — доход ушедших клиентов превышает доход оставшихся - вероятность не равна 50%"
   ]
  },
  {
   "cell_type": "code",
   "execution_count": 31,
   "metadata": {},
   "outputs": [],
   "source": [
    "churn_1 = df.query('churn == 1')\n",
    "churn_0 = df.query('churn == 0')"
   ]
  },
  {
   "cell_type": "code",
   "execution_count": 32,
   "metadata": {},
   "outputs": [
    {
     "name": "stdout",
     "output_type": "stream",
     "text": [
      "p-value составляет: 0.61315\n",
      "Не получилось отвергнуть нулевую гипотезу\n"
     ]
    }
   ],
   "source": [
    "alpha = .05\n",
    "\n",
    "p_val1 = st.mannwhitneyu(churn_1.estimated_salary, churn_0.estimated_salary)[1]\n",
    "\n",
    "print(f'p-value составляет: {\"{0:.5f}\".format(p_val1)}')\n",
    "\n",
    "if p_val1 < alpha:\n",
    "    print(\"Отвергаем нулевую гипотезу\")\n",
    "else:\n",
    "    print(\"Не получилось отвергнуть нулевую гипотезу\")"
   ]
  },
  {
   "cell_type": "markdown",
   "metadata": {},
   "source": [
    "p-value составляет 61%, что значительно выше 5% и означает отсутствие статически значимого различия между доходом ушедших и оставшихся клиентов."
   ]
  },
  {
   "cell_type": "markdown",
   "metadata": {},
   "source": [
    "**Вывод**\n",
    "\n",
    "Нет различий доходов у тех, кто ушел, от тех, кто остался."
   ]
  },
  {
   "cell_type": "markdown",
   "metadata": {},
   "source": [
    "### Вторая гипотеза - есть различия в возрасте между теми клиентами, которые ушли и теми, которые остались"
   ]
  },
  {
   "cell_type": "markdown",
   "metadata": {},
   "source": [
    "H0  — возраст ушедших клиентов старше возраста оставшихся клиентов - вероятность равна 50%\n",
    "\n",
    "H1  — возраст ушедших клиентов старше возраста оставшихся клиентов - вероятность не равна 50%"
   ]
  },
  {
   "cell_type": "code",
   "execution_count": 33,
   "metadata": {},
   "outputs": [
    {
     "name": "stdout",
     "output_type": "stream",
     "text": [
      "p-value составляет: 0.00000\n",
      "Отвергаем нулевую гипотезу\n"
     ]
    }
   ],
   "source": [
    "alpha = .05\n",
    "\n",
    "p_val1 = st.mannwhitneyu(churn_1.age, churn_0.age)[1]\n",
    "\n",
    "print(f'p-value составляет: {\"{0:.5f}\".format(p_val1)}')\n",
    "\n",
    "if p_val1 < alpha:\n",
    "    print(\"Отвергаем нулевую гипотезу\")\n",
    "else:\n",
    "    print(\"Не получилось отвергнуть нулевую гипотезу\")"
   ]
  },
  {
   "cell_type": "markdown",
   "metadata": {},
   "source": [
    "**Вывод**\n",
    "\n",
    "Есть разница по возрасту у тех, кто ушел, от тех, кто остался."
   ]
  },
  {
   "cell_type": "markdown",
   "metadata": {},
   "source": [
    "## Шаг 7. Сформулируем выводы и сделаем базовые рекомендации по работе с клиентами"
   ]
  },
  {
   "cell_type": "markdown",
   "metadata": {},
   "source": [
    "Исходя из полученного портрета общие рекомендации по удержанию клиентов:\n",
    "\n",
    "1. Разработать программы, ориентированные на клиентов женщин\n",
    "2. Сделать специальные предложения для людей старше среднего возраста (44 года) и молодых клиентов (моложе 25)\n",
    "3. Увеличить долю активных клиентов\n",
    "4. Увеличить долю клиентов с количеством продуктов больше двух\n"
   ]
  }
 ],
 "metadata": {
  "ExecuteTimeLog": [
   {
    "duration": 62,
    "start_time": "2022-07-23T07:02:39.196Z"
   },
   {
    "duration": 2,
    "start_time": "2022-07-23T07:03:05.513Z"
   },
   {
    "duration": 80,
    "start_time": "2022-07-23T07:03:10.827Z"
   },
   {
    "duration": 16,
    "start_time": "2022-07-23T07:09:56.951Z"
   },
   {
    "duration": 4,
    "start_time": "2022-07-23T07:13:33.792Z"
   },
   {
    "duration": 15,
    "start_time": "2022-07-23T07:14:20.484Z"
   },
   {
    "duration": 8,
    "start_time": "2022-07-23T07:17:07.422Z"
   },
   {
    "duration": 89,
    "start_time": "2022-07-23T07:17:16.090Z"
   },
   {
    "duration": 1492,
    "start_time": "2022-07-23T07:20:32.701Z"
   },
   {
    "duration": 97,
    "start_time": "2022-07-23T07:20:34.195Z"
   },
   {
    "duration": 3,
    "start_time": "2022-07-23T07:20:34.294Z"
   },
   {
    "duration": 5,
    "start_time": "2022-07-23T07:20:34.300Z"
   },
   {
    "duration": 234,
    "start_time": "2022-07-23T07:20:34.306Z"
   },
   {
    "duration": 6,
    "start_time": "2022-07-23T07:22:04.722Z"
   },
   {
    "duration": 54,
    "start_time": "2022-07-23T07:22:12.245Z"
   },
   {
    "duration": 4,
    "start_time": "2022-07-23T07:28:47.269Z"
   },
   {
    "duration": 84,
    "start_time": "2022-07-23T07:29:59.491Z"
   },
   {
    "duration": 60,
    "start_time": "2022-07-23T07:30:33.249Z"
   },
   {
    "duration": 7,
    "start_time": "2022-07-23T07:30:33.942Z"
   },
   {
    "duration": 7,
    "start_time": "2022-07-23T07:30:43.734Z"
   },
   {
    "duration": 68,
    "start_time": "2022-07-23T07:30:47.491Z"
   },
   {
    "duration": 3,
    "start_time": "2022-07-23T07:30:59.917Z"
   },
   {
    "duration": 16,
    "start_time": "2022-07-23T07:32:06.358Z"
   },
   {
    "duration": 10,
    "start_time": "2022-07-23T07:40:43.436Z"
   },
   {
    "duration": 7,
    "start_time": "2022-07-23T07:40:44.270Z"
   },
   {
    "duration": 15,
    "start_time": "2022-07-23T07:40:54.766Z"
   },
   {
    "duration": 3,
    "start_time": "2022-07-23T07:47:15.115Z"
   },
   {
    "duration": 4,
    "start_time": "2022-07-23T07:47:28.712Z"
   },
   {
    "duration": 4,
    "start_time": "2022-07-23T07:47:29.450Z"
   },
   {
    "duration": 93,
    "start_time": "2022-07-23T07:47:30.211Z"
   },
   {
    "duration": 3,
    "start_time": "2022-07-23T07:47:30.752Z"
   },
   {
    "duration": 92,
    "start_time": "2022-07-23T07:47:31.576Z"
   },
   {
    "duration": 26,
    "start_time": "2022-07-23T07:48:28.721Z"
   },
   {
    "duration": 1294,
    "start_time": "2022-07-23T07:51:57.381Z"
   },
   {
    "duration": 0,
    "start_time": "2022-07-23T07:51:58.677Z"
   },
   {
    "duration": 20,
    "start_time": "2022-07-23T07:52:43.254Z"
   },
   {
    "duration": 1307,
    "start_time": "2022-07-23T07:52:57.060Z"
   },
   {
    "duration": 4,
    "start_time": "2022-07-23T07:52:58.370Z"
   },
   {
    "duration": 446,
    "start_time": "2022-07-23T07:52:58.378Z"
   },
   {
    "duration": 5,
    "start_time": "2022-07-23T07:52:58.826Z"
   },
   {
    "duration": 91,
    "start_time": "2022-07-23T07:52:58.833Z"
   },
   {
    "duration": 3,
    "start_time": "2022-07-23T07:52:58.926Z"
   },
   {
    "duration": 46,
    "start_time": "2022-07-23T07:52:58.931Z"
   },
   {
    "duration": 8,
    "start_time": "2022-07-23T07:52:58.979Z"
   },
   {
    "duration": 9,
    "start_time": "2022-07-23T07:52:58.989Z"
   },
   {
    "duration": 19,
    "start_time": "2022-07-23T07:52:58.999Z"
   },
   {
    "duration": 12,
    "start_time": "2022-07-23T07:52:59.020Z"
   },
   {
    "duration": 37,
    "start_time": "2022-07-23T07:52:59.035Z"
   },
   {
    "duration": 1254,
    "start_time": "2022-07-23T08:06:48.522Z"
   },
   {
    "duration": 3,
    "start_time": "2022-07-23T08:06:49.778Z"
   },
   {
    "duration": 145,
    "start_time": "2022-07-23T08:06:49.783Z"
   },
   {
    "duration": 5,
    "start_time": "2022-07-23T08:06:49.931Z"
   },
   {
    "duration": 82,
    "start_time": "2022-07-23T08:06:49.938Z"
   },
   {
    "duration": 7,
    "start_time": "2022-07-23T08:06:50.022Z"
   },
   {
    "duration": 27,
    "start_time": "2022-07-23T08:06:50.034Z"
   },
   {
    "duration": 10,
    "start_time": "2022-07-23T08:06:50.063Z"
   },
   {
    "duration": 16,
    "start_time": "2022-07-23T08:06:50.075Z"
   },
   {
    "duration": 7,
    "start_time": "2022-07-23T08:06:50.094Z"
   },
   {
    "duration": 50,
    "start_time": "2022-07-23T08:06:50.102Z"
   },
   {
    "duration": 36,
    "start_time": "2022-07-23T08:08:37.153Z"
   },
   {
    "duration": 14,
    "start_time": "2022-07-23T08:26:49.855Z"
   },
   {
    "duration": 1288,
    "start_time": "2022-07-23T08:27:48.057Z"
   },
   {
    "duration": 5,
    "start_time": "2022-07-23T08:27:49.352Z"
   },
   {
    "duration": 80,
    "start_time": "2022-07-23T08:27:49.359Z"
   },
   {
    "duration": 12,
    "start_time": "2022-07-23T08:27:49.442Z"
   },
   {
    "duration": 112,
    "start_time": "2022-07-23T08:27:49.462Z"
   },
   {
    "duration": 5,
    "start_time": "2022-07-23T08:27:49.576Z"
   },
   {
    "duration": 16,
    "start_time": "2022-07-23T08:27:49.583Z"
   },
   {
    "duration": 8,
    "start_time": "2022-07-23T08:27:49.602Z"
   },
   {
    "duration": 31,
    "start_time": "2022-07-23T08:27:49.625Z"
   },
   {
    "duration": 12,
    "start_time": "2022-07-23T08:27:49.659Z"
   },
   {
    "duration": 13,
    "start_time": "2022-07-23T08:27:49.673Z"
   },
   {
    "duration": 58,
    "start_time": "2022-07-23T08:27:49.688Z"
   },
   {
    "duration": 17,
    "start_time": "2022-07-23T08:27:49.752Z"
   },
   {
    "duration": 1385,
    "start_time": "2022-07-23T08:28:12.867Z"
   },
   {
    "duration": 4,
    "start_time": "2022-07-23T08:28:14.259Z"
   },
   {
    "duration": 80,
    "start_time": "2022-07-23T08:28:14.267Z"
   },
   {
    "duration": 8,
    "start_time": "2022-07-23T08:28:14.350Z"
   },
   {
    "duration": 118,
    "start_time": "2022-07-23T08:28:14.369Z"
   },
   {
    "duration": 5,
    "start_time": "2022-07-23T08:28:14.489Z"
   },
   {
    "duration": 34,
    "start_time": "2022-07-23T08:28:14.496Z"
   },
   {
    "duration": 17,
    "start_time": "2022-07-23T08:28:14.535Z"
   },
   {
    "duration": 59,
    "start_time": "2022-07-23T08:28:14.554Z"
   },
   {
    "duration": 37,
    "start_time": "2022-07-23T08:28:14.617Z"
   },
   {
    "duration": 34,
    "start_time": "2022-07-23T08:28:14.667Z"
   },
   {
    "duration": 69,
    "start_time": "2022-07-23T08:28:14.706Z"
   },
   {
    "duration": 28,
    "start_time": "2022-07-23T08:28:14.778Z"
   },
   {
    "duration": 82,
    "start_time": "2022-07-23T08:41:54.245Z"
   },
   {
    "duration": 10,
    "start_time": "2022-07-23T08:44:58.965Z"
   },
   {
    "duration": 49,
    "start_time": "2022-07-23T08:45:22.158Z"
   },
   {
    "duration": 62,
    "start_time": "2022-07-23T08:50:34.149Z"
   },
   {
    "duration": 2528,
    "start_time": "2022-07-23T08:51:16.202Z"
   },
   {
    "duration": 1273,
    "start_time": "2022-07-23T09:01:29.796Z"
   },
   {
    "duration": 3,
    "start_time": "2022-07-23T09:01:31.071Z"
   },
   {
    "duration": 308,
    "start_time": "2022-07-23T09:01:31.076Z"
   },
   {
    "duration": 4,
    "start_time": "2022-07-23T09:01:31.386Z"
   },
   {
    "duration": 94,
    "start_time": "2022-07-23T09:01:31.392Z"
   },
   {
    "duration": 3,
    "start_time": "2022-07-23T09:01:31.488Z"
   },
   {
    "duration": 17,
    "start_time": "2022-07-23T09:01:31.493Z"
   },
   {
    "duration": 28,
    "start_time": "2022-07-23T09:01:31.512Z"
   },
   {
    "duration": 42,
    "start_time": "2022-07-23T09:01:31.542Z"
   },
   {
    "duration": 11,
    "start_time": "2022-07-23T09:01:31.586Z"
   },
   {
    "duration": 10,
    "start_time": "2022-07-23T09:01:31.599Z"
   },
   {
    "duration": 50,
    "start_time": "2022-07-23T09:01:31.611Z"
   },
   {
    "duration": 14,
    "start_time": "2022-07-23T09:01:31.663Z"
   },
   {
    "duration": 2508,
    "start_time": "2022-07-23T09:01:31.679Z"
   },
   {
    "duration": 96,
    "start_time": "2022-07-23T09:01:34.189Z"
   },
   {
    "duration": 9,
    "start_time": "2022-07-23T09:01:34.287Z"
   },
   {
    "duration": 74,
    "start_time": "2022-07-23T09:01:34.297Z"
   },
   {
    "duration": 7,
    "start_time": "2022-07-23T10:42:32.758Z"
   },
   {
    "duration": 7,
    "start_time": "2022-07-23T10:44:25.011Z"
   },
   {
    "duration": 4,
    "start_time": "2022-07-23T10:45:52.475Z"
   },
   {
    "duration": 3,
    "start_time": "2022-07-23T10:45:52.988Z"
   },
   {
    "duration": 119,
    "start_time": "2022-07-23T10:45:53.354Z"
   },
   {
    "duration": 5,
    "start_time": "2022-07-23T10:45:53.862Z"
   },
   {
    "duration": 93,
    "start_time": "2022-07-23T10:45:54.219Z"
   },
   {
    "duration": 3,
    "start_time": "2022-07-23T10:45:55.459Z"
   },
   {
    "duration": 7,
    "start_time": "2022-07-23T10:45:56.251Z"
   },
   {
    "duration": 5,
    "start_time": "2022-07-23T10:45:56.631Z"
   },
   {
    "duration": 24,
    "start_time": "2022-07-23T10:45:57.336Z"
   },
   {
    "duration": 8,
    "start_time": "2022-07-23T10:45:58.050Z"
   },
   {
    "duration": 9,
    "start_time": "2022-07-23T10:45:58.387Z"
   },
   {
    "duration": 44,
    "start_time": "2022-07-23T10:45:59.787Z"
   },
   {
    "duration": 9,
    "start_time": "2022-07-23T10:46:00.525Z"
   },
   {
    "duration": 4,
    "start_time": "2022-07-23T10:46:01.630Z"
   },
   {
    "duration": 8,
    "start_time": "2022-07-23T10:46:02.386Z"
   },
   {
    "duration": 57,
    "start_time": "2022-07-23T10:46:02.946Z"
   },
   {
    "duration": 7,
    "start_time": "2022-07-23T10:46:15.669Z"
   },
   {
    "duration": 8,
    "start_time": "2022-07-23T10:46:51.413Z"
   },
   {
    "duration": 12,
    "start_time": "2022-07-23T10:47:02.293Z"
   },
   {
    "duration": 9,
    "start_time": "2022-07-23T10:47:12.586Z"
   },
   {
    "duration": 7,
    "start_time": "2022-07-23T10:53:08.590Z"
   },
   {
    "duration": 7,
    "start_time": "2022-07-23T10:53:13.140Z"
   },
   {
    "duration": 6,
    "start_time": "2022-07-23T10:54:24.139Z"
   },
   {
    "duration": 7,
    "start_time": "2022-07-23T10:55:21.843Z"
   },
   {
    "duration": 122,
    "start_time": "2022-07-23T11:02:34.121Z"
   },
   {
    "duration": 50,
    "start_time": "2022-07-23T11:02:43.854Z"
   },
   {
    "duration": 103,
    "start_time": "2022-07-23T11:05:38.502Z"
   },
   {
    "duration": 9,
    "start_time": "2022-07-23T11:05:45.810Z"
   },
   {
    "duration": 130,
    "start_time": "2022-07-23T11:05:46.470Z"
   },
   {
    "duration": 75,
    "start_time": "2022-07-23T11:06:10.376Z"
   },
   {
    "duration": 158,
    "start_time": "2022-07-23T11:07:04.590Z"
   },
   {
    "duration": 12,
    "start_time": "2022-07-23T11:12:00.150Z"
   },
   {
    "duration": 33,
    "start_time": "2022-07-23T11:12:03.584Z"
   },
   {
    "duration": 1239,
    "start_time": "2022-07-23T11:14:02.615Z"
   },
   {
    "duration": 30,
    "start_time": "2022-07-23T11:14:17.589Z"
   },
   {
    "duration": 217,
    "start_time": "2022-07-23T11:14:30.070Z"
   },
   {
    "duration": 209,
    "start_time": "2022-07-23T11:14:51.058Z"
   },
   {
    "duration": 202,
    "start_time": "2022-07-23T11:15:20.936Z"
   },
   {
    "duration": 216,
    "start_time": "2022-07-23T11:15:39.192Z"
   },
   {
    "duration": 240,
    "start_time": "2022-07-23T11:16:20.549Z"
   },
   {
    "duration": 233,
    "start_time": "2022-07-23T11:18:13.050Z"
   },
   {
    "duration": 182,
    "start_time": "2022-07-23T11:18:58.460Z"
   },
   {
    "duration": 218,
    "start_time": "2022-07-23T11:19:27.079Z"
   },
   {
    "duration": 24,
    "start_time": "2022-07-23T11:33:25.572Z"
   },
   {
    "duration": 353,
    "start_time": "2022-07-23T11:37:04.666Z"
   },
   {
    "duration": 45,
    "start_time": "2022-07-23T11:38:51.546Z"
   },
   {
    "duration": 179,
    "start_time": "2022-07-23T11:39:03.312Z"
   },
   {
    "duration": 18,
    "start_time": "2022-07-23T11:39:28.913Z"
   },
   {
    "duration": 183,
    "start_time": "2022-07-23T11:40:16.077Z"
   },
   {
    "duration": 113,
    "start_time": "2022-07-23T11:46:25.349Z"
   },
   {
    "duration": 909,
    "start_time": "2022-07-23T11:48:19.394Z"
   },
   {
    "duration": 240,
    "start_time": "2022-07-23T11:48:47.109Z"
   },
   {
    "duration": 402,
    "start_time": "2022-07-23T11:50:06.638Z"
   },
   {
    "duration": 354,
    "start_time": "2022-07-23T11:50:24.282Z"
   },
   {
    "duration": 407,
    "start_time": "2022-07-23T11:51:22.905Z"
   },
   {
    "duration": 246,
    "start_time": "2022-07-23T11:51:28.964Z"
   },
   {
    "duration": 261,
    "start_time": "2022-07-23T11:51:53.541Z"
   },
   {
    "duration": 291,
    "start_time": "2022-07-23T11:52:34.852Z"
   },
   {
    "duration": 279,
    "start_time": "2022-07-23T11:52:59.059Z"
   },
   {
    "duration": 224,
    "start_time": "2022-07-23T11:53:09.571Z"
   },
   {
    "duration": 225,
    "start_time": "2022-07-23T11:55:31.657Z"
   },
   {
    "duration": 242,
    "start_time": "2022-07-23T11:56:16.958Z"
   },
   {
    "duration": 290,
    "start_time": "2022-07-23T11:57:26.099Z"
   },
   {
    "duration": 26,
    "start_time": "2022-07-23T11:57:57.647Z"
   },
   {
    "duration": 227,
    "start_time": "2022-07-23T12:33:45.270Z"
   },
   {
    "duration": 18,
    "start_time": "2022-07-23T12:37:17.766Z"
   },
   {
    "duration": 73,
    "start_time": "2022-07-23T12:38:57.685Z"
   },
   {
    "duration": 1273,
    "start_time": "2022-07-23T12:38:57.829Z"
   },
   {
    "duration": 3,
    "start_time": "2022-07-23T12:38:59.104Z"
   },
   {
    "duration": 162,
    "start_time": "2022-07-23T12:38:59.109Z"
   },
   {
    "duration": 4,
    "start_time": "2022-07-23T12:38:59.275Z"
   },
   {
    "duration": 74,
    "start_time": "2022-07-23T12:38:59.281Z"
   },
   {
    "duration": 4,
    "start_time": "2022-07-23T12:38:59.357Z"
   },
   {
    "duration": 9,
    "start_time": "2022-07-23T12:38:59.364Z"
   },
   {
    "duration": 7,
    "start_time": "2022-07-23T12:38:59.376Z"
   },
   {
    "duration": 57,
    "start_time": "2022-07-23T12:38:59.386Z"
   },
   {
    "duration": 10,
    "start_time": "2022-07-23T12:38:59.446Z"
   },
   {
    "duration": 9,
    "start_time": "2022-07-23T12:38:59.458Z"
   },
   {
    "duration": 79,
    "start_time": "2022-07-23T12:38:59.469Z"
   },
   {
    "duration": 11,
    "start_time": "2022-07-23T12:38:59.549Z"
   },
   {
    "duration": 12,
    "start_time": "2022-07-23T12:38:59.562Z"
   },
   {
    "duration": 254,
    "start_time": "2022-07-23T12:38:59.576Z"
   },
   {
    "duration": 238,
    "start_time": "2022-07-23T12:38:59.831Z"
   },
   {
    "duration": 318,
    "start_time": "2022-07-23T12:39:00.071Z"
   },
   {
    "duration": 267,
    "start_time": "2022-07-23T12:39:00.392Z"
   },
   {
    "duration": 1696,
    "start_time": "2022-07-23T12:41:42.121Z"
   },
   {
    "duration": 3,
    "start_time": "2022-07-23T12:41:43.821Z"
   },
   {
    "duration": 112,
    "start_time": "2022-07-23T12:41:43.826Z"
   },
   {
    "duration": 9,
    "start_time": "2022-07-23T12:41:43.941Z"
   },
   {
    "duration": 110,
    "start_time": "2022-07-23T12:41:43.955Z"
   },
   {
    "duration": 4,
    "start_time": "2022-07-23T12:41:44.067Z"
   },
   {
    "duration": 51,
    "start_time": "2022-07-23T12:41:44.073Z"
   },
   {
    "duration": 42,
    "start_time": "2022-07-23T12:41:44.126Z"
   },
   {
    "duration": 32,
    "start_time": "2022-07-23T12:41:44.170Z"
   },
   {
    "duration": 9,
    "start_time": "2022-07-23T12:41:44.205Z"
   },
   {
    "duration": 47,
    "start_time": "2022-07-23T12:41:44.216Z"
   },
   {
    "duration": 76,
    "start_time": "2022-07-23T12:41:44.266Z"
   },
   {
    "duration": 12,
    "start_time": "2022-07-23T12:41:44.344Z"
   },
   {
    "duration": 17,
    "start_time": "2022-07-23T12:41:44.358Z"
   },
   {
    "duration": 333,
    "start_time": "2022-07-23T12:41:44.376Z"
   },
   {
    "duration": 318,
    "start_time": "2022-07-23T12:41:44.712Z"
   },
   {
    "duration": 312,
    "start_time": "2022-07-23T12:41:45.036Z"
   },
   {
    "duration": 392,
    "start_time": "2022-07-23T12:41:45.350Z"
   },
   {
    "duration": 190,
    "start_time": "2022-07-23T12:41:45.744Z"
   },
   {
    "duration": 0,
    "start_time": "2022-07-23T12:41:45.942Z"
   },
   {
    "duration": 0,
    "start_time": "2022-07-23T12:41:45.948Z"
   },
   {
    "duration": 0,
    "start_time": "2022-07-23T12:41:45.949Z"
   },
   {
    "duration": 0,
    "start_time": "2022-07-23T12:41:45.950Z"
   },
   {
    "duration": 0,
    "start_time": "2022-07-23T12:41:45.951Z"
   },
   {
    "duration": 137016,
    "start_time": "2022-07-23T12:42:41.224Z"
   },
   {
    "duration": 247,
    "start_time": "2022-07-23T12:44:58.253Z"
   },
   {
    "duration": 326,
    "start_time": "2022-07-23T12:44:58.502Z"
   },
   {
    "duration": 281,
    "start_time": "2022-07-23T12:44:58.831Z"
   },
   {
    "duration": 296,
    "start_time": "2022-07-23T12:44:59.114Z"
   },
   {
    "duration": 27,
    "start_time": "2022-07-23T12:44:59.412Z"
   },
   {
    "duration": 2709,
    "start_time": "2022-07-23T12:45:22.653Z"
   },
   {
    "duration": 1078,
    "start_time": "2022-07-23T12:57:48.708Z"
   },
   {
    "duration": 72,
    "start_time": "2022-07-23T13:04:26.738Z"
   },
   {
    "duration": 14,
    "start_time": "2022-07-23T13:07:56.080Z"
   },
   {
    "duration": 34,
    "start_time": "2022-07-23T13:08:21.205Z"
   },
   {
    "duration": 27,
    "start_time": "2022-07-23T13:08:59.738Z"
   },
   {
    "duration": 2475,
    "start_time": "2022-07-23T13:09:00.327Z"
   },
   {
    "duration": 39,
    "start_time": "2022-07-23T13:15:23.577Z"
   },
   {
    "duration": 1519,
    "start_time": "2022-07-23T13:17:37.986Z"
   },
   {
    "duration": 4,
    "start_time": "2022-07-23T13:17:39.508Z"
   },
   {
    "duration": 76,
    "start_time": "2022-07-23T13:17:39.521Z"
   },
   {
    "duration": 4,
    "start_time": "2022-07-23T13:17:39.600Z"
   },
   {
    "duration": 101,
    "start_time": "2022-07-23T13:17:39.606Z"
   },
   {
    "duration": 5,
    "start_time": "2022-07-23T13:17:39.721Z"
   },
   {
    "duration": 17,
    "start_time": "2022-07-23T13:17:39.728Z"
   },
   {
    "duration": 13,
    "start_time": "2022-07-23T13:17:39.747Z"
   },
   {
    "duration": 25,
    "start_time": "2022-07-23T13:17:39.762Z"
   },
   {
    "duration": 32,
    "start_time": "2022-07-23T13:17:39.791Z"
   },
   {
    "duration": 11,
    "start_time": "2022-07-23T13:17:39.825Z"
   },
   {
    "duration": 56,
    "start_time": "2022-07-23T13:17:39.839Z"
   },
   {
    "duration": 26,
    "start_time": "2022-07-23T13:17:39.897Z"
   },
   {
    "duration": 13,
    "start_time": "2022-07-23T13:17:39.925Z"
   },
   {
    "duration": 325,
    "start_time": "2022-07-23T13:17:39.940Z"
   },
   {
    "duration": 315,
    "start_time": "2022-07-23T13:17:40.268Z"
   },
   {
    "duration": 334,
    "start_time": "2022-07-23T13:17:40.585Z"
   },
   {
    "duration": 252,
    "start_time": "2022-07-23T13:17:40.922Z"
   },
   {
    "duration": 22,
    "start_time": "2022-07-23T13:17:41.177Z"
   },
   {
    "duration": 2602,
    "start_time": "2022-07-23T13:17:41.202Z"
   },
   {
    "duration": 42,
    "start_time": "2022-07-23T13:17:43.807Z"
   },
   {
    "duration": 2102,
    "start_time": "2022-07-23T13:17:43.852Z"
   },
   {
    "duration": 173,
    "start_time": "2022-07-23T13:17:45.957Z"
   },
   {
    "duration": 0,
    "start_time": "2022-07-23T13:17:46.133Z"
   },
   {
    "duration": 0,
    "start_time": "2022-07-23T13:17:46.134Z"
   },
   {
    "duration": 0,
    "start_time": "2022-07-23T13:17:46.136Z"
   },
   {
    "duration": 28,
    "start_time": "2022-07-23T13:18:03.593Z"
   },
   {
    "duration": 66,
    "start_time": "2022-07-23T13:18:59.261Z"
   },
   {
    "duration": 783,
    "start_time": "2022-07-23T13:19:12.814Z"
   },
   {
    "duration": 96,
    "start_time": "2022-07-23T13:19:37.514Z"
   },
   {
    "duration": 14,
    "start_time": "2022-07-23T13:19:39.056Z"
   },
   {
    "duration": 36,
    "start_time": "2022-07-23T13:19:40.635Z"
   },
   {
    "duration": 663,
    "start_time": "2022-07-23T13:25:08.594Z"
   },
   {
    "duration": 13,
    "start_time": "2022-07-23T13:25:52.243Z"
   },
   {
    "duration": 793,
    "start_time": "2022-07-23T13:27:43.622Z"
   },
   {
    "duration": 29,
    "start_time": "2022-07-23T13:28:12.872Z"
   },
   {
    "duration": 14,
    "start_time": "2022-07-23T13:28:20.390Z"
   },
   {
    "duration": 703,
    "start_time": "2022-07-23T13:28:27.389Z"
   },
   {
    "duration": 24,
    "start_time": "2022-07-23T13:28:45.244Z"
   },
   {
    "duration": 20,
    "start_time": "2022-07-23T13:36:51.956Z"
   },
   {
    "duration": 91,
    "start_time": "2022-07-23T13:39:12.976Z"
   },
   {
    "duration": 15,
    "start_time": "2022-07-23T13:45:01.470Z"
   },
   {
    "duration": 13,
    "start_time": "2022-07-23T13:59:27.943Z"
   },
   {
    "duration": 1298,
    "start_time": "2022-07-23T14:01:45.230Z"
   },
   {
    "duration": 3,
    "start_time": "2022-07-23T14:01:46.542Z"
   },
   {
    "duration": 126,
    "start_time": "2022-07-23T14:01:46.547Z"
   },
   {
    "duration": 4,
    "start_time": "2022-07-23T14:01:46.675Z"
   },
   {
    "duration": 92,
    "start_time": "2022-07-23T14:01:46.680Z"
   },
   {
    "duration": 3,
    "start_time": "2022-07-23T14:01:46.774Z"
   },
   {
    "duration": 13,
    "start_time": "2022-07-23T14:01:46.780Z"
   },
   {
    "duration": 10,
    "start_time": "2022-07-23T14:01:46.795Z"
   },
   {
    "duration": 38,
    "start_time": "2022-07-23T14:01:46.807Z"
   },
   {
    "duration": 8,
    "start_time": "2022-07-23T14:01:46.849Z"
   },
   {
    "duration": 12,
    "start_time": "2022-07-23T14:01:46.858Z"
   },
   {
    "duration": 66,
    "start_time": "2022-07-23T14:01:46.872Z"
   },
   {
    "duration": 10,
    "start_time": "2022-07-23T14:01:46.942Z"
   },
   {
    "duration": 17,
    "start_time": "2022-07-23T14:01:46.954Z"
   },
   {
    "duration": 237,
    "start_time": "2022-07-23T14:01:46.974Z"
   },
   {
    "duration": 231,
    "start_time": "2022-07-23T14:01:47.213Z"
   },
   {
    "duration": 230,
    "start_time": "2022-07-23T14:01:47.446Z"
   },
   {
    "duration": 271,
    "start_time": "2022-07-23T14:01:47.678Z"
   },
   {
    "duration": 18,
    "start_time": "2022-07-23T14:01:47.951Z"
   },
   {
    "duration": 2391,
    "start_time": "2022-07-23T14:01:47.971Z"
   },
   {
    "duration": 19,
    "start_time": "2022-07-23T14:01:50.364Z"
   },
   {
    "duration": 1923,
    "start_time": "2022-07-23T14:01:50.385Z"
   },
   {
    "duration": 95,
    "start_time": "2022-07-23T14:01:52.310Z"
   },
   {
    "duration": 23,
    "start_time": "2022-07-23T14:01:52.407Z"
   },
   {
    "duration": 0,
    "start_time": "2022-07-23T14:01:52.434Z"
   },
   {
    "duration": 0,
    "start_time": "2022-07-23T14:01:52.435Z"
   },
   {
    "duration": 0,
    "start_time": "2022-07-23T14:01:52.440Z"
   },
   {
    "duration": 16,
    "start_time": "2022-07-23T14:04:24.072Z"
   },
   {
    "duration": 58,
    "start_time": "2022-07-23T14:04:46.093Z"
   },
   {
    "duration": 13,
    "start_time": "2022-07-23T14:04:54.101Z"
   },
   {
    "duration": 12,
    "start_time": "2022-07-23T14:08:46.278Z"
   },
   {
    "duration": 1299,
    "start_time": "2022-07-23T14:15:39.373Z"
   },
   {
    "duration": 3,
    "start_time": "2022-07-23T14:15:40.674Z"
   },
   {
    "duration": 92,
    "start_time": "2022-07-23T14:15:40.679Z"
   },
   {
    "duration": 4,
    "start_time": "2022-07-23T14:15:40.773Z"
   },
   {
    "duration": 89,
    "start_time": "2022-07-23T14:15:40.779Z"
   },
   {
    "duration": 5,
    "start_time": "2022-07-23T14:15:40.870Z"
   },
   {
    "duration": 17,
    "start_time": "2022-07-23T14:15:40.877Z"
   },
   {
    "duration": 10,
    "start_time": "2022-07-23T14:15:40.896Z"
   },
   {
    "duration": 36,
    "start_time": "2022-07-23T14:15:40.908Z"
   },
   {
    "duration": 23,
    "start_time": "2022-07-23T14:15:40.948Z"
   },
   {
    "duration": 10,
    "start_time": "2022-07-23T14:15:40.973Z"
   },
   {
    "duration": 45,
    "start_time": "2022-07-23T14:15:40.985Z"
   },
   {
    "duration": 10,
    "start_time": "2022-07-23T14:15:41.038Z"
   },
   {
    "duration": 19,
    "start_time": "2022-07-23T14:15:41.050Z"
   },
   {
    "duration": 230,
    "start_time": "2022-07-23T14:15:41.071Z"
   },
   {
    "duration": 223,
    "start_time": "2022-07-23T14:15:41.303Z"
   },
   {
    "duration": 226,
    "start_time": "2022-07-23T14:15:41.529Z"
   },
   {
    "duration": 260,
    "start_time": "2022-07-23T14:15:41.757Z"
   },
   {
    "duration": 22,
    "start_time": "2022-07-23T14:15:42.024Z"
   },
   {
    "duration": 2482,
    "start_time": "2022-07-23T14:15:42.048Z"
   },
   {
    "duration": 26,
    "start_time": "2022-07-23T14:15:44.532Z"
   },
   {
    "duration": 1929,
    "start_time": "2022-07-23T14:15:44.560Z"
   },
   {
    "duration": 103,
    "start_time": "2022-07-23T14:15:46.492Z"
   },
   {
    "duration": 37,
    "start_time": "2022-07-23T14:15:46.597Z"
   },
   {
    "duration": 10,
    "start_time": "2022-07-23T14:15:46.640Z"
   },
   {
    "duration": 15,
    "start_time": "2022-07-23T14:15:46.653Z"
   },
   {
    "duration": 4,
    "start_time": "2022-07-23T14:16:53.253Z"
   },
   {
    "duration": 13,
    "start_time": "2022-07-23T14:17:06.751Z"
   },
   {
    "duration": 15,
    "start_time": "2022-07-23T14:20:56.277Z"
   },
   {
    "duration": 30,
    "start_time": "2022-07-23T14:21:10.010Z"
   },
   {
    "duration": 11,
    "start_time": "2022-07-23T14:25:15.658Z"
   },
   {
    "duration": 1379,
    "start_time": "2022-07-23T14:47:41.593Z"
   },
   {
    "duration": 6,
    "start_time": "2022-07-23T14:47:42.976Z"
   },
   {
    "duration": 116,
    "start_time": "2022-07-23T14:47:42.985Z"
   },
   {
    "duration": 5,
    "start_time": "2022-07-23T14:47:43.105Z"
   },
   {
    "duration": 98,
    "start_time": "2022-07-23T14:47:43.112Z"
   },
   {
    "duration": 13,
    "start_time": "2022-07-23T14:47:43.212Z"
   },
   {
    "duration": 31,
    "start_time": "2022-07-23T14:47:43.229Z"
   },
   {
    "duration": 11,
    "start_time": "2022-07-23T14:47:43.263Z"
   },
   {
    "duration": 35,
    "start_time": "2022-07-23T14:47:43.277Z"
   },
   {
    "duration": 15,
    "start_time": "2022-07-23T14:47:43.316Z"
   },
   {
    "duration": 31,
    "start_time": "2022-07-23T14:47:43.333Z"
   },
   {
    "duration": 47,
    "start_time": "2022-07-23T14:47:43.367Z"
   },
   {
    "duration": 8,
    "start_time": "2022-07-23T14:47:43.416Z"
   },
   {
    "duration": 61,
    "start_time": "2022-07-23T14:47:43.426Z"
   },
   {
    "duration": 246,
    "start_time": "2022-07-23T14:47:43.489Z"
   },
   {
    "duration": 220,
    "start_time": "2022-07-23T14:47:43.737Z"
   },
   {
    "duration": 329,
    "start_time": "2022-07-23T14:47:43.962Z"
   },
   {
    "duration": 314,
    "start_time": "2022-07-23T14:47:44.293Z"
   },
   {
    "duration": 36,
    "start_time": "2022-07-23T14:47:44.610Z"
   },
   {
    "duration": 2713,
    "start_time": "2022-07-23T14:47:44.649Z"
   },
   {
    "duration": 18,
    "start_time": "2022-07-23T14:47:47.364Z"
   },
   {
    "duration": 1919,
    "start_time": "2022-07-23T14:47:47.384Z"
   },
   {
    "duration": 96,
    "start_time": "2022-07-23T14:47:49.305Z"
   },
   {
    "duration": 23,
    "start_time": "2022-07-23T14:47:49.403Z"
   },
   {
    "duration": 36,
    "start_time": "2022-07-23T14:47:49.429Z"
   },
   {
    "duration": 9,
    "start_time": "2022-07-23T14:47:49.468Z"
   },
   {
    "duration": 18,
    "start_time": "2022-07-23T14:47:49.480Z"
   },
   {
    "duration": 1333,
    "start_time": "2022-07-24T06:43:40.908Z"
   },
   {
    "duration": 3,
    "start_time": "2022-07-24T06:43:42.243Z"
   },
   {
    "duration": 53,
    "start_time": "2022-07-24T06:43:42.248Z"
   },
   {
    "duration": 3,
    "start_time": "2022-07-24T06:43:42.303Z"
   },
   {
    "duration": 65,
    "start_time": "2022-07-24T06:43:42.308Z"
   },
   {
    "duration": 3,
    "start_time": "2022-07-24T06:43:42.375Z"
   },
   {
    "duration": 7,
    "start_time": "2022-07-24T06:43:42.380Z"
   },
   {
    "duration": 6,
    "start_time": "2022-07-24T06:43:42.389Z"
   },
   {
    "duration": 34,
    "start_time": "2022-07-24T06:43:42.397Z"
   },
   {
    "duration": 7,
    "start_time": "2022-07-24T06:43:42.434Z"
   },
   {
    "duration": 8,
    "start_time": "2022-07-24T06:43:42.443Z"
   },
   {
    "duration": 31,
    "start_time": "2022-07-24T06:43:42.453Z"
   },
   {
    "duration": 6,
    "start_time": "2022-07-24T06:43:42.485Z"
   },
   {
    "duration": 40,
    "start_time": "2022-07-24T06:43:42.492Z"
   },
   {
    "duration": 206,
    "start_time": "2022-07-24T06:43:42.533Z"
   },
   {
    "duration": 209,
    "start_time": "2022-07-24T06:43:42.742Z"
   },
   {
    "duration": 212,
    "start_time": "2022-07-24T06:43:42.953Z"
   },
   {
    "duration": 251,
    "start_time": "2022-07-24T06:43:43.167Z"
   },
   {
    "duration": 12,
    "start_time": "2022-07-24T06:43:43.422Z"
   },
   {
    "duration": 2141,
    "start_time": "2022-07-24T06:43:43.436Z"
   },
   {
    "duration": 17,
    "start_time": "2022-07-24T06:43:45.579Z"
   },
   {
    "duration": 1720,
    "start_time": "2022-07-24T06:43:45.598Z"
   },
   {
    "duration": 76,
    "start_time": "2022-07-24T06:43:47.319Z"
   },
   {
    "duration": 9,
    "start_time": "2022-07-24T06:43:47.397Z"
   },
   {
    "duration": 19,
    "start_time": "2022-07-24T06:43:47.408Z"
   },
   {
    "duration": 11,
    "start_time": "2022-07-24T06:43:47.428Z"
   },
   {
    "duration": 15,
    "start_time": "2022-07-24T06:43:47.440Z"
   },
   {
    "duration": 49,
    "start_time": "2022-07-24T06:51:38.832Z"
   },
   {
    "duration": 149,
    "start_time": "2022-07-24T06:51:43.204Z"
   },
   {
    "duration": 4,
    "start_time": "2022-07-24T06:51:58.740Z"
   },
   {
    "duration": 15,
    "start_time": "2022-07-24T06:52:02.299Z"
   },
   {
    "duration": 12,
    "start_time": "2022-07-24T06:53:26.667Z"
   },
   {
    "duration": 11,
    "start_time": "2022-07-24T06:57:31.368Z"
   },
   {
    "duration": 11,
    "start_time": "2022-07-24T06:58:14.380Z"
   },
   {
    "duration": 10,
    "start_time": "2022-07-24T06:59:58.756Z"
   },
   {
    "duration": 11,
    "start_time": "2022-07-24T07:11:10.721Z"
   },
   {
    "duration": 147,
    "start_time": "2022-07-24T07:11:20.766Z"
   },
   {
    "duration": 1196,
    "start_time": "2022-07-24T07:14:03.967Z"
   },
   {
    "duration": 3,
    "start_time": "2022-07-24T07:14:05.165Z"
   },
   {
    "duration": 134,
    "start_time": "2022-07-24T07:14:05.169Z"
   },
   {
    "duration": 2,
    "start_time": "2022-07-24T07:14:05.306Z"
   },
   {
    "duration": 93,
    "start_time": "2022-07-24T07:14:05.310Z"
   },
   {
    "duration": 4,
    "start_time": "2022-07-24T07:14:05.405Z"
   },
   {
    "duration": 28,
    "start_time": "2022-07-24T07:14:05.410Z"
   },
   {
    "duration": 28,
    "start_time": "2022-07-24T07:14:05.440Z"
   },
   {
    "duration": 23,
    "start_time": "2022-07-24T07:14:05.470Z"
   },
   {
    "duration": 30,
    "start_time": "2022-07-24T07:14:05.496Z"
   },
   {
    "duration": 28,
    "start_time": "2022-07-24T07:14:05.528Z"
   },
   {
    "duration": 51,
    "start_time": "2022-07-24T07:14:05.558Z"
   },
   {
    "duration": 6,
    "start_time": "2022-07-24T07:14:05.611Z"
   },
   {
    "duration": 20,
    "start_time": "2022-07-24T07:14:05.618Z"
   },
   {
    "duration": 228,
    "start_time": "2022-07-24T07:14:05.639Z"
   },
   {
    "duration": 214,
    "start_time": "2022-07-24T07:14:05.868Z"
   },
   {
    "duration": 226,
    "start_time": "2022-07-24T07:14:06.085Z"
   },
   {
    "duration": 222,
    "start_time": "2022-07-24T07:14:06.313Z"
   },
   {
    "duration": 13,
    "start_time": "2022-07-24T07:14:06.537Z"
   },
   {
    "duration": 2178,
    "start_time": "2022-07-24T07:14:06.552Z"
   },
   {
    "duration": 17,
    "start_time": "2022-07-24T07:14:08.732Z"
   },
   {
    "duration": 1767,
    "start_time": "2022-07-24T07:14:08.751Z"
   },
   {
    "duration": 157,
    "start_time": "2022-07-24T07:14:10.519Z"
   },
   {
    "duration": 11,
    "start_time": "2022-07-24T07:14:10.677Z"
   },
   {
    "duration": 9,
    "start_time": "2022-07-24T07:14:10.690Z"
   },
   {
    "duration": 7,
    "start_time": "2022-07-24T07:14:10.722Z"
   },
   {
    "duration": 12,
    "start_time": "2022-07-24T07:14:10.730Z"
   },
   {
    "duration": 127,
    "start_time": "2022-07-24T07:16:54.610Z"
   },
   {
    "duration": 12,
    "start_time": "2022-07-24T07:17:08.556Z"
   },
   {
    "duration": 11,
    "start_time": "2022-07-24T07:17:15.092Z"
   },
   {
    "duration": 16,
    "start_time": "2022-07-24T07:17:20.628Z"
   },
   {
    "duration": 169,
    "start_time": "2022-07-24T07:17:46.045Z"
   },
   {
    "duration": 263,
    "start_time": "2022-07-24T07:18:19.248Z"
   },
   {
    "duration": 159,
    "start_time": "2022-07-24T07:19:11.190Z"
   },
   {
    "duration": 156,
    "start_time": "2022-07-24T07:19:17.186Z"
   },
   {
    "duration": 172,
    "start_time": "2022-07-24T07:22:28.161Z"
   },
   {
    "duration": 18,
    "start_time": "2022-07-24T07:26:43.116Z"
   },
   {
    "duration": 15,
    "start_time": "2022-07-24T07:27:15.493Z"
   },
   {
    "duration": 15,
    "start_time": "2022-07-24T07:37:04.740Z"
   },
   {
    "duration": 16,
    "start_time": "2022-07-24T07:39:59.700Z"
   },
   {
    "duration": 1079,
    "start_time": "2022-07-24T07:40:08.600Z"
   },
   {
    "duration": 247,
    "start_time": "2022-07-24T07:42:43.322Z"
   },
   {
    "duration": 2840,
    "start_time": "2022-07-24T07:42:54.918Z"
   },
   {
    "duration": 1328,
    "start_time": "2022-07-24T07:43:19.720Z"
   },
   {
    "duration": 21,
    "start_time": "2022-07-24T07:45:03.741Z"
   },
   {
    "duration": 23,
    "start_time": "2022-07-24T07:45:13.092Z"
   },
   {
    "duration": 926,
    "start_time": "2022-07-24T07:48:24.569Z"
   },
   {
    "duration": 24,
    "start_time": "2022-07-24T07:52:54.379Z"
   },
   {
    "duration": 1355,
    "start_time": "2022-07-24T07:57:39.747Z"
   },
   {
    "duration": 3,
    "start_time": "2022-07-24T07:57:41.104Z"
   },
   {
    "duration": 88,
    "start_time": "2022-07-24T07:57:41.109Z"
   },
   {
    "duration": 4,
    "start_time": "2022-07-24T07:57:41.200Z"
   },
   {
    "duration": 85,
    "start_time": "2022-07-24T07:57:41.206Z"
   },
   {
    "duration": 4,
    "start_time": "2022-07-24T07:57:41.292Z"
   },
   {
    "duration": 25,
    "start_time": "2022-07-24T07:57:41.298Z"
   },
   {
    "duration": 18,
    "start_time": "2022-07-24T07:57:41.325Z"
   },
   {
    "duration": 22,
    "start_time": "2022-07-24T07:57:41.345Z"
   },
   {
    "duration": 8,
    "start_time": "2022-07-24T07:57:41.372Z"
   },
   {
    "duration": 9,
    "start_time": "2022-07-24T07:57:41.381Z"
   },
   {
    "duration": 82,
    "start_time": "2022-07-24T07:57:41.392Z"
   },
   {
    "duration": 7,
    "start_time": "2022-07-24T07:57:41.477Z"
   },
   {
    "duration": 13,
    "start_time": "2022-07-24T07:57:41.486Z"
   },
   {
    "duration": 326,
    "start_time": "2022-07-24T07:57:41.502Z"
   },
   {
    "duration": 308,
    "start_time": "2022-07-24T07:57:41.831Z"
   },
   {
    "duration": 311,
    "start_time": "2022-07-24T07:57:42.141Z"
   },
   {
    "duration": 315,
    "start_time": "2022-07-24T07:57:42.455Z"
   },
   {
    "duration": 14,
    "start_time": "2022-07-24T07:57:42.774Z"
   },
   {
    "duration": 2605,
    "start_time": "2022-07-24T07:57:42.790Z"
   },
   {
    "duration": 27,
    "start_time": "2022-07-24T07:57:45.397Z"
   },
   {
    "duration": 2083,
    "start_time": "2022-07-24T07:57:45.427Z"
   },
   {
    "duration": 172,
    "start_time": "2022-07-24T07:57:47.512Z"
   },
   {
    "duration": 21,
    "start_time": "2022-07-24T07:57:47.687Z"
   },
   {
    "duration": 1179,
    "start_time": "2022-07-24T07:57:47.726Z"
   },
   {
    "duration": 831,
    "start_time": "2022-07-24T07:57:48.907Z"
   },
   {
    "duration": 19,
    "start_time": "2022-07-24T07:57:49.740Z"
   },
   {
    "duration": 25,
    "start_time": "2022-07-24T07:57:49.763Z"
   },
   {
    "duration": 35,
    "start_time": "2022-07-24T07:57:49.790Z"
   },
   {
    "duration": 18,
    "start_time": "2022-07-24T07:57:49.827Z"
   },
   {
    "duration": 22,
    "start_time": "2022-07-24T07:57:49.847Z"
   },
   {
    "duration": 967,
    "start_time": "2022-07-24T08:06:13.862Z"
   },
   {
    "duration": 869,
    "start_time": "2022-07-24T08:06:31.448Z"
   },
   {
    "duration": 1036,
    "start_time": "2022-07-24T08:09:08.389Z"
   },
   {
    "duration": 14,
    "start_time": "2022-07-24T08:18:20.857Z"
   },
   {
    "duration": 112,
    "start_time": "2022-07-24T08:46:26.642Z"
   },
   {
    "duration": 11,
    "start_time": "2022-07-24T08:46:33.269Z"
   },
   {
    "duration": 13,
    "start_time": "2022-07-24T08:46:33.973Z"
   },
   {
    "duration": 1282,
    "start_time": "2022-07-24T08:48:25.767Z"
   },
   {
    "duration": 3,
    "start_time": "2022-07-24T08:48:27.051Z"
   },
   {
    "duration": 122,
    "start_time": "2022-07-24T08:48:27.056Z"
   },
   {
    "duration": 4,
    "start_time": "2022-07-24T08:48:27.180Z"
   },
   {
    "duration": 81,
    "start_time": "2022-07-24T08:48:27.186Z"
   },
   {
    "duration": 4,
    "start_time": "2022-07-24T08:48:27.270Z"
   },
   {
    "duration": 13,
    "start_time": "2022-07-24T08:48:27.276Z"
   },
   {
    "duration": 18,
    "start_time": "2022-07-24T08:48:27.291Z"
   },
   {
    "duration": 29,
    "start_time": "2022-07-24T08:48:27.322Z"
   },
   {
    "duration": 8,
    "start_time": "2022-07-24T08:48:27.355Z"
   },
   {
    "duration": 10,
    "start_time": "2022-07-24T08:48:27.365Z"
   },
   {
    "duration": 66,
    "start_time": "2022-07-24T08:48:27.377Z"
   },
   {
    "duration": 7,
    "start_time": "2022-07-24T08:48:27.446Z"
   },
   {
    "duration": 21,
    "start_time": "2022-07-24T08:48:27.455Z"
   },
   {
    "duration": 1086,
    "start_time": "2022-07-24T08:48:27.478Z"
   },
   {
    "duration": 13,
    "start_time": "2022-07-24T08:48:28.566Z"
   },
   {
    "duration": 2649,
    "start_time": "2022-07-24T08:48:28.581Z"
   },
   {
    "duration": 28,
    "start_time": "2022-07-24T08:48:31.233Z"
   },
   {
    "duration": 1936,
    "start_time": "2022-07-24T08:48:31.263Z"
   },
   {
    "duration": 243,
    "start_time": "2022-07-24T08:48:33.202Z"
   },
   {
    "duration": 18,
    "start_time": "2022-07-24T08:48:33.447Z"
   },
   {
    "duration": 1239,
    "start_time": "2022-07-24T08:48:33.467Z"
   },
   {
    "duration": 1046,
    "start_time": "2022-07-24T08:48:34.708Z"
   },
   {
    "duration": 17,
    "start_time": "2022-07-24T08:48:35.756Z"
   },
   {
    "duration": 13,
    "start_time": "2022-07-24T08:48:35.776Z"
   },
   {
    "duration": 31,
    "start_time": "2022-07-24T08:48:35.791Z"
   },
   {
    "duration": 14,
    "start_time": "2022-07-24T08:48:35.825Z"
   },
   {
    "duration": 37,
    "start_time": "2022-07-24T08:48:35.844Z"
   },
   {
    "duration": 4,
    "start_time": "2022-07-24T08:51:43.498Z"
   },
   {
    "duration": 13,
    "start_time": "2022-07-24T08:51:44.017Z"
   },
   {
    "duration": 68,
    "start_time": "2022-07-24T08:54:30.017Z"
   },
   {
    "duration": 1289,
    "start_time": "2022-07-24T08:55:00.070Z"
   },
   {
    "duration": 4,
    "start_time": "2022-07-24T08:55:01.361Z"
   },
   {
    "duration": 108,
    "start_time": "2022-07-24T08:55:01.367Z"
   },
   {
    "duration": 4,
    "start_time": "2022-07-24T08:55:01.477Z"
   },
   {
    "duration": 98,
    "start_time": "2022-07-24T08:55:01.483Z"
   },
   {
    "duration": 4,
    "start_time": "2022-07-24T08:55:01.583Z"
   },
   {
    "duration": 11,
    "start_time": "2022-07-24T08:55:01.589Z"
   },
   {
    "duration": 18,
    "start_time": "2022-07-24T08:55:01.622Z"
   },
   {
    "duration": 30,
    "start_time": "2022-07-24T08:55:01.647Z"
   },
   {
    "duration": 14,
    "start_time": "2022-07-24T08:55:01.681Z"
   },
   {
    "duration": 12,
    "start_time": "2022-07-24T08:55:01.697Z"
   },
   {
    "duration": 57,
    "start_time": "2022-07-24T08:55:01.711Z"
   },
   {
    "duration": 75,
    "start_time": "2022-07-24T08:55:01.770Z"
   },
   {
    "duration": 100,
    "start_time": "2022-07-24T08:55:01.846Z"
   },
   {
    "duration": 1141,
    "start_time": "2022-07-24T08:55:01.948Z"
   },
   {
    "duration": 17,
    "start_time": "2022-07-24T08:55:03.092Z"
   },
   {
    "duration": 2657,
    "start_time": "2022-07-24T08:55:03.110Z"
   },
   {
    "duration": 19,
    "start_time": "2022-07-24T08:55:05.769Z"
   },
   {
    "duration": 1900,
    "start_time": "2022-07-24T08:55:05.790Z"
   },
   {
    "duration": 191,
    "start_time": "2022-07-24T08:55:07.692Z"
   },
   {
    "duration": 16,
    "start_time": "2022-07-24T08:55:07.885Z"
   },
   {
    "duration": 1187,
    "start_time": "2022-07-24T08:55:07.903Z"
   },
   {
    "duration": 981,
    "start_time": "2022-07-24T08:55:09.092Z"
   },
   {
    "duration": 19,
    "start_time": "2022-07-24T08:55:10.076Z"
   },
   {
    "duration": 31,
    "start_time": "2022-07-24T08:55:10.097Z"
   },
   {
    "duration": 13,
    "start_time": "2022-07-24T08:55:10.130Z"
   },
   {
    "duration": 31,
    "start_time": "2022-07-24T08:55:10.145Z"
   },
   {
    "duration": 10,
    "start_time": "2022-07-24T08:55:10.179Z"
   },
   {
    "duration": 1409,
    "start_time": "2022-07-24T08:56:10.817Z"
   },
   {
    "duration": 4,
    "start_time": "2022-07-24T08:56:12.229Z"
   },
   {
    "duration": 80,
    "start_time": "2022-07-24T08:56:12.235Z"
   },
   {
    "duration": 7,
    "start_time": "2022-07-24T08:56:12.318Z"
   },
   {
    "duration": 98,
    "start_time": "2022-07-24T08:56:12.328Z"
   },
   {
    "duration": 8,
    "start_time": "2022-07-24T08:56:12.428Z"
   },
   {
    "duration": 26,
    "start_time": "2022-07-24T08:56:12.438Z"
   },
   {
    "duration": 14,
    "start_time": "2022-07-24T08:56:12.466Z"
   },
   {
    "duration": 25,
    "start_time": "2022-07-24T08:56:12.482Z"
   },
   {
    "duration": 30,
    "start_time": "2022-07-24T08:56:12.510Z"
   },
   {
    "duration": 13,
    "start_time": "2022-07-24T08:56:12.546Z"
   },
   {
    "duration": 53,
    "start_time": "2022-07-24T08:56:12.562Z"
   },
   {
    "duration": 8,
    "start_time": "2022-07-24T08:56:12.617Z"
   },
   {
    "duration": 26,
    "start_time": "2022-07-24T08:56:12.628Z"
   },
   {
    "duration": 1001,
    "start_time": "2022-07-24T08:56:12.656Z"
   },
   {
    "duration": 16,
    "start_time": "2022-07-24T08:56:13.659Z"
   },
   {
    "duration": 2845,
    "start_time": "2022-07-24T08:56:13.678Z"
   },
   {
    "duration": 32,
    "start_time": "2022-07-24T08:56:16.525Z"
   },
   {
    "duration": 3514,
    "start_time": "2022-07-24T08:56:16.560Z"
   },
   {
    "duration": 377,
    "start_time": "2022-07-24T08:56:20.077Z"
   },
   {
    "duration": 20,
    "start_time": "2022-07-24T08:56:20.457Z"
   },
   {
    "duration": 1173,
    "start_time": "2022-07-24T08:56:20.479Z"
   },
   {
    "duration": 923,
    "start_time": "2022-07-24T08:56:21.655Z"
   },
   {
    "duration": 17,
    "start_time": "2022-07-24T08:56:22.580Z"
   },
   {
    "duration": 35,
    "start_time": "2022-07-24T08:56:22.599Z"
   },
   {
    "duration": 27,
    "start_time": "2022-07-24T08:56:22.636Z"
   },
   {
    "duration": 20,
    "start_time": "2022-07-24T08:56:22.666Z"
   },
   {
    "duration": 11,
    "start_time": "2022-07-24T08:56:22.690Z"
   },
   {
    "duration": 118,
    "start_time": "2022-07-24T08:57:25.211Z"
   },
   {
    "duration": 4,
    "start_time": "2022-07-24T08:57:46.204Z"
   },
   {
    "duration": 1324,
    "start_time": "2022-07-24T08:57:57.052Z"
   },
   {
    "duration": 285,
    "start_time": "2022-07-24T08:57:58.378Z"
   },
   {
    "duration": 4,
    "start_time": "2022-07-24T08:57:58.665Z"
   },
   {
    "duration": 88,
    "start_time": "2022-07-24T08:57:58.672Z"
   },
   {
    "duration": 3,
    "start_time": "2022-07-24T08:57:58.762Z"
   },
   {
    "duration": 80,
    "start_time": "2022-07-24T08:57:58.767Z"
   },
   {
    "duration": 4,
    "start_time": "2022-07-24T08:57:58.849Z"
   },
   {
    "duration": 11,
    "start_time": "2022-07-24T08:57:58.855Z"
   },
   {
    "duration": 9,
    "start_time": "2022-07-24T08:57:58.867Z"
   },
   {
    "duration": 15,
    "start_time": "2022-07-24T08:57:58.879Z"
   },
   {
    "duration": 7,
    "start_time": "2022-07-24T08:57:58.895Z"
   },
   {
    "duration": 28,
    "start_time": "2022-07-24T08:57:58.921Z"
   },
   {
    "duration": 36,
    "start_time": "2022-07-24T08:57:58.951Z"
   },
   {
    "duration": 8,
    "start_time": "2022-07-24T08:57:58.990Z"
   },
   {
    "duration": 16,
    "start_time": "2022-07-24T08:57:58.999Z"
   },
   {
    "duration": 1143,
    "start_time": "2022-07-24T08:57:59.028Z"
   },
   {
    "duration": 64,
    "start_time": "2022-07-24T08:58:00.173Z"
   },
   {
    "duration": 4100,
    "start_time": "2022-07-24T08:58:00.240Z"
   },
   {
    "duration": 22,
    "start_time": "2022-07-24T08:58:04.342Z"
   },
   {
    "duration": 2084,
    "start_time": "2022-07-24T08:58:04.365Z"
   },
   {
    "duration": 205,
    "start_time": "2022-07-24T08:58:06.452Z"
   },
   {
    "duration": 16,
    "start_time": "2022-07-24T08:58:06.659Z"
   },
   {
    "duration": 972,
    "start_time": "2022-07-24T08:58:06.677Z"
   },
   {
    "duration": 1207,
    "start_time": "2022-07-24T08:58:07.651Z"
   },
   {
    "duration": 29,
    "start_time": "2022-07-24T08:58:08.860Z"
   },
   {
    "duration": 34,
    "start_time": "2022-07-24T08:58:08.892Z"
   },
   {
    "duration": 42,
    "start_time": "2022-07-24T08:58:08.930Z"
   },
   {
    "duration": 36,
    "start_time": "2022-07-24T08:58:08.977Z"
   },
   {
    "duration": 78,
    "start_time": "2022-07-24T08:58:09.016Z"
   },
   {
    "duration": 197,
    "start_time": "2022-07-24T08:58:09.096Z"
   },
   {
    "duration": 1278,
    "start_time": "2022-07-24T09:02:08.070Z"
   },
   {
    "duration": 236,
    "start_time": "2022-07-24T09:02:09.350Z"
   },
   {
    "duration": 3,
    "start_time": "2022-07-24T09:02:09.588Z"
   },
   {
    "duration": 89,
    "start_time": "2022-07-24T09:02:09.594Z"
   },
   {
    "duration": 5,
    "start_time": "2022-07-24T09:02:09.686Z"
   },
   {
    "duration": 115,
    "start_time": "2022-07-24T09:02:09.693Z"
   },
   {
    "duration": 5,
    "start_time": "2022-07-24T09:02:09.810Z"
   },
   {
    "duration": 9,
    "start_time": "2022-07-24T09:02:09.823Z"
   },
   {
    "duration": 12,
    "start_time": "2022-07-24T09:02:09.834Z"
   },
   {
    "duration": 37,
    "start_time": "2022-07-24T09:02:09.849Z"
   },
   {
    "duration": 9,
    "start_time": "2022-07-24T09:02:09.888Z"
   },
   {
    "duration": 35,
    "start_time": "2022-07-24T09:02:09.900Z"
   },
   {
    "duration": 57,
    "start_time": "2022-07-24T09:02:09.938Z"
   },
   {
    "duration": 28,
    "start_time": "2022-07-24T09:02:09.998Z"
   },
   {
    "duration": 31,
    "start_time": "2022-07-24T09:02:10.028Z"
   },
   {
    "duration": 972,
    "start_time": "2022-07-24T09:02:10.061Z"
   },
   {
    "duration": 17,
    "start_time": "2022-07-24T09:02:11.036Z"
   },
   {
    "duration": 2851,
    "start_time": "2022-07-24T09:02:11.056Z"
   },
   {
    "duration": 37,
    "start_time": "2022-07-24T09:02:13.909Z"
   },
   {
    "duration": 2157,
    "start_time": "2022-07-24T09:02:13.949Z"
   },
   {
    "duration": 181,
    "start_time": "2022-07-24T09:02:16.109Z"
   },
   {
    "duration": 31,
    "start_time": "2022-07-24T09:02:16.293Z"
   },
   {
    "duration": 966,
    "start_time": "2022-07-24T09:02:16.326Z"
   },
   {
    "duration": 992,
    "start_time": "2022-07-24T09:02:17.295Z"
   },
   {
    "duration": 15,
    "start_time": "2022-07-24T09:02:18.290Z"
   },
   {
    "duration": 33,
    "start_time": "2022-07-24T09:02:18.307Z"
   },
   {
    "duration": 13,
    "start_time": "2022-07-24T09:02:18.343Z"
   },
   {
    "duration": 11,
    "start_time": "2022-07-24T09:02:18.362Z"
   },
   {
    "duration": 11,
    "start_time": "2022-07-24T09:02:18.375Z"
   },
   {
    "duration": 1190,
    "start_time": "2022-07-24T12:14:48.866Z"
   },
   {
    "duration": 216,
    "start_time": "2022-07-24T12:14:50.058Z"
   },
   {
    "duration": 3,
    "start_time": "2022-07-24T12:14:50.276Z"
   },
   {
    "duration": 217,
    "start_time": "2022-07-24T12:14:50.281Z"
   },
   {
    "duration": 4,
    "start_time": "2022-07-24T12:14:50.500Z"
   },
   {
    "duration": 98,
    "start_time": "2022-07-24T12:14:50.505Z"
   },
   {
    "duration": 3,
    "start_time": "2022-07-24T12:14:50.605Z"
   },
   {
    "duration": 9,
    "start_time": "2022-07-24T12:14:50.609Z"
   },
   {
    "duration": 13,
    "start_time": "2022-07-24T12:14:50.620Z"
   },
   {
    "duration": 15,
    "start_time": "2022-07-24T12:14:50.636Z"
   },
   {
    "duration": 8,
    "start_time": "2022-07-24T12:14:50.653Z"
   },
   {
    "duration": 16,
    "start_time": "2022-07-24T12:14:50.663Z"
   },
   {
    "duration": 57,
    "start_time": "2022-07-24T12:14:50.681Z"
   },
   {
    "duration": 8,
    "start_time": "2022-07-24T12:14:50.740Z"
   },
   {
    "duration": 10,
    "start_time": "2022-07-24T12:14:50.750Z"
   },
   {
    "duration": 698,
    "start_time": "2022-07-24T12:14:50.762Z"
   },
   {
    "duration": 11,
    "start_time": "2022-07-24T12:14:51.462Z"
   },
   {
    "duration": 2240,
    "start_time": "2022-07-24T12:14:51.475Z"
   },
   {
    "duration": 19,
    "start_time": "2022-07-24T12:14:53.717Z"
   },
   {
    "duration": 1892,
    "start_time": "2022-07-24T12:14:53.737Z"
   },
   {
    "duration": 165,
    "start_time": "2022-07-24T12:14:55.631Z"
   },
   {
    "duration": 24,
    "start_time": "2022-07-24T12:14:55.798Z"
   },
   {
    "duration": 841,
    "start_time": "2022-07-24T12:14:55.825Z"
   },
   {
    "duration": 922,
    "start_time": "2022-07-24T12:14:56.668Z"
   },
   {
    "duration": 15,
    "start_time": "2022-07-24T12:14:57.592Z"
   },
   {
    "duration": 23,
    "start_time": "2022-07-24T12:14:57.609Z"
   },
   {
    "duration": 8,
    "start_time": "2022-07-24T12:14:57.634Z"
   },
   {
    "duration": 11,
    "start_time": "2022-07-24T12:14:57.645Z"
   },
   {
    "duration": 9,
    "start_time": "2022-07-24T12:14:57.658Z"
   },
   {
    "duration": 1689,
    "start_time": "2022-07-25T17:23:04.844Z"
   },
   {
    "duration": 268,
    "start_time": "2022-07-25T17:23:06.536Z"
   },
   {
    "duration": 3,
    "start_time": "2022-07-25T17:23:06.805Z"
   },
   {
    "duration": 140,
    "start_time": "2022-07-25T17:23:06.810Z"
   },
   {
    "duration": 3,
    "start_time": "2022-07-25T17:23:06.952Z"
   },
   {
    "duration": 72,
    "start_time": "2022-07-25T17:23:06.957Z"
   },
   {
    "duration": 3,
    "start_time": "2022-07-25T17:23:07.030Z"
   },
   {
    "duration": 19,
    "start_time": "2022-07-25T17:23:07.035Z"
   },
   {
    "duration": 7,
    "start_time": "2022-07-25T17:23:07.055Z"
   },
   {
    "duration": 17,
    "start_time": "2022-07-25T17:23:07.066Z"
   },
   {
    "duration": 8,
    "start_time": "2022-07-25T17:23:07.084Z"
   },
   {
    "duration": 31,
    "start_time": "2022-07-25T17:23:07.093Z"
   },
   {
    "duration": 39,
    "start_time": "2022-07-25T17:23:07.126Z"
   },
   {
    "duration": 7,
    "start_time": "2022-07-25T17:23:07.167Z"
   },
   {
    "duration": 13,
    "start_time": "2022-07-25T17:23:07.176Z"
   },
   {
    "duration": 717,
    "start_time": "2022-07-25T17:23:07.191Z"
   },
   {
    "duration": 20,
    "start_time": "2022-07-25T17:23:07.910Z"
   },
   {
    "duration": 2431,
    "start_time": "2022-07-25T17:23:07.932Z"
   },
   {
    "duration": 19,
    "start_time": "2022-07-25T17:23:10.365Z"
   },
   {
    "duration": 1904,
    "start_time": "2022-07-25T17:23:10.386Z"
   },
   {
    "duration": 180,
    "start_time": "2022-07-25T17:23:12.292Z"
   },
   {
    "duration": 18,
    "start_time": "2022-07-25T17:23:12.474Z"
   },
   {
    "duration": 860,
    "start_time": "2022-07-25T17:23:12.494Z"
   },
   {
    "duration": 939,
    "start_time": "2022-07-25T17:23:13.356Z"
   },
   {
    "duration": 15,
    "start_time": "2022-07-25T17:23:14.297Z"
   },
   {
    "duration": 14,
    "start_time": "2022-07-25T17:23:14.322Z"
   },
   {
    "duration": 8,
    "start_time": "2022-07-25T17:23:14.338Z"
   },
   {
    "duration": 11,
    "start_time": "2022-07-25T17:23:14.350Z"
   },
   {
    "duration": 9,
    "start_time": "2022-07-25T17:23:14.363Z"
   },
   {
    "duration": 1250,
    "start_time": "2022-07-27T17:36:50.207Z"
   },
   {
    "duration": 377,
    "start_time": "2022-07-27T17:36:52.564Z"
   },
   {
    "duration": 3,
    "start_time": "2022-07-27T17:36:53.402Z"
   },
   {
    "duration": 77,
    "start_time": "2022-07-27T17:36:53.802Z"
   },
   {
    "duration": 4,
    "start_time": "2022-07-27T17:36:54.154Z"
   },
   {
    "duration": 56,
    "start_time": "2022-07-27T17:36:54.445Z"
   },
   {
    "duration": 172,
    "start_time": "2022-07-27T17:37:51.304Z"
   },
   {
    "duration": 29,
    "start_time": "2022-07-27T17:37:58.754Z"
   },
   {
    "duration": 1810,
    "start_time": "2022-07-27T17:37:59.464Z"
   },
   {
    "duration": 0,
    "start_time": "2022-07-27T17:38:01.276Z"
   },
   {
    "duration": 116,
    "start_time": "2022-07-27T17:38:40.816Z"
   },
   {
    "duration": 152,
    "start_time": "2022-07-27T17:39:45.644Z"
   },
   {
    "duration": 111,
    "start_time": "2022-07-27T17:39:53.334Z"
   },
   {
    "duration": 1537,
    "start_time": "2022-07-28T18:26:24.044Z"
   },
   {
    "duration": 221,
    "start_time": "2022-07-28T18:26:25.583Z"
   },
   {
    "duration": 3,
    "start_time": "2022-07-28T18:26:25.806Z"
   },
   {
    "duration": 219,
    "start_time": "2022-07-28T18:26:25.812Z"
   },
   {
    "duration": 3,
    "start_time": "2022-07-28T18:26:26.033Z"
   },
   {
    "duration": 87,
    "start_time": "2022-07-28T18:26:26.038Z"
   },
   {
    "duration": 3,
    "start_time": "2022-07-28T18:26:26.127Z"
   },
   {
    "duration": 21,
    "start_time": "2022-07-28T18:26:26.132Z"
   },
   {
    "duration": 12,
    "start_time": "2022-07-28T18:26:26.156Z"
   },
   {
    "duration": 24,
    "start_time": "2022-07-28T18:26:26.173Z"
   },
   {
    "duration": 8,
    "start_time": "2022-07-28T18:26:26.199Z"
   },
   {
    "duration": 8,
    "start_time": "2022-07-28T18:26:26.208Z"
   },
   {
    "duration": 72,
    "start_time": "2022-07-28T18:26:26.218Z"
   },
   {
    "duration": 7,
    "start_time": "2022-07-28T18:26:26.292Z"
   },
   {
    "duration": 10,
    "start_time": "2022-07-28T18:26:26.301Z"
   },
   {
    "duration": 750,
    "start_time": "2022-07-28T18:26:26.313Z"
   },
   {
    "duration": 18,
    "start_time": "2022-07-28T18:26:27.065Z"
   },
   {
    "duration": 2259,
    "start_time": "2022-07-28T18:26:27.085Z"
   },
   {
    "duration": 25,
    "start_time": "2022-07-28T18:26:29.352Z"
   },
   {
    "duration": 1957,
    "start_time": "2022-07-28T18:26:29.379Z"
   },
   {
    "duration": 153,
    "start_time": "2022-07-28T18:26:31.338Z"
   },
   {
    "duration": 16,
    "start_time": "2022-07-28T18:26:31.493Z"
   },
   {
    "duration": 863,
    "start_time": "2022-07-28T18:26:31.510Z"
   },
   {
    "duration": 1015,
    "start_time": "2022-07-28T18:26:32.375Z"
   },
   {
    "duration": 17,
    "start_time": "2022-07-28T18:26:33.392Z"
   },
   {
    "duration": 13,
    "start_time": "2022-07-28T18:26:33.411Z"
   },
   {
    "duration": 38,
    "start_time": "2022-07-28T18:26:33.426Z"
   },
   {
    "duration": 12,
    "start_time": "2022-07-28T18:26:33.469Z"
   },
   {
    "duration": 12,
    "start_time": "2022-07-28T18:26:33.483Z"
   },
   {
    "duration": 9,
    "start_time": "2022-07-28T18:32:28.444Z"
   },
   {
    "duration": 8,
    "start_time": "2022-07-28T18:33:08.432Z"
   },
   {
    "duration": 10,
    "start_time": "2022-07-28T18:35:56.112Z"
   },
   {
    "duration": 14,
    "start_time": "2022-07-28T18:36:04.358Z"
   },
   {
    "duration": 8,
    "start_time": "2022-07-28T18:36:12.533Z"
   },
   {
    "duration": 9,
    "start_time": "2022-07-28T18:36:20.344Z"
   },
   {
    "duration": 8,
    "start_time": "2022-07-28T18:47:18.879Z"
   },
   {
    "duration": 6,
    "start_time": "2022-07-28T18:59:56.867Z"
   },
   {
    "duration": 10,
    "start_time": "2022-07-28T19:02:15.876Z"
   },
   {
    "duration": 1152,
    "start_time": "2022-07-28T19:02:59.841Z"
   },
   {
    "duration": 227,
    "start_time": "2022-07-28T19:03:00.995Z"
   },
   {
    "duration": 2,
    "start_time": "2022-07-28T19:03:01.224Z"
   },
   {
    "duration": 109,
    "start_time": "2022-07-28T19:03:01.228Z"
   },
   {
    "duration": 3,
    "start_time": "2022-07-28T19:03:01.339Z"
   },
   {
    "duration": 93,
    "start_time": "2022-07-28T19:03:01.343Z"
   },
   {
    "duration": 2,
    "start_time": "2022-07-28T19:03:01.438Z"
   },
   {
    "duration": 15,
    "start_time": "2022-07-28T19:03:01.441Z"
   },
   {
    "duration": 42,
    "start_time": "2022-07-28T19:03:01.466Z"
   },
   {
    "duration": 14,
    "start_time": "2022-07-28T19:03:01.511Z"
   },
   {
    "duration": 10,
    "start_time": "2022-07-28T19:03:01.527Z"
   },
   {
    "duration": 9,
    "start_time": "2022-07-28T19:03:01.538Z"
   },
   {
    "duration": 47,
    "start_time": "2022-07-28T19:03:01.549Z"
   },
   {
    "duration": 17,
    "start_time": "2022-07-28T19:03:01.597Z"
   },
   {
    "duration": 7,
    "start_time": "2022-07-28T19:03:01.616Z"
   },
   {
    "duration": 19,
    "start_time": "2022-07-28T19:03:01.624Z"
   },
   {
    "duration": 63,
    "start_time": "2022-07-28T19:03:01.644Z"
   },
   {
    "duration": 5,
    "start_time": "2022-07-28T19:03:01.709Z"
   },
   {
    "duration": 14,
    "start_time": "2022-07-28T19:03:01.716Z"
   },
   {
    "duration": 649,
    "start_time": "2022-07-28T19:03:01.732Z"
   },
   {
    "duration": 16,
    "start_time": "2022-07-28T19:03:02.383Z"
   },
   {
    "duration": 2038,
    "start_time": "2022-07-28T19:03:02.400Z"
   },
   {
    "duration": 39,
    "start_time": "2022-07-28T19:03:04.439Z"
   },
   {
    "duration": 1731,
    "start_time": "2022-07-28T19:03:04.483Z"
   },
   {
    "duration": 181,
    "start_time": "2022-07-28T19:03:06.217Z"
   },
   {
    "duration": 15,
    "start_time": "2022-07-28T19:03:06.399Z"
   },
   {
    "duration": 802,
    "start_time": "2022-07-28T19:03:06.415Z"
   },
   {
    "duration": 877,
    "start_time": "2022-07-28T19:03:07.220Z"
   },
   {
    "duration": 12,
    "start_time": "2022-07-28T19:03:08.098Z"
   },
   {
    "duration": 10,
    "start_time": "2022-07-28T19:03:08.111Z"
   },
   {
    "duration": 6,
    "start_time": "2022-07-28T19:03:08.122Z"
   },
   {
    "duration": 26,
    "start_time": "2022-07-28T19:03:08.129Z"
   },
   {
    "duration": 12,
    "start_time": "2022-07-28T19:03:08.158Z"
   },
   {
    "duration": 7,
    "start_time": "2022-07-28T19:04:46.681Z"
   },
   {
    "duration": 1335,
    "start_time": "2022-07-30T06:55:08.999Z"
   },
   {
    "duration": 205,
    "start_time": "2022-07-30T06:55:10.336Z"
   },
   {
    "duration": 3,
    "start_time": "2022-07-30T06:55:10.542Z"
   },
   {
    "duration": 137,
    "start_time": "2022-07-30T06:55:10.547Z"
   },
   {
    "duration": 4,
    "start_time": "2022-07-30T06:55:10.686Z"
   },
   {
    "duration": 62,
    "start_time": "2022-07-30T06:55:10.691Z"
   },
   {
    "duration": 3,
    "start_time": "2022-07-30T06:55:10.754Z"
   },
   {
    "duration": 14,
    "start_time": "2022-07-30T06:55:10.759Z"
   },
   {
    "duration": 11,
    "start_time": "2022-07-30T06:55:10.774Z"
   },
   {
    "duration": 18,
    "start_time": "2022-07-30T06:55:10.787Z"
   },
   {
    "duration": 32,
    "start_time": "2022-07-30T06:55:10.807Z"
   },
   {
    "duration": 20,
    "start_time": "2022-07-30T06:55:10.840Z"
   },
   {
    "duration": 5,
    "start_time": "2022-07-30T06:55:10.862Z"
   },
   {
    "duration": 16,
    "start_time": "2022-07-30T06:55:10.869Z"
   },
   {
    "duration": 12,
    "start_time": "2022-07-30T06:55:10.887Z"
   },
   {
    "duration": 17,
    "start_time": "2022-07-30T06:55:10.901Z"
   },
   {
    "duration": 6,
    "start_time": "2022-07-30T06:55:10.924Z"
   },
   {
    "duration": 34,
    "start_time": "2022-07-30T06:55:10.931Z"
   },
   {
    "duration": 5,
    "start_time": "2022-07-30T06:55:10.966Z"
   },
   {
    "duration": 10,
    "start_time": "2022-07-30T06:55:10.973Z"
   },
   {
    "duration": 634,
    "start_time": "2022-07-30T06:55:10.984Z"
   },
   {
    "duration": 11,
    "start_time": "2022-07-30T06:55:11.623Z"
   },
   {
    "duration": 1989,
    "start_time": "2022-07-30T06:55:11.636Z"
   },
   {
    "duration": 16,
    "start_time": "2022-07-30T06:55:13.627Z"
   },
   {
    "duration": 1841,
    "start_time": "2022-07-30T06:55:13.644Z"
   },
   {
    "duration": 154,
    "start_time": "2022-07-30T06:55:15.486Z"
   },
   {
    "duration": 15,
    "start_time": "2022-07-30T06:55:15.642Z"
   },
   {
    "duration": 789,
    "start_time": "2022-07-30T06:55:15.660Z"
   },
   {
    "duration": 873,
    "start_time": "2022-07-30T06:55:16.450Z"
   },
   {
    "duration": 14,
    "start_time": "2022-07-30T06:55:17.325Z"
   },
   {
    "duration": 11,
    "start_time": "2022-07-30T06:55:17.341Z"
   },
   {
    "duration": 11,
    "start_time": "2022-07-30T06:55:17.354Z"
   },
   {
    "duration": 15,
    "start_time": "2022-07-30T06:55:17.366Z"
   },
   {
    "duration": 9,
    "start_time": "2022-07-30T06:55:17.382Z"
   },
   {
    "duration": 5,
    "start_time": "2022-07-30T06:59:42.568Z"
   },
   {
    "duration": 16,
    "start_time": "2022-07-30T07:00:02.472Z"
   },
   {
    "duration": 11,
    "start_time": "2022-07-30T07:00:21.925Z"
   },
   {
    "duration": 11,
    "start_time": "2022-07-30T07:00:24.840Z"
   },
   {
    "duration": 9,
    "start_time": "2022-07-30T07:01:00.840Z"
   },
   {
    "duration": 12,
    "start_time": "2022-07-30T07:01:01.775Z"
   },
   {
    "duration": 1180,
    "start_time": "2022-07-30T07:01:13.416Z"
   },
   {
    "duration": 276,
    "start_time": "2022-07-30T07:01:14.599Z"
   },
   {
    "duration": 3,
    "start_time": "2022-07-30T07:01:14.877Z"
   },
   {
    "duration": 72,
    "start_time": "2022-07-30T07:01:14.882Z"
   },
   {
    "duration": 3,
    "start_time": "2022-07-30T07:01:14.956Z"
   },
   {
    "duration": 64,
    "start_time": "2022-07-30T07:01:14.961Z"
   },
   {
    "duration": 3,
    "start_time": "2022-07-30T07:01:15.027Z"
   },
   {
    "duration": 20,
    "start_time": "2022-07-30T07:01:15.032Z"
   },
   {
    "duration": 18,
    "start_time": "2022-07-30T07:01:15.054Z"
   },
   {
    "duration": 18,
    "start_time": "2022-07-30T07:01:15.074Z"
   },
   {
    "duration": 5,
    "start_time": "2022-07-30T07:01:15.094Z"
   },
   {
    "duration": 24,
    "start_time": "2022-07-30T07:01:15.100Z"
   },
   {
    "duration": 13,
    "start_time": "2022-07-30T07:01:15.126Z"
   },
   {
    "duration": 10,
    "start_time": "2022-07-30T07:01:15.141Z"
   },
   {
    "duration": 9,
    "start_time": "2022-07-30T07:01:15.153Z"
   },
   {
    "duration": 36,
    "start_time": "2022-07-30T07:01:15.163Z"
   },
   {
    "duration": 6,
    "start_time": "2022-07-30T07:01:15.223Z"
   },
   {
    "duration": 8,
    "start_time": "2022-07-30T07:01:15.231Z"
   },
   {
    "duration": 635,
    "start_time": "2022-07-30T07:01:15.241Z"
   },
   {
    "duration": 11,
    "start_time": "2022-07-30T07:01:15.877Z"
   },
   {
    "duration": 2171,
    "start_time": "2022-07-30T07:01:15.890Z"
   },
   {
    "duration": 15,
    "start_time": "2022-07-30T07:01:18.063Z"
   },
   {
    "duration": 1881,
    "start_time": "2022-07-30T07:01:18.080Z"
   },
   {
    "duration": 148,
    "start_time": "2022-07-30T07:01:19.963Z"
   },
   {
    "duration": 22,
    "start_time": "2022-07-30T07:01:20.112Z"
   },
   {
    "duration": 751,
    "start_time": "2022-07-30T07:01:20.136Z"
   },
   {
    "duration": 820,
    "start_time": "2022-07-30T07:01:20.888Z"
   },
   {
    "duration": 17,
    "start_time": "2022-07-30T07:01:21.709Z"
   },
   {
    "duration": 10,
    "start_time": "2022-07-30T07:01:21.728Z"
   },
   {
    "duration": 7,
    "start_time": "2022-07-30T07:01:21.740Z"
   },
   {
    "duration": 13,
    "start_time": "2022-07-30T07:01:21.749Z"
   },
   {
    "duration": 21,
    "start_time": "2022-07-30T07:01:21.764Z"
   },
   {
    "duration": 10,
    "start_time": "2022-07-30T07:02:32.874Z"
   },
   {
    "duration": 1131,
    "start_time": "2022-07-30T07:02:44.234Z"
   },
   {
    "duration": 218,
    "start_time": "2022-07-30T07:02:45.368Z"
   },
   {
    "duration": 3,
    "start_time": "2022-07-30T07:02:45.588Z"
   },
   {
    "duration": 90,
    "start_time": "2022-07-30T07:02:45.592Z"
   },
   {
    "duration": 4,
    "start_time": "2022-07-30T07:02:45.685Z"
   },
   {
    "duration": 90,
    "start_time": "2022-07-30T07:02:45.691Z"
   },
   {
    "duration": 5,
    "start_time": "2022-07-30T07:02:45.783Z"
   },
   {
    "duration": 9,
    "start_time": "2022-07-30T07:02:45.790Z"
   },
   {
    "duration": 24,
    "start_time": "2022-07-30T07:02:45.801Z"
   },
   {
    "duration": 39,
    "start_time": "2022-07-30T07:02:45.827Z"
   },
   {
    "duration": 37,
    "start_time": "2022-07-30T07:02:45.868Z"
   },
   {
    "duration": 11,
    "start_time": "2022-07-30T07:02:45.907Z"
   },
   {
    "duration": 31,
    "start_time": "2022-07-30T07:02:45.920Z"
   },
   {
    "duration": 18,
    "start_time": "2022-07-30T07:02:45.955Z"
   },
   {
    "duration": 17,
    "start_time": "2022-07-30T07:02:45.975Z"
   },
   {
    "duration": 10,
    "start_time": "2022-07-30T07:02:45.995Z"
   },
   {
    "duration": 67,
    "start_time": "2022-07-30T07:02:46.007Z"
   },
   {
    "duration": 7,
    "start_time": "2022-07-30T07:02:46.077Z"
   },
   {
    "duration": 28,
    "start_time": "2022-07-30T07:02:46.087Z"
   },
   {
    "duration": 693,
    "start_time": "2022-07-30T07:02:46.117Z"
   },
   {
    "duration": 19,
    "start_time": "2022-07-30T07:02:46.812Z"
   },
   {
    "duration": 2258,
    "start_time": "2022-07-30T07:02:46.832Z"
   },
   {
    "duration": 17,
    "start_time": "2022-07-30T07:02:49.092Z"
   },
   {
    "duration": 1889,
    "start_time": "2022-07-30T07:02:49.110Z"
   },
   {
    "duration": 147,
    "start_time": "2022-07-30T07:02:51.001Z"
   },
   {
    "duration": 14,
    "start_time": "2022-07-30T07:02:51.150Z"
   },
   {
    "duration": 802,
    "start_time": "2022-07-30T07:02:51.165Z"
   },
   {
    "duration": 843,
    "start_time": "2022-07-30T07:02:51.968Z"
   },
   {
    "duration": 14,
    "start_time": "2022-07-30T07:02:52.823Z"
   },
   {
    "duration": 11,
    "start_time": "2022-07-30T07:02:52.838Z"
   },
   {
    "duration": 12,
    "start_time": "2022-07-30T07:02:52.851Z"
   },
   {
    "duration": 10,
    "start_time": "2022-07-30T07:02:52.864Z"
   },
   {
    "duration": 9,
    "start_time": "2022-07-30T07:02:52.875Z"
   },
   {
    "duration": 69,
    "start_time": "2022-07-30T07:05:18.673Z"
   },
   {
    "duration": 1137,
    "start_time": "2022-07-30T07:12:19.087Z"
   },
   {
    "duration": 224,
    "start_time": "2022-07-30T07:12:20.225Z"
   },
   {
    "duration": 3,
    "start_time": "2022-07-30T07:12:20.451Z"
   },
   {
    "duration": 77,
    "start_time": "2022-07-30T07:12:20.455Z"
   },
   {
    "duration": 3,
    "start_time": "2022-07-30T07:12:20.534Z"
   },
   {
    "duration": 64,
    "start_time": "2022-07-30T07:12:20.538Z"
   },
   {
    "duration": 21,
    "start_time": "2022-07-30T07:12:20.603Z"
   },
   {
    "duration": 18,
    "start_time": "2022-07-30T07:12:20.626Z"
   },
   {
    "duration": 16,
    "start_time": "2022-07-30T07:12:20.646Z"
   },
   {
    "duration": 19,
    "start_time": "2022-07-30T07:12:20.665Z"
   },
   {
    "duration": 12,
    "start_time": "2022-07-30T07:12:20.685Z"
   },
   {
    "duration": 4,
    "start_time": "2022-07-30T07:12:20.698Z"
   },
   {
    "duration": 25,
    "start_time": "2022-07-30T07:12:20.703Z"
   },
   {
    "duration": 15,
    "start_time": "2022-07-30T07:12:20.730Z"
   },
   {
    "duration": 12,
    "start_time": "2022-07-30T07:12:20.746Z"
   },
   {
    "duration": 17,
    "start_time": "2022-07-30T07:12:20.759Z"
   },
   {
    "duration": 47,
    "start_time": "2022-07-30T07:12:20.778Z"
   },
   {
    "duration": 5,
    "start_time": "2022-07-30T07:12:20.827Z"
   },
   {
    "duration": 14,
    "start_time": "2022-07-30T07:12:20.834Z"
   },
   {
    "duration": 624,
    "start_time": "2022-07-30T07:12:20.849Z"
   },
   {
    "duration": 12,
    "start_time": "2022-07-30T07:12:21.474Z"
   },
   {
    "duration": 2203,
    "start_time": "2022-07-30T07:12:21.488Z"
   },
   {
    "duration": 15,
    "start_time": "2022-07-30T07:12:23.693Z"
   },
   {
    "duration": 1912,
    "start_time": "2022-07-30T07:12:23.709Z"
   },
   {
    "duration": 157,
    "start_time": "2022-07-30T07:12:25.623Z"
   },
   {
    "duration": 14,
    "start_time": "2022-07-30T07:12:25.782Z"
   },
   {
    "duration": 801,
    "start_time": "2022-07-30T07:12:25.798Z"
   },
   {
    "duration": 922,
    "start_time": "2022-07-30T07:12:26.602Z"
   },
   {
    "duration": 14,
    "start_time": "2022-07-30T07:12:27.525Z"
   },
   {
    "duration": 12,
    "start_time": "2022-07-30T07:12:27.541Z"
   },
   {
    "duration": 11,
    "start_time": "2022-07-30T07:12:27.555Z"
   },
   {
    "duration": 13,
    "start_time": "2022-07-30T07:12:27.567Z"
   },
   {
    "duration": 12,
    "start_time": "2022-07-30T07:12:27.581Z"
   },
   {
    "duration": 76,
    "start_time": "2022-07-30T18:59:44.186Z"
   },
   {
    "duration": 1437,
    "start_time": "2022-08-14T16:51:01.775Z"
   },
   {
    "duration": 230,
    "start_time": "2022-08-14T16:51:03.215Z"
   },
   {
    "duration": 3,
    "start_time": "2022-08-14T16:51:03.447Z"
   },
   {
    "duration": 87,
    "start_time": "2022-08-14T16:51:03.452Z"
   },
   {
    "duration": 3,
    "start_time": "2022-08-14T16:51:03.541Z"
   },
   {
    "duration": 70,
    "start_time": "2022-08-14T16:51:03.546Z"
   },
   {
    "duration": 3,
    "start_time": "2022-08-14T16:51:03.618Z"
   },
   {
    "duration": 7,
    "start_time": "2022-08-14T16:51:03.624Z"
   },
   {
    "duration": 36,
    "start_time": "2022-08-14T16:51:03.633Z"
   },
   {
    "duration": 16,
    "start_time": "2022-08-14T16:51:03.673Z"
   },
   {
    "duration": 13,
    "start_time": "2022-08-14T16:51:03.691Z"
   },
   {
    "duration": 4,
    "start_time": "2022-08-14T16:51:03.706Z"
   },
   {
    "duration": 14,
    "start_time": "2022-08-14T16:51:03.712Z"
   },
   {
    "duration": 46,
    "start_time": "2022-08-14T16:51:03.727Z"
   },
   {
    "duration": 6,
    "start_time": "2022-08-14T16:51:03.775Z"
   },
   {
    "duration": 7,
    "start_time": "2022-08-14T16:51:03.782Z"
   },
   {
    "duration": 35,
    "start_time": "2022-08-14T16:51:03.790Z"
   },
   {
    "duration": 6,
    "start_time": "2022-08-14T16:51:03.827Z"
   },
   {
    "duration": 34,
    "start_time": "2022-08-14T16:51:03.835Z"
   },
   {
    "duration": 702,
    "start_time": "2022-08-14T16:51:03.871Z"
   },
   {
    "duration": 12,
    "start_time": "2022-08-14T16:51:04.575Z"
   },
   {
    "duration": 2572,
    "start_time": "2022-08-14T16:51:04.588Z"
   },
   {
    "duration": 21,
    "start_time": "2022-08-14T16:51:07.162Z"
   },
   {
    "duration": 2020,
    "start_time": "2022-08-14T16:51:07.185Z"
   },
   {
    "duration": 158,
    "start_time": "2022-08-14T16:51:09.207Z"
   },
   {
    "duration": 17,
    "start_time": "2022-08-14T16:51:09.367Z"
   },
   {
    "duration": 885,
    "start_time": "2022-08-14T16:51:09.386Z"
   },
   {
    "duration": 921,
    "start_time": "2022-08-14T16:51:10.275Z"
   },
   {
    "duration": 18,
    "start_time": "2022-08-14T16:51:11.197Z"
   },
   {
    "duration": 12,
    "start_time": "2022-08-14T16:51:11.217Z"
   },
   {
    "duration": 7,
    "start_time": "2022-08-14T16:51:11.231Z"
   },
   {
    "duration": 33,
    "start_time": "2022-08-14T16:51:11.240Z"
   },
   {
    "duration": 15,
    "start_time": "2022-08-14T16:51:11.275Z"
   }
  ],
  "kernelspec": {
   "display_name": "Python 3 (ipykernel)",
   "language": "python",
   "name": "python3"
  },
  "language_info": {
   "codemirror_mode": {
    "name": "ipython",
    "version": 3
   },
   "file_extension": ".py",
   "mimetype": "text/x-python",
   "name": "python",
   "nbconvert_exporter": "python",
   "pygments_lexer": "ipython3",
   "version": "3.9.5"
  },
  "toc": {
   "base_numbering": 1,
   "nav_menu": {},
   "number_sections": true,
   "sideBar": true,
   "skip_h1_title": true,
   "title_cell": "Table of Contents",
   "title_sidebar": "Contents",
   "toc_cell": true,
   "toc_position": {},
   "toc_section_display": true,
   "toc_window_display": true
  }
 },
 "nbformat": 4,
 "nbformat_minor": 2
}
